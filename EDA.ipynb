{
 "cells": [
  {
   "cell_type": "markdown",
   "metadata": {},
   "source": [
    "## 대회설명\n"
   ]
  },
  {
   "cell_type": "markdown",
   "metadata": {},
   "source": [
    "### 기초 설명\n",
    "\n",
    "한국의 약 2,000개 상점의 신용카드 거래 내역이 제공됩니다. card_id를 기준으로 샘플링되었으며, amount의 단위는 KRW가 아닙니다. 테스트 파일에서 각 상점의 마지막 매출 발생일 다음 날부터 100일 후까지 매출의 총합을 예측해야 합니다.\n",
    "\n",
    "예측한 금액만큼 100일간 대출을 진행합니다. 만약 예측한 금액보다 실제 매출이 적게 발생한다면 원금에 손실을 보게 됩니다. 실제 매출이 예측한 금액 이상으로 발생한다면, 연이율 13%의 이자가 발생합니다."
   ]
  },
  {
   "cell_type": "markdown",
   "metadata": {},
   "source": [
    "### Data 설명\n",
    "train.csv - 카드 매출 내역, 2016-08-01부터 2018-07-31까지.  \n",
    "test.csv - train.csv랑 같은 형식. test.csv랑 train.csv의 store_id가 같아도 같은 상점인 것은 아님.  \n",
    "(월에 최소 5일 이상 데이터가 있는 상점만을 문제에 포함.)  \n",
    "submission.csv – store_id와 total_sales 두 개의 열로 구성. store_id는 test.csv의 store_id와 대응.  "
   ]
  },
  {
   "cell_type": "markdown",
   "metadata": {},
   "source": [
    "### feature 설명\n",
    "\n",
    "* store_id : 각 파일에서의 상점 고유 번호 (해당기한 내 개업 혹은 폐업한 상점도 있음)\n",
    "* date : 거래일자\n",
    "* time : 거래시간\n",
    "* card_id : 카드 번호의 hash 값\n",
    "* amount : 매출 금액, 음수인 경우 취소 거래\n",
    "* installments : 할부 개월 수. 일시불은 0\n",
    "* days_of_week : 요일, 월요일이 0, 일요일은 6\n",
    "* holiday : 1이면 공휴일, 0이면 공휴일 아님"
   ]
  },
  {
   "cell_type": "code",
   "execution_count": 1,
   "metadata": {
    "ExecuteTime": {
     "end_time": "2020-06-19T01:30:00.950077Z",
     "start_time": "2020-06-19T01:29:59.872062Z"
    }
   },
   "outputs": [],
   "source": [
    "import pandas as pd\n",
    "import numpy as np\n",
    "import os\n",
    "import matplotlib.pyplot as plt\n",
    "import seaborn as sns\n",
    "import datetime"
   ]
  },
  {
   "cell_type": "code",
   "execution_count": 2,
   "metadata": {
    "ExecuteTime": {
     "end_time": "2020-06-19T01:30:03.328157Z",
     "start_time": "2020-06-19T01:30:00.951076Z"
    }
   },
   "outputs": [],
   "source": [
    "path = './data/'\n",
    "train = pd.read_csv(path + 'train.csv')\n",
    "test = pd.read_csv(path + 'test.csv')\n",
    "submission  = pd.read_csv(path + 'submission.csv')"
   ]
  },
  {
   "cell_type": "markdown",
   "metadata": {},
   "source": [
    "## Check Simple EDA"
   ]
  },
  {
   "cell_type": "code",
   "execution_count": 9,
   "metadata": {
    "ExecuteTime": {
     "end_time": "2020-06-19T01:31:37.138572Z",
     "start_time": "2020-06-19T01:31:36.832260Z"
    }
   },
   "outputs": [],
   "source": [
    "# train/test 결합\n",
    "train['test'] = 0\n",
    "test['test'] = 1\n",
    "merge_df = pd.concat([train,test])"
   ]
  },
  {
   "cell_type": "code",
   "execution_count": 10,
   "metadata": {
    "ExecuteTime": {
     "end_time": "2020-06-19T01:31:39.909896Z",
     "start_time": "2020-06-19T01:31:39.897764Z"
    }
   },
   "outputs": [
    {
     "data": {
      "text/html": [
       "<div>\n",
       "<style scoped>\n",
       "    .dataframe tbody tr th:only-of-type {\n",
       "        vertical-align: middle;\n",
       "    }\n",
       "\n",
       "    .dataframe tbody tr th {\n",
       "        vertical-align: top;\n",
       "    }\n",
       "\n",
       "    .dataframe thead th {\n",
       "        text-align: right;\n",
       "    }\n",
       "</style>\n",
       "<table border=\"1\" class=\"dataframe\">\n",
       "  <thead>\n",
       "    <tr style=\"text-align: right;\">\n",
       "      <th></th>\n",
       "      <th>store_id</th>\n",
       "      <th>date</th>\n",
       "      <th>time</th>\n",
       "      <th>card_id</th>\n",
       "      <th>amount</th>\n",
       "      <th>installments</th>\n",
       "      <th>days_of_week</th>\n",
       "      <th>holyday</th>\n",
       "      <th>test</th>\n",
       "    </tr>\n",
       "  </thead>\n",
       "  <tbody>\n",
       "    <tr>\n",
       "      <td>0</td>\n",
       "      <td>0</td>\n",
       "      <td>2016-12-14</td>\n",
       "      <td>18:05:31</td>\n",
       "      <td>d297bba73f</td>\n",
       "      <td>5</td>\n",
       "      <td>NaN</td>\n",
       "      <td>2</td>\n",
       "      <td>0</td>\n",
       "      <td>0</td>\n",
       "    </tr>\n",
       "    <tr>\n",
       "      <td>1</td>\n",
       "      <td>0</td>\n",
       "      <td>2016-12-14</td>\n",
       "      <td>18:05:54</td>\n",
       "      <td>d297bba73f</td>\n",
       "      <td>-5</td>\n",
       "      <td>NaN</td>\n",
       "      <td>2</td>\n",
       "      <td>0</td>\n",
       "      <td>0</td>\n",
       "    </tr>\n",
       "    <tr>\n",
       "      <td>2</td>\n",
       "      <td>0</td>\n",
       "      <td>2016-12-19</td>\n",
       "      <td>12:42:31</td>\n",
       "      <td>0880849c05</td>\n",
       "      <td>144</td>\n",
       "      <td>NaN</td>\n",
       "      <td>0</td>\n",
       "      <td>0</td>\n",
       "      <td>0</td>\n",
       "    </tr>\n",
       "    <tr>\n",
       "      <td>3</td>\n",
       "      <td>0</td>\n",
       "      <td>2016-12-19</td>\n",
       "      <td>12:48:08</td>\n",
       "      <td>8b4f9e0e95</td>\n",
       "      <td>66</td>\n",
       "      <td>NaN</td>\n",
       "      <td>0</td>\n",
       "      <td>0</td>\n",
       "      <td>0</td>\n",
       "    </tr>\n",
       "    <tr>\n",
       "      <td>4</td>\n",
       "      <td>0</td>\n",
       "      <td>2016-12-19</td>\n",
       "      <td>13:31:08</td>\n",
       "      <td>7ad237eed0</td>\n",
       "      <td>24</td>\n",
       "      <td>NaN</td>\n",
       "      <td>0</td>\n",
       "      <td>0</td>\n",
       "      <td>0</td>\n",
       "    </tr>\n",
       "    <tr>\n",
       "      <td>...</td>\n",
       "      <td>...</td>\n",
       "      <td>...</td>\n",
       "      <td>...</td>\n",
       "      <td>...</td>\n",
       "      <td>...</td>\n",
       "      <td>...</td>\n",
       "      <td>...</td>\n",
       "      <td>...</td>\n",
       "      <td>...</td>\n",
       "    </tr>\n",
       "    <tr>\n",
       "      <td>473387</td>\n",
       "      <td>199</td>\n",
       "      <td>2018-03-30</td>\n",
       "      <td>14:17:59</td>\n",
       "      <td>300d7bc922</td>\n",
       "      <td>65</td>\n",
       "      <td>NaN</td>\n",
       "      <td>4</td>\n",
       "      <td>0</td>\n",
       "      <td>1</td>\n",
       "    </tr>\n",
       "    <tr>\n",
       "      <td>473388</td>\n",
       "      <td>199</td>\n",
       "      <td>2018-03-30</td>\n",
       "      <td>19:01:54</td>\n",
       "      <td>3ab757718b</td>\n",
       "      <td>65</td>\n",
       "      <td>NaN</td>\n",
       "      <td>4</td>\n",
       "      <td>0</td>\n",
       "      <td>1</td>\n",
       "    </tr>\n",
       "    <tr>\n",
       "      <td>473389</td>\n",
       "      <td>199</td>\n",
       "      <td>2018-03-30</td>\n",
       "      <td>20:08:03</td>\n",
       "      <td>2d8e9e421c</td>\n",
       "      <td>65</td>\n",
       "      <td>NaN</td>\n",
       "      <td>4</td>\n",
       "      <td>0</td>\n",
       "      <td>1</td>\n",
       "    </tr>\n",
       "    <tr>\n",
       "      <td>473390</td>\n",
       "      <td>199</td>\n",
       "      <td>2018-03-30</td>\n",
       "      <td>20:11:58</td>\n",
       "      <td>22daeb334e</td>\n",
       "      <td>200</td>\n",
       "      <td>NaN</td>\n",
       "      <td>4</td>\n",
       "      <td>0</td>\n",
       "      <td>1</td>\n",
       "    </tr>\n",
       "    <tr>\n",
       "      <td>473391</td>\n",
       "      <td>199</td>\n",
       "      <td>2018-03-31</td>\n",
       "      <td>11:41:18</td>\n",
       "      <td>2e698f3302</td>\n",
       "      <td>500</td>\n",
       "      <td>NaN</td>\n",
       "      <td>5</td>\n",
       "      <td>0</td>\n",
       "      <td>1</td>\n",
       "    </tr>\n",
       "  </tbody>\n",
       "</table>\n",
       "<p>3836188 rows × 9 columns</p>\n",
       "</div>"
      ],
      "text/plain": [
       "        store_id        date      time     card_id  amount  installments  \\\n",
       "0              0  2016-12-14  18:05:31  d297bba73f       5           NaN   \n",
       "1              0  2016-12-14  18:05:54  d297bba73f      -5           NaN   \n",
       "2              0  2016-12-19  12:42:31  0880849c05     144           NaN   \n",
       "3              0  2016-12-19  12:48:08  8b4f9e0e95      66           NaN   \n",
       "4              0  2016-12-19  13:31:08  7ad237eed0      24           NaN   \n",
       "...          ...         ...       ...         ...     ...           ...   \n",
       "473387       199  2018-03-30  14:17:59  300d7bc922      65           NaN   \n",
       "473388       199  2018-03-30  19:01:54  3ab757718b      65           NaN   \n",
       "473389       199  2018-03-30  20:08:03  2d8e9e421c      65           NaN   \n",
       "473390       199  2018-03-30  20:11:58  22daeb334e     200           NaN   \n",
       "473391       199  2018-03-31  11:41:18  2e698f3302     500           NaN   \n",
       "\n",
       "        days_of_week  holyday  test  \n",
       "0                  2        0     0  \n",
       "1                  2        0     0  \n",
       "2                  0        0     0  \n",
       "3                  0        0     0  \n",
       "4                  0        0     0  \n",
       "...              ...      ...   ...  \n",
       "473387             4        0     1  \n",
       "473388             4        0     1  \n",
       "473389             4        0     1  \n",
       "473390             4        0     1  \n",
       "473391             5        0     1  \n",
       "\n",
       "[3836188 rows x 9 columns]"
      ]
     },
     "execution_count": 10,
     "metadata": {},
     "output_type": "execute_result"
    }
   ],
   "source": [
    "merge_df"
   ]
  },
  {
   "cell_type": "markdown",
   "metadata": {},
   "source": [
    "### 결측치/이상치탐색"
   ]
  },
  {
   "cell_type": "markdown",
   "metadata": {},
   "source": [
    "#### 결측치 파악\n",
    "* train/test에서 결측치는 파악되지 않는 것으로 보임\n",
    "* installments에서 결측치는 0이라 언급된바 있으므로 0으로 대체"
   ]
  },
  {
   "cell_type": "code",
   "execution_count": 11,
   "metadata": {
    "ExecuteTime": {
     "end_time": "2020-06-19T01:32:33.730013Z",
     "start_time": "2020-06-19T01:32:33.728021Z"
    },
    "code_folding": []
   },
   "outputs": [],
   "source": [
    "def info_df(data):\n",
    "    '''data의 type, null_count, null_rate를 알려주는 함수\n",
    "    \n",
    "    Parameter\n",
    "    ---------\n",
    "    data(DataFrame) : 파악하고자하는 Data\n",
    "       \n",
    "    '''\n",
    "    info_df = pd.DataFrame({\"type\":data.dtypes,\n",
    "                            'null_count':data.isnull().sum(),\n",
    "                           'null_rate':data.isnull().sum()/data.isnull().count() * 100})  \n",
    "    info_df['uni_count'] = data.apply(lambda x : x.nunique())\n",
    "    \n",
    "    return info_df"
   ]
  },
  {
   "cell_type": "code",
   "execution_count": 13,
   "metadata": {
    "ExecuteTime": {
     "end_time": "2020-06-19T01:32:49.446681Z",
     "start_time": "2020-06-19T01:32:45.992209Z"
    }
   },
   "outputs": [
    {
     "data": {
      "text/html": [
       "<div>\n",
       "<style scoped>\n",
       "    .dataframe tbody tr th:only-of-type {\n",
       "        vertical-align: middle;\n",
       "    }\n",
       "\n",
       "    .dataframe tbody tr th {\n",
       "        vertical-align: top;\n",
       "    }\n",
       "\n",
       "    .dataframe thead th {\n",
       "        text-align: right;\n",
       "    }\n",
       "</style>\n",
       "<table border=\"1\" class=\"dataframe\">\n",
       "  <thead>\n",
       "    <tr style=\"text-align: right;\">\n",
       "      <th></th>\n",
       "      <th>type</th>\n",
       "      <th>null_count</th>\n",
       "      <th>null_rate</th>\n",
       "      <th>uni_count</th>\n",
       "    </tr>\n",
       "  </thead>\n",
       "  <tbody>\n",
       "    <tr>\n",
       "      <td>store_id</td>\n",
       "      <td>int64</td>\n",
       "      <td>0</td>\n",
       "      <td>0.000000</td>\n",
       "      <td>1778</td>\n",
       "    </tr>\n",
       "    <tr>\n",
       "      <td>date</td>\n",
       "      <td>object</td>\n",
       "      <td>0</td>\n",
       "      <td>0.000000</td>\n",
       "      <td>730</td>\n",
       "    </tr>\n",
       "    <tr>\n",
       "      <td>time</td>\n",
       "      <td>object</td>\n",
       "      <td>0</td>\n",
       "      <td>0.000000</td>\n",
       "      <td>86058</td>\n",
       "    </tr>\n",
       "    <tr>\n",
       "      <td>card_id</td>\n",
       "      <td>object</td>\n",
       "      <td>0</td>\n",
       "      <td>0.000000</td>\n",
       "      <td>999836</td>\n",
       "    </tr>\n",
       "    <tr>\n",
       "      <td>amount</td>\n",
       "      <td>int64</td>\n",
       "      <td>0</td>\n",
       "      <td>0.000000</td>\n",
       "      <td>6249</td>\n",
       "    </tr>\n",
       "    <tr>\n",
       "      <td>installments</td>\n",
       "      <td>float64</td>\n",
       "      <td>3817549</td>\n",
       "      <td>99.514127</td>\n",
       "      <td>16</td>\n",
       "    </tr>\n",
       "    <tr>\n",
       "      <td>days_of_week</td>\n",
       "      <td>int64</td>\n",
       "      <td>0</td>\n",
       "      <td>0.000000</td>\n",
       "      <td>7</td>\n",
       "    </tr>\n",
       "    <tr>\n",
       "      <td>holyday</td>\n",
       "      <td>int64</td>\n",
       "      <td>0</td>\n",
       "      <td>0.000000</td>\n",
       "      <td>2</td>\n",
       "    </tr>\n",
       "    <tr>\n",
       "      <td>test</td>\n",
       "      <td>int64</td>\n",
       "      <td>0</td>\n",
       "      <td>0.000000</td>\n",
       "      <td>2</td>\n",
       "    </tr>\n",
       "  </tbody>\n",
       "</table>\n",
       "</div>"
      ],
      "text/plain": [
       "                 type  null_count  null_rate  uni_count\n",
       "store_id        int64           0   0.000000       1778\n",
       "date           object           0   0.000000        730\n",
       "time           object           0   0.000000      86058\n",
       "card_id        object           0   0.000000     999836\n",
       "amount          int64           0   0.000000       6249\n",
       "installments  float64     3817549  99.514127         16\n",
       "days_of_week    int64           0   0.000000          7\n",
       "holyday         int64           0   0.000000          2\n",
       "test            int64           0   0.000000          2"
      ]
     },
     "execution_count": 13,
     "metadata": {},
     "output_type": "execute_result"
    }
   ],
   "source": [
    "info_df(merge_df)"
   ]
  },
  {
   "cell_type": "code",
   "execution_count": 14,
   "metadata": {
    "ExecuteTime": {
     "end_time": "2020-06-19T01:32:56.782707Z",
     "start_time": "2020-06-19T01:32:56.767240Z"
    }
   },
   "outputs": [],
   "source": [
    "merge_df.installments.fillna(0,inplace = True)"
   ]
  },
  {
   "cell_type": "markdown",
   "metadata": {},
   "source": [
    "#### 이상치 탐색"
   ]
  },
  {
   "cell_type": "code",
   "execution_count": 16,
   "metadata": {
    "ExecuteTime": {
     "end_time": "2020-06-19T01:33:53.358798Z",
     "start_time": "2020-06-19T01:33:53.023887Z"
    }
   },
   "outputs": [
    {
     "data": {
      "text/plain": [
       "('2016-08-01', '2018-07-31')"
      ]
     },
     "execution_count": 16,
     "metadata": {},
     "output_type": "execute_result"
    }
   ],
   "source": [
    "#날짜\n",
    "merge_df.date.min(), merge_df.date.max()"
   ]
  },
  {
   "cell_type": "code",
   "execution_count": 17,
   "metadata": {
    "ExecuteTime": {
     "end_time": "2020-06-19T01:33:53.936186Z",
     "start_time": "2020-06-19T01:33:53.503811Z"
    }
   },
   "outputs": [
    {
     "data": {
      "text/plain": [
       "('00:00:00', '23:59:59')"
      ]
     },
     "execution_count": 17,
     "metadata": {},
     "output_type": "execute_result"
    }
   ],
   "source": [
    "#시간\n",
    "merge_df.time.min(), merge_df.time.max()"
   ]
  },
  {
   "cell_type": "code",
   "execution_count": 18,
   "metadata": {
    "ExecuteTime": {
     "end_time": "2020-06-19T01:33:55.899537Z",
     "start_time": "2020-06-19T01:33:54.311269Z"
    }
   },
   "outputs": [
    {
     "data": {
      "text/plain": [
       "<matplotlib.axes._subplots.AxesSubplot at 0x24d00360f98>"
      ]
     },
     "execution_count": 18,
     "metadata": {},
     "output_type": "execute_result"
    },
    {
     "data": {
      "image/png": "[encoded data removed]",
      "text/plain": [
       "<Figure size 432x288 with 1 Axes>"
      ]
     },
     "metadata": {},
     "output_type": "display_data"
    }
   ],
   "source": [
    "#거래금액\n",
    "sns.boxplot(merge_df.amount)"
   ]
  },
  {
   "cell_type": "markdown",
   "metadata": {},
   "source": [
    "### 날짜\n",
    "* 주기적으로 특정일자에 매출이 감소함"
   ]
  },
  {
   "cell_type": "code",
   "execution_count": 19,
   "metadata": {
    "ExecuteTime": {
     "end_time": "2020-06-19T01:34:29.641112Z",
     "start_time": "2020-06-19T01:34:28.785166Z"
    }
   },
   "outputs": [
    {
     "name": "stderr",
     "output_type": "stream",
     "text": [
      "C:\\Users\\User\\AppData\\Roaming\\Python\\Python36\\site-packages\\pandas\\plotting\\_matplotlib\\converter.py:103: FutureWarning: Using an implicitly registered datetime converter for a matplotlib plotting method. The converter was registered by pandas on import. Future versions of pandas will require you to explicitly register matplotlib converters.\n",
      "\n",
      "To register the converters:\n",
      "\t>>> from pandas.plotting import register_matplotlib_converters\n",
      "\t>>> register_matplotlib_converters()\n",
      "  warnings.warn(msg, FutureWarning)\n"
     ]
    },
    {
     "data": {
      "image/png": "[encoded data removed]",
      "text/plain": [
       "<Figure size 1080x504 with 1 Axes>"
      ]
     },
     "metadata": {},
     "output_type": "display_data"
    }
   ],
   "source": [
    "#object -> datetime으로 전환\n",
    "merge_df['date'] = pd.to_datetime(merge_df.date)\n",
    "dates = merge_df['date'].value_counts().sort_index()\n",
    "\n",
    "plt.figure(figsize=(15,7))\n",
    "sns.lineplot(x = dates.index, y = dates)\n",
    "plt.show()"
   ]
  },
  {
   "cell_type": "markdown",
   "metadata": {},
   "source": [
    "#### 연도별 최소점/최대점을 찍은 날짜?\n",
    "* 각 일자는 명절, 명절에는 소비횟수가 급감하는 형태를 보임\n",
    "* 2016.09.15 추석, 2017-01-28 설날, 2018-02-16 설날\n",
    "* 크리스마스에 소비횟수가 집중"
   ]
  },
  {
   "cell_type": "code",
   "execution_count": 20,
   "metadata": {
    "ExecuteTime": {
     "end_time": "2020-06-19T01:35:33.160553Z",
     "start_time": "2020-06-19T01:35:10.408119Z"
    }
   },
   "outputs": [],
   "source": [
    "merge_df['year'] = merge_df['date'].apply(lambda x : x.year)\n",
    "merge_df['month'] = merge_df['date'].apply(lambda x : x.month)"
   ]
  },
  {
   "cell_type": "code",
   "execution_count": 21,
   "metadata": {
    "ExecuteTime": {
     "end_time": "2020-06-19T01:35:33.274579Z",
     "start_time": "2020-06-19T01:35:33.161553Z"
    }
   },
   "outputs": [
    {
     "name": "stdout",
     "output_type": "stream",
     "text": [
      "최저 일자: 2016-09-15 00:00:00 최저일자의 거래횟수: 1777\n",
      "최저 일자: 2017-01-28 00:00:00 최저일자의 거래횟수: 1839\n",
      "최저 일자: 2018-02-16 00:00:00 최저일자의 거래횟수: 3232\n"
     ]
    }
   ],
   "source": [
    "for year in merge_df.year.unique():\n",
    "    imsi = merge_df.loc[merge_df.year == year,'date'].value_counts()\n",
    "    print('최저 일자:',imsi.idxmin(), '최저일자의 거래횟수:',imsi.min())"
   ]
  },
  {
   "cell_type": "code",
   "execution_count": 78,
   "metadata": {
    "ExecuteTime": {
     "end_time": "2020-06-19T01:53:38.045181Z",
     "start_time": "2020-06-19T01:53:37.938853Z"
    }
   },
   "outputs": [
    {
     "name": "stdout",
     "output_type": "stream",
     "text": [
      "최대 일자: 2016-12-24 00:00:00 최대일자의 거래횟수: 4427\n",
      "최대 일자: 2017-12-23 00:00:00 최대일자의 거래횟수: 7246\n",
      "최대 일자: 2018-03-31 00:00:00 최대일자의 거래횟수: 8284\n"
     ]
    }
   ],
   "source": [
    "for year in merge_df.year.unique():\n",
    "    imsi = merge_df.loc[merge_df.year == year,'date'].value_counts()\n",
    "    print('최대 일자:',imsi.idxmax(), '최대일자의 거래횟수:',imsi.max())"
   ]
  },
  {
   "cell_type": "markdown",
   "metadata": {},
   "source": [
    "#### 일자별 평균 소비금액\n",
    "* 2016년의 경우 추석 전날인 09-13에 가장 평균 소비금액이 높고, 당일인 09-15에 가장 낮았다\n",
    "* 2017-10-04는 추석이나 1~9까지 휴일(약 9~10일 휴일) , 2018-06-17은 일요일"
   ]
  },
  {
   "cell_type": "code",
   "execution_count": 71,
   "metadata": {
    "ExecuteTime": {
     "end_time": "2020-06-19T01:52:08.846672Z",
     "start_time": "2020-06-19T01:52:08.375991Z"
    }
   },
   "outputs": [],
   "source": [
    "daily_amount = merge_df[merge_df.amount>0].groupby('date')['amount'].mean()"
   ]
  },
  {
   "cell_type": "code",
   "execution_count": 47,
   "metadata": {
    "ExecuteTime": {
     "end_time": "2020-06-19T01:45:00.347374Z",
     "start_time": "2020-06-19T01:45:00.016810Z"
    },
    "collapsed": true
   },
   "outputs": [
    {
     "data": {
      "image/png": "[encoded data removed]",
      "text/plain": [
       "<Figure size 1080x504 with 1 Axes>"
      ]
     },
     "metadata": {},
     "output_type": "display_data"
    }
   ],
   "source": [
    "plt.figure(figsize=(15,7))\n",
    "sns.lineplot(x = daily_amount.index, y = daily_amount)\n",
    "plt.show()"
   ]
  },
  {
   "cell_type": "code",
   "execution_count": 72,
   "metadata": {
    "ExecuteTime": {
     "end_time": "2020-06-19T01:52:09.576094Z",
     "start_time": "2020-06-19T01:52:09.569101Z"
    }
   },
   "outputs": [],
   "source": [
    "daily_amount = daily_amount.reset_index()\n",
    "daily_amount['year'] = daily_amount['date'].apply(lambda x : x.year)\n",
    "daily_amount.set_index('date',inplace=True)"
   ]
  },
  {
   "cell_type": "code",
   "execution_count": 80,
   "metadata": {
    "ExecuteTime": {
     "end_time": "2020-06-19T01:59:52.218461Z",
     "start_time": "2020-06-19T01:59:52.208593Z"
    }
   },
   "outputs": [
    {
     "name": "stdout",
     "output_type": "stream",
     "text": [
      "최소 일자: 2016-09-15 00:00:00 최소일자의 평균거래금액: 111.99716392512762\n",
      "최소 일자: 2017-10-04 00:00:00 최소일자의 평균거래금액: 121.86028149673875\n",
      "최소 일자: 2018-06-17 00:00:00 최소일자의 평균거래금액: 119.69896597731821\n"
     ]
    }
   ],
   "source": [
    "for year in daily_amount.year.unique():\n",
    "    imsi = daily_amount.loc[daily_amount.year == year,'amount']\n",
    "    print('최소 일자:',imsi.idxmin(), '최소일자의 평균거래금액:',imsi.min())"
   ]
  },
  {
   "cell_type": "code",
   "execution_count": 81,
   "metadata": {
    "ExecuteTime": {
     "end_time": "2020-06-19T01:59:52.725573Z",
     "start_time": "2020-06-19T01:59:52.721573Z"
    }
   },
   "outputs": [
    {
     "name": "stdout",
     "output_type": "stream",
     "text": [
      "최대 일자: 2016-09-13 00:00:00 최대일자의 평균거래금액: 277.2604242867593\n",
      "최대 일자: 2017-01-02 00:00:00 최대일자의 평균거래금액: 240.88826815642457\n",
      "최대 일자: 2018-02-28 00:00:00 최대일자의 평균거래금액: 187.6021260440395\n"
     ]
    }
   ],
   "source": [
    "for year in daily_amount.year.unique():\n",
    "    imsi = daily_amount.loc[daily_amount.year == year,'amount']\n",
    "    print('최대 일자:',imsi.idxmax(), '최대일자의 평균거래금액:',imsi.max())"
   ]
  },
  {
   "cell_type": "markdown",
   "metadata": {},
   "source": [
    "#### store별 마지막 거래일자\n",
    "* train 기준 2016-08-10부터 2018-07-31일까지 꾸준히 있고, 2018-07-31쪽에 집중되어 있음\n",
    "* test 기준 2018-01-17부터 2018-03-31일까지 꾸준히 있고 2018-03-31쪽에 집중되어 있음 "
   ]
  },
  {
   "cell_type": "markdown",
   "metadata": {},
   "source": [
    "##### train"
   ]
  },
  {
   "cell_type": "code",
   "execution_count": 37,
   "metadata": {
    "ExecuteTime": {
     "end_time": "2020-06-19T01:39:19.446818Z",
     "start_time": "2020-06-19T01:39:19.111949Z"
    }
   },
   "outputs": [],
   "source": [
    "final_sale_train = merge_df[merge_df['test'] == 0].groupby('store_id')['date'].max()"
   ]
  },
  {
   "cell_type": "code",
   "execution_count": 38,
   "metadata": {
    "ExecuteTime": {
     "end_time": "2020-06-19T01:39:20.324142Z",
     "start_time": "2020-06-19T01:39:20.320093Z"
    }
   },
   "outputs": [
    {
     "data": {
      "text/plain": [
       "(Timestamp('2016-08-10 00:00:00'), Timestamp('2018-07-31 00:00:00'))"
      ]
     },
     "execution_count": 38,
     "metadata": {},
     "output_type": "execute_result"
    }
   ],
   "source": [
    "final_sale_train.min(),final_sale_train.max()"
   ]
  },
  {
   "cell_type": "code",
   "execution_count": 39,
   "metadata": {
    "ExecuteTime": {
     "end_time": "2020-06-19T01:39:21.338317Z",
     "start_time": "2020-06-19T01:39:21.160234Z"
    }
   },
   "outputs": [
    {
     "data": {
      "image/png": "[encoded data removed]",
      "text/plain": [
       "<Figure size 1080x504 with 1 Axes>"
      ]
     },
     "metadata": {},
     "output_type": "display_data"
    }
   ],
   "source": [
    "dates = final_sale_train.value_counts()\n",
    "plt.figure(figsize=(15,7))\n",
    "sns.lineplot(x = dates.index, y = dates)\n",
    "plt.show()"
   ]
  },
  {
   "cell_type": "markdown",
   "metadata": {},
   "source": [
    "##### test"
   ]
  },
  {
   "cell_type": "code",
   "execution_count": 40,
   "metadata": {
    "ExecuteTime": {
     "end_time": "2020-06-19T01:39:35.587200Z",
     "start_time": "2020-06-19T01:39:35.528188Z"
    }
   },
   "outputs": [],
   "source": [
    "final_sale_test = merge_df[merge_df['test'] == 1].groupby('store_id')['date'].max()"
   ]
  },
  {
   "cell_type": "code",
   "execution_count": 41,
   "metadata": {
    "ExecuteTime": {
     "end_time": "2020-06-19T01:39:35.939280Z",
     "start_time": "2020-06-19T01:39:35.935279Z"
    }
   },
   "outputs": [
    {
     "data": {
      "text/plain": [
       "(Timestamp('2018-01-17 00:00:00'), Timestamp('2018-03-31 00:00:00'))"
      ]
     },
     "execution_count": 41,
     "metadata": {},
     "output_type": "execute_result"
    }
   ],
   "source": [
    "final_sale_test.min(),final_sale_test.max()"
   ]
  },
  {
   "cell_type": "code",
   "execution_count": 42,
   "metadata": {
    "ExecuteTime": {
     "end_time": "2020-06-19T01:39:36.497229Z",
     "start_time": "2020-06-19T01:39:36.352373Z"
    }
   },
   "outputs": [
    {
     "data": {
      "image/png": "[encoded data removed]",
      "text/plain": [
       "<Figure size 1080x504 with 1 Axes>"
      ]
     },
     "metadata": {},
     "output_type": "display_data"
    }
   ],
   "source": [
    "dates = final_sale_test.value_counts()\n",
    "plt.figure(figsize=(15,7))\n",
    "sns.lineplot(x = dates.index, y = dates)\n",
    "plt.show()"
   ]
  },
  {
   "cell_type": "markdown",
   "metadata": {},
   "source": [
    "##### 제외해야할 data\n",
    "* train의 경우 마지막거래일자에서 100일전이 2016-08-01 보다 빠른경우 아웃라이어"
   ]
  },
  {
   "cell_type": "code",
   "execution_count": 90,
   "metadata": {
    "ExecuteTime": {
     "end_time": "2020-06-19T02:11:50.925320Z",
     "start_time": "2020-06-19T02:11:50.921320Z"
    }
   },
   "outputs": [],
   "source": [
    "day_check = final_sale_train - datetime.timedelta(100)"
   ]
  },
  {
   "cell_type": "code",
   "execution_count": 96,
   "metadata": {
    "ExecuteTime": {
     "end_time": "2020-06-19T02:16:11.510185Z",
     "start_time": "2020-06-19T02:16:11.498191Z"
    }
   },
   "outputs": [
    {
     "data": {
      "text/plain": [
       "Timestamp('2016-08-01 00:00:00')"
      ]
     },
     "execution_count": 96,
     "metadata": {},
     "output_type": "execute_result"
    }
   ],
   "source": [
    "merge_df.date.min()"
   ]
  },
  {
   "cell_type": "code",
   "execution_count": 95,
   "metadata": {
    "ExecuteTime": {
     "end_time": "2020-06-19T02:13:10.823308Z",
     "start_time": "2020-06-19T02:13:10.809316Z"
    }
   },
   "outputs": [
    {
     "data": {
      "text/plain": [
       "store_id\n",
       "387    2016-05-02\n",
       "1056   2016-06-17\n",
       "1122   2016-07-24\n",
       "Name: date, dtype: datetime64[ns]"
      ]
     },
     "execution_count": 95,
     "metadata": {},
     "output_type": "execute_result"
    }
   ],
   "source": [
    "day_check[day_check > merge_df.date.min()]"
   ]
  },
  {
   "cell_type": "markdown",
   "metadata": {},
   "source": [
    "### 요일\n",
    "* 0이 월요일이고, 6이 일요일\n",
    "* 금토에 소비횟수가 가장많고, 일요일이 가장 소비횟수가 적음\n",
    "* 평균소비금액은 평일에는 큰 차이가 없고 (월요일 다소 적음) 오히려 주말에 다소 감소"
   ]
  },
  {
   "cell_type": "markdown",
   "metadata": {},
   "source": [
    "#### 소비횟수"
   ]
  },
  {
   "cell_type": "code",
   "execution_count": 106,
   "metadata": {
    "ExecuteTime": {
     "end_time": "2020-06-19T02:29:43.960989Z",
     "start_time": "2020-06-19T02:29:43.828959Z"
    }
   },
   "outputs": [
    {
     "data": {
      "image/png": "[encoded data removed]",
      "text/plain": [
       "<Figure size 432x288 with 1 Axes>"
      ]
     },
     "metadata": {},
     "output_type": "display_data"
    }
   ],
   "source": [
    "weeks = merge_df.days_of_week.value_counts()\n",
    "\n",
    "sns.barplot(x = weeks.index, y = weeks)\n",
    "plt.show()"
   ]
  },
  {
   "cell_type": "code",
   "execution_count": 102,
   "metadata": {
    "ExecuteTime": {
     "end_time": "2020-06-19T02:27:05.129230Z",
     "start_time": "2020-06-19T02:27:04.945198Z"
    }
   },
   "outputs": [
    {
     "data": {
      "text/plain": [
       "<matplotlib.axes._subplots.AxesSubplot at 0x24d1d234c18>"
      ]
     },
     "execution_count": 102,
     "metadata": {},
     "output_type": "execute_result"
    },
    {
     "data": {
      "image/png": "[encoded data removed]",
      "text/plain": [
       "<Figure size 432x288 with 1 Axes>"
      ]
     },
     "metadata": {},
     "output_type": "display_data"
    }
   ],
   "source": [
    "#평균 소비금액 \n",
    "weekly_amount = merge_df.groupby('days_of_week')['amount'].mean()\n",
    "sns.barplot(x = weekly_amount.index, y= weekly_amount)"
   ]
  },
  {
   "cell_type": "markdown",
   "metadata": {},
   "source": [
    "### holyday\n",
    "* 휴일일때 소비횟수 및, 소비금액이 평균적으로 더 높음"
   ]
  },
  {
   "cell_type": "code",
   "execution_count": 112,
   "metadata": {
    "ExecuteTime": {
     "end_time": "2020-06-19T02:33:16.857705Z",
     "start_time": "2020-06-19T02:33:16.785689Z"
    }
   },
   "outputs": [],
   "source": [
    "un_holydays = merge_df.loc[merge_df.holyday == 0,'date'].nunique()\n",
    "holydays = merge_df.loc[merge_df.holyday == 1,'date'].nunique()\n",
    "\n",
    "mean_unholydays = merge_df.holyday.value_counts()[0]/un_holydays\n",
    "mean_holydays = merge_df.holyday.value_counts()[1]/holydays\n",
    "\n",
    "mean_holydays_df = pd.DataFrame([mean_unholydays,mean_holydays],columns=['holydays'],index = [0,1])"
   ]
  },
  {
   "cell_type": "code",
   "execution_count": 131,
   "metadata": {
    "ExecuteTime": {
     "end_time": "2020-06-19T02:37:47.525639Z",
     "start_time": "2020-06-19T02:37:47.444620Z"
    }
   },
   "outputs": [
    {
     "data": {
      "text/plain": [
       "<matplotlib.axes._subplots.AxesSubplot at 0x24d1d7facc0>"
      ]
     },
     "execution_count": 131,
     "metadata": {},
     "output_type": "execute_result"
    },
    {
     "data": {
      "image/png": "[encoded data removed]",
      "text/plain": [
       "<Figure size 432x288 with 1 Axes>"
      ]
     },
     "metadata": {},
     "output_type": "display_data"
    }
   ],
   "source": [
    "# 소비횟수 비교 \n",
    "sns.barplot(mean_holydays_df.index,mean_holydays_df['holydays'])"
   ]
  },
  {
   "cell_type": "code",
   "execution_count": 105,
   "metadata": {
    "ExecuteTime": {
     "end_time": "2020-06-19T02:29:10.588823Z",
     "start_time": "2020-06-19T02:29:10.425786Z"
    }
   },
   "outputs": [
    {
     "data": {
      "text/plain": [
       "<matplotlib.axes._subplots.AxesSubplot at 0x24d1d706c50>"
      ]
     },
     "execution_count": 105,
     "metadata": {},
     "output_type": "execute_result"
    },
    {
     "data": {
      "image/png": "[encoded data removed]",
      "text/plain": [
       "<Figure size 432x288 with 1 Axes>"
      ]
     },
     "metadata": {},
     "output_type": "display_data"
    }
   ],
   "source": [
    "# 소비금액 비교\n",
    "holy_amount = merge_df.groupby('holyday')['amount'].mean()\n",
    "sns.barplot(x = holy_amount.index, y = holy_amount)"
   ]
  },
  {
   "cell_type": "markdown",
   "metadata": {},
   "source": [
    "#### holyday 구성은 어떻게되어있나?\n",
    "* 01-01 신정, (음력)01-01 설날, 03-01 삼일절, (음력)04-08 부처님 오신날, 05-05 어린이날, 06-06 현충일, \n",
    "* 08-15 광복절, (음력) 08-15 추석, 10-03 개천절, 10-09 한글날, 12-25 크리스마스 \n",
    "* 17-10-02 임시공휴일\n",
    "* 연휴 16-09-14 "
   ]
  },
  {
   "cell_type": "code",
   "execution_count": 156,
   "metadata": {
    "ExecuteTime": {
     "end_time": "2020-06-19T02:44:00.021750Z",
     "start_time": "2020-06-19T02:43:48.732095Z"
    }
   },
   "outputs": [
    {
     "data": {
      "text/html": [
       "<div>\n",
       "<style scoped>\n",
       "    .dataframe tbody tr th:only-of-type {\n",
       "        vertical-align: middle;\n",
       "    }\n",
       "\n",
       "    .dataframe tbody tr th {\n",
       "        vertical-align: top;\n",
       "    }\n",
       "\n",
       "    .dataframe thead th {\n",
       "        text-align: right;\n",
       "    }\n",
       "</style>\n",
       "<table border=\"1\" class=\"dataframe\">\n",
       "  <thead>\n",
       "    <tr style=\"text-align: right;\">\n",
       "      <th></th>\n",
       "      <th>store_id</th>\n",
       "      <th>date</th>\n",
       "      <th>time</th>\n",
       "      <th>card_id</th>\n",
       "      <th>amount</th>\n",
       "      <th>installments</th>\n",
       "      <th>days_of_week</th>\n",
       "      <th>holyday</th>\n",
       "      <th>test</th>\n",
       "      <th>year</th>\n",
       "      <th>month</th>\n",
       "      <th>check_week</th>\n",
       "    </tr>\n",
       "  </thead>\n",
       "  <tbody>\n",
       "  </tbody>\n",
       "</table>\n",
       "</div>"
      ],
      "text/plain": [
       "Empty DataFrame\n",
       "Columns: [store_id, date, time, card_id, amount, installments, days_of_week, holyday, test, year, month, check_week]\n",
       "Index: []"
      ]
     },
     "execution_count": 156,
     "metadata": {},
     "output_type": "execute_result"
    }
   ],
   "source": [
    "#요일 오류 확인(이상무)\n",
    "check_week = merge_df.date.apply(lambda x : x.weekday())\n",
    "merge_df[merge_df.days_of_week != check_week]"
   ]
  },
  {
   "cell_type": "code",
   "execution_count": 158,
   "metadata": {
    "ExecuteTime": {
     "end_time": "2020-06-19T02:44:51.396024Z",
     "start_time": "2020-06-19T02:44:51.356015Z"
    }
   },
   "outputs": [],
   "source": [
    "holydays_df = merge_df[merge_df.holyday == 1]"
   ]
  },
  {
   "cell_type": "code",
   "execution_count": 163,
   "metadata": {
    "ExecuteTime": {
     "end_time": "2020-06-19T02:54:00.543374Z",
     "start_time": "2020-06-19T02:54:00.524370Z"
    }
   },
   "outputs": [
    {
     "data": {
      "text/html": [
       "<div>\n",
       "<style scoped>\n",
       "    .dataframe tbody tr th:only-of-type {\n",
       "        vertical-align: middle;\n",
       "    }\n",
       "\n",
       "    .dataframe tbody tr th {\n",
       "        vertical-align: top;\n",
       "    }\n",
       "\n",
       "    .dataframe thead th {\n",
       "        text-align: right;\n",
       "    }\n",
       "</style>\n",
       "<table border=\"1\" class=\"dataframe\">\n",
       "  <thead>\n",
       "    <tr style=\"text-align: right;\">\n",
       "      <th></th>\n",
       "      <th>store_id</th>\n",
       "      <th>date</th>\n",
       "      <th>time</th>\n",
       "      <th>card_id</th>\n",
       "      <th>amount</th>\n",
       "      <th>installments</th>\n",
       "      <th>days_of_week</th>\n",
       "      <th>holyday</th>\n",
       "      <th>test</th>\n",
       "      <th>year</th>\n",
       "      <th>month</th>\n",
       "      <th>check_week</th>\n",
       "    </tr>\n",
       "  </thead>\n",
       "  <tbody>\n",
       "    <tr>\n",
       "      <td>69090</td>\n",
       "      <td>2</td>\n",
       "      <td>2016-08-15</td>\n",
       "      <td>07:03:51</td>\n",
       "      <td>b8f4039073</td>\n",
       "      <td>60</td>\n",
       "      <td>0.0</td>\n",
       "      <td>0</td>\n",
       "      <td>1</td>\n",
       "      <td>0</td>\n",
       "      <td>2016</td>\n",
       "      <td>8</td>\n",
       "      <td>0</td>\n",
       "    </tr>\n",
       "    <tr>\n",
       "      <td>69759</td>\n",
       "      <td>2</td>\n",
       "      <td>2016-09-14</td>\n",
       "      <td>00:15:29</td>\n",
       "      <td>ee292ccc5b</td>\n",
       "      <td>80</td>\n",
       "      <td>0.0</td>\n",
       "      <td>2</td>\n",
       "      <td>1</td>\n",
       "      <td>0</td>\n",
       "      <td>2016</td>\n",
       "      <td>9</td>\n",
       "      <td>2</td>\n",
       "    </tr>\n",
       "    <tr>\n",
       "      <td>91125</td>\n",
       "      <td>8</td>\n",
       "      <td>2016-09-15</td>\n",
       "      <td>00:39:22</td>\n",
       "      <td>0b5c785944</td>\n",
       "      <td>240</td>\n",
       "      <td>0.0</td>\n",
       "      <td>3</td>\n",
       "      <td>1</td>\n",
       "      <td>0</td>\n",
       "      <td>2016</td>\n",
       "      <td>9</td>\n",
       "      <td>3</td>\n",
       "    </tr>\n",
       "    <tr>\n",
       "      <td>69770</td>\n",
       "      <td>2</td>\n",
       "      <td>2016-09-16</td>\n",
       "      <td>13:01:01</td>\n",
       "      <td>f429965e15</td>\n",
       "      <td>80</td>\n",
       "      <td>0.0</td>\n",
       "      <td>4</td>\n",
       "      <td>1</td>\n",
       "      <td>0</td>\n",
       "      <td>2016</td>\n",
       "      <td>9</td>\n",
       "      <td>4</td>\n",
       "    </tr>\n",
       "    <tr>\n",
       "      <td>70160</td>\n",
       "      <td>2</td>\n",
       "      <td>2016-10-03</td>\n",
       "      <td>08:58:05</td>\n",
       "      <td>2543aabcbf</td>\n",
       "      <td>40</td>\n",
       "      <td>0.0</td>\n",
       "      <td>0</td>\n",
       "      <td>1</td>\n",
       "      <td>0</td>\n",
       "      <td>2016</td>\n",
       "      <td>10</td>\n",
       "      <td>0</td>\n",
       "    </tr>\n",
       "    <tr>\n",
       "      <td>70294</td>\n",
       "      <td>2</td>\n",
       "      <td>2016-10-09</td>\n",
       "      <td>05:16:38</td>\n",
       "      <td>28a7a96d24</td>\n",
       "      <td>600</td>\n",
       "      <td>0.0</td>\n",
       "      <td>6</td>\n",
       "      <td>1</td>\n",
       "      <td>0</td>\n",
       "      <td>2016</td>\n",
       "      <td>10</td>\n",
       "      <td>6</td>\n",
       "    </tr>\n",
       "    <tr>\n",
       "      <td>772</td>\n",
       "      <td>0</td>\n",
       "      <td>2016-12-25</td>\n",
       "      <td>00:23:22</td>\n",
       "      <td>7df04debf0</td>\n",
       "      <td>79</td>\n",
       "      <td>0.0</td>\n",
       "      <td>6</td>\n",
       "      <td>1</td>\n",
       "      <td>0</td>\n",
       "      <td>2016</td>\n",
       "      <td>12</td>\n",
       "      <td>6</td>\n",
       "    </tr>\n",
       "    <tr>\n",
       "      <td>1635</td>\n",
       "      <td>0</td>\n",
       "      <td>2017-01-01</td>\n",
       "      <td>00:27:46</td>\n",
       "      <td>1e3035e497</td>\n",
       "      <td>36</td>\n",
       "      <td>0.0</td>\n",
       "      <td>6</td>\n",
       "      <td>1</td>\n",
       "      <td>0</td>\n",
       "      <td>2017</td>\n",
       "      <td>1</td>\n",
       "      <td>6</td>\n",
       "    </tr>\n",
       "    <tr>\n",
       "      <td>4588</td>\n",
       "      <td>0</td>\n",
       "      <td>2017-01-27</td>\n",
       "      <td>00:06:14</td>\n",
       "      <td>8892c23a23</td>\n",
       "      <td>30</td>\n",
       "      <td>0.0</td>\n",
       "      <td>4</td>\n",
       "      <td>1</td>\n",
       "      <td>0</td>\n",
       "      <td>2017</td>\n",
       "      <td>1</td>\n",
       "      <td>4</td>\n",
       "    </tr>\n",
       "    <tr>\n",
       "      <td>4732</td>\n",
       "      <td>0</td>\n",
       "      <td>2017-01-28</td>\n",
       "      <td>00:47:57</td>\n",
       "      <td>a697ba76a9</td>\n",
       "      <td>20</td>\n",
       "      <td>0.0</td>\n",
       "      <td>5</td>\n",
       "      <td>1</td>\n",
       "      <td>0</td>\n",
       "      <td>2017</td>\n",
       "      <td>1</td>\n",
       "      <td>5</td>\n",
       "    </tr>\n",
       "    <tr>\n",
       "      <td>4841</td>\n",
       "      <td>0</td>\n",
       "      <td>2017-01-29</td>\n",
       "      <td>00:14:23</td>\n",
       "      <td>acc4a81a87</td>\n",
       "      <td>23</td>\n",
       "      <td>0.0</td>\n",
       "      <td>6</td>\n",
       "      <td>1</td>\n",
       "      <td>0</td>\n",
       "      <td>2017</td>\n",
       "      <td>1</td>\n",
       "      <td>6</td>\n",
       "    </tr>\n",
       "    <tr>\n",
       "      <td>4928</td>\n",
       "      <td>0</td>\n",
       "      <td>2017-01-30</td>\n",
       "      <td>00:04:45</td>\n",
       "      <td>7d0822ac0f</td>\n",
       "      <td>21</td>\n",
       "      <td>0.0</td>\n",
       "      <td>0</td>\n",
       "      <td>1</td>\n",
       "      <td>0</td>\n",
       "      <td>2017</td>\n",
       "      <td>1</td>\n",
       "      <td>0</td>\n",
       "    </tr>\n",
       "    <tr>\n",
       "      <td>8081</td>\n",
       "      <td>0</td>\n",
       "      <td>2017-03-01</td>\n",
       "      <td>00:07:31</td>\n",
       "      <td>c45d446a5d</td>\n",
       "      <td>233</td>\n",
       "      <td>0.0</td>\n",
       "      <td>2</td>\n",
       "      <td>1</td>\n",
       "      <td>0</td>\n",
       "      <td>2017</td>\n",
       "      <td>3</td>\n",
       "      <td>2</td>\n",
       "    </tr>\n",
       "    <tr>\n",
       "      <td>15104</td>\n",
       "      <td>0</td>\n",
       "      <td>2017-05-01</td>\n",
       "      <td>00:23:19</td>\n",
       "      <td>48d5323795</td>\n",
       "      <td>109</td>\n",
       "      <td>0.0</td>\n",
       "      <td>0</td>\n",
       "      <td>1</td>\n",
       "      <td>0</td>\n",
       "      <td>2017</td>\n",
       "      <td>5</td>\n",
       "      <td>0</td>\n",
       "    </tr>\n",
       "    <tr>\n",
       "      <td>15303</td>\n",
       "      <td>0</td>\n",
       "      <td>2017-05-03</td>\n",
       "      <td>00:01:46</td>\n",
       "      <td>3150dab8e4</td>\n",
       "      <td>200</td>\n",
       "      <td>0.0</td>\n",
       "      <td>2</td>\n",
       "      <td>1</td>\n",
       "      <td>0</td>\n",
       "      <td>2017</td>\n",
       "      <td>5</td>\n",
       "      <td>2</td>\n",
       "    </tr>\n",
       "    <tr>\n",
       "      <td>15546</td>\n",
       "      <td>0</td>\n",
       "      <td>2017-05-05</td>\n",
       "      <td>00:15:05</td>\n",
       "      <td>e8d8bdfd29</td>\n",
       "      <td>126</td>\n",
       "      <td>0.0</td>\n",
       "      <td>4</td>\n",
       "      <td>1</td>\n",
       "      <td>0</td>\n",
       "      <td>2017</td>\n",
       "      <td>5</td>\n",
       "      <td>4</td>\n",
       "    </tr>\n",
       "    <tr>\n",
       "      <td>16067</td>\n",
       "      <td>0</td>\n",
       "      <td>2017-05-09</td>\n",
       "      <td>00:14:26</td>\n",
       "      <td>ee6c89f2e1</td>\n",
       "      <td>20</td>\n",
       "      <td>0.0</td>\n",
       "      <td>1</td>\n",
       "      <td>1</td>\n",
       "      <td>0</td>\n",
       "      <td>2017</td>\n",
       "      <td>5</td>\n",
       "      <td>1</td>\n",
       "    </tr>\n",
       "    <tr>\n",
       "      <td>19463</td>\n",
       "      <td>0</td>\n",
       "      <td>2017-06-06</td>\n",
       "      <td>00:08:45</td>\n",
       "      <td>cb0b24bd06</td>\n",
       "      <td>262</td>\n",
       "      <td>0.0</td>\n",
       "      <td>1</td>\n",
       "      <td>1</td>\n",
       "      <td>0</td>\n",
       "      <td>2017</td>\n",
       "      <td>6</td>\n",
       "      <td>1</td>\n",
       "    </tr>\n",
       "    <tr>\n",
       "      <td>28159</td>\n",
       "      <td>0</td>\n",
       "      <td>2017-08-15</td>\n",
       "      <td>00:06:35</td>\n",
       "      <td>ee776acf85</td>\n",
       "      <td>65</td>\n",
       "      <td>0.0</td>\n",
       "      <td>1</td>\n",
       "      <td>1</td>\n",
       "      <td>0</td>\n",
       "      <td>2017</td>\n",
       "      <td>8</td>\n",
       "      <td>1</td>\n",
       "    </tr>\n",
       "    <tr>\n",
       "      <td>33985</td>\n",
       "      <td>0</td>\n",
       "      <td>2017-10-02</td>\n",
       "      <td>00:41:19</td>\n",
       "      <td>68f432167b</td>\n",
       "      <td>80</td>\n",
       "      <td>0.0</td>\n",
       "      <td>0</td>\n",
       "      <td>1</td>\n",
       "      <td>0</td>\n",
       "      <td>2017</td>\n",
       "      <td>10</td>\n",
       "      <td>0</td>\n",
       "    </tr>\n",
       "    <tr>\n",
       "      <td>34109</td>\n",
       "      <td>0</td>\n",
       "      <td>2017-10-03</td>\n",
       "      <td>00:26:57</td>\n",
       "      <td>37a9b439c6</td>\n",
       "      <td>57</td>\n",
       "      <td>0.0</td>\n",
       "      <td>1</td>\n",
       "      <td>1</td>\n",
       "      <td>0</td>\n",
       "      <td>2017</td>\n",
       "      <td>10</td>\n",
       "      <td>1</td>\n",
       "    </tr>\n",
       "    <tr>\n",
       "      <td>34273</td>\n",
       "      <td>0</td>\n",
       "      <td>2017-10-04</td>\n",
       "      <td>00:32:50</td>\n",
       "      <td>5ad0f185f7</td>\n",
       "      <td>47</td>\n",
       "      <td>0.0</td>\n",
       "      <td>2</td>\n",
       "      <td>1</td>\n",
       "      <td>0</td>\n",
       "      <td>2017</td>\n",
       "      <td>10</td>\n",
       "      <td>2</td>\n",
       "    </tr>\n",
       "    <tr>\n",
       "      <td>34398</td>\n",
       "      <td>0</td>\n",
       "      <td>2017-10-05</td>\n",
       "      <td>00:15:04</td>\n",
       "      <td>9703a2dea4</td>\n",
       "      <td>94</td>\n",
       "      <td>0.0</td>\n",
       "      <td>3</td>\n",
       "      <td>1</td>\n",
       "      <td>0</td>\n",
       "      <td>2017</td>\n",
       "      <td>10</td>\n",
       "      <td>3</td>\n",
       "    </tr>\n",
       "    <tr>\n",
       "      <td>34513</td>\n",
       "      <td>0</td>\n",
       "      <td>2017-10-06</td>\n",
       "      <td>00:43:28</td>\n",
       "      <td>c5e64f3c64</td>\n",
       "      <td>260</td>\n",
       "      <td>0.0</td>\n",
       "      <td>4</td>\n",
       "      <td>1</td>\n",
       "      <td>0</td>\n",
       "      <td>2017</td>\n",
       "      <td>10</td>\n",
       "      <td>4</td>\n",
       "    </tr>\n",
       "    <tr>\n",
       "      <td>34841</td>\n",
       "      <td>0</td>\n",
       "      <td>2017-10-09</td>\n",
       "      <td>00:13:11</td>\n",
       "      <td>4aded25032</td>\n",
       "      <td>47</td>\n",
       "      <td>0.0</td>\n",
       "      <td>0</td>\n",
       "      <td>1</td>\n",
       "      <td>0</td>\n",
       "      <td>2017</td>\n",
       "      <td>10</td>\n",
       "      <td>0</td>\n",
       "    </tr>\n",
       "    <tr>\n",
       "      <td>43369</td>\n",
       "      <td>0</td>\n",
       "      <td>2017-12-25</td>\n",
       "      <td>00:07:11</td>\n",
       "      <td>26cd93aabe</td>\n",
       "      <td>16</td>\n",
       "      <td>0.0</td>\n",
       "      <td>0</td>\n",
       "      <td>1</td>\n",
       "      <td>0</td>\n",
       "      <td>2017</td>\n",
       "      <td>12</td>\n",
       "      <td>0</td>\n",
       "    </tr>\n",
       "    <tr>\n",
       "      <td>44124</td>\n",
       "      <td>0</td>\n",
       "      <td>2018-01-01</td>\n",
       "      <td>00:04:51</td>\n",
       "      <td>f2dd8b3741</td>\n",
       "      <td>128</td>\n",
       "      <td>0.0</td>\n",
       "      <td>0</td>\n",
       "      <td>1</td>\n",
       "      <td>0</td>\n",
       "      <td>2018</td>\n",
       "      <td>1</td>\n",
       "      <td>0</td>\n",
       "    </tr>\n",
       "    <tr>\n",
       "      <td>49285</td>\n",
       "      <td>0</td>\n",
       "      <td>2018-02-15</td>\n",
       "      <td>00:07:20</td>\n",
       "      <td>2212f51d6e</td>\n",
       "      <td>29</td>\n",
       "      <td>0.0</td>\n",
       "      <td>3</td>\n",
       "      <td>1</td>\n",
       "      <td>0</td>\n",
       "      <td>2018</td>\n",
       "      <td>2</td>\n",
       "      <td>3</td>\n",
       "    </tr>\n",
       "    <tr>\n",
       "      <td>49438</td>\n",
       "      <td>0</td>\n",
       "      <td>2018-02-16</td>\n",
       "      <td>00:18:58</td>\n",
       "      <td>4addcf130d</td>\n",
       "      <td>50</td>\n",
       "      <td>0.0</td>\n",
       "      <td>4</td>\n",
       "      <td>1</td>\n",
       "      <td>0</td>\n",
       "      <td>2018</td>\n",
       "      <td>2</td>\n",
       "      <td>4</td>\n",
       "    </tr>\n",
       "    <tr>\n",
       "      <td>49560</td>\n",
       "      <td>0</td>\n",
       "      <td>2018-02-17</td>\n",
       "      <td>00:09:03</td>\n",
       "      <td>a2b12d44c9</td>\n",
       "      <td>55</td>\n",
       "      <td>0.0</td>\n",
       "      <td>5</td>\n",
       "      <td>1</td>\n",
       "      <td>0</td>\n",
       "      <td>2018</td>\n",
       "      <td>2</td>\n",
       "      <td>5</td>\n",
       "    </tr>\n",
       "    <tr>\n",
       "      <td>50781</td>\n",
       "      <td>0</td>\n",
       "      <td>2018-03-01</td>\n",
       "      <td>01:01:47</td>\n",
       "      <td>b945276471</td>\n",
       "      <td>70</td>\n",
       "      <td>0.0</td>\n",
       "      <td>3</td>\n",
       "      <td>1</td>\n",
       "      <td>0</td>\n",
       "      <td>2018</td>\n",
       "      <td>3</td>\n",
       "      <td>3</td>\n",
       "    </tr>\n",
       "    <tr>\n",
       "      <td>57740</td>\n",
       "      <td>0</td>\n",
       "      <td>2018-05-01</td>\n",
       "      <td>00:05:51</td>\n",
       "      <td>6474ec62be</td>\n",
       "      <td>33</td>\n",
       "      <td>0.0</td>\n",
       "      <td>1</td>\n",
       "      <td>1</td>\n",
       "      <td>0</td>\n",
       "      <td>2018</td>\n",
       "      <td>5</td>\n",
       "      <td>1</td>\n",
       "    </tr>\n",
       "    <tr>\n",
       "      <td>58194</td>\n",
       "      <td>0</td>\n",
       "      <td>2018-05-05</td>\n",
       "      <td>00:32:38</td>\n",
       "      <td>6cf7ef7e51</td>\n",
       "      <td>216</td>\n",
       "      <td>0.0</td>\n",
       "      <td>5</td>\n",
       "      <td>1</td>\n",
       "      <td>0</td>\n",
       "      <td>2018</td>\n",
       "      <td>5</td>\n",
       "      <td>5</td>\n",
       "    </tr>\n",
       "    <tr>\n",
       "      <td>58420</td>\n",
       "      <td>0</td>\n",
       "      <td>2018-05-07</td>\n",
       "      <td>00:02:55</td>\n",
       "      <td>950b047a96</td>\n",
       "      <td>320</td>\n",
       "      <td>0.0</td>\n",
       "      <td>0</td>\n",
       "      <td>1</td>\n",
       "      <td>0</td>\n",
       "      <td>2018</td>\n",
       "      <td>5</td>\n",
       "      <td>0</td>\n",
       "    </tr>\n",
       "    <tr>\n",
       "      <td>60098</td>\n",
       "      <td>0</td>\n",
       "      <td>2018-05-22</td>\n",
       "      <td>00:06:09</td>\n",
       "      <td>424959137b</td>\n",
       "      <td>103</td>\n",
       "      <td>0.0</td>\n",
       "      <td>1</td>\n",
       "      <td>1</td>\n",
       "      <td>0</td>\n",
       "      <td>2018</td>\n",
       "      <td>5</td>\n",
       "      <td>1</td>\n",
       "    </tr>\n",
       "    <tr>\n",
       "      <td>61864</td>\n",
       "      <td>0</td>\n",
       "      <td>2018-06-06</td>\n",
       "      <td>00:07:11</td>\n",
       "      <td>eb8cfcb59e</td>\n",
       "      <td>32</td>\n",
       "      <td>0.0</td>\n",
       "      <td>2</td>\n",
       "      <td>1</td>\n",
       "      <td>0</td>\n",
       "      <td>2018</td>\n",
       "      <td>6</td>\n",
       "      <td>2</td>\n",
       "    </tr>\n",
       "    <tr>\n",
       "      <td>62686</td>\n",
       "      <td>0</td>\n",
       "      <td>2018-06-13</td>\n",
       "      <td>00:03:08</td>\n",
       "      <td>a7eaa62d05</td>\n",
       "      <td>46</td>\n",
       "      <td>0.0</td>\n",
       "      <td>2</td>\n",
       "      <td>1</td>\n",
       "      <td>0</td>\n",
       "      <td>2018</td>\n",
       "      <td>6</td>\n",
       "      <td>2</td>\n",
       "    </tr>\n",
       "  </tbody>\n",
       "</table>\n",
       "</div>"
      ],
      "text/plain": [
       "       store_id       date      time     card_id  amount  installments  \\\n",
       "69090         2 2016-08-15  07:03:51  b8f4039073      60           0.0   \n",
       "69759         2 2016-09-14  00:15:29  ee292ccc5b      80           0.0   \n",
       "91125         8 2016-09-15  00:39:22  0b5c785944     240           0.0   \n",
       "69770         2 2016-09-16  13:01:01  f429965e15      80           0.0   \n",
       "70160         2 2016-10-03  08:58:05  2543aabcbf      40           0.0   \n",
       "70294         2 2016-10-09  05:16:38  28a7a96d24     600           0.0   \n",
       "772           0 2016-12-25  00:23:22  7df04debf0      79           0.0   \n",
       "1635          0 2017-01-01  00:27:46  1e3035e497      36           0.0   \n",
       "4588          0 2017-01-27  00:06:14  8892c23a23      30           0.0   \n",
       "4732          0 2017-01-28  00:47:57  a697ba76a9      20           0.0   \n",
       "4841          0 2017-01-29  00:14:23  acc4a81a87      23           0.0   \n",
       "4928          0 2017-01-30  00:04:45  7d0822ac0f      21           0.0   \n",
       "8081          0 2017-03-01  00:07:31  c45d446a5d     233           0.0   \n",
       "15104         0 2017-05-01  00:23:19  48d5323795     109           0.0   \n",
       "15303         0 2017-05-03  00:01:46  3150dab8e4     200           0.0   \n",
       "15546         0 2017-05-05  00:15:05  e8d8bdfd29     126           0.0   \n",
       "16067         0 2017-05-09  00:14:26  ee6c89f2e1      20           0.0   \n",
       "19463         0 2017-06-06  00:08:45  cb0b24bd06     262           0.0   \n",
       "28159         0 2017-08-15  00:06:35  ee776acf85      65           0.0   \n",
       "33985         0 2017-10-02  00:41:19  68f432167b      80           0.0   \n",
       "34109         0 2017-10-03  00:26:57  37a9b439c6      57           0.0   \n",
       "34273         0 2017-10-04  00:32:50  5ad0f185f7      47           0.0   \n",
       "34398         0 2017-10-05  00:15:04  9703a2dea4      94           0.0   \n",
       "34513         0 2017-10-06  00:43:28  c5e64f3c64     260           0.0   \n",
       "34841         0 2017-10-09  00:13:11  4aded25032      47           0.0   \n",
       "43369         0 2017-12-25  00:07:11  26cd93aabe      16           0.0   \n",
       "44124         0 2018-01-01  00:04:51  f2dd8b3741     128           0.0   \n",
       "49285         0 2018-02-15  00:07:20  2212f51d6e      29           0.0   \n",
       "49438         0 2018-02-16  00:18:58  4addcf130d      50           0.0   \n",
       "49560         0 2018-02-17  00:09:03  a2b12d44c9      55           0.0   \n",
       "50781         0 2018-03-01  01:01:47  b945276471      70           0.0   \n",
       "57740         0 2018-05-01  00:05:51  6474ec62be      33           0.0   \n",
       "58194         0 2018-05-05  00:32:38  6cf7ef7e51     216           0.0   \n",
       "58420         0 2018-05-07  00:02:55  950b047a96     320           0.0   \n",
       "60098         0 2018-05-22  00:06:09  424959137b     103           0.0   \n",
       "61864         0 2018-06-06  00:07:11  eb8cfcb59e      32           0.0   \n",
       "62686         0 2018-06-13  00:03:08  a7eaa62d05      46           0.0   \n",
       "\n",
       "       days_of_week  holyday  test  year  month  check_week  \n",
       "69090             0        1     0  2016      8           0  \n",
       "69759             2        1     0  2016      9           2  \n",
       "91125             3        1     0  2016      9           3  \n",
       "69770             4        1     0  2016      9           4  \n",
       "70160             0        1     0  2016     10           0  \n",
       "70294             6        1     0  2016     10           6  \n",
       "772               6        1     0  2016     12           6  \n",
       "1635              6        1     0  2017      1           6  \n",
       "4588              4        1     0  2017      1           4  \n",
       "4732              5        1     0  2017      1           5  \n",
       "4841              6        1     0  2017      1           6  \n",
       "4928              0        1     0  2017      1           0  \n",
       "8081              2        1     0  2017      3           2  \n",
       "15104             0        1     0  2017      5           0  \n",
       "15303             2        1     0  2017      5           2  \n",
       "15546             4        1     0  2017      5           4  \n",
       "16067             1        1     0  2017      5           1  \n",
       "19463             1        1     0  2017      6           1  \n",
       "28159             1        1     0  2017      8           1  \n",
       "33985             0        1     0  2017     10           0  \n",
       "34109             1        1     0  2017     10           1  \n",
       "34273             2        1     0  2017     10           2  \n",
       "34398             3        1     0  2017     10           3  \n",
       "34513             4        1     0  2017     10           4  \n",
       "34841             0        1     0  2017     10           0  \n",
       "43369             0        1     0  2017     12           0  \n",
       "44124             0        1     0  2018      1           0  \n",
       "49285             3        1     0  2018      2           3  \n",
       "49438             4        1     0  2018      2           4  \n",
       "49560             5        1     0  2018      2           5  \n",
       "50781             3        1     0  2018      3           3  \n",
       "57740             1        1     0  2018      5           1  \n",
       "58194             5        1     0  2018      5           5  \n",
       "58420             0        1     0  2018      5           0  \n",
       "60098             1        1     0  2018      5           1  \n",
       "61864             2        1     0  2018      6           2  \n",
       "62686             2        1     0  2018      6           2  "
      ]
     },
     "execution_count": 163,
     "metadata": {},
     "output_type": "execute_result"
    }
   ],
   "source": [
    "holydays_df.drop_duplicates('date').sort_values('date')"
   ]
  },
  {
   "cell_type": "code",
   "execution_count": 161,
   "metadata": {
    "ExecuteTime": {
     "end_time": "2020-06-19T02:45:49.522737Z",
     "start_time": "2020-06-19T02:45:49.514744Z"
    }
   },
   "outputs": [
    {
     "data": {
      "text/plain": [
       "0    9\n",
       "2    6\n",
       "1    6\n",
       "4    5\n",
       "6    4\n",
       "3    4\n",
       "5    3\n",
       "Name: days_of_week, dtype: int64"
      ]
     },
     "execution_count": 161,
     "metadata": {},
     "output_type": "execute_result"
    }
   ],
   "source": [
    "holydays_df.drop_duplicates('date').days_of_week.value_counts()"
   ]
  },
  {
   "cell_type": "markdown",
   "metadata": {},
   "source": [
    "### time\n",
    "* 오전 시간대 매출이 가장 적고, 그다음은 14-16시 이전이다"
   ]
  },
  {
   "cell_type": "code",
   "execution_count": 10,
   "metadata": {
    "ExecuteTime": {
     "end_time": "2020-06-19T00:36:37.127219Z",
     "start_time": "2020-06-19T00:36:36.179865Z"
    }
   },
   "outputs": [
    {
     "data": {
      "image/png": "[encoded data removed]",
      "text/plain": [
       "<Figure size 1080x504 with 1 Axes>"
      ]
     },
     "metadata": {},
     "output_type": "display_data"
    }
   ],
   "source": [
    "hours = train.time.apply(lambda x :x[:2])\n",
    "hours = hours.value_counts().sort_index()\n",
    "\n",
    "plt.figure(figsize = (15,7))\n",
    "sns.lineplot(x = hours.index, y = hours)\n",
    "plt.show()"
   ]
  },
  {
   "cell_type": "markdown",
   "metadata": {},
   "source": [
    "### installment_term\n",
    "* 일시불의 비율이 96%이상, 할부의 비중은 1년이하가 가장많다"
   ]
  },
  {
   "cell_type": "code",
   "execution_count": 11,
   "metadata": {
    "ExecuteTime": {
     "end_time": "2020-06-19T00:36:37.607201Z",
     "start_time": "2020-06-19T00:36:37.128485Z"
    }
   },
   "outputs": [],
   "source": [
    "train['installment_cut'] = 0\n",
    "train.installments.fillna(0,inplace = True)\n",
    "train.loc[(train.installments>0)&(train.installments<13),'installment_cut'] = 1\n",
    "train.loc[(train.installments>12)&(train.installments<25),'installment_cut'] = 2\n",
    "train.loc[(train.installments>24)&(train.installments<37),'installment_cut'] = 3\n",
    "train.loc[(train.installments>36),'installment_cut'] = 4"
   ]
  },
  {
   "cell_type": "code",
   "execution_count": 12,
   "metadata": {
    "ExecuteTime": {
     "end_time": "2020-06-19T00:36:37.643731Z",
     "start_time": "2020-06-19T00:36:37.607201Z"
    }
   },
   "outputs": [
    {
     "data": {
      "text/plain": [
       "0    0.994986\n",
       "1    0.004977\n",
       "2    0.000035\n",
       "3    0.000001\n",
       "Name: installment_cut, dtype: float64"
      ]
     },
     "execution_count": 12,
     "metadata": {},
     "output_type": "execute_result"
    }
   ],
   "source": [
    "train['installment_cut'].value_counts(normalize=True)"
   ]
  },
  {
   "cell_type": "code",
   "execution_count": 56,
   "metadata": {
    "ExecuteTime": {
     "end_time": "2020-06-19T01:06:01.615675Z",
     "start_time": "2020-06-19T01:06:01.542668Z"
    }
   },
   "outputs": [],
   "source": [
    "train.loc[train['installments'] > 0,'installments_bool'] = 1\n",
    "train.loc[train['installments'] == 0,'installments_bool'] = 0"
   ]
  },
  {
   "cell_type": "code",
   "execution_count": null,
   "metadata": {},
   "outputs": [],
   "source": []
  }
 ],
 "metadata": {
  "kernelspec": {
   "display_name": "Python 3",
   "language": "python",
   "name": "python3"
  },
  "language_info": {
   "codemirror_mode": {
    "name": "ipython",
    "version": 3
   },
   "file_extension": ".py",
   "mimetype": "text/x-python",
   "name": "python",
   "nbconvert_exporter": "python",
   "pygments_lexer": "ipython3",
   "version": "3.6.5"
  },
  "toc": {
   "base_numbering": 1,
   "nav_menu": {
    "height": "155px",
    "width": "190px"
   },
   "number_sections": true,
   "sideBar": true,
   "skip_h1_title": false,
   "title_cell": "Table of Contents",
   "title_sidebar": "Contents",
   "toc_cell": false,
   "toc_position": {},
   "toc_section_display": true,
   "toc_window_display": false
  },
  "varInspector": {
   "cols": {
    "lenName": 16,
    "lenType": 16,
    "lenVar": 40
   },
   "kernels_config": {
    "python": {
     "delete_cmd_postfix": "",
     "delete_cmd_prefix": "del ",
     "library": "var_list.py",
     "varRefreshCmd": "print(var_dic_list())"
    },
    "r": {
     "delete_cmd_postfix": ") ",
     "delete_cmd_prefix": "rm(",
     "library": "var_list.r",
     "varRefreshCmd": "cat(var_dic_list()) "
    }
   },
   "types_to_exclude": [
    "module",
    "function",
    "builtin_function_or_method",
    "instance",
    "_Feature"
   ],
   "window_display": false
  }
 },
 "nbformat": 4,
 "nbformat_minor": 2
}
