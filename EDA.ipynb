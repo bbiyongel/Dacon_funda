{
 "cells": [
  {
   "cell_type": "markdown",
   "metadata": {},
   "source": [
    "## 대회설명\n"
   ]
  },
  {
   "cell_type": "markdown",
   "metadata": {},
   "source": [
    "### 기초 설명\n",
    "\n",
    "한국의 약 2,000개 상점의 신용카드 거래 내역이 제공됩니다. card_id를 기준으로 샘플링되었으며, amount의 단위는 KRW가 아닙니다. 테스트 파일에서 각 상점의 마지막 매출 발생일 다음 날부터 100일 후까지 매출의 총합을 예측해야 합니다.\n",
    "\n",
    "예측한 금액만큼 100일간 대출을 진행합니다. 만약 예측한 금액보다 실제 매출이 적게 발생한다면 원금에 손실을 보게 됩니다. 실제 매출이 예측한 금액 이상으로 발생한다면, 연이율 13%의 이자가 발생합니다."
   ]
  },
  {
   "cell_type": "markdown",
   "metadata": {},
   "source": [
    "### Data 설명\n",
    "train.csv - 카드 매출 내역, 2016-08-01부터 2018-07-31까지.  \n",
    "test.csv - train.csv랑 같은 형식. test.csv랑 train.csv의 store_id가 같아도 같은 상점인 것은 아님.  \n",
    "(월에 최소 5일 이상 데이터가 있는 상점만을 문제에 포함.)  \n",
    "submission.csv – store_id와 total_sales 두 개의 열로 구성. store_id는 test.csv의 store_id와 대응.  "
   ]
  },
  {
   "cell_type": "markdown",
   "metadata": {},
   "source": [
    "### feature 설명\n",
    "\n",
    "* store_id : 각 파일에서의 상점 고유 번호 (해당기한 내 개업 혹은 폐업한 상점도 있음)\n",
    "* date : 거래일자\n",
    "* time : 거래시간\n",
    "* card_id : 카드 번호의 hash 값\n",
    "* amount : 매출 금액, 음수인 경우 취소 거래\n",
    "* installments : 할부 개월 수. 일시불은 0\n",
    "* days_of_week : 요일, 월요일이 0, 일요일은 6\n",
    "* holiday : 1이면 공휴일, 0이면 공휴일 아님"
   ]
  },
  {
   "cell_type": "markdown",
   "metadata": {},
   "source": [
    "## import / load data"
   ]
  },
  {
   "cell_type": "code",
   "execution_count": 1,
   "metadata": {
    "ExecuteTime": {
     "end_time": "2020-06-21T04:46:25.504735Z",
     "start_time": "2020-06-21T04:46:24.412927Z"
    }
   },
   "outputs": [],
   "source": [
    "import pandas as pd\n",
    "import numpy as np\n",
    "import os\n",
    "import matplotlib.pyplot as plt\n",
    "import seaborn as sns\n",
    "import datetime"
   ]
  },
  {
   "cell_type": "code",
   "execution_count": 2,
   "metadata": {
    "ExecuteTime": {
     "end_time": "2020-06-21T04:46:27.801002Z",
     "start_time": "2020-06-21T04:46:25.505735Z"
    }
   },
   "outputs": [],
   "source": [
    "path = './data/'\n",
    "train = pd.read_csv(path + 'train.csv')\n",
    "test = pd.read_csv(path + 'test.csv')\n",
    "submission  = pd.read_csv(path + 'submission.csv')"
   ]
  },
  {
   "cell_type": "markdown",
   "metadata": {},
   "source": [
    "## Check Simple EDA"
   ]
  },
  {
   "cell_type": "code",
   "execution_count": 3,
   "metadata": {
    "ExecuteTime": {
     "end_time": "2020-06-21T04:46:28.101314Z",
     "start_time": "2020-06-21T04:46:27.802004Z"
    }
   },
   "outputs": [],
   "source": [
    "# train/test 결합\n",
    "train['test'] = 0\n",
    "test['test'] = 1\n",
    "merge_df = pd.concat([train,test])"
   ]
  },
  {
   "cell_type": "code",
   "execution_count": 4,
   "metadata": {
    "ExecuteTime": {
     "end_time": "2020-06-21T04:46:28.116322Z",
     "start_time": "2020-06-21T04:46:28.102314Z"
    }
   },
   "outputs": [
    {
     "data": {
      "text/html": [
       "<div>\n",
       "<style scoped>\n",
       "    .dataframe tbody tr th:only-of-type {\n",
       "        vertical-align: middle;\n",
       "    }\n",
       "\n",
       "    .dataframe tbody tr th {\n",
       "        vertical-align: top;\n",
       "    }\n",
       "\n",
       "    .dataframe thead th {\n",
       "        text-align: right;\n",
       "    }\n",
       "</style>\n",
       "<table border=\"1\" class=\"dataframe\">\n",
       "  <thead>\n",
       "    <tr style=\"text-align: right;\">\n",
       "      <th></th>\n",
       "      <th>store_id</th>\n",
       "      <th>date</th>\n",
       "      <th>time</th>\n",
       "      <th>card_id</th>\n",
       "      <th>amount</th>\n",
       "      <th>installments</th>\n",
       "      <th>days_of_week</th>\n",
       "      <th>holyday</th>\n",
       "      <th>test</th>\n",
       "    </tr>\n",
       "  </thead>\n",
       "  <tbody>\n",
       "    <tr>\n",
       "      <td>0</td>\n",
       "      <td>0</td>\n",
       "      <td>2016-12-14</td>\n",
       "      <td>18:05:31</td>\n",
       "      <td>d297bba73f</td>\n",
       "      <td>5</td>\n",
       "      <td>NaN</td>\n",
       "      <td>2</td>\n",
       "      <td>0</td>\n",
       "      <td>0</td>\n",
       "    </tr>\n",
       "    <tr>\n",
       "      <td>1</td>\n",
       "      <td>0</td>\n",
       "      <td>2016-12-14</td>\n",
       "      <td>18:05:54</td>\n",
       "      <td>d297bba73f</td>\n",
       "      <td>-5</td>\n",
       "      <td>NaN</td>\n",
       "      <td>2</td>\n",
       "      <td>0</td>\n",
       "      <td>0</td>\n",
       "    </tr>\n",
       "    <tr>\n",
       "      <td>2</td>\n",
       "      <td>0</td>\n",
       "      <td>2016-12-19</td>\n",
       "      <td>12:42:31</td>\n",
       "      <td>0880849c05</td>\n",
       "      <td>144</td>\n",
       "      <td>NaN</td>\n",
       "      <td>0</td>\n",
       "      <td>0</td>\n",
       "      <td>0</td>\n",
       "    </tr>\n",
       "    <tr>\n",
       "      <td>3</td>\n",
       "      <td>0</td>\n",
       "      <td>2016-12-19</td>\n",
       "      <td>12:48:08</td>\n",
       "      <td>8b4f9e0e95</td>\n",
       "      <td>66</td>\n",
       "      <td>NaN</td>\n",
       "      <td>0</td>\n",
       "      <td>0</td>\n",
       "      <td>0</td>\n",
       "    </tr>\n",
       "    <tr>\n",
       "      <td>4</td>\n",
       "      <td>0</td>\n",
       "      <td>2016-12-19</td>\n",
       "      <td>13:31:08</td>\n",
       "      <td>7ad237eed0</td>\n",
       "      <td>24</td>\n",
       "      <td>NaN</td>\n",
       "      <td>0</td>\n",
       "      <td>0</td>\n",
       "      <td>0</td>\n",
       "    </tr>\n",
       "    <tr>\n",
       "      <td>...</td>\n",
       "      <td>...</td>\n",
       "      <td>...</td>\n",
       "      <td>...</td>\n",
       "      <td>...</td>\n",
       "      <td>...</td>\n",
       "      <td>...</td>\n",
       "      <td>...</td>\n",
       "      <td>...</td>\n",
       "      <td>...</td>\n",
       "    </tr>\n",
       "    <tr>\n",
       "      <td>473387</td>\n",
       "      <td>199</td>\n",
       "      <td>2018-03-30</td>\n",
       "      <td>14:17:59</td>\n",
       "      <td>300d7bc922</td>\n",
       "      <td>65</td>\n",
       "      <td>NaN</td>\n",
       "      <td>4</td>\n",
       "      <td>0</td>\n",
       "      <td>1</td>\n",
       "    </tr>\n",
       "    <tr>\n",
       "      <td>473388</td>\n",
       "      <td>199</td>\n",
       "      <td>2018-03-30</td>\n",
       "      <td>19:01:54</td>\n",
       "      <td>3ab757718b</td>\n",
       "      <td>65</td>\n",
       "      <td>NaN</td>\n",
       "      <td>4</td>\n",
       "      <td>0</td>\n",
       "      <td>1</td>\n",
       "    </tr>\n",
       "    <tr>\n",
       "      <td>473389</td>\n",
       "      <td>199</td>\n",
       "      <td>2018-03-30</td>\n",
       "      <td>20:08:03</td>\n",
       "      <td>2d8e9e421c</td>\n",
       "      <td>65</td>\n",
       "      <td>NaN</td>\n",
       "      <td>4</td>\n",
       "      <td>0</td>\n",
       "      <td>1</td>\n",
       "    </tr>\n",
       "    <tr>\n",
       "      <td>473390</td>\n",
       "      <td>199</td>\n",
       "      <td>2018-03-30</td>\n",
       "      <td>20:11:58</td>\n",
       "      <td>22daeb334e</td>\n",
       "      <td>200</td>\n",
       "      <td>NaN</td>\n",
       "      <td>4</td>\n",
       "      <td>0</td>\n",
       "      <td>1</td>\n",
       "    </tr>\n",
       "    <tr>\n",
       "      <td>473391</td>\n",
       "      <td>199</td>\n",
       "      <td>2018-03-31</td>\n",
       "      <td>11:41:18</td>\n",
       "      <td>2e698f3302</td>\n",
       "      <td>500</td>\n",
       "      <td>NaN</td>\n",
       "      <td>5</td>\n",
       "      <td>0</td>\n",
       "      <td>1</td>\n",
       "    </tr>\n",
       "  </tbody>\n",
       "</table>\n",
       "<p>3836188 rows × 9 columns</p>\n",
       "</div>"
      ],
      "text/plain": [
       "        store_id        date      time     card_id  amount  installments  \\\n",
       "0              0  2016-12-14  18:05:31  d297bba73f       5           NaN   \n",
       "1              0  2016-12-14  18:05:54  d297bba73f      -5           NaN   \n",
       "2              0  2016-12-19  12:42:31  0880849c05     144           NaN   \n",
       "3              0  2016-12-19  12:48:08  8b4f9e0e95      66           NaN   \n",
       "4              0  2016-12-19  13:31:08  7ad237eed0      24           NaN   \n",
       "...          ...         ...       ...         ...     ...           ...   \n",
       "473387       199  2018-03-30  14:17:59  300d7bc922      65           NaN   \n",
       "473388       199  2018-03-30  19:01:54  3ab757718b      65           NaN   \n",
       "473389       199  2018-03-30  20:08:03  2d8e9e421c      65           NaN   \n",
       "473390       199  2018-03-30  20:11:58  22daeb334e     200           NaN   \n",
       "473391       199  2018-03-31  11:41:18  2e698f3302     500           NaN   \n",
       "\n",
       "        days_of_week  holyday  test  \n",
       "0                  2        0     0  \n",
       "1                  2        0     0  \n",
       "2                  0        0     0  \n",
       "3                  0        0     0  \n",
       "4                  0        0     0  \n",
       "...              ...      ...   ...  \n",
       "473387             4        0     1  \n",
       "473388             4        0     1  \n",
       "473389             4        0     1  \n",
       "473390             4        0     1  \n",
       "473391             5        0     1  \n",
       "\n",
       "[3836188 rows x 9 columns]"
      ]
     },
     "execution_count": 4,
     "metadata": {},
     "output_type": "execute_result"
    }
   ],
   "source": [
    "merge_df"
   ]
  },
  {
   "cell_type": "markdown",
   "metadata": {},
   "source": [
    "### 결측치/이상치탐색"
   ]
  },
  {
   "cell_type": "markdown",
   "metadata": {},
   "source": [
    "#### 결측치 파악\n",
    "* train/test에서 결측치는 파악되지 않는 것으로 보임\n",
    "* installments에서 결측치는 0이라 언급된바 있으므로 0으로 대체"
   ]
  },
  {
   "cell_type": "code",
   "execution_count": 5,
   "metadata": {
    "ExecuteTime": {
     "end_time": "2020-06-21T04:46:28.146329Z",
     "start_time": "2020-06-21T04:46:28.117322Z"
    },
    "code_folding": [
     8
    ]
   },
   "outputs": [],
   "source": [
    "def info_df(data):\n",
    "    '''data의 type, null_count, null_rate를 알려주는 함수\n",
    "    \n",
    "    Parameter\n",
    "    ---------\n",
    "    data(DataFrame) : 파악하고자하는 Data\n",
    "       \n",
    "    '''\n",
    "    info_df = pd.DataFrame({\"type\":data.dtypes,\n",
    "                            'null_count':data.isnull().sum(),\n",
    "                           'null_rate':data.isnull().sum()/data.isnull().count() * 100})  \n",
    "    info_df['uni_count'] = data.apply(lambda x : x.nunique())\n",
    "    \n",
    "    return info_df"
   ]
  },
  {
   "cell_type": "code",
   "execution_count": 6,
   "metadata": {
    "ExecuteTime": {
     "end_time": "2020-06-21T04:46:31.551106Z",
     "start_time": "2020-06-21T04:46:28.147329Z"
    }
   },
   "outputs": [
    {
     "data": {
      "text/html": [
       "<div>\n",
       "<style scoped>\n",
       "    .dataframe tbody tr th:only-of-type {\n",
       "        vertical-align: middle;\n",
       "    }\n",
       "\n",
       "    .dataframe tbody tr th {\n",
       "        vertical-align: top;\n",
       "    }\n",
       "\n",
       "    .dataframe thead th {\n",
       "        text-align: right;\n",
       "    }\n",
       "</style>\n",
       "<table border=\"1\" class=\"dataframe\">\n",
       "  <thead>\n",
       "    <tr style=\"text-align: right;\">\n",
       "      <th></th>\n",
       "      <th>type</th>\n",
       "      <th>null_count</th>\n",
       "      <th>null_rate</th>\n",
       "      <th>uni_count</th>\n",
       "    </tr>\n",
       "  </thead>\n",
       "  <tbody>\n",
       "    <tr>\n",
       "      <td>store_id</td>\n",
       "      <td>int64</td>\n",
       "      <td>0</td>\n",
       "      <td>0.000000</td>\n",
       "      <td>1778</td>\n",
       "    </tr>\n",
       "    <tr>\n",
       "      <td>date</td>\n",
       "      <td>object</td>\n",
       "      <td>0</td>\n",
       "      <td>0.000000</td>\n",
       "      <td>730</td>\n",
       "    </tr>\n",
       "    <tr>\n",
       "      <td>time</td>\n",
       "      <td>object</td>\n",
       "      <td>0</td>\n",
       "      <td>0.000000</td>\n",
       "      <td>86058</td>\n",
       "    </tr>\n",
       "    <tr>\n",
       "      <td>card_id</td>\n",
       "      <td>object</td>\n",
       "      <td>0</td>\n",
       "      <td>0.000000</td>\n",
       "      <td>999836</td>\n",
       "    </tr>\n",
       "    <tr>\n",
       "      <td>amount</td>\n",
       "      <td>int64</td>\n",
       "      <td>0</td>\n",
       "      <td>0.000000</td>\n",
       "      <td>6249</td>\n",
       "    </tr>\n",
       "    <tr>\n",
       "      <td>installments</td>\n",
       "      <td>float64</td>\n",
       "      <td>3817549</td>\n",
       "      <td>99.514127</td>\n",
       "      <td>16</td>\n",
       "    </tr>\n",
       "    <tr>\n",
       "      <td>days_of_week</td>\n",
       "      <td>int64</td>\n",
       "      <td>0</td>\n",
       "      <td>0.000000</td>\n",
       "      <td>7</td>\n",
       "    </tr>\n",
       "    <tr>\n",
       "      <td>holyday</td>\n",
       "      <td>int64</td>\n",
       "      <td>0</td>\n",
       "      <td>0.000000</td>\n",
       "      <td>2</td>\n",
       "    </tr>\n",
       "    <tr>\n",
       "      <td>test</td>\n",
       "      <td>int64</td>\n",
       "      <td>0</td>\n",
       "      <td>0.000000</td>\n",
       "      <td>2</td>\n",
       "    </tr>\n",
       "  </tbody>\n",
       "</table>\n",
       "</div>"
      ],
      "text/plain": [
       "                 type  null_count  null_rate  uni_count\n",
       "store_id        int64           0   0.000000       1778\n",
       "date           object           0   0.000000        730\n",
       "time           object           0   0.000000      86058\n",
       "card_id        object           0   0.000000     999836\n",
       "amount          int64           0   0.000000       6249\n",
       "installments  float64     3817549  99.514127         16\n",
       "days_of_week    int64           0   0.000000          7\n",
       "holyday         int64           0   0.000000          2\n",
       "test            int64           0   0.000000          2"
      ]
     },
     "execution_count": 6,
     "metadata": {},
     "output_type": "execute_result"
    }
   ],
   "source": [
    "info_df(merge_df)"
   ]
  },
  {
   "cell_type": "code",
   "execution_count": 7,
   "metadata": {
    "ExecuteTime": {
     "end_time": "2020-06-21T04:46:31.565612Z",
     "start_time": "2020-06-21T04:46:31.552105Z"
    }
   },
   "outputs": [],
   "source": [
    "merge_df.installments.fillna(0,inplace = True)"
   ]
  },
  {
   "cell_type": "markdown",
   "metadata": {},
   "source": [
    "#### 이상치 탐색"
   ]
  },
  {
   "cell_type": "code",
   "execution_count": 8,
   "metadata": {
    "ExecuteTime": {
     "end_time": "2020-06-21T04:46:31.920710Z",
     "start_time": "2020-06-21T04:46:31.566612Z"
    }
   },
   "outputs": [
    {
     "data": {
      "text/plain": [
       "('2016-08-01', '2018-07-31')"
      ]
     },
     "execution_count": 8,
     "metadata": {},
     "output_type": "execute_result"
    }
   ],
   "source": [
    "#날짜\n",
    "merge_df.date.min(), merge_df.date.max()"
   ]
  },
  {
   "cell_type": "code",
   "execution_count": 9,
   "metadata": {
    "ExecuteTime": {
     "end_time": "2020-06-21T04:46:32.319303Z",
     "start_time": "2020-06-21T04:46:31.921710Z"
    }
   },
   "outputs": [
    {
     "data": {
      "text/plain": [
       "('00:00:00', '23:59:59')"
      ]
     },
     "execution_count": 9,
     "metadata": {},
     "output_type": "execute_result"
    }
   ],
   "source": [
    "#시간\n",
    "merge_df.time.min(), merge_df.time.max()"
   ]
  },
  {
   "cell_type": "code",
   "execution_count": 10,
   "metadata": {
    "ExecuteTime": {
     "end_time": "2020-06-21T04:46:33.913033Z",
     "start_time": "2020-06-21T04:46:32.320303Z"
    }
   },
   "outputs": [
    {
     "data": {
      "text/plain": [
       "<matplotlib.axes._subplots.AxesSubplot at 0x1c10efa04a8>"
      ]
     },
     "execution_count": 10,
     "metadata": {},
     "output_type": "execute_result"
    },
    {
     "data": {
      "image/png": "[encoded data removed]",
      "text/plain": [
       "<Figure size 432x288 with 1 Axes>"
      ]
     },
     "metadata": {},
     "output_type": "display_data"
    }
   ],
   "source": [
    "#거래금액\n",
    "sns.boxplot(merge_df.amount)"
   ]
  },
  {
   "cell_type": "markdown",
   "metadata": {},
   "source": [
    "### 날짜\n",
    "* 주기적으로 특정일자에 매출이 감소함"
   ]
  },
  {
   "cell_type": "code",
   "execution_count": 11,
   "metadata": {
    "ExecuteTime": {
     "end_time": "2020-06-21T04:46:34.653113Z",
     "start_time": "2020-06-21T04:46:33.914034Z"
    }
   },
   "outputs": [
    {
     "name": "stderr",
     "output_type": "stream",
     "text": [
      "C:\\Users\\try00\\Anaconda3\\lib\\site-packages\\pandas\\plotting\\_matplotlib\\converter.py:103: FutureWarning: Using an implicitly registered datetime converter for a matplotlib plotting method. The converter was registered by pandas on import. Future versions of pandas will require you to explicitly register matplotlib converters.\n",
      "\n",
      "To register the converters:\n",
      "\t>>> from pandas.plotting import register_matplotlib_converters\n",
      "\t>>> register_matplotlib_converters()\n",
      "  warnings.warn(msg, FutureWarning)\n"
     ]
    },
    {
     "data": {
      "image/png": "[encoded data removed]",
      "text/plain": [
       "<Figure size 1080x504 with 1 Axes>"
      ]
     },
     "metadata": {},
     "output_type": "display_data"
    }
   ],
   "source": [
    "#object -> datetime으로 전환\n",
    "merge_df['date'] = pd.to_datetime(merge_df.date)\n",
    "dates = merge_df['date'].value_counts().sort_index()\n",
    "\n",
    "plt.figure(figsize=(15,7))\n",
    "sns.lineplot(x = dates.index, y = dates)\n",
    "plt.show()"
   ]
  },
  {
   "cell_type": "markdown",
   "metadata": {},
   "source": [
    "#### 연도별 최소점/최대점을 찍은 날짜?\n",
    "* 각 일자는 명절, 명절에는 소비횟수가 급감하는 형태를 보임\n",
    "* 2016.09.15 추석, 2017-01-28 설날, 2018-02-16 설날\n",
    "* 크리스마스에 소비횟수가 집중"
   ]
  },
  {
   "cell_type": "code",
   "execution_count": 12,
   "metadata": {
    "ExecuteTime": {
     "end_time": "2020-06-21T04:46:56.184186Z",
     "start_time": "2020-06-21T04:46:34.654113Z"
    }
   },
   "outputs": [],
   "source": [
    "merge_df['year'] = merge_df['date'].apply(lambda x : x.year)\n",
    "merge_df['month'] = merge_df['date'].apply(lambda x : x.month)"
   ]
  },
  {
   "cell_type": "code",
   "execution_count": 13,
   "metadata": {
    "ExecuteTime": {
     "end_time": "2020-06-21T04:46:56.288234Z",
     "start_time": "2020-06-21T04:46:56.185186Z"
    }
   },
   "outputs": [
    {
     "name": "stdout",
     "output_type": "stream",
     "text": [
      "최저 일자: 2016-09-15 00:00:00 최저일자의 거래횟수: 1777\n",
      "최저 일자: 2017-01-28 00:00:00 최저일자의 거래횟수: 1839\n",
      "최저 일자: 2018-02-16 00:00:00 최저일자의 거래횟수: 3232\n"
     ]
    }
   ],
   "source": [
    "for year in merge_df.year.unique():\n",
    "    imsi = merge_df.loc[merge_df.year == year,'date'].value_counts()\n",
    "    print('최저 일자:',imsi.idxmin(), '최저일자의 거래횟수:',imsi.min())"
   ]
  },
  {
   "cell_type": "code",
   "execution_count": 14,
   "metadata": {
    "ExecuteTime": {
     "end_time": "2020-06-21T04:46:56.389280Z",
     "start_time": "2020-06-21T04:46:56.289234Z"
    }
   },
   "outputs": [
    {
     "name": "stdout",
     "output_type": "stream",
     "text": [
      "최대 일자: 2016-12-24 00:00:00 최대일자의 거래횟수: 4427\n",
      "최대 일자: 2017-12-23 00:00:00 최대일자의 거래횟수: 7246\n",
      "최대 일자: 2018-03-31 00:00:00 최대일자의 거래횟수: 8284\n"
     ]
    }
   ],
   "source": [
    "for year in merge_df.year.unique():\n",
    "    imsi = merge_df.loc[merge_df.year == year,'date'].value_counts()\n",
    "    print('최대 일자:',imsi.idxmax(), '최대일자의 거래횟수:',imsi.max())"
   ]
  },
  {
   "cell_type": "markdown",
   "metadata": {},
   "source": [
    "#### 일자별 평균 소비금액\n",
    "* 2016년의 경우 추석 전날인 09-13에 가장 평균 소비금액이 높고, 당일인 09-15에 가장 낮았다\n",
    "* 2017-10-04는 추석이나 1~9까지 휴일(약 9~10일 휴일) , 2018-06-17은 일요일"
   ]
  },
  {
   "cell_type": "code",
   "execution_count": 15,
   "metadata": {
    "ExecuteTime": {
     "end_time": "2020-06-21T04:46:56.961479Z",
     "start_time": "2020-06-21T04:46:56.390279Z"
    }
   },
   "outputs": [],
   "source": [
    "daily_amount = merge_df[merge_df.amount>0].groupby('date')['amount'].mean()"
   ]
  },
  {
   "cell_type": "code",
   "execution_count": 16,
   "metadata": {
    "ExecuteTime": {
     "end_time": "2020-06-21T04:46:57.247966Z",
     "start_time": "2020-06-21T04:46:56.962478Z"
    }
   },
   "outputs": [
    {
     "data": {
      "image/png": "[encoded data removed]",
      "text/plain": [
       "<Figure size 1080x504 with 1 Axes>"
      ]
     },
     "metadata": {},
     "output_type": "display_data"
    }
   ],
   "source": [
    "plt.figure(figsize=(15,7))\n",
    "sns.lineplot(x = daily_amount.index, y = daily_amount)\n",
    "plt.show()"
   ]
  },
  {
   "cell_type": "code",
   "execution_count": 17,
   "metadata": {
    "ExecuteTime": {
     "end_time": "2020-06-21T04:46:57.255465Z",
     "start_time": "2020-06-21T04:46:57.248956Z"
    }
   },
   "outputs": [],
   "source": [
    "daily_amount = daily_amount.reset_index()\n",
    "daily_amount['year'] = daily_amount['date'].apply(lambda x : x.year)\n",
    "daily_amount.set_index('date',inplace=True)"
   ]
  },
  {
   "cell_type": "code",
   "execution_count": 18,
   "metadata": {
    "ExecuteTime": {
     "end_time": "2020-06-21T04:46:57.289474Z",
     "start_time": "2020-06-21T04:46:57.256467Z"
    }
   },
   "outputs": [
    {
     "name": "stdout",
     "output_type": "stream",
     "text": [
      "최소 일자: 2016-09-15 00:00:00 최소일자의 평균거래금액: 111.99716392512762\n",
      "최소 일자: 2017-10-04 00:00:00 최소일자의 평균거래금액: 121.86028149673875\n",
      "최소 일자: 2018-06-17 00:00:00 최소일자의 평균거래금액: 119.69896597731821\n"
     ]
    }
   ],
   "source": [
    "for year in daily_amount.year.unique():\n",
    "    imsi = daily_amount.loc[daily_amount.year == year,'amount']\n",
    "    print('최소 일자:',imsi.idxmin(), '최소일자의 평균거래금액:',imsi.min())"
   ]
  },
  {
   "cell_type": "code",
   "execution_count": 19,
   "metadata": {
    "ExecuteTime": {
     "end_time": "2020-06-21T04:46:57.319393Z",
     "start_time": "2020-06-21T04:46:57.290045Z"
    }
   },
   "outputs": [
    {
     "name": "stdout",
     "output_type": "stream",
     "text": [
      "최대 일자: 2016-09-13 00:00:00 최대일자의 평균거래금액: 277.2604242867593\n",
      "최대 일자: 2017-01-02 00:00:00 최대일자의 평균거래금액: 240.88826815642457\n",
      "최대 일자: 2018-02-28 00:00:00 최대일자의 평균거래금액: 187.6021260440395\n"
     ]
    }
   ],
   "source": [
    "for year in daily_amount.year.unique():\n",
    "    imsi = daily_amount.loc[daily_amount.year == year,'amount']\n",
    "    print('최대 일자:',imsi.idxmax(), '최대일자의 평균거래금액:',imsi.max())"
   ]
  },
  {
   "cell_type": "markdown",
   "metadata": {},
   "source": [
    "#### store별 마지막 거래일자\n",
    "* train 기준 2016-08-10부터 2018-07-31일까지 꾸준히 있고, 2018-07-31쪽에 집중되어 있음\n",
    "* test 기준 2018-01-17부터 2018-03-31일까지 꾸준히 있고 2018-03-31쪽에 집중되어 있음 "
   ]
  },
  {
   "cell_type": "markdown",
   "metadata": {},
   "source": [
    "##### train"
   ]
  },
  {
   "cell_type": "code",
   "execution_count": 20,
   "metadata": {
    "ExecuteTime": {
     "end_time": "2020-06-21T04:46:57.674990Z",
     "start_time": "2020-06-21T04:46:57.320393Z"
    }
   },
   "outputs": [],
   "source": [
    "final_sale_train = merge_df[merge_df['test'] == 0].groupby('store_id')['date'].max()"
   ]
  },
  {
   "cell_type": "code",
   "execution_count": 21,
   "metadata": {
    "ExecuteTime": {
     "end_time": "2020-06-21T04:46:57.678990Z",
     "start_time": "2020-06-21T04:46:57.675990Z"
    }
   },
   "outputs": [
    {
     "data": {
      "text/plain": [
       "(Timestamp('2016-08-10 00:00:00'), Timestamp('2018-07-31 00:00:00'))"
      ]
     },
     "execution_count": 21,
     "metadata": {},
     "output_type": "execute_result"
    }
   ],
   "source": [
    "final_sale_train.min(),final_sale_train.max()"
   ]
  },
  {
   "cell_type": "code",
   "execution_count": 22,
   "metadata": {
    "ExecuteTime": {
     "end_time": "2020-06-21T04:46:57.843404Z",
     "start_time": "2020-06-21T04:46:57.679990Z"
    }
   },
   "outputs": [
    {
     "data": {
      "image/png": "[encoded data removed]",
      "text/plain": [
       "<Figure size 1080x504 with 1 Axes>"
      ]
     },
     "metadata": {},
     "output_type": "display_data"
    }
   ],
   "source": [
    "dates = final_sale_train.value_counts()\n",
    "plt.figure(figsize=(15,7))\n",
    "sns.lineplot(x = dates.index, y = dates)\n",
    "plt.show()"
   ]
  },
  {
   "cell_type": "markdown",
   "metadata": {},
   "source": [
    "##### test"
   ]
  },
  {
   "cell_type": "code",
   "execution_count": 23,
   "metadata": {
    "ExecuteTime": {
     "end_time": "2020-06-21T04:46:57.895426Z",
     "start_time": "2020-06-21T04:46:57.844404Z"
    }
   },
   "outputs": [],
   "source": [
    "final_sale_test = merge_df[merge_df['test'] == 1].groupby('store_id')['date'].max()"
   ]
  },
  {
   "cell_type": "code",
   "execution_count": 24,
   "metadata": {
    "ExecuteTime": {
     "end_time": "2020-06-21T04:46:57.899427Z",
     "start_time": "2020-06-21T04:46:57.896426Z"
    }
   },
   "outputs": [
    {
     "data": {
      "text/plain": [
       "(Timestamp('2018-01-17 00:00:00'), Timestamp('2018-03-31 00:00:00'))"
      ]
     },
     "execution_count": 24,
     "metadata": {},
     "output_type": "execute_result"
    }
   ],
   "source": [
    "final_sale_test.min(),final_sale_test.max()"
   ]
  },
  {
   "cell_type": "code",
   "execution_count": 25,
   "metadata": {
    "ExecuteTime": {
     "end_time": "2020-06-21T04:46:58.035047Z",
     "start_time": "2020-06-21T04:46:57.900427Z"
    }
   },
   "outputs": [
    {
     "data": {
      "image/png": "[encoded data removed]",
      "text/plain": [
       "<Figure size 1080x504 with 1 Axes>"
      ]
     },
     "metadata": {},
     "output_type": "display_data"
    }
   ],
   "source": [
    "dates = final_sale_test.value_counts()\n",
    "plt.figure(figsize=(15,7))\n",
    "sns.lineplot(x = dates.index, y = dates)\n",
    "plt.show()"
   ]
  },
  {
   "cell_type": "markdown",
   "metadata": {},
   "source": [
    "##### 제외해야할 data\n",
    "* train의 경우 마지막거래일자에서 100일전이 2016-08-01 보다 빠른경우 아웃라이어"
   ]
  },
  {
   "cell_type": "code",
   "execution_count": 26,
   "metadata": {
    "ExecuteTime": {
     "end_time": "2020-06-21T04:46:58.040048Z",
     "start_time": "2020-06-21T04:46:58.036049Z"
    }
   },
   "outputs": [],
   "source": [
    "day_check = final_sale_train - datetime.timedelta(100)"
   ]
  },
  {
   "cell_type": "code",
   "execution_count": 27,
   "metadata": {
    "ExecuteTime": {
     "end_time": "2020-06-21T04:46:58.079057Z",
     "start_time": "2020-06-21T04:46:58.041049Z"
    }
   },
   "outputs": [
    {
     "data": {
      "text/plain": [
       "Timestamp('2016-08-01 00:00:00')"
      ]
     },
     "execution_count": 27,
     "metadata": {},
     "output_type": "execute_result"
    }
   ],
   "source": [
    "merge_df.date.min()"
   ]
  },
  {
   "cell_type": "code",
   "execution_count": 28,
   "metadata": {
    "ExecuteTime": {
     "end_time": "2020-06-21T04:46:58.113382Z",
     "start_time": "2020-06-21T04:46:58.080058Z"
    }
   },
   "outputs": [
    {
     "data": {
      "text/plain": [
       "store_id\n",
       "0      2018-04-22\n",
       "1      2018-03-24\n",
       "2      2018-04-22\n",
       "3      2018-04-21\n",
       "4      2018-04-20\n",
       "          ...    \n",
       "1795   2018-04-22\n",
       "1796   2018-04-22\n",
       "1797   2018-04-22\n",
       "1798   2018-04-22\n",
       "1799   2018-04-21\n",
       "Name: date, Length: 1772, dtype: datetime64[ns]"
      ]
     },
     "execution_count": 28,
     "metadata": {},
     "output_type": "execute_result"
    }
   ],
   "source": [
    "day_check[day_check > merge_df.date.min()]"
   ]
  },
  {
   "cell_type": "markdown",
   "metadata": {},
   "source": [
    "### time\n",
    "* 오전 시간대 매출이 가장 적고, 그다음은 14-16시 이전이다"
   ]
  },
  {
   "cell_type": "code",
   "execution_count": 43,
   "metadata": {
    "ExecuteTime": {
     "end_time": "2020-06-21T04:47:11.059443Z",
     "start_time": "2020-06-21T04:47:10.116224Z"
    },
    "scrolled": true
   },
   "outputs": [
    {
     "data": {
      "image/png": "[encoded data removed]",
      "text/plain": [
       "<Figure size 1080x504 with 1 Axes>"
      ]
     },
     "metadata": {},
     "output_type": "display_data"
    }
   ],
   "source": [
    "hours = train.time.apply(lambda x :x[:2])\n",
    "hours = hours.value_counts().sort_index()\n",
    "\n",
    "plt.figure(figsize = (15,7))\n",
    "sns.lineplot(x = hours.index, y = hours)\n",
    "plt.show()"
   ]
  },
  {
   "cell_type": "markdown",
   "metadata": {
    "ExecuteTime": {
     "end_time": "2020-06-21T05:37:57.936840Z",
     "start_time": "2020-06-21T05:37:57.924839Z"
    }
   },
   "source": [
    "### amount\n",
    "* 음수는 환불 따라서 refurn 컬럼을 만들어주고 refurn은 0으로 변환"
   ]
  },
  {
   "cell_type": "markdown",
   "metadata": {},
   "source": [
    "#### 거래금액이 0인 경우는 뭘까?\n",
    "* 전체 1115개가 존재. 오류라고 생각하기엔 다소 이상하다\n",
    "* train/test셋에서 동일한 비율로 발생 \n",
    "* 가정1 : (의미 있다) 할인쿠폰등을 사용하면 거래금액이 0이 발생할 수 있을까\n",
    "* 가정2 : (의미 없다) 오류 혹은 의미가 없을 것  \n",
    "-> 일단 가정 2로 진행"
   ]
  },
  {
   "cell_type": "code",
   "execution_count": 129,
   "metadata": {
    "ExecuteTime": {
     "end_time": "2020-06-21T05:47:45.600162Z",
     "start_time": "2020-06-21T05:47:45.509120Z"
    }
   },
   "outputs": [
    {
     "name": "stdout",
     "output_type": "stream",
     "text": [
      "(test셋)매출 0이 발생한 매장수: 35, 전체 매장수 : 200, 비율 :17.0\n"
     ]
    }
   ],
   "source": [
    "tt = merge_df.loc[merge_df.test ==1]\n",
    "zero_store = tt.loc[tt.amount ==0,'store_id'].value_counts().shape[0]\n",
    "all_store = tt.store_id.nunique()\n",
    "rate = round(zero_store/all_store,2) *100\n",
    "print(f\"(test셋)매출 0이 발생한 매장수: {zero_store}, 전체 매장수 : {all_store}, 비율 :{rate}\")"
   ]
  },
  {
   "cell_type": "code",
   "execution_count": 131,
   "metadata": {
    "ExecuteTime": {
     "end_time": "2020-06-21T05:47:58.681053Z",
     "start_time": "2020-06-21T05:47:58.437968Z"
    }
   },
   "outputs": [
    {
     "name": "stdout",
     "output_type": "stream",
     "text": [
      "(train셋)매출 0이 발생한 매장수: 311, 전체 매장수 : 1775, 비율 :18.0\n"
     ]
    }
   ],
   "source": [
    "tt = merge_df.loc[merge_df.test ==0]\n",
    "zero_store = tt.loc[tt.amount ==0,'store_id'].value_counts().shape[0]\n",
    "all_store = tt.store_id.nunique()\n",
    "rate = round(zero_store/all_store,2) *100\n",
    "print(f\"(train셋)매출 0이 발생한 매장수: {zero_store}, 전체 매장수 : {all_store}, 비율 :{rate}\")"
   ]
  },
  {
   "cell_type": "code",
   "execution_count": 133,
   "metadata": {
    "ExecuteTime": {
     "end_time": "2020-06-21T06:09:57.981564Z",
     "start_time": "2020-06-21T06:09:57.739502Z"
    }
   },
   "outputs": [],
   "source": [
    "merge_df.loc[merge_df.amount <0, 'refund'] = 1\n",
    "merge_df.loc[merge_df.amount >0, 'refund'] = 0\n",
    "merge_df.loc[merge_df.amount <0, 'amount'] = 0"
   ]
  },
  {
   "cell_type": "code",
   "execution_count": 115,
   "metadata": {
    "ExecuteTime": {
     "end_time": "2020-06-21T05:38:20.038807Z",
     "start_time": "2020-06-21T05:38:20.031805Z"
    }
   },
   "outputs": [
    {
     "data": {
      "text/plain": [
       "250000"
      ]
     },
     "execution_count": 115,
     "metadata": {},
     "output_type": "execute_result"
    }
   ],
   "source": [
    "merge_df.amount.max()"
   ]
  },
  {
   "cell_type": "markdown",
   "metadata": {
    "heading_collapsed": true
   },
   "source": [
    "### installment_term\n",
    "* 일시불의 비율이 96%이상, 할부의 비중은 1년이하가 가장많다"
   ]
  },
  {
   "cell_type": "code",
   "execution_count": 44,
   "metadata": {
    "ExecuteTime": {
     "end_time": "2020-06-21T04:47:11.565576Z",
     "start_time": "2020-06-21T04:47:11.059443Z"
    },
    "hidden": true
   },
   "outputs": [],
   "source": [
    "train['installment_cut'] = 0\n",
    "train.installments.fillna(0,inplace = True)\n",
    "train.loc[(train.installments>0)&(train.installments<13),'installment_cut'] = 1\n",
    "train.loc[(train.installments>12)&(train.installments<25),'installment_cut'] = 2\n",
    "train.loc[(train.installments>24)&(train.installments<37),'installment_cut'] = 3\n",
    "train.loc[(train.installments>36),'installment_cut'] = 4"
   ]
  },
  {
   "cell_type": "code",
   "execution_count": 45,
   "metadata": {
    "ExecuteTime": {
     "end_time": "2020-06-21T04:47:11.598584Z",
     "start_time": "2020-06-21T04:47:11.566575Z"
    },
    "hidden": true
   },
   "outputs": [
    {
     "data": {
      "text/plain": [
       "0    0.994986\n",
       "1    0.004977\n",
       "2    0.000035\n",
       "3    0.000001\n",
       "Name: installment_cut, dtype: float64"
      ]
     },
     "execution_count": 45,
     "metadata": {},
     "output_type": "execute_result"
    }
   ],
   "source": [
    "train['installment_cut'].value_counts(normalize=True)"
   ]
  },
  {
   "cell_type": "code",
   "execution_count": 46,
   "metadata": {
    "ExecuteTime": {
     "end_time": "2020-06-21T04:47:11.716617Z",
     "start_time": "2020-06-21T04:47:11.599583Z"
    },
    "hidden": true
   },
   "outputs": [],
   "source": [
    "train.loc[train['installments'] > 0,'installments_bool'] = 1\n",
    "train.loc[train['installments'] == 0,'installments_bool'] = 0"
   ]
  },
  {
   "cell_type": "markdown",
   "metadata": {},
   "source": [
    "### 요일\n",
    "* 0이 월요일이고, 6이 일요일\n",
    "* 금토에 소비횟수가 가장많고, 일요일이 가장 소비횟수가 적음\n",
    "* 평균소비금액은 평일에는 큰 차이가 없고 (월요일 다소 적음) 오히려 주말에 다소 감소"
   ]
  },
  {
   "cell_type": "markdown",
   "metadata": {},
   "source": [
    "#### 소비횟수"
   ]
  },
  {
   "cell_type": "code",
   "execution_count": 29,
   "metadata": {
    "ExecuteTime": {
     "end_time": "2020-06-21T04:46:58.229416Z",
     "start_time": "2020-06-21T04:46:58.114381Z"
    }
   },
   "outputs": [
    {
     "data": {
      "image/png": "[encoded data removed]",
      "text/plain": [
       "<Figure size 432x288 with 1 Axes>"
      ]
     },
     "metadata": {},
     "output_type": "display_data"
    }
   ],
   "source": [
    "weeks = merge_df.days_of_week.value_counts()\n",
    "\n",
    "sns.barplot(x = weeks.index, y = weeks)\n",
    "plt.show()"
   ]
  },
  {
   "cell_type": "code",
   "execution_count": 30,
   "metadata": {
    "ExecuteTime": {
     "end_time": "2020-06-21T04:46:58.383317Z",
     "start_time": "2020-06-21T04:46:58.230417Z"
    }
   },
   "outputs": [
    {
     "data": {
      "text/plain": [
       "<matplotlib.axes._subplots.AxesSubplot at 0x1c081122c18>"
      ]
     },
     "execution_count": 30,
     "metadata": {},
     "output_type": "execute_result"
    },
    {
     "data": {
      "image/png": "[encoded data removed]",
      "text/plain": [
       "<Figure size 432x288 with 1 Axes>"
      ]
     },
     "metadata": {},
     "output_type": "display_data"
    }
   ],
   "source": [
    "#평균 소비금액 \n",
    "weekly_amount = merge_df.groupby('days_of_week')['amount'].mean()\n",
    "sns.barplot(x = weekly_amount.index, y= weekly_amount)"
   ]
  },
  {
   "cell_type": "markdown",
   "metadata": {},
   "source": [
    "### holyday\n",
    "* 휴일이 아닐때 소비횟수 및, 소비금액이 평균적으로 더 높음"
   ]
  },
  {
   "cell_type": "code",
   "execution_count": 31,
   "metadata": {
    "ExecuteTime": {
     "end_time": "2020-06-21T04:46:58.526355Z",
     "start_time": "2020-06-21T04:46:58.384318Z"
    }
   },
   "outputs": [],
   "source": [
    "un_holydays = merge_df.loc[merge_df.holyday == 0,'date'].nunique()\n",
    "holydays = merge_df.loc[merge_df.holyday == 1,'date'].nunique()\n",
    "\n",
    "mean_unholydays = merge_df.holyday.value_counts()[0]/un_holydays\n",
    "mean_holydays = merge_df.holyday.value_counts()[1]/holydays\n",
    "\n",
    "mean_holydays_df = pd.DataFrame([mean_unholydays,mean_holydays],columns=['holydays'],index = [0,1])"
   ]
  },
  {
   "cell_type": "code",
   "execution_count": 32,
   "metadata": {
    "ExecuteTime": {
     "end_time": "2020-06-21T04:46:58.576443Z",
     "start_time": "2020-06-21T04:46:58.527355Z"
    }
   },
   "outputs": [
    {
     "data": {
      "image/png": "[encoded data removed]",
      "text/plain": [
       "<Figure size 432x288 with 1 Axes>"
      ]
     },
     "metadata": {},
     "output_type": "display_data"
    }
   ],
   "source": [
    "# 소비횟수 비교 \n",
    "sns.barplot(mean_holydays_df.index,mean_holydays_df['holydays'])\n",
    "plt.show()"
   ]
  },
  {
   "cell_type": "code",
   "execution_count": 33,
   "metadata": {
    "ExecuteTime": {
     "end_time": "2020-06-21T04:46:58.697470Z",
     "start_time": "2020-06-21T04:46:58.577442Z"
    }
   },
   "outputs": [
    {
     "data": {
      "image/png": "[encoded data removed]",
      "text/plain": [
       "<Figure size 432x288 with 1 Axes>"
      ]
     },
     "metadata": {},
     "output_type": "display_data"
    }
   ],
   "source": [
    "# 소비금액 비교\n",
    "holy_amount = merge_df.groupby('holyday')['amount'].mean()\n",
    "sns.barplot(x = holy_amount.index, y = holy_amount)\n",
    "plt.show()"
   ]
  },
  {
   "cell_type": "markdown",
   "metadata": {},
   "source": [
    "#### holyday 구성은 어떻게되어있나?\n",
    "* 01-01 신정, (음력)01-01 설날, 03-01 삼일절, (음력)04-08 부처님 오신날, 05-01 근로자의날, 05-05 어린이날, 06-06 현충일, \n",
    "* 08-15 광복절, (음력) 08-15 추석, 10-03 개천절, 10-09 한글날, 12-25 크리스마스 \n",
    "* 17-05-09 국회의원선거, 17-10-02 임시공휴일, 18-06-13 지방선거\n",
    "* 17-10-06 대체공휴일(추석 전날(10월 3일)이 국경일이자 법정공휴일인 개천절과 겹치면서), 18-05-07 어린이날대체휴일\n",
    "* 연휴 16-09-14~16, 17-01-27~29, 17-10-02~09 황금연휴, 18-02-15~17  \n",
    "-> test 마지막 거래일자 2018-03-31이므로 약 2018-06-09 정도까지의 공휴일데이터 필요 (특별히 더 추가할 필요는 없어보임)  \n",
    "-> 미래확장성을 감안하면 자동으로 공휴일 계산해주면 좋을듯 (임시공유일은 추가확정성기능으로)"
   ]
  },
  {
   "cell_type": "code",
   "execution_count": 34,
   "metadata": {
    "ExecuteTime": {
     "end_time": "2020-06-21T04:46:58.701985Z",
     "start_time": "2020-06-21T04:46:58.698470Z"
    }
   },
   "outputs": [
    {
     "data": {
      "text/plain": [
       "datetime.datetime(2018, 6, 9, 0, 0)"
      ]
     },
     "execution_count": 34,
     "metadata": {},
     "output_type": "execute_result"
    }
   ],
   "source": [
    "#test마지막 일자에서 100일후 \n",
    "datetime.datetime(2018,3,1) + datetime.timedelta(100)"
   ]
  },
  {
   "cell_type": "code",
   "execution_count": 35,
   "metadata": {
    "ExecuteTime": {
     "end_time": "2020-06-21T04:47:09.746044Z",
     "start_time": "2020-06-21T04:46:58.702987Z"
    }
   },
   "outputs": [
    {
     "data": {
      "text/html": [
       "<div>\n",
       "<style scoped>\n",
       "    .dataframe tbody tr th:only-of-type {\n",
       "        vertical-align: middle;\n",
       "    }\n",
       "\n",
       "    .dataframe tbody tr th {\n",
       "        vertical-align: top;\n",
       "    }\n",
       "\n",
       "    .dataframe thead th {\n",
       "        text-align: right;\n",
       "    }\n",
       "</style>\n",
       "<table border=\"1\" class=\"dataframe\">\n",
       "  <thead>\n",
       "    <tr style=\"text-align: right;\">\n",
       "      <th></th>\n",
       "      <th>store_id</th>\n",
       "      <th>date</th>\n",
       "      <th>time</th>\n",
       "      <th>card_id</th>\n",
       "      <th>amount</th>\n",
       "      <th>installments</th>\n",
       "      <th>days_of_week</th>\n",
       "      <th>holyday</th>\n",
       "      <th>test</th>\n",
       "      <th>year</th>\n",
       "      <th>month</th>\n",
       "    </tr>\n",
       "  </thead>\n",
       "  <tbody>\n",
       "  </tbody>\n",
       "</table>\n",
       "</div>"
      ],
      "text/plain": [
       "Empty DataFrame\n",
       "Columns: [store_id, date, time, card_id, amount, installments, days_of_week, holyday, test, year, month]\n",
       "Index: []"
      ]
     },
     "execution_count": 35,
     "metadata": {},
     "output_type": "execute_result"
    }
   ],
   "source": [
    "#요일 오류 확인(이상무)\n",
    "check_week = merge_df.date.apply(lambda x : x.weekday())\n",
    "merge_df[merge_df.days_of_week != check_week]"
   ]
  },
  {
   "cell_type": "code",
   "execution_count": 36,
   "metadata": {
    "ExecuteTime": {
     "end_time": "2020-06-21T04:47:09.781063Z",
     "start_time": "2020-06-21T04:47:09.747044Z"
    }
   },
   "outputs": [],
   "source": [
    "holydays_df = merge_df[merge_df.holyday == 1]"
   ]
  },
  {
   "cell_type": "code",
   "execution_count": 41,
   "metadata": {
    "ExecuteTime": {
     "end_time": "2020-06-21T04:47:10.093222Z",
     "start_time": "2020-06-21T04:47:10.049209Z"
    },
    "collapsed": true
   },
   "outputs": [
    {
     "data": {
      "text/html": [
       "<div>\n",
       "<style scoped>\n",
       "    .dataframe tbody tr th:only-of-type {\n",
       "        vertical-align: middle;\n",
       "    }\n",
       "\n",
       "    .dataframe tbody tr th {\n",
       "        vertical-align: top;\n",
       "    }\n",
       "\n",
       "    .dataframe thead th {\n",
       "        text-align: right;\n",
       "    }\n",
       "</style>\n",
       "<table border=\"1\" class=\"dataframe\">\n",
       "  <thead>\n",
       "    <tr style=\"text-align: right;\">\n",
       "      <th></th>\n",
       "      <th>store_id</th>\n",
       "      <th>date</th>\n",
       "      <th>time</th>\n",
       "      <th>card_id</th>\n",
       "      <th>amount</th>\n",
       "      <th>installments</th>\n",
       "      <th>days_of_week</th>\n",
       "      <th>holyday</th>\n",
       "      <th>test</th>\n",
       "      <th>year</th>\n",
       "      <th>month</th>\n",
       "    </tr>\n",
       "  </thead>\n",
       "  <tbody>\n",
       "    <tr>\n",
       "      <td>69090</td>\n",
       "      <td>2</td>\n",
       "      <td>2016-08-15</td>\n",
       "      <td>07:03:51</td>\n",
       "      <td>b8f4039073</td>\n",
       "      <td>60</td>\n",
       "      <td>0.0</td>\n",
       "      <td>0</td>\n",
       "      <td>1</td>\n",
       "      <td>0</td>\n",
       "      <td>2016</td>\n",
       "      <td>8</td>\n",
       "    </tr>\n",
       "    <tr>\n",
       "      <td>69759</td>\n",
       "      <td>2</td>\n",
       "      <td>2016-09-14</td>\n",
       "      <td>00:15:29</td>\n",
       "      <td>ee292ccc5b</td>\n",
       "      <td>80</td>\n",
       "      <td>0.0</td>\n",
       "      <td>2</td>\n",
       "      <td>1</td>\n",
       "      <td>0</td>\n",
       "      <td>2016</td>\n",
       "      <td>9</td>\n",
       "    </tr>\n",
       "    <tr>\n",
       "      <td>91125</td>\n",
       "      <td>8</td>\n",
       "      <td>2016-09-15</td>\n",
       "      <td>00:39:22</td>\n",
       "      <td>0b5c785944</td>\n",
       "      <td>240</td>\n",
       "      <td>0.0</td>\n",
       "      <td>3</td>\n",
       "      <td>1</td>\n",
       "      <td>0</td>\n",
       "      <td>2016</td>\n",
       "      <td>9</td>\n",
       "    </tr>\n",
       "    <tr>\n",
       "      <td>69770</td>\n",
       "      <td>2</td>\n",
       "      <td>2016-09-16</td>\n",
       "      <td>13:01:01</td>\n",
       "      <td>f429965e15</td>\n",
       "      <td>80</td>\n",
       "      <td>0.0</td>\n",
       "      <td>4</td>\n",
       "      <td>1</td>\n",
       "      <td>0</td>\n",
       "      <td>2016</td>\n",
       "      <td>9</td>\n",
       "    </tr>\n",
       "    <tr>\n",
       "      <td>70160</td>\n",
       "      <td>2</td>\n",
       "      <td>2016-10-03</td>\n",
       "      <td>08:58:05</td>\n",
       "      <td>2543aabcbf</td>\n",
       "      <td>40</td>\n",
       "      <td>0.0</td>\n",
       "      <td>0</td>\n",
       "      <td>1</td>\n",
       "      <td>0</td>\n",
       "      <td>2016</td>\n",
       "      <td>10</td>\n",
       "    </tr>\n",
       "    <tr>\n",
       "      <td>70294</td>\n",
       "      <td>2</td>\n",
       "      <td>2016-10-09</td>\n",
       "      <td>05:16:38</td>\n",
       "      <td>28a7a96d24</td>\n",
       "      <td>600</td>\n",
       "      <td>0.0</td>\n",
       "      <td>6</td>\n",
       "      <td>1</td>\n",
       "      <td>0</td>\n",
       "      <td>2016</td>\n",
       "      <td>10</td>\n",
       "    </tr>\n",
       "    <tr>\n",
       "      <td>772</td>\n",
       "      <td>0</td>\n",
       "      <td>2016-12-25</td>\n",
       "      <td>00:23:22</td>\n",
       "      <td>7df04debf0</td>\n",
       "      <td>79</td>\n",
       "      <td>0.0</td>\n",
       "      <td>6</td>\n",
       "      <td>1</td>\n",
       "      <td>0</td>\n",
       "      <td>2016</td>\n",
       "      <td>12</td>\n",
       "    </tr>\n",
       "    <tr>\n",
       "      <td>1635</td>\n",
       "      <td>0</td>\n",
       "      <td>2017-01-01</td>\n",
       "      <td>00:27:46</td>\n",
       "      <td>1e3035e497</td>\n",
       "      <td>36</td>\n",
       "      <td>0.0</td>\n",
       "      <td>6</td>\n",
       "      <td>1</td>\n",
       "      <td>0</td>\n",
       "      <td>2017</td>\n",
       "      <td>1</td>\n",
       "    </tr>\n",
       "    <tr>\n",
       "      <td>4588</td>\n",
       "      <td>0</td>\n",
       "      <td>2017-01-27</td>\n",
       "      <td>00:06:14</td>\n",
       "      <td>8892c23a23</td>\n",
       "      <td>30</td>\n",
       "      <td>0.0</td>\n",
       "      <td>4</td>\n",
       "      <td>1</td>\n",
       "      <td>0</td>\n",
       "      <td>2017</td>\n",
       "      <td>1</td>\n",
       "    </tr>\n",
       "    <tr>\n",
       "      <td>4732</td>\n",
       "      <td>0</td>\n",
       "      <td>2017-01-28</td>\n",
       "      <td>00:47:57</td>\n",
       "      <td>a697ba76a9</td>\n",
       "      <td>20</td>\n",
       "      <td>0.0</td>\n",
       "      <td>5</td>\n",
       "      <td>1</td>\n",
       "      <td>0</td>\n",
       "      <td>2017</td>\n",
       "      <td>1</td>\n",
       "    </tr>\n",
       "    <tr>\n",
       "      <td>4841</td>\n",
       "      <td>0</td>\n",
       "      <td>2017-01-29</td>\n",
       "      <td>00:14:23</td>\n",
       "      <td>acc4a81a87</td>\n",
       "      <td>23</td>\n",
       "      <td>0.0</td>\n",
       "      <td>6</td>\n",
       "      <td>1</td>\n",
       "      <td>0</td>\n",
       "      <td>2017</td>\n",
       "      <td>1</td>\n",
       "    </tr>\n",
       "    <tr>\n",
       "      <td>4928</td>\n",
       "      <td>0</td>\n",
       "      <td>2017-01-30</td>\n",
       "      <td>00:04:45</td>\n",
       "      <td>7d0822ac0f</td>\n",
       "      <td>21</td>\n",
       "      <td>0.0</td>\n",
       "      <td>0</td>\n",
       "      <td>1</td>\n",
       "      <td>0</td>\n",
       "      <td>2017</td>\n",
       "      <td>1</td>\n",
       "    </tr>\n",
       "    <tr>\n",
       "      <td>8081</td>\n",
       "      <td>0</td>\n",
       "      <td>2017-03-01</td>\n",
       "      <td>00:07:31</td>\n",
       "      <td>c45d446a5d</td>\n",
       "      <td>233</td>\n",
       "      <td>0.0</td>\n",
       "      <td>2</td>\n",
       "      <td>1</td>\n",
       "      <td>0</td>\n",
       "      <td>2017</td>\n",
       "      <td>3</td>\n",
       "    </tr>\n",
       "    <tr>\n",
       "      <td>15104</td>\n",
       "      <td>0</td>\n",
       "      <td>2017-05-01</td>\n",
       "      <td>00:23:19</td>\n",
       "      <td>48d5323795</td>\n",
       "      <td>109</td>\n",
       "      <td>0.0</td>\n",
       "      <td>0</td>\n",
       "      <td>1</td>\n",
       "      <td>0</td>\n",
       "      <td>2017</td>\n",
       "      <td>5</td>\n",
       "    </tr>\n",
       "    <tr>\n",
       "      <td>15303</td>\n",
       "      <td>0</td>\n",
       "      <td>2017-05-03</td>\n",
       "      <td>00:01:46</td>\n",
       "      <td>3150dab8e4</td>\n",
       "      <td>200</td>\n",
       "      <td>0.0</td>\n",
       "      <td>2</td>\n",
       "      <td>1</td>\n",
       "      <td>0</td>\n",
       "      <td>2017</td>\n",
       "      <td>5</td>\n",
       "    </tr>\n",
       "    <tr>\n",
       "      <td>15546</td>\n",
       "      <td>0</td>\n",
       "      <td>2017-05-05</td>\n",
       "      <td>00:15:05</td>\n",
       "      <td>e8d8bdfd29</td>\n",
       "      <td>126</td>\n",
       "      <td>0.0</td>\n",
       "      <td>4</td>\n",
       "      <td>1</td>\n",
       "      <td>0</td>\n",
       "      <td>2017</td>\n",
       "      <td>5</td>\n",
       "    </tr>\n",
       "    <tr>\n",
       "      <td>16067</td>\n",
       "      <td>0</td>\n",
       "      <td>2017-05-09</td>\n",
       "      <td>00:14:26</td>\n",
       "      <td>ee6c89f2e1</td>\n",
       "      <td>20</td>\n",
       "      <td>0.0</td>\n",
       "      <td>1</td>\n",
       "      <td>1</td>\n",
       "      <td>0</td>\n",
       "      <td>2017</td>\n",
       "      <td>5</td>\n",
       "    </tr>\n",
       "    <tr>\n",
       "      <td>19463</td>\n",
       "      <td>0</td>\n",
       "      <td>2017-06-06</td>\n",
       "      <td>00:08:45</td>\n",
       "      <td>cb0b24bd06</td>\n",
       "      <td>262</td>\n",
       "      <td>0.0</td>\n",
       "      <td>1</td>\n",
       "      <td>1</td>\n",
       "      <td>0</td>\n",
       "      <td>2017</td>\n",
       "      <td>6</td>\n",
       "    </tr>\n",
       "    <tr>\n",
       "      <td>28159</td>\n",
       "      <td>0</td>\n",
       "      <td>2017-08-15</td>\n",
       "      <td>00:06:35</td>\n",
       "      <td>ee776acf85</td>\n",
       "      <td>65</td>\n",
       "      <td>0.0</td>\n",
       "      <td>1</td>\n",
       "      <td>1</td>\n",
       "      <td>0</td>\n",
       "      <td>2017</td>\n",
       "      <td>8</td>\n",
       "    </tr>\n",
       "    <tr>\n",
       "      <td>33985</td>\n",
       "      <td>0</td>\n",
       "      <td>2017-10-02</td>\n",
       "      <td>00:41:19</td>\n",
       "      <td>68f432167b</td>\n",
       "      <td>80</td>\n",
       "      <td>0.0</td>\n",
       "      <td>0</td>\n",
       "      <td>1</td>\n",
       "      <td>0</td>\n",
       "      <td>2017</td>\n",
       "      <td>10</td>\n",
       "    </tr>\n",
       "    <tr>\n",
       "      <td>34109</td>\n",
       "      <td>0</td>\n",
       "      <td>2017-10-03</td>\n",
       "      <td>00:26:57</td>\n",
       "      <td>37a9b439c6</td>\n",
       "      <td>57</td>\n",
       "      <td>0.0</td>\n",
       "      <td>1</td>\n",
       "      <td>1</td>\n",
       "      <td>0</td>\n",
       "      <td>2017</td>\n",
       "      <td>10</td>\n",
       "    </tr>\n",
       "    <tr>\n",
       "      <td>34273</td>\n",
       "      <td>0</td>\n",
       "      <td>2017-10-04</td>\n",
       "      <td>00:32:50</td>\n",
       "      <td>5ad0f185f7</td>\n",
       "      <td>47</td>\n",
       "      <td>0.0</td>\n",
       "      <td>2</td>\n",
       "      <td>1</td>\n",
       "      <td>0</td>\n",
       "      <td>2017</td>\n",
       "      <td>10</td>\n",
       "    </tr>\n",
       "    <tr>\n",
       "      <td>34398</td>\n",
       "      <td>0</td>\n",
       "      <td>2017-10-05</td>\n",
       "      <td>00:15:04</td>\n",
       "      <td>9703a2dea4</td>\n",
       "      <td>94</td>\n",
       "      <td>0.0</td>\n",
       "      <td>3</td>\n",
       "      <td>1</td>\n",
       "      <td>0</td>\n",
       "      <td>2017</td>\n",
       "      <td>10</td>\n",
       "    </tr>\n",
       "    <tr>\n",
       "      <td>34513</td>\n",
       "      <td>0</td>\n",
       "      <td>2017-10-06</td>\n",
       "      <td>00:43:28</td>\n",
       "      <td>c5e64f3c64</td>\n",
       "      <td>260</td>\n",
       "      <td>0.0</td>\n",
       "      <td>4</td>\n",
       "      <td>1</td>\n",
       "      <td>0</td>\n",
       "      <td>2017</td>\n",
       "      <td>10</td>\n",
       "    </tr>\n",
       "    <tr>\n",
       "      <td>34841</td>\n",
       "      <td>0</td>\n",
       "      <td>2017-10-09</td>\n",
       "      <td>00:13:11</td>\n",
       "      <td>4aded25032</td>\n",
       "      <td>47</td>\n",
       "      <td>0.0</td>\n",
       "      <td>0</td>\n",
       "      <td>1</td>\n",
       "      <td>0</td>\n",
       "      <td>2017</td>\n",
       "      <td>10</td>\n",
       "    </tr>\n",
       "    <tr>\n",
       "      <td>43369</td>\n",
       "      <td>0</td>\n",
       "      <td>2017-12-25</td>\n",
       "      <td>00:07:11</td>\n",
       "      <td>26cd93aabe</td>\n",
       "      <td>16</td>\n",
       "      <td>0.0</td>\n",
       "      <td>0</td>\n",
       "      <td>1</td>\n",
       "      <td>0</td>\n",
       "      <td>2017</td>\n",
       "      <td>12</td>\n",
       "    </tr>\n",
       "    <tr>\n",
       "      <td>44124</td>\n",
       "      <td>0</td>\n",
       "      <td>2018-01-01</td>\n",
       "      <td>00:04:51</td>\n",
       "      <td>f2dd8b3741</td>\n",
       "      <td>128</td>\n",
       "      <td>0.0</td>\n",
       "      <td>0</td>\n",
       "      <td>1</td>\n",
       "      <td>0</td>\n",
       "      <td>2018</td>\n",
       "      <td>1</td>\n",
       "    </tr>\n",
       "    <tr>\n",
       "      <td>49285</td>\n",
       "      <td>0</td>\n",
       "      <td>2018-02-15</td>\n",
       "      <td>00:07:20</td>\n",
       "      <td>2212f51d6e</td>\n",
       "      <td>29</td>\n",
       "      <td>0.0</td>\n",
       "      <td>3</td>\n",
       "      <td>1</td>\n",
       "      <td>0</td>\n",
       "      <td>2018</td>\n",
       "      <td>2</td>\n",
       "    </tr>\n",
       "    <tr>\n",
       "      <td>49438</td>\n",
       "      <td>0</td>\n",
       "      <td>2018-02-16</td>\n",
       "      <td>00:18:58</td>\n",
       "      <td>4addcf130d</td>\n",
       "      <td>50</td>\n",
       "      <td>0.0</td>\n",
       "      <td>4</td>\n",
       "      <td>1</td>\n",
       "      <td>0</td>\n",
       "      <td>2018</td>\n",
       "      <td>2</td>\n",
       "    </tr>\n",
       "    <tr>\n",
       "      <td>49560</td>\n",
       "      <td>0</td>\n",
       "      <td>2018-02-17</td>\n",
       "      <td>00:09:03</td>\n",
       "      <td>a2b12d44c9</td>\n",
       "      <td>55</td>\n",
       "      <td>0.0</td>\n",
       "      <td>5</td>\n",
       "      <td>1</td>\n",
       "      <td>0</td>\n",
       "      <td>2018</td>\n",
       "      <td>2</td>\n",
       "    </tr>\n",
       "    <tr>\n",
       "      <td>50781</td>\n",
       "      <td>0</td>\n",
       "      <td>2018-03-01</td>\n",
       "      <td>01:01:47</td>\n",
       "      <td>b945276471</td>\n",
       "      <td>70</td>\n",
       "      <td>0.0</td>\n",
       "      <td>3</td>\n",
       "      <td>1</td>\n",
       "      <td>0</td>\n",
       "      <td>2018</td>\n",
       "      <td>3</td>\n",
       "    </tr>\n",
       "    <tr>\n",
       "      <td>57740</td>\n",
       "      <td>0</td>\n",
       "      <td>2018-05-01</td>\n",
       "      <td>00:05:51</td>\n",
       "      <td>6474ec62be</td>\n",
       "      <td>33</td>\n",
       "      <td>0.0</td>\n",
       "      <td>1</td>\n",
       "      <td>1</td>\n",
       "      <td>0</td>\n",
       "      <td>2018</td>\n",
       "      <td>5</td>\n",
       "    </tr>\n",
       "    <tr>\n",
       "      <td>58194</td>\n",
       "      <td>0</td>\n",
       "      <td>2018-05-05</td>\n",
       "      <td>00:32:38</td>\n",
       "      <td>6cf7ef7e51</td>\n",
       "      <td>216</td>\n",
       "      <td>0.0</td>\n",
       "      <td>5</td>\n",
       "      <td>1</td>\n",
       "      <td>0</td>\n",
       "      <td>2018</td>\n",
       "      <td>5</td>\n",
       "    </tr>\n",
       "    <tr>\n",
       "      <td>58420</td>\n",
       "      <td>0</td>\n",
       "      <td>2018-05-07</td>\n",
       "      <td>00:02:55</td>\n",
       "      <td>950b047a96</td>\n",
       "      <td>320</td>\n",
       "      <td>0.0</td>\n",
       "      <td>0</td>\n",
       "      <td>1</td>\n",
       "      <td>0</td>\n",
       "      <td>2018</td>\n",
       "      <td>5</td>\n",
       "    </tr>\n",
       "    <tr>\n",
       "      <td>60098</td>\n",
       "      <td>0</td>\n",
       "      <td>2018-05-22</td>\n",
       "      <td>00:06:09</td>\n",
       "      <td>424959137b</td>\n",
       "      <td>103</td>\n",
       "      <td>0.0</td>\n",
       "      <td>1</td>\n",
       "      <td>1</td>\n",
       "      <td>0</td>\n",
       "      <td>2018</td>\n",
       "      <td>5</td>\n",
       "    </tr>\n",
       "    <tr>\n",
       "      <td>61864</td>\n",
       "      <td>0</td>\n",
       "      <td>2018-06-06</td>\n",
       "      <td>00:07:11</td>\n",
       "      <td>eb8cfcb59e</td>\n",
       "      <td>32</td>\n",
       "      <td>0.0</td>\n",
       "      <td>2</td>\n",
       "      <td>1</td>\n",
       "      <td>0</td>\n",
       "      <td>2018</td>\n",
       "      <td>6</td>\n",
       "    </tr>\n",
       "    <tr>\n",
       "      <td>62686</td>\n",
       "      <td>0</td>\n",
       "      <td>2018-06-13</td>\n",
       "      <td>00:03:08</td>\n",
       "      <td>a7eaa62d05</td>\n",
       "      <td>46</td>\n",
       "      <td>0.0</td>\n",
       "      <td>2</td>\n",
       "      <td>1</td>\n",
       "      <td>0</td>\n",
       "      <td>2018</td>\n",
       "      <td>6</td>\n",
       "    </tr>\n",
       "  </tbody>\n",
       "</table>\n",
       "</div>"
      ],
      "text/plain": [
       "       store_id       date      time     card_id  amount  installments  \\\n",
       "69090         2 2016-08-15  07:03:51  b8f4039073      60           0.0   \n",
       "69759         2 2016-09-14  00:15:29  ee292ccc5b      80           0.0   \n",
       "91125         8 2016-09-15  00:39:22  0b5c785944     240           0.0   \n",
       "69770         2 2016-09-16  13:01:01  f429965e15      80           0.0   \n",
       "70160         2 2016-10-03  08:58:05  2543aabcbf      40           0.0   \n",
       "70294         2 2016-10-09  05:16:38  28a7a96d24     600           0.0   \n",
       "772           0 2016-12-25  00:23:22  7df04debf0      79           0.0   \n",
       "1635          0 2017-01-01  00:27:46  1e3035e497      36           0.0   \n",
       "4588          0 2017-01-27  00:06:14  8892c23a23      30           0.0   \n",
       "4732          0 2017-01-28  00:47:57  a697ba76a9      20           0.0   \n",
       "4841          0 2017-01-29  00:14:23  acc4a81a87      23           0.0   \n",
       "4928          0 2017-01-30  00:04:45  7d0822ac0f      21           0.0   \n",
       "8081          0 2017-03-01  00:07:31  c45d446a5d     233           0.0   \n",
       "15104         0 2017-05-01  00:23:19  48d5323795     109           0.0   \n",
       "15303         0 2017-05-03  00:01:46  3150dab8e4     200           0.0   \n",
       "15546         0 2017-05-05  00:15:05  e8d8bdfd29     126           0.0   \n",
       "16067         0 2017-05-09  00:14:26  ee6c89f2e1      20           0.0   \n",
       "19463         0 2017-06-06  00:08:45  cb0b24bd06     262           0.0   \n",
       "28159         0 2017-08-15  00:06:35  ee776acf85      65           0.0   \n",
       "33985         0 2017-10-02  00:41:19  68f432167b      80           0.0   \n",
       "34109         0 2017-10-03  00:26:57  37a9b439c6      57           0.0   \n",
       "34273         0 2017-10-04  00:32:50  5ad0f185f7      47           0.0   \n",
       "34398         0 2017-10-05  00:15:04  9703a2dea4      94           0.0   \n",
       "34513         0 2017-10-06  00:43:28  c5e64f3c64     260           0.0   \n",
       "34841         0 2017-10-09  00:13:11  4aded25032      47           0.0   \n",
       "43369         0 2017-12-25  00:07:11  26cd93aabe      16           0.0   \n",
       "44124         0 2018-01-01  00:04:51  f2dd8b3741     128           0.0   \n",
       "49285         0 2018-02-15  00:07:20  2212f51d6e      29           0.0   \n",
       "49438         0 2018-02-16  00:18:58  4addcf130d      50           0.0   \n",
       "49560         0 2018-02-17  00:09:03  a2b12d44c9      55           0.0   \n",
       "50781         0 2018-03-01  01:01:47  b945276471      70           0.0   \n",
       "57740         0 2018-05-01  00:05:51  6474ec62be      33           0.0   \n",
       "58194         0 2018-05-05  00:32:38  6cf7ef7e51     216           0.0   \n",
       "58420         0 2018-05-07  00:02:55  950b047a96     320           0.0   \n",
       "60098         0 2018-05-22  00:06:09  424959137b     103           0.0   \n",
       "61864         0 2018-06-06  00:07:11  eb8cfcb59e      32           0.0   \n",
       "62686         0 2018-06-13  00:03:08  a7eaa62d05      46           0.0   \n",
       "\n",
       "       days_of_week  holyday  test  year  month  \n",
       "69090             0        1     0  2016      8  \n",
       "69759             2        1     0  2016      9  \n",
       "91125             3        1     0  2016      9  \n",
       "69770             4        1     0  2016      9  \n",
       "70160             0        1     0  2016     10  \n",
       "70294             6        1     0  2016     10  \n",
       "772               6        1     0  2016     12  \n",
       "1635              6        1     0  2017      1  \n",
       "4588              4        1     0  2017      1  \n",
       "4732              5        1     0  2017      1  \n",
       "4841              6        1     0  2017      1  \n",
       "4928              0        1     0  2017      1  \n",
       "8081              2        1     0  2017      3  \n",
       "15104             0        1     0  2017      5  \n",
       "15303             2        1     0  2017      5  \n",
       "15546             4        1     0  2017      5  \n",
       "16067             1        1     0  2017      5  \n",
       "19463             1        1     0  2017      6  \n",
       "28159             1        1     0  2017      8  \n",
       "33985             0        1     0  2017     10  \n",
       "34109             1        1     0  2017     10  \n",
       "34273             2        1     0  2017     10  \n",
       "34398             3        1     0  2017     10  \n",
       "34513             4        1     0  2017     10  \n",
       "34841             0        1     0  2017     10  \n",
       "43369             0        1     0  2017     12  \n",
       "44124             0        1     0  2018      1  \n",
       "49285             3        1     0  2018      2  \n",
       "49438             4        1     0  2018      2  \n",
       "49560             5        1     0  2018      2  \n",
       "50781             3        1     0  2018      3  \n",
       "57740             1        1     0  2018      5  \n",
       "58194             5        1     0  2018      5  \n",
       "58420             0        1     0  2018      5  \n",
       "60098             1        1     0  2018      5  \n",
       "61864             2        1     0  2018      6  \n",
       "62686             2        1     0  2018      6  "
      ]
     },
     "execution_count": 41,
     "metadata": {},
     "output_type": "execute_result"
    }
   ],
   "source": [
    "holydays_df.drop_duplicates('date').sort_values('date')"
   ]
  },
  {
   "cell_type": "code",
   "execution_count": 134,
   "metadata": {
    "ExecuteTime": {
     "end_time": "2020-06-21T06:11:22.086897Z",
     "start_time": "2020-06-21T06:11:22.011377Z"
    }
   },
   "outputs": [],
   "source": [
    "all_dates = merge_df.drop_duplicates('date').sort_values('date')\n",
    "all_dates = all_dates[['date','days_of_week','holyday']]\n",
    "all_dates.reset_index(drop=True, inplace=True)"
   ]
  },
  {
   "cell_type": "code",
   "execution_count": null,
   "metadata": {},
   "outputs": [],
   "source": []
  }
 ],
 "metadata": {
  "kernelspec": {
   "display_name": "Python 3",
   "language": "python",
   "name": "python3"
  },
  "language_info": {
   "codemirror_mode": {
    "name": "ipython",
    "version": 3
   },
   "file_extension": ".py",
   "mimetype": "text/x-python",
   "name": "python",
   "nbconvert_exporter": "python",
   "pygments_lexer": "ipython3",
   "version": "3.6.5"
  },
  "toc": {
   "base_numbering": 1,
   "nav_menu": {
    "height": "155px",
    "width": "190px"
   },
   "number_sections": true,
   "sideBar": true,
   "skip_h1_title": false,
   "title_cell": "Table of Contents",
   "title_sidebar": "Contents",
   "toc_cell": false,
   "toc_position": {},
   "toc_section_display": true,
   "toc_window_display": false
  },
  "varInspector": {
   "cols": {
    "lenName": 16,
    "lenType": 16,
    "lenVar": 40
   },
   "kernels_config": {
    "python": {
     "delete_cmd_postfix": "",
     "delete_cmd_prefix": "del ",
     "library": "var_list.py",
     "varRefreshCmd": "print(var_dic_list())"
    },
    "r": {
     "delete_cmd_postfix": ") ",
     "delete_cmd_prefix": "rm(",
     "library": "var_list.r",
     "varRefreshCmd": "cat(var_dic_list()) "
    }
   },
   "position": {
    "height": "334px",
    "left": "588px",
    "right": "20px",
    "top": "120px",
    "width": "596px"
   },
   "types_to_exclude": [
    "module",
    "function",
    "builtin_function_or_method",
    "instance",
    "_Feature"
   ],
   "window_display": false
  }
 },
 "nbformat": 4,
 "nbformat_minor": 2
}
