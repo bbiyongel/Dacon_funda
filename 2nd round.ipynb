{
 "cells": [
  {
   "cell_type": "code",
   "execution_count": 17,
   "metadata": {
    "ExecuteTime": {
     "end_time": "2020-07-07T01:57:37.511874Z",
     "start_time": "2020-07-07T01:57:36.160571Z"
    }
   },
   "outputs": [
    {
     "name": "stderr",
     "output_type": "stream",
     "text": [
      "C:\\Users\\User\\Anaconda3\\lib\\site-packages\\distributed\\config.py:63: YAMLLoadWarning: calling yaml.load() without Loader=... is deprecated, as the default Loader is unsafe. Please read https://msg.pyyaml.org/load for full details.\n",
      "  config.update(yaml.load(text) or {})\n"
     ]
    }
   ],
   "source": [
    "import numpy as np\n",
    "import pandas as pd\n",
    "import matplotlib.pyplot as plt\n",
    "import seaborn as sns\n",
    "from tqdm.notebook import tqdm\n",
    "import datetime\n",
    "import os\n",
    "\n",
    "import xgboost as xgb\n",
    "from sklearn.model_selection import train_test_split\n",
    "import lightgbm\n",
    "import warnings\n",
    "from sklearn.metrics import mean_squared_error\n",
    "warnings.filterwarnings('ignore')\n",
    "#한글 깨짐방지\n",
    "plt.rc('font',family = 'Malgun Gothic')\n",
    "plt.rcParams['axes.unicode_minus'] = False"
   ]
  },
  {
   "cell_type": "code",
   "execution_count": 1,
   "metadata": {
    "ExecuteTime": {
     "end_time": "2020-07-07T01:48:14.388427Z",
     "start_time": "2020-07-07T01:48:11.867525Z"
    }
   },
   "outputs": [],
   "source": [
    "path = './data/'\n",
    "train = pd.read_csv(path + 'train.csv')\n",
    "test = pd.read_csv(path + 'test.csv')\n",
    "submission  = pd.read_csv(path + 'submission.csv')\n",
    "merge_df = pd.concat([train,test])"
   ]
  },
  {
   "cell_type": "code",
   "execution_count": 2,
   "metadata": {
    "ExecuteTime": {
     "end_time": "2020-07-07T01:48:14.393428Z",
     "start_time": "2020-07-07T01:48:14.389427Z"
    },
    "scrolled": true
   },
   "outputs": [
    {
     "data": {
      "text/plain": [
       "((3362796, 8), (473392, 8))"
      ]
     },
     "execution_count": 2,
     "metadata": {},
     "output_type": "execute_result"
    }
   ],
   "source": [
    "train.shape, test.shape"
   ]
  },
  {
   "cell_type": "markdown",
   "metadata": {},
   "source": [
    "### Data setting\n",
    "* 거래 취소의 경우 거래금액, 환불금액 2회 체크되므로 거래취소 횟수 만큼 제외\n",
    "* 날짜기준으로 묶어줄 필요가 있음\n",
    "* 주말과 요일은 날짜기준으로 결합\n",
    "\n",
    "-> 시간은 EDA에서 상세히 다시살펴볼것 (새벽시간대 매출이 높은 곳이라던지)"
   ]
  },
  {
   "cell_type": "markdown",
   "metadata": {},
   "source": [
    "### 필요없는 row 제거\n",
    "* 2nd 솔루션 : 거래기록이 160일 이하인 경우/ 2018-07-31 주변 5일 내 거래가 없으면 제외, \n",
    "    * test의 경우 2019-03-31 이전 7일간 거래가 없으면 폐업으로 추정\n",
    "* 변경 : 거래기록 100일 이하인경우 삭제, 거래횟수가 30회 이하면 제외"
   ]
  },
  {
   "cell_type": "code",
   "execution_count": 4,
   "metadata": {
    "ExecuteTime": {
     "end_time": "2020-07-07T01:48:15.341722Z",
     "start_time": "2020-07-07T01:48:14.397429Z"
    }
   },
   "outputs": [],
   "source": [
    "# train 중 전체 거래일이 100일 이하인경우 학습에 사용불가\n",
    "train['date'] = pd.to_datetime(train['date'])\n",
    "gap_check = train.groupby('store_id')['date'].agg(['min','max'])\n",
    "gap = (gap_check['max']-gap_check['min']).apply(lambda x : x.days)\n",
    "gap.name = 'gap'\n",
    "row_count = train.groupby('store_id')['date'].count()\n",
    "gap = pd.concat([gap,row_count],axis=1)\n",
    "\n",
    "del_id = gap.loc[(gap['gap']<130)|(gap['date']<29)].index\n",
    "clean_train = train[~(train.store_id.isin(del_id))]"
   ]
  },
  {
   "cell_type": "code",
   "execution_count": 5,
   "metadata": {
    "ExecuteTime": {
     "end_time": "2020-07-07T01:48:15.408737Z",
     "start_time": "2020-07-07T01:48:15.342722Z"
    }
   },
   "outputs": [
    {
     "name": "stdout",
     "output_type": "stream",
     "text": [
      "기본 트레인 길이 : 3362796, 기본트레인 상점수 : 1775\n",
      "clean 트레인 길이 : 3322858, clean 트레인 상점수 : 1425\n",
      "길이 차이 : 39938,상점수 차이 : 350\n"
     ]
    }
   ],
   "source": [
    "print(f'기본 트레인 길이 : {train.shape[0]}, 기본트레인 상점수 : {train.store_id.nunique()}')\n",
    "print(f'clean 트레인 길이 : {clean_train.shape[0]}, clean 트레인 상점수 : {clean_train.store_id.nunique()}')\n",
    "print(f'길이 차이 : {train.shape[0] - clean_train.shape[0]},상점수 차이 : {train.store_id.nunique() - clean_train.store_id.nunique()}')"
   ]
  },
  {
   "cell_type": "code",
   "execution_count": 6,
   "metadata": {
    "ExecuteTime": {
     "end_time": "2020-07-07T01:48:15.676797Z",
     "start_time": "2020-07-07T01:48:15.409737Z"
    }
   },
   "outputs": [],
   "source": [
    "#전체날짜의 휴일 요일\n",
    "all_dates = merge_df.drop_duplicates('date').sort_values('date')\n",
    "all_dates = all_dates[['date','days_of_week','holyday']]\n",
    "all_dates.reset_index(drop=True, inplace=True)\n",
    "all_dates['date'] = pd.to_datetime(all_dates['date'])"
   ]
  },
  {
   "cell_type": "code",
   "execution_count": 7,
   "metadata": {
    "ExecuteTime": {
     "end_time": "2020-07-07T01:48:15.714805Z",
     "start_time": "2020-07-07T01:48:15.677798Z"
    }
   },
   "outputs": [
    {
     "data": {
      "text/html": [
       "<div>\n",
       "<style scoped>\n",
       "    .dataframe tbody tr th:only-of-type {\n",
       "        vertical-align: middle;\n",
       "    }\n",
       "\n",
       "    .dataframe tbody tr th {\n",
       "        vertical-align: top;\n",
       "    }\n",
       "\n",
       "    .dataframe thead th {\n",
       "        text-align: right;\n",
       "    }\n",
       "</style>\n",
       "<table border=\"1\" class=\"dataframe\">\n",
       "  <thead>\n",
       "    <tr style=\"text-align: right;\">\n",
       "      <th></th>\n",
       "      <th>store_id</th>\n",
       "      <th>date</th>\n",
       "      <th>time</th>\n",
       "      <th>card_id</th>\n",
       "      <th>amount</th>\n",
       "      <th>installments</th>\n",
       "      <th>days_of_week</th>\n",
       "      <th>holyday</th>\n",
       "    </tr>\n",
       "  </thead>\n",
       "  <tbody>\n",
       "    <tr>\n",
       "      <td>486173</td>\n",
       "      <td>176</td>\n",
       "      <td>2018-07-13</td>\n",
       "      <td>13:34:02</td>\n",
       "      <td>edba13c668</td>\n",
       "      <td>-2700</td>\n",
       "      <td>18.0</td>\n",
       "      <td>4</td>\n",
       "      <td>0</td>\n",
       "    </tr>\n",
       "    <tr>\n",
       "      <td>486174</td>\n",
       "      <td>176</td>\n",
       "      <td>2018-07-13</td>\n",
       "      <td>16:30:12</td>\n",
       "      <td>77fff27956</td>\n",
       "      <td>2750</td>\n",
       "      <td>NaN</td>\n",
       "      <td>4</td>\n",
       "      <td>0</td>\n",
       "    </tr>\n",
       "  </tbody>\n",
       "</table>\n",
       "</div>"
      ],
      "text/plain": [
       "        store_id       date      time     card_id  amount  installments  \\\n",
       "486173       176 2018-07-13  13:34:02  edba13c668   -2700          18.0   \n",
       "486174       176 2018-07-13  16:30:12  77fff27956    2750           NaN   \n",
       "\n",
       "        days_of_week  holyday  \n",
       "486173             4        0  \n",
       "486174             4        0  "
      ]
     },
     "execution_count": 7,
     "metadata": {},
     "output_type": "execute_result"
    }
   ],
   "source": [
    "#환불금액이 동일하지 않은 경우도 있음 \n",
    "train.loc[(train.store_id == 176)&(train.date == datetime.datetime(2018,7,13))]"
   ]
  },
  {
   "cell_type": "code",
   "execution_count": 13,
   "metadata": {
    "ExecuteTime": {
     "end_time": "2020-07-07T01:55:20.846210Z",
     "start_time": "2020-07-07T01:55:20.834207Z"
    }
   },
   "outputs": [],
   "source": [
    "def reform_data(df, isTrain = True):\n",
    "    '''날짜별로 나열되어있는 데이터를 상정별로 병합\n",
    "    \n",
    "    데이터를 store_id를 기준으로 병합. 최종 거래일로 부터 100일인 날짜를 마지막으로 설정 후\n",
    "    최초 거래일자부터의 데이터를 결합. 마지막 100일의 거래금액은 y로 변환\n",
    "    \n",
    "    all_dates는 train,test의 날짜를 결합해놓은 데이터 \n",
    "    \n",
    "    추가되는 feature\n",
    "    amount_mean, amount_mid : 전체 거래금액 평균 및 중앙값\n",
    "    count_sum, count_mean : 전체 거래횟수 및 평균 거래횟수\n",
    "    daily_trans_amount : 일별 평균 거래금액\n",
    "    mean_gap : 다음날짜까지의 거래기간의 평균\n",
    "    0~6_sum, 0~6_mean : 요일별 전체 거래금액 및 평균 거래금액\n",
    "    unholy, holy_mean, sum : 평일/주말 평균 거래 금액 및 전체 거래금액\n",
    "    7D,15D,30D_sum, median, mean : 마지막 날짜에서 7,15,30일간 거래금액\n",
    "    7,15,30D_MA7_mean : 마지막 날짜에서 7,15,30일간 7일간 이동평균\n",
    "    7,15,30D_MA15_mean : 마지막 날짜에서 7,15,30일간 15일간 이동평균\n",
    "    7,15,30D_MA30_mean : 마지막 날짜에서 7,15,30일간 30일간 이동평균\n",
    "    \n",
    "    Parameters\n",
    "    ---------\n",
    "    df(DataFrame) : train, test 데이터 입력\n",
    "    isTrain(bool) : train일때 True, test일때, False\n",
    "    \n",
    "    '''\n",
    "    df.loc[df.amount <0,'refund'] = 1\n",
    "    sample_df = df.groupby(['date','store_id']).agg({'amount':['sum','count'],'refund':['sum']}).reset_index()\n",
    "    sample_df.columns = ['date','store_id','amount_sum','amount_count','refund_sum']\n",
    "    sample_df['date'] = pd.to_datetime(sample_df['date'])\n",
    "    sample_df['temp_date'] = sample_df['date']\n",
    "\n",
    "    #거래횟수당 평균 거래금액 \n",
    "    sample_df['trans_amount'] = sample_df['amount_sum']/(sample_df['amount_count']-sample_df['refund_sum'])\n",
    "    sample_df['trans_amount'].fillna(0,inplace= True)\n",
    "\n",
    "    #날짜병합\n",
    "    sample_df = pd.merge(sample_df,all_dates)\n",
    "\n",
    "    sample_df.set_index(\"date\",inplace=True)\n",
    "\n",
    "    store_id_list = sample_df.store_id.unique()\n",
    "    fin_ls =[]\n",
    "    add_row = pd.DataFrame({'holyday_amount_sum':0,'holyday_amount_mean':0},index = ['holy']) #holyday 없는경우 \n",
    "    \n",
    "    for store_id in notebook.tqdm(store_id_list):\n",
    "\n",
    "        store = sample_df[sample_df.store_id == store_id]    \n",
    "        store = store.asfreq('D',fill_value = 0) #일자별로 열추가 \n",
    "        store['temp_date'] = store.index\n",
    "        store['store_id'] = store_id\n",
    "\n",
    "        # 7일, 15일, 30일간의 이동평균 계산 \n",
    "        store['MA7'] = store['amount_sum'].rolling('7D').mean()\n",
    "        store['MA15'] = store['amount_sum'].rolling('15D').mean()\n",
    "        store['MA30'] = store['amount_sum'].rolling('30D').mean()\n",
    "\n",
    "        # train set인 경우 마지막 100일은 y값으로 저장되어야함\n",
    "        # store_x는 100일전까지 기간 데이터 \n",
    "        if isTrain:\n",
    "            store_y = store.last(\"100D\")\n",
    "            y = store_y.amount_sum.sum()\n",
    "            store_x = store[store.temp_date < store_y.iloc[0].temp_date]\n",
    "        #test는 전체\n",
    "        else : \n",
    "            y = 0\n",
    "            store_x = store[:]\n",
    "\n",
    "        feat = dict()\n",
    "\n",
    "        #amount >0 이상인 경우만 \n",
    "        over_zero = store_x.loc[store_x.amount_sum>0]\n",
    "        \n",
    "        # base (거래가 있는 경우만 )\n",
    "        feat['store_id'] = store_id\n",
    "        feat['y'] = y\n",
    "        feat['amount_mean'] = over_zero.amount_sum.mean()  # 거래액의 평균\n",
    "        feat['amount_mid'] = over_zero.amount_sum.median() # 거래액의 중간값\n",
    "        feat['count_sum'] = over_zero.amount_count.sum() # 전체 거래 횟수\n",
    "        feat['count_mean'] = over_zero.amount_count.mean() # 평균 거래 횟수\n",
    "        feat['refund_count'] = over_zero.refund_sum.sum() # 전체 최소 횟수\n",
    "        feat['refund_rate'] = over_zero['refund_sum'].sum()/over_zero.shape[0] # 취소율\n",
    "        feat['daily_trans_amount'] = over_zero.trans_amount.sum() / over_zero.shape[0] #일자별 평균 금액의 평균\n",
    "\n",
    "        feat['mean_gap'] = (over_zero.index[1:] - over_zero.index[:-1]).days.values.mean() # 거래일자간 평균 기간\n",
    "        \n",
    "        #weekly (거래가 있는 경우만 고려)\n",
    "        weekly = over_zero[['days_of_week','amount_sum']].groupby('days_of_week').agg(['sum','mean'])\n",
    "        weekly.columns = ['weekly_amount_sum','weekly_amount_mean']\n",
    "\n",
    "        weekly_sum = weekly['weekly_amount_sum']\n",
    "        weekly_sum.index = [f\"{index}_sum\" for index in weekly['weekly_amount_sum'].index.values]\n",
    "        feat.update(weekly_sum.to_dict())\n",
    "\n",
    "        weekly_mean = weekly['weekly_amount_mean']\n",
    "        weekly_mean.index = [f\"{index}_mean\" for index in weekly['weekly_amount_mean'].index.values]\n",
    "        feat.update(weekly_mean.to_dict())\n",
    "\n",
    "        #holyday (거래가 있는 경우만 고려)\n",
    "        holyday = over_zero[['holyday','amount_sum']].groupby('holyday').agg(['sum','mean'])\n",
    "        holyday.columns = ['holyday_amount_sum','holyday_amount_mean']\n",
    "\n",
    "        try : \n",
    "            holyday.index = ['unholy','holy']\n",
    "        except :\n",
    "            holyday = pd.concat([holyday,add_row])\n",
    "            \n",
    "        holyday_sum = holyday['holyday_amount_sum']\n",
    "        holyday_sum.index = [f\"{index}_sum\" for index in holyday['holyday_amount_sum'].index.values]\n",
    "        feat.update(holyday_sum.to_dict())\n",
    "\n",
    "        holyday_mean = holyday['holyday_amount_mean']\n",
    "        holyday_mean.index = [f\"{index}_mean\" for index in holyday['holyday_amount_mean'].index.values]\n",
    "        feat.update(holyday_mean.to_dict())\n",
    "    \n",
    "        #이동평균값 \n",
    "        feat['7D_mean'] = store_x.last('7D').amount_sum.mean()\n",
    "        feat['15D_mean'] = store_x.last('15D').amount_sum.mean()\n",
    "        feat['30D_mean'] = store_x.last('30D').amount_sum.mean()\n",
    "\n",
    "        feat['7D_median'] = store_x.last('7D').amount_sum.median()\n",
    "        feat['15D_median'] = store_x.last('15D').amount_sum.median()\n",
    "        feat['30D_median'] = store_x.last('30D').amount_sum.median()\n",
    "\n",
    "        feat['7D_sum'] = store_x.last('7D').amount_sum.sum()\n",
    "        feat['15D_sum'] = store_x.last('15D').amount_sum.sum()\n",
    "        feat['30D_sum'] = store_x.last('30D').amount_sum.sum()\n",
    "\n",
    "        feat['7D_MA7_mean'] = store_x.last('7D').MA7.mean()\n",
    "        feat['15D_MA7_mean'] = store_x.last('15D').MA7.mean()\n",
    "        feat['30D_MA7_mean'] = store_x.last('30D').MA7.mean()\n",
    "\n",
    "        feat['7D_MA15_mean'] = store_x.last('7D').MA15.mean()\n",
    "        feat['15D_MA15_mean'] = store_x.last('15D').MA15.mean()\n",
    "        feat['30D_MA15_mean'] = store_x.last('30D').MA15.mean()\n",
    "\n",
    "        feat['7D_MA30_mean'] = store_x.last('7D').MA30.mean()\n",
    "        feat['15D_MA30_mean'] = store_x.last('15D').MA30.mean()\n",
    "        feat['30D_MA30_mean'] = store_x.last('30D').MA30.mean()\n",
    "\n",
    "        fin_ls.append(feat)\n",
    "        \n",
    "    fin_df = pd.DataFrame(fin_ls)\n",
    "    return fin_df"
   ]
  },
  {
   "cell_type": "code",
   "execution_count": 14,
   "metadata": {
    "ExecuteTime": {
     "end_time": "2020-07-07T01:55:55.930036Z",
     "start_time": "2020-07-07T01:55:21.413337Z"
    },
    "scrolled": true
   },
   "outputs": [
    {
     "name": "stderr",
     "output_type": "stream",
     "text": [
      "C:\\Users\\User\\AppData\\Roaming\\Python\\Python36\\site-packages\\pandas\\core\\indexing.py:494: SettingWithCopyWarning: \n",
      "A value is trying to be set on a copy of a slice from a DataFrame.\n",
      "Try using .loc[row_indexer,col_indexer] = value instead\n",
      "\n",
      "See the caveats in the documentation: http://pandas.pydata.org/pandas-docs/stable/user_guide/indexing.html#returning-a-view-versus-a-copy\n",
      "  self.obj[item] = s\n"
     ]
    },
    {
     "data": {
      "application/vnd.jupyter.widget-view+json": {
       "model_id": "81f1cc4681414fffb9484f0974ef4736",
       "version_major": 2,
       "version_minor": 0
      },
      "text/plain": [
       "HBox(children=(FloatProgress(value=0.0, max=1425.0), HTML(value='')))"
      ]
     },
     "metadata": {},
     "output_type": "display_data"
    },
    {
     "name": "stdout",
     "output_type": "stream",
     "text": [
      "\n"
     ]
    },
    {
     "data": {
      "application/vnd.jupyter.widget-view+json": {
       "model_id": "bf52523a0ab54cec8ef98e13a2d25d3b",
       "version_major": 2,
       "version_minor": 0
      },
      "text/plain": [
       "HBox(children=(FloatProgress(value=0.0, max=200.0), HTML(value='')))"
      ]
     },
     "metadata": {},
     "output_type": "display_data"
    },
    {
     "name": "stdout",
     "output_type": "stream",
     "text": [
      "\n"
     ]
    }
   ],
   "source": [
    "reform_train = reform_data(clean_train)\n",
    "reform_test = reform_data(test,isTrain=False)"
   ]
  },
  {
   "cell_type": "code",
   "execution_count": 31,
   "metadata": {
    "ExecuteTime": {
     "end_time": "2020-07-07T02:01:22.531017Z",
     "start_time": "2020-07-07T02:01:22.528016Z"
    }
   },
   "outputs": [],
   "source": [
    "#전체횟수가 40회 이하인경우 제외\n",
    "reform_train = reform_train[~(reform_train['count_sum']<40)]"
   ]
  },
  {
   "cell_type": "code",
   "execution_count": 32,
   "metadata": {
    "ExecuteTime": {
     "end_time": "2020-07-07T02:01:29.267805Z",
     "start_time": "2020-07-07T02:01:29.264804Z"
    }
   },
   "outputs": [
    {
     "data": {
      "text/plain": [
       "((1327, 46), (200, 46))"
      ]
     },
     "execution_count": 32,
     "metadata": {},
     "output_type": "execute_result"
    }
   ],
   "source": [
    "reform_train.shape,reform_test.shape"
   ]
  },
  {
   "cell_type": "code",
   "execution_count": 27,
   "metadata": {
    "ExecuteTime": {
     "end_time": "2020-07-02T07:01:07.426136Z",
     "start_time": "2020-07-02T07:01:07.357120Z"
    }
   },
   "outputs": [
    {
     "data": {
      "text/html": [
       "<div>\n",
       "<style scoped>\n",
       "    .dataframe tbody tr th:only-of-type {\n",
       "        vertical-align: middle;\n",
       "    }\n",
       "\n",
       "    .dataframe tbody tr th {\n",
       "        vertical-align: top;\n",
       "    }\n",
       "\n",
       "    .dataframe thead th {\n",
       "        text-align: right;\n",
       "    }\n",
       "</style>\n",
       "<table border=\"1\" class=\"dataframe\">\n",
       "  <thead>\n",
       "    <tr style=\"text-align: right;\">\n",
       "      <th></th>\n",
       "      <th>store_id</th>\n",
       "      <th>y</th>\n",
       "      <th>amount_mean</th>\n",
       "      <th>amount_mid</th>\n",
       "      <th>count_sum</th>\n",
       "      <th>count_mean</th>\n",
       "      <th>daily_trans_amount</th>\n",
       "      <th>mean_gap</th>\n",
       "      <th>0_sum</th>\n",
       "      <th>1_sum</th>\n",
       "      <th>...</th>\n",
       "      <th>30D_sum</th>\n",
       "      <th>7D_MA7_mean</th>\n",
       "      <th>15D_MA7_mean</th>\n",
       "      <th>30D_MA7_mean</th>\n",
       "      <th>7D_MA15_mean</th>\n",
       "      <th>15D_MA15_mean</th>\n",
       "      <th>30D_MA15_mean</th>\n",
       "      <th>7D_MA30_mean</th>\n",
       "      <th>15D_MA30_mean</th>\n",
       "      <th>30D_MA30_mean</th>\n",
       "    </tr>\n",
       "  </thead>\n",
       "  <tbody>\n",
       "    <tr>\n",
       "      <td>count</td>\n",
       "      <td>1472.000000</td>\n",
       "      <td>1.472000e+03</td>\n",
       "      <td>1472.000000</td>\n",
       "      <td>1472.000000</td>\n",
       "      <td>1472.000000</td>\n",
       "      <td>1472.000000</td>\n",
       "      <td>1472.000000</td>\n",
       "      <td>1469.000000</td>\n",
       "      <td>1.463000e+03</td>\n",
       "      <td>1.441000e+03</td>\n",
       "      <td>...</td>\n",
       "      <td>1472.000000</td>\n",
       "      <td>1472.000000</td>\n",
       "      <td>1472.000000</td>\n",
       "      <td>1472.000000</td>\n",
       "      <td>1472.000000</td>\n",
       "      <td>1472.000000</td>\n",
       "      <td>1472.000000</td>\n",
       "      <td>1472.000000</td>\n",
       "      <td>1472.000000</td>\n",
       "      <td>1472.000000</td>\n",
       "    </tr>\n",
       "    <tr>\n",
       "      <td>mean</td>\n",
       "      <td>898.811821</td>\n",
       "      <td>5.966662e+04</td>\n",
       "      <td>1100.034203</td>\n",
       "      <td>856.925951</td>\n",
       "      <td>1814.253397</td>\n",
       "      <td>5.252746</td>\n",
       "      <td>471.817911</td>\n",
       "      <td>3.119983</td>\n",
       "      <td>4.350701e+04</td>\n",
       "      <td>3.829044e+04</td>\n",
       "      <td>...</td>\n",
       "      <td>18685.821332</td>\n",
       "      <td>628.630181</td>\n",
       "      <td>623.284832</td>\n",
       "      <td>630.641859</td>\n",
       "      <td>623.016760</td>\n",
       "      <td>629.408382</td>\n",
       "      <td>629.083111</td>\n",
       "      <td>630.382238</td>\n",
       "      <td>629.187836</td>\n",
       "      <td>626.982452</td>\n",
       "    </tr>\n",
       "    <tr>\n",
       "      <td>std</td>\n",
       "      <td>520.840882</td>\n",
       "      <td>1.124273e+05</td>\n",
       "      <td>1831.179828</td>\n",
       "      <td>1500.514687</td>\n",
       "      <td>3631.139977</td>\n",
       "      <td>8.443075</td>\n",
       "      <td>1021.579326</td>\n",
       "      <td>4.450737</td>\n",
       "      <td>8.443196e+04</td>\n",
       "      <td>7.285542e+04</td>\n",
       "      <td>...</td>\n",
       "      <td>35404.926113</td>\n",
       "      <td>1213.714479</td>\n",
       "      <td>1189.063556</td>\n",
       "      <td>1181.166574</td>\n",
       "      <td>1189.037457</td>\n",
       "      <td>1189.712681</td>\n",
       "      <td>1166.159492</td>\n",
       "      <td>1182.366269</td>\n",
       "      <td>1169.593187</td>\n",
       "      <td>1145.356770</td>\n",
       "    </tr>\n",
       "    <tr>\n",
       "      <td>min</td>\n",
       "      <td>0.000000</td>\n",
       "      <td>7.500000e+01</td>\n",
       "      <td>42.333333</td>\n",
       "      <td>25.000000</td>\n",
       "      <td>1.000000</td>\n",
       "      <td>1.000000</td>\n",
       "      <td>14.107333</td>\n",
       "      <td>1.000000</td>\n",
       "      <td>8.300000e+01</td>\n",
       "      <td>8.100000e+01</td>\n",
       "      <td>...</td>\n",
       "      <td>0.000000</td>\n",
       "      <td>0.000000</td>\n",
       "      <td>0.000000</td>\n",
       "      <td>0.000000</td>\n",
       "      <td>0.000000</td>\n",
       "      <td>0.000000</td>\n",
       "      <td>0.000000</td>\n",
       "      <td>0.000000</td>\n",
       "      <td>0.000000</td>\n",
       "      <td>0.000000</td>\n",
       "    </tr>\n",
       "    <tr>\n",
       "      <td>25%</td>\n",
       "      <td>442.750000</td>\n",
       "      <td>1.543550e+04</td>\n",
       "      <td>348.487033</td>\n",
       "      <td>249.875000</td>\n",
       "      <td>139.000000</td>\n",
       "      <td>1.505895</td>\n",
       "      <td>104.083761</td>\n",
       "      <td>1.093617</td>\n",
       "      <td>6.882000e+03</td>\n",
       "      <td>5.580000e+03</td>\n",
       "      <td>...</td>\n",
       "      <td>4313.250000</td>\n",
       "      <td>121.403061</td>\n",
       "      <td>133.516667</td>\n",
       "      <td>148.559524</td>\n",
       "      <td>134.264286</td>\n",
       "      <td>145.796667</td>\n",
       "      <td>151.186111</td>\n",
       "      <td>148.113095</td>\n",
       "      <td>151.186111</td>\n",
       "      <td>149.833333</td>\n",
       "    </tr>\n",
       "    <tr>\n",
       "      <td>50%</td>\n",
       "      <td>902.500000</td>\n",
       "      <td>3.407050e+04</td>\n",
       "      <td>628.369832</td>\n",
       "      <td>463.000000</td>\n",
       "      <td>534.000000</td>\n",
       "      <td>2.598669</td>\n",
       "      <td>187.844873</td>\n",
       "      <td>1.351974</td>\n",
       "      <td>1.749800e+04</td>\n",
       "      <td>1.807800e+04</td>\n",
       "      <td>...</td>\n",
       "      <td>10187.000000</td>\n",
       "      <td>333.928571</td>\n",
       "      <td>342.666667</td>\n",
       "      <td>344.178571</td>\n",
       "      <td>342.666667</td>\n",
       "      <td>348.102222</td>\n",
       "      <td>350.161458</td>\n",
       "      <td>344.178571</td>\n",
       "      <td>349.773333</td>\n",
       "      <td>351.850000</td>\n",
       "    </tr>\n",
       "    <tr>\n",
       "      <td>75%</td>\n",
       "      <td>1350.250000</td>\n",
       "      <td>6.821975e+04</td>\n",
       "      <td>1242.175027</td>\n",
       "      <td>950.000000</td>\n",
       "      <td>1894.000000</td>\n",
       "      <td>5.506673</td>\n",
       "      <td>404.262300</td>\n",
       "      <td>2.833333</td>\n",
       "      <td>4.794800e+04</td>\n",
       "      <td>4.415400e+04</td>\n",
       "      <td>...</td>\n",
       "      <td>21267.000000</td>\n",
       "      <td>742.571429</td>\n",
       "      <td>735.514286</td>\n",
       "      <td>729.564286</td>\n",
       "      <td>733.714286</td>\n",
       "      <td>743.400000</td>\n",
       "      <td>724.777778</td>\n",
       "      <td>724.483333</td>\n",
       "      <td>729.095556</td>\n",
       "      <td>717.035278</td>\n",
       "    </tr>\n",
       "    <tr>\n",
       "      <td>max</td>\n",
       "      <td>1799.000000</td>\n",
       "      <td>2.755612e+06</td>\n",
       "      <td>27187.379310</td>\n",
       "      <td>24630.000000</td>\n",
       "      <td>56334.000000</td>\n",
       "      <td>114.967347</td>\n",
       "      <td>21159.659091</td>\n",
       "      <td>50.200000</td>\n",
       "      <td>1.374296e+06</td>\n",
       "      <td>1.406489e+06</td>\n",
       "      <td>...</td>\n",
       "      <td>879408.000000</td>\n",
       "      <td>29783.020408</td>\n",
       "      <td>29715.542857</td>\n",
       "      <td>29794.490476</td>\n",
       "      <td>29715.542857</td>\n",
       "      <td>29672.248889</td>\n",
       "      <td>29489.235556</td>\n",
       "      <td>29794.490476</td>\n",
       "      <td>29489.235556</td>\n",
       "      <td>28786.225556</td>\n",
       "    </tr>\n",
       "  </tbody>\n",
       "</table>\n",
       "<p>8 rows × 44 columns</p>\n",
       "</div>"
      ],
      "text/plain": [
       "          store_id             y   amount_mean    amount_mid     count_sum  \\\n",
       "count  1472.000000  1.472000e+03   1472.000000   1472.000000   1472.000000   \n",
       "mean    898.811821  5.966662e+04   1100.034203    856.925951   1814.253397   \n",
       "std     520.840882  1.124273e+05   1831.179828   1500.514687   3631.139977   \n",
       "min       0.000000  7.500000e+01     42.333333     25.000000      1.000000   \n",
       "25%     442.750000  1.543550e+04    348.487033    249.875000    139.000000   \n",
       "50%     902.500000  3.407050e+04    628.369832    463.000000    534.000000   \n",
       "75%    1350.250000  6.821975e+04   1242.175027    950.000000   1894.000000   \n",
       "max    1799.000000  2.755612e+06  27187.379310  24630.000000  56334.000000   \n",
       "\n",
       "        count_mean  daily_trans_amount     mean_gap         0_sum  \\\n",
       "count  1472.000000         1472.000000  1469.000000  1.463000e+03   \n",
       "mean      5.252746          471.817911     3.119983  4.350701e+04   \n",
       "std       8.443075         1021.579326     4.450737  8.443196e+04   \n",
       "min       1.000000           14.107333     1.000000  8.300000e+01   \n",
       "25%       1.505895          104.083761     1.093617  6.882000e+03   \n",
       "50%       2.598669          187.844873     1.351974  1.749800e+04   \n",
       "75%       5.506673          404.262300     2.833333  4.794800e+04   \n",
       "max     114.967347        21159.659091    50.200000  1.374296e+06   \n",
       "\n",
       "              1_sum  ...        30D_sum   7D_MA7_mean  15D_MA7_mean  \\\n",
       "count  1.441000e+03  ...    1472.000000   1472.000000   1472.000000   \n",
       "mean   3.829044e+04  ...   18685.821332    628.630181    623.284832   \n",
       "std    7.285542e+04  ...   35404.926113   1213.714479   1189.063556   \n",
       "min    8.100000e+01  ...       0.000000      0.000000      0.000000   \n",
       "25%    5.580000e+03  ...    4313.250000    121.403061    133.516667   \n",
       "50%    1.807800e+04  ...   10187.000000    333.928571    342.666667   \n",
       "75%    4.415400e+04  ...   21267.000000    742.571429    735.514286   \n",
       "max    1.406489e+06  ...  879408.000000  29783.020408  29715.542857   \n",
       "\n",
       "       30D_MA7_mean  7D_MA15_mean  15D_MA15_mean  30D_MA15_mean  7D_MA30_mean  \\\n",
       "count   1472.000000   1472.000000    1472.000000    1472.000000   1472.000000   \n",
       "mean     630.641859    623.016760     629.408382     629.083111    630.382238   \n",
       "std     1181.166574   1189.037457    1189.712681    1166.159492   1182.366269   \n",
       "min        0.000000      0.000000       0.000000       0.000000      0.000000   \n",
       "25%      148.559524    134.264286     145.796667     151.186111    148.113095   \n",
       "50%      344.178571    342.666667     348.102222     350.161458    344.178571   \n",
       "75%      729.564286    733.714286     743.400000     724.777778    724.483333   \n",
       "max    29794.490476  29715.542857   29672.248889   29489.235556  29794.490476   \n",
       "\n",
       "       15D_MA30_mean  30D_MA30_mean  \n",
       "count    1472.000000    1472.000000  \n",
       "mean      629.187836     626.982452  \n",
       "std      1169.593187    1145.356770  \n",
       "min         0.000000       0.000000  \n",
       "25%       151.186111     149.833333  \n",
       "50%       349.773333     351.850000  \n",
       "75%       729.095556     717.035278  \n",
       "max     29489.235556   28786.225556  \n",
       "\n",
       "[8 rows x 44 columns]"
      ]
     },
     "execution_count": 27,
     "metadata": {},
     "output_type": "execute_result"
    }
   ],
   "source": [
    "reform_train.describe()"
   ]
  },
  {
   "cell_type": "code",
   "execution_count": 37,
   "metadata": {
    "ExecuteTime": {
     "end_time": "2020-07-07T02:08:30.907666Z",
     "start_time": "2020-07-07T02:08:30.904665Z"
    }
   },
   "outputs": [],
   "source": [
    "del_col = ['0_sum','1_sum','2_sum','3_sum','4_sum','5_sum','6_sum',\n",
    "          '0_mean','1_mean','2_mean','3_mean','4_mean','5_mean','6_mean']"
   ]
  },
  {
   "cell_type": "code",
   "execution_count": 42,
   "metadata": {
    "ExecuteTime": {
     "end_time": "2020-07-07T02:09:57.075053Z",
     "start_time": "2020-07-07T02:09:57.060049Z"
    }
   },
   "outputs": [],
   "source": [
    "#train\n",
    "reform_train['week_sum'] = reform_train[['0_sum','1_sum','2_sum','3_sum','4_sum']].sum(axis=1)\n",
    "reform_train['weekend_sum'] = reform_train[['5_sum','6_sum']].sum(axis=1)\n",
    "\n",
    "reform_train['week_mean'] = reform_train[['0_mean','1_mean','2_mean','3_mean','4_mean']].mean(axis=1)\n",
    "reform_train['weekend_mean'] = reform_train[['5_mean','6_mean']].mean(axis=1)\n",
    "\n",
    "#test\n",
    "reform_test['week_sum'] = reform_test[['0_sum','1_sum','2_sum','3_sum','4_sum']].sum(axis=1)\n",
    "reform_test['weekend_sum'] = reform_test[['5_sum','6_sum']].sum(axis=1)\n",
    "\n",
    "reform_test['week_mean'] = reform_test[['0_mean','1_mean','2_mean','3_mean','4_mean']].mean(axis=1)\n",
    "reform_test['weekend_mean'] = reform_test[['5_mean','6_mean']].mean(axis=1)"
   ]
  },
  {
   "cell_type": "code",
   "execution_count": 43,
   "metadata": {
    "ExecuteTime": {
     "end_time": "2020-07-07T02:10:32.972608Z",
     "start_time": "2020-07-07T02:10:32.968608Z"
    }
   },
   "outputs": [],
   "source": [
    "reform_train.drop(del_col,axis= 1,inplace = True)\n",
    "reform_test.drop(del_col,axis= 1,inplace = True)"
   ]
  },
  {
   "cell_type": "code",
   "execution_count": 79,
   "metadata": {
    "ExecuteTime": {
     "end_time": "2020-07-02T08:04:50.285316Z",
     "start_time": "2020-07-02T08:04:50.276988Z"
    }
   },
   "outputs": [],
   "source": [
    "money_col = ['amount_mean', 'amount_mid', '0_sum', '1_sum', '2_sum', '3_sum', '4_sum', '5_sum', '6_sum', '0_mean',\n",
    "             '1_mean', '2_mean', '3_mean', '4_mean', '5_mean', '6_mean',\n",
    "             'unholy_sum', 'holy_sum', 'unholy_mean', 'holy_mean', '7D_mean',\n",
    "             '15D_mean', '30D_mean', '7D_median', '15D_median', '30D_median',\n",
    "             '7D_sum', '15D_sum', '30D_sum', '7D_MA7_mean', '15D_MA15_mean',\n",
    "             '30D_MA30_mean', '7D_MA7_median', '15D_MA15_median', '30D_MA30_median',\n",
    "             '7D_MA7_sum', '15D_MA15_sum', '30D_MA30_sum']"
   ]
  },
  {
   "cell_type": "code",
   "execution_count": 84,
   "metadata": {
    "ExecuteTime": {
     "end_time": "2020-07-07T02:22:12.681626Z",
     "start_time": "2020-07-07T02:22:12.678625Z"
    }
   },
   "outputs": [],
   "source": [
    "reform_train = reform_train[['y', 'amount_mean', 'count_sum', 'count_mean',\n",
    "       'refund_count', 'refund_rate', 'mean_gap',\n",
    "       'holy_sum', 'holy_mean', '7D_mean',\n",
    "       '7D_MA7_mean', 'weekend_mean']]"
   ]
  },
  {
   "cell_type": "code",
   "execution_count": 85,
   "metadata": {
    "ExecuteTime": {
     "end_time": "2020-07-07T02:22:17.210642Z",
     "start_time": "2020-07-07T02:22:16.503482Z"
    }
   },
   "outputs": [
    {
     "data": {
      "text/plain": [
       "<matplotlib.axes._subplots.AxesSubplot at 0x26b054ae128>"
      ]
     },
     "execution_count": 85,
     "metadata": {},
     "output_type": "execute_result"
    },
    {
     "data": {
      "image/png": "[encoded data removed]",
      "text/plain": [
       "<Figure size 1440x1440 with 2 Axes>"
      ]
     },
     "metadata": {},
     "output_type": "display_data"
    }
   ],
   "source": [
    "plt.figure(figsize = (20,20))\n",
    "sns.heatmap(reform_train.corr(),annot=True)"
   ]
  },
  {
   "cell_type": "markdown",
   "metadata": {},
   "source": [
    "### modeling\n",
    "* 2nd 솔루션은 xgb, train_test_split 0.1만"
   ]
  },
  {
   "cell_type": "code",
   "execution_count": 86,
   "metadata": {
    "ExecuteTime": {
     "end_time": "2020-07-07T02:22:20.187309Z",
     "start_time": "2020-07-07T02:22:20.182307Z"
    }
   },
   "outputs": [],
   "source": [
    "col = [i for i in reform_train.columns if i not in ['store_id','y']]\n",
    "y = reform_train['y'].values\n",
    "\n",
    "train_X, test_X, train_y, test_y = train_test_split(reform_train[col],y, test_size=0.3, random_state=4024)"
   ]
  },
  {
   "cell_type": "markdown",
   "metadata": {},
   "source": [
    "#### lgbm"
   ]
  },
  {
   "cell_type": "code",
   "execution_count": 93,
   "metadata": {
    "ExecuteTime": {
     "end_time": "2020-07-07T02:27:03.326692Z",
     "start_time": "2020-07-07T02:27:01.776344Z"
    }
   },
   "outputs": [
    {
     "name": "stdout",
     "output_type": "stream",
     "text": [
      "Training until validation scores don't improve for 500 rounds\n",
      "[100]\ttrain's rmse: 124235\ttrain's l2: 1.54343e+10\ttest's rmse: 77294.9\ttest's l2: 5.97449e+09\n",
      "[200]\ttrain's rmse: 119976\ttrain's l2: 1.43943e+10\ttest's rmse: 72074.5\ttest's l2: 5.19473e+09\n",
      "[300]\ttrain's rmse: 116340\ttrain's l2: 1.35349e+10\ttest's rmse: 67642.6\ttest's l2: 4.57552e+09\n",
      "[400]\ttrain's rmse: 113248\ttrain's l2: 1.28251e+10\ttest's rmse: 63907.8\ttest's l2: 4.08421e+09\n",
      "[500]\ttrain's rmse: 110607\ttrain's l2: 1.22339e+10\ttest's rmse: 60779.8\ttest's l2: 3.69418e+09\n",
      "[600]\ttrain's rmse: 108325\ttrain's l2: 1.17343e+10\ttest's rmse: 58206.8\ttest's l2: 3.38803e+09\n",
      "[700]\ttrain's rmse: 106356\ttrain's l2: 1.13115e+10\ttest's rmse: 56024.1\ttest's l2: 3.1387e+09\n",
      "[800]\ttrain's rmse: 104653\ttrain's l2: 1.09523e+10\ttest's rmse: 54212.3\ttest's l2: 2.93898e+09\n",
      "[900]\ttrain's rmse: 103166\ttrain's l2: 1.06432e+10\ttest's rmse: 52632.5\ttest's l2: 2.77018e+09\n",
      "[1000]\ttrain's rmse: 101839\ttrain's l2: 1.03712e+10\ttest's rmse: 51293.5\ttest's l2: 2.63102e+09\n",
      "[1100]\ttrain's rmse: 100664\ttrain's l2: 1.01333e+10\ttest's rmse: 50215.4\ttest's l2: 2.52159e+09\n",
      "[1200]\ttrain's rmse: 99626.7\ttrain's l2: 9.92548e+09\ttest's rmse: 49350.2\ttest's l2: 2.43544e+09\n",
      "[1300]\ttrain's rmse: 98705.8\ttrain's l2: 9.74284e+09\ttest's rmse: 48631.8\ttest's l2: 2.36506e+09\n",
      "[1400]\ttrain's rmse: 97880.7\ttrain's l2: 9.58063e+09\ttest's rmse: 48059.5\ttest's l2: 2.30972e+09\n",
      "[1500]\ttrain's rmse: 97139.6\ttrain's l2: 9.43609e+09\ttest's rmse: 47604.7\ttest's l2: 2.26621e+09\n",
      "[1600]\ttrain's rmse: 96471.8\ttrain's l2: 9.3068e+09\ttest's rmse: 47260.5\ttest's l2: 2.23355e+09\n",
      "[1700]\ttrain's rmse: 95865.5\ttrain's l2: 9.1902e+09\ttest's rmse: 46999.1\ttest's l2: 2.20892e+09\n",
      "[1800]\ttrain's rmse: 95310.4\ttrain's l2: 9.08408e+09\ttest's rmse: 46807.7\ttest's l2: 2.19096e+09\n",
      "[1900]\ttrain's rmse: 94803.6\ttrain's l2: 8.98772e+09\ttest's rmse: 46673\ttest's l2: 2.17837e+09\n",
      "[2000]\ttrain's rmse: 94343.1\ttrain's l2: 8.90063e+09\ttest's rmse: 46588\ttest's l2: 2.17045e+09\n",
      "[2100]\ttrain's rmse: 93916.3\ttrain's l2: 8.82028e+09\ttest's rmse: 46557.6\ttest's l2: 2.16761e+09\n",
      "[2200]\ttrain's rmse: 93520.2\ttrain's l2: 8.74603e+09\ttest's rmse: 46569.8\ttest's l2: 2.16875e+09\n",
      "[2300]\ttrain's rmse: 93149.2\ttrain's l2: 8.67677e+09\ttest's rmse: 46604.6\ttest's l2: 2.17199e+09\n",
      "[2400]\ttrain's rmse: 92799.6\ttrain's l2: 8.61177e+09\ttest's rmse: 46650.2\ttest's l2: 2.17624e+09\n",
      "[2500]\ttrain's rmse: 92469.5\ttrain's l2: 8.55061e+09\ttest's rmse: 46715.6\ttest's l2: 2.18235e+09\n",
      "[2600]\ttrain's rmse: 92157\ttrain's l2: 8.49291e+09\ttest's rmse: 46792.8\ttest's l2: 2.18957e+09\n",
      "Early stopping, best iteration is:\n",
      "[2117]\ttrain's rmse: 93847.3\ttrain's l2: 8.80731e+09\ttest's rmse: 46553.6\ttest's l2: 2.16724e+09\n"
     ]
    },
    {
     "data": {
      "text/plain": [
       "LGBMRegressor(learning_rate=0.001, min_child_samples=40, n_estimators=30000,\n",
       "              num_leaves=200, random_state=42)"
      ]
     },
     "execution_count": 93,
     "metadata": {},
     "output_type": "execute_result"
    }
   ],
   "source": [
    "lgbm = lightgbm.LGBMRegressor(learning_rate=0.001, n_estimators=30000,random_state=42, min_child_samples = 40, \n",
    "                              num_leaves=200,)\n",
    "\n",
    "lgbm.fit(train_X,train_y,eval_set=[(train_X,train_y),(test_X,test_y)], eval_names=['train','test'],eval_metric='rmse',verbose=100, early_stopping_rounds= 500)"
   ]
  },
  {
   "cell_type": "code",
   "execution_count": 88,
   "metadata": {
    "ExecuteTime": {
     "end_time": "2020-07-07T02:22:25.310457Z",
     "start_time": "2020-07-07T02:22:25.296454Z"
    }
   },
   "outputs": [
    {
     "data": {
      "text/plain": [
       "46142.225506781186"
      ]
     },
     "execution_count": 88,
     "metadata": {},
     "output_type": "execute_result"
    }
   ],
   "source": [
    "y_pred = lgbm.predict(test_X)\n",
    "score = np.sqrt(mean_squared_error(test_y, y_pred))\n",
    "score"
   ]
  },
  {
   "cell_type": "code",
   "execution_count": 89,
   "metadata": {
    "ExecuteTime": {
     "end_time": "2020-07-07T02:22:29.153927Z",
     "start_time": "2020-07-07T02:22:29.142894Z"
    }
   },
   "outputs": [],
   "source": [
    "y_pred = lgbm.predict(reform_test[col])"
   ]
  },
  {
   "cell_type": "code",
   "execution_count": 86,
   "metadata": {
    "ExecuteTime": {
     "end_time": "2020-07-02T08:04:59.404966Z",
     "start_time": "2020-07-02T08:04:59.388963Z"
    },
    "scrolled": true
   },
   "outputs": [],
   "source": [
    "submission['total_sales'] = y_pred\n",
    "\n",
    "today = datetime.datetime.today().date()\n",
    "os.makedirs('./submission/',exist_ok=True)\n",
    "submission.to_csv(f'./submission/submission_{today}_lgbm_{score}_rmse.csv',index=False)"
   ]
  },
  {
   "cell_type": "markdown",
   "metadata": {},
   "source": [
    "#### xgb"
   ]
  },
  {
   "cell_type": "code",
   "execution_count": 90,
   "metadata": {
    "ExecuteTime": {
     "end_time": "2020-07-07T02:22:39.067313Z",
     "start_time": "2020-07-07T02:22:39.062311Z"
    }
   },
   "outputs": [],
   "source": [
    "def XGB_regressor(train_X, train_y, test_X, test_y, metric, feature_name = None, seed_val = 2018, num_rounds = 3000):\n",
    "    params = {'objective' : 'reg:squarederror',\n",
    "              'learning_rate' : 0.05,\n",
    "              'max_depth' : 10,\n",
    "              'eval_metric': metric,#??? rmse가 아니고??\n",
    "              'min_child_weight': 1,\n",
    "              'subsample': 0.7,\n",
    "              'colsample_bytree' : 0.7,\n",
    "              'seed': seed_val}\n",
    "    plst = list(params.items())\n",
    "    \n",
    "    xgtrain = xgb.DMatrix(train_X, label = train_y)\n",
    "    \n",
    "    if test_y is not None:\n",
    "        xgtest = xgb.DMatrix(test_X, label = test_y)\n",
    "        watchlist = [ (xgtrain, 'train'), (xgtest, 'test')]\n",
    "        model = xgb.train(plst, xgtrain, num_rounds, watchlist, early_stopping_rounds= 300,verbose_eval= 100)\n",
    "    else :\n",
    "        xgtest = xgb.DMatrix(test_X)\n",
    "        model = xgb.train(plst, xgtrain, num_rounds)\n",
    "        \n",
    "    return model"
   ]
  },
  {
   "cell_type": "code",
   "execution_count": 91,
   "metadata": {
    "ExecuteTime": {
     "end_time": "2020-07-07T02:22:39.859489Z",
     "start_time": "2020-07-07T02:22:39.479405Z"
    },
    "scrolled": true
   },
   "outputs": [
    {
     "name": "stdout",
     "output_type": "stream",
     "text": [
      "[0]\ttrain-rmse:139788.17188\ttest-rmse:99977.49219\n",
      "Multiple eval metrics have been passed: 'test-rmse' will be used for early stopping.\n",
      "\n",
      "Will train until test-rmse hasn't improved in 300 rounds.\n",
      "[100]\ttrain-rmse:15516.18652\ttest-rmse:41203.25000\n",
      "[200]\ttrain-rmse:3340.87256\ttest-rmse:43626.78906\n",
      "[300]\ttrain-rmse:1026.31299\ttest-rmse:43786.21484\n",
      "Stopping. Best iteration:\n",
      "[53]\ttrain-rmse:34994.07031\ttest-rmse:39064.24219\n",
      "\n"
     ]
    }
   ],
   "source": [
    "model = XGB_regressor(train_X, train_y, test_X, test_y, 'rmse')"
   ]
  },
  {
   "cell_type": "code",
   "execution_count": 51,
   "metadata": {
    "ExecuteTime": {
     "end_time": "2020-07-07T02:12:00.320209Z",
     "start_time": "2020-07-07T02:12:00.312208Z"
    }
   },
   "outputs": [
    {
     "data": {
      "text/plain": [
       "63738.54722978633"
      ]
     },
     "execution_count": 51,
     "metadata": {},
     "output_type": "execute_result"
    }
   ],
   "source": [
    "y_pred = model.predict(xgb.DMatrix(test_X))\n",
    "score = np.sqrt(mean_squared_error(test_y, y_pred))\n",
    "score"
   ]
  },
  {
   "cell_type": "code",
   "execution_count": 52,
   "metadata": {
    "ExecuteTime": {
     "end_time": "2020-07-07T02:12:01.415455Z",
     "start_time": "2020-07-07T02:12:00.791315Z"
    }
   },
   "outputs": [
    {
     "data": {
      "image/png": "[encoded data removed]",
      "text/plain": [
       "<Figure size 864x1296 with 1 Axes>"
      ]
     },
     "metadata": {},
     "output_type": "display_data"
    }
   ],
   "source": [
    "fig, ax = plt.subplots(figsize=(12,18))\n",
    "xgb.plot_importance(model, max_num_features=50, height=0.8, ax=ax)\n",
    "plt.show()"
   ]
  },
  {
   "cell_type": "code",
   "execution_count": 91,
   "metadata": {
    "ExecuteTime": {
     "end_time": "2020-07-02T08:05:00.997443Z",
     "start_time": "2020-07-02T08:05:00.990441Z"
    }
   },
   "outputs": [],
   "source": [
    "#몇가지 조정을 더 거친후 제출할 답변임\n",
    "y_pred = model.predict(xgb.DMatrix(reform_test[col]), ntree_limit = model.best_ntree_limit)"
   ]
  },
  {
   "cell_type": "code",
   "execution_count": 92,
   "metadata": {
    "ExecuteTime": {
     "end_time": "2020-07-02T08:05:01.001444Z",
     "start_time": "2020-07-02T08:05:00.998443Z"
    }
   },
   "outputs": [],
   "source": [
    "submission['total_sales'] = y_pred"
   ]
  },
  {
   "cell_type": "code",
   "execution_count": 93,
   "metadata": {
    "ExecuteTime": {
     "end_time": "2020-07-02T08:05:01.009446Z",
     "start_time": "2020-07-02T08:05:01.002444Z"
    },
    "scrolled": true
   },
   "outputs": [],
   "source": [
    "submission['total_sales'] = y_pred\n",
    "\n",
    "today = datetime.datetime.today().date()\n",
    "os.makedirs('./submission/',exist_ok=True)\n",
    "submission.to_csv(f'./submission/submission_{today}_xgb_{score}_rmse.csv',index=False)"
   ]
  },
  {
   "cell_type": "markdown",
   "metadata": {},
   "source": [
    "### 솔루션에 있는 조정법 적용"
   ]
  },
  {
   "cell_type": "code",
   "execution_count": 43,
   "metadata": {
    "ExecuteTime": {
     "end_time": "2020-07-02T07:27:30.121842Z",
     "start_time": "2020-07-02T07:27:29.684319Z"
    }
   },
   "outputs": [],
   "source": [
    "test_adj = test.groupby(['date','store_id']).agg({'amount':'sum'}).reset_index()\n",
    "\n",
    "test_x_store_id = reform_train.iloc[test_X.index]['store_id'].values\n",
    "train_adj = train[train.store_id.isin(test_x_store_id)].groupby(['date','store_id']).agg({'amount':'sum'}).reset_index()"
   ]
  },
  {
   "cell_type": "markdown",
   "metadata": {},
   "source": [
    "#### train 선적용\n",
    "* rmse가 오히려증가"
   ]
  },
  {
   "cell_type": "code",
   "execution_count": 44,
   "metadata": {
    "ExecuteTime": {
     "end_time": "2020-07-02T07:27:31.960881Z",
     "start_time": "2020-07-02T07:27:31.259724Z"
    }
   },
   "outputs": [],
   "source": [
    "store_id_list = train_adj.store_id.unique()\n",
    "store_id_list.sort()\n",
    "\n",
    "feb_march = []\n",
    "for store_id in store_id_list:\n",
    "    mini = train_adj[train_adj.store_id == store_id]\n",
    "    march = mini[mini.date >= datetime.datetime(2018,3,1)]['date'].count()\n",
    "    feb = mini[mini.date >= datetime.datetime(2018,2,1)]['date'].count() - march \n",
    "    feb_march.append((march+feb)/2/31) "
   ]
  },
  {
   "cell_type": "code",
   "execution_count": 53,
   "metadata": {
    "ExecuteTime": {
     "end_time": "2020-07-02T07:28:07.398714Z",
     "start_time": "2020-07-02T07:28:07.388712Z"
    }
   },
   "outputs": [
    {
     "data": {
      "text/plain": [
       "54611.801148027844"
      ]
     },
     "execution_count": 53,
     "metadata": {},
     "output_type": "execute_result"
    }
   ],
   "source": [
    "y_pred = model.predict(xgb.DMatrix(test_X))\n",
    "adj_y_pred= y_pred * feb_march * 0.72\n",
    "score = np.sqrt(mean_squared_error(test_y, adj_y_pred))\n",
    "score"
   ]
  },
  {
   "cell_type": "markdown",
   "metadata": {},
   "source": [
    "#### test적용"
   ]
  },
  {
   "cell_type": "code",
   "execution_count": 54,
   "metadata": {
    "ExecuteTime": {
     "end_time": "2020-07-02T07:28:14.034855Z",
     "start_time": "2020-07-02T07:28:14.027856Z"
    }
   },
   "outputs": [],
   "source": [
    "y_pred = model.predict(xgb.DMatrix(reform_test[col]), ntree_limit = model.best_ntree_limit)"
   ]
  },
  {
   "cell_type": "code",
   "execution_count": 59,
   "metadata": {
    "ExecuteTime": {
     "end_time": "2020-07-02T07:29:09.411950Z",
     "start_time": "2020-07-02T07:29:09.094234Z"
    }
   },
   "outputs": [],
   "source": [
    "store_id_list = test_adj.store_id.unique()\n",
    "store_id_list.sort()\n",
    "test_adj['date'] = pd.to_datetime(test_adj['date'])\n",
    "feb_march = []\n",
    "for store_id in store_id_list:\n",
    "    mini = test_adj[test_adj.store_id == store_id]\n",
    "    march = mini[mini.date >= datetime.datetime(2018,3,1)]['date'].count()\n",
    "    feb = mini[mini.date >= datetime.datetime(2018,2,1)]['date'].count() - march \n",
    "    feb_march.append((march+feb)/2/31) "
   ]
  },
  {
   "cell_type": "code",
   "execution_count": 60,
   "metadata": {
    "ExecuteTime": {
     "end_time": "2020-07-02T07:29:21.576526Z",
     "start_time": "2020-07-02T07:29:21.573533Z"
    }
   },
   "outputs": [],
   "source": [
    "adj_y_pred= y_pred * feb_march * 0.72"
   ]
  },
  {
   "cell_type": "code",
   "execution_count": 61,
   "metadata": {
    "ExecuteTime": {
     "end_time": "2020-07-02T07:29:22.027007Z",
     "start_time": "2020-07-02T07:29:21.988999Z"
    }
   },
   "outputs": [],
   "source": [
    "submission['total_sales'] = adj_y_pred\n",
    "\n",
    "today = datetime.datetime.today().date()\n",
    "os.makedirs('./submission/',exist_ok=True)\n",
    "submission.to_csv(f'./submission/submission_{today}_xgb_adj_{score}_rmse.csv',index=False)"
   ]
  },
  {
   "cell_type": "markdown",
   "metadata": {},
   "source": [
    "#### lgbm (log scale)"
   ]
  },
  {
   "cell_type": "code",
   "execution_count": null,
   "metadata": {
    "ExecuteTime": {
     "end_time": "2020-06-30T05:03:34.320247Z",
     "start_time": "2020-06-30T05:03:22.066Z"
    }
   },
   "outputs": [],
   "source": [
    "reform_train[money_col] = reform_train[money_col].apply(lambda x : np.log(1+x))"
   ]
  },
  {
   "cell_type": "code",
   "execution_count": null,
   "metadata": {
    "ExecuteTime": {
     "end_time": "2020-06-30T05:03:34.320247Z",
     "start_time": "2020-06-30T05:03:22.067Z"
    }
   },
   "outputs": [],
   "source": [
    "train_X, test_X, train_y, test_y = train_test_split(reform_train[col],y, test_size=0.3, random_state=4024)"
   ]
  },
  {
   "cell_type": "code",
   "execution_count": null,
   "metadata": {
    "ExecuteTime": {
     "end_time": "2020-06-30T05:03:34.321248Z",
     "start_time": "2020-06-30T05:03:22.069Z"
    }
   },
   "outputs": [],
   "source": [
    "lgbm = lightgbm.LGBMRegressor(learning_rate=0.001, n_estimators=30000)\n",
    "\n",
    "lgbm.fit(train_X,train_y,eval_set=[(train_X,train_y),(test_X,test_y)], eval_names=['train','test'],eval_metric='rmse',verbose=100, early_stopping_rounds= 500)"
   ]
  },
  {
   "cell_type": "code",
   "execution_count": null,
   "metadata": {
    "ExecuteTime": {
     "end_time": "2020-06-30T05:03:34.321248Z",
     "start_time": "2020-06-30T05:03:22.070Z"
    }
   },
   "outputs": [],
   "source": [
    "y_pred = lgbm.predict(test_X)\n",
    "score = np.sqrt(mean_squared_error(test_y, y_pred))"
   ]
  },
  {
   "cell_type": "code",
   "execution_count": null,
   "metadata": {
    "ExecuteTime": {
     "end_time": "2020-06-30T05:03:34.322248Z",
     "start_time": "2020-06-30T05:03:22.071Z"
    }
   },
   "outputs": [],
   "source": [
    "y_pred = lgbm.predict(reform_test[col])"
   ]
  },
  {
   "cell_type": "code",
   "execution_count": 204,
   "metadata": {
    "ExecuteTime": {
     "end_time": "2020-06-28T11:49:07.910922Z",
     "start_time": "2020-06-28T11:49:07.905921Z"
    },
    "scrolled": true
   },
   "outputs": [],
   "source": [
    "submission['total_sales'] = y_pred\n",
    "\n",
    "today = datetime.datetime.today().date()\n",
    "os.makedirs('./submission/',exist_ok=True)\n",
    "submission.to_csv(f'./submission/submission_{today}_lgbm_scale_{score}_rmse.csv',index=False)"
   ]
  },
  {
   "cell_type": "markdown",
   "metadata": {
    "heading_collapsed": true
   },
   "source": [
    "### 작업본"
   ]
  },
  {
   "cell_type": "code",
   "execution_count": 19,
   "metadata": {
    "ExecuteTime": {
     "end_time": "2020-06-30T05:03:44.678888Z",
     "start_time": "2020-06-30T05:03:43.767683Z"
    },
    "hidden": true
   },
   "outputs": [],
   "source": [
    "clean_train.loc[clean_train.amount <0,'refund'] = 1\n",
    "sample_df = clean_train.groupby(['date','store_id']).agg({'amount':['sum','count'],'refund':'sum'}).reset_index()\n",
    "sample_df.columns = ['date','store_id','amount_sum','amount_count','refund_sum']\n",
    "sample_df['date'] = pd.to_datetime(sample_df['date'])\n",
    "sample_df['temp_date'] = sample_df['date']\n",
    "\n",
    "#거래횟수당 평균 거래금액 \n",
    "sample_df['trans_amount'] = sample_df['amount_sum']/(sample_df['amount_count']-sample_df['refund_sum'])\n",
    "sample_df['trans_amount'].fillna(0,inplace= True)\n",
    "\n",
    "#날짜병합\n",
    "sample_df = pd.merge(sample_df,all_dates)\n",
    "\n",
    "sample_df.set_index(\"date\",inplace=True)"
   ]
  },
  {
   "cell_type": "markdown",
   "metadata": {
    "hidden": true
   },
   "source": [
    "#### 주별, 주말별 계산 어쩌냐"
   ]
  },
  {
   "cell_type": "code",
   "execution_count": 55,
   "metadata": {
    "ExecuteTime": {
     "end_time": "2020-06-28T09:04:05.140336Z",
     "start_time": "2020-06-28T09:04:05.137335Z"
    },
    "hidden": true
   },
   "outputs": [],
   "source": [
    "#weekly\n",
    "weekly_sum = weekly['weekly_amount_sum']\n",
    "weekly_sum.index = [f\"{index}_sum\" for index in weekly['weekly_amount_sum'].index.values]\n",
    "feat.update(weekly_sum.to_dict())\n",
    "\n",
    "weekly_count = weekly['weekly_amount_count']\n",
    "weekly_count.index = [f\"{index}_count\" for index in weekly['weekly_amount_count'].index.values]\n",
    "feat.update(weekly_count.to_dict())\n",
    "\n",
    "#holyday\n",
    "holyday.index = ['unholy','holy']\n",
    "holyday_sum = holyday['holyday_amount_sum']\n",
    "holyday_sum.index = [f\"{index}_sum\" for index in holyday['holyday_amount_sum'].index.values]\n",
    "feat.update(holyday_sum.to_dict())\n",
    "\n",
    "holyday_count = holyday['holyday_amount_count']\n",
    "holyday_count.index = [f\"{index}_count\" for index in holyday['holyday_amount_count'].index.values]\n",
    "feat.update(holyday_count.to_dict())"
   ]
  },
  {
   "cell_type": "code",
   "execution_count": 228,
   "metadata": {
    "ExecuteTime": {
     "end_time": "2020-06-26T08:41:31.915375Z",
     "start_time": "2020-06-26T08:41:31.909374Z"
    },
    "hidden": true,
    "scrolled": true
   },
   "outputs": [
    {
     "data": {
      "text/plain": [
       "1"
      ]
     },
     "execution_count": 228,
     "metadata": {},
     "output_type": "execute_result"
    }
   ],
   "source": [
    "store_x[store_x.amount_sum>0].shape[0]"
   ]
  },
  {
   "cell_type": "code",
   "execution_count": 54,
   "metadata": {
    "ExecuteTime": {
     "end_time": "2020-06-28T09:04:04.838148Z",
     "start_time": "2020-06-28T09:04:04.826144Z"
    },
    "hidden": true
   },
   "outputs": [],
   "source": [
    "weekly = store[['days_of_week','amount_sum']].groupby('days_of_week').agg(['sum','count'])\n",
    "weekly.columns = ['weekly_amount_sum','weekly_amount_count']\n",
    "weekly_dict = weekly.to_dict()\n",
    "\n",
    "holyday = store[['holyday','amount_sum']].groupby('holyday').agg(['sum','count'])\n",
    "holyday.columns = ['holyday_amount_sum','holyday_amount_count']\n",
    "holyday_dict = holyday.to_dict()"
   ]
  },
  {
   "cell_type": "code",
   "execution_count": 230,
   "metadata": {
    "ExecuteTime": {
     "end_time": "2020-06-26T08:42:33.576499Z",
     "start_time": "2020-06-26T08:42:33.564495Z"
    },
    "hidden": true
   },
   "outputs": [
    {
     "data": {
      "text/html": [
       "<div>\n",
       "<style scoped>\n",
       "    .dataframe tbody tr th:only-of-type {\n",
       "        vertical-align: middle;\n",
       "    }\n",
       "\n",
       "    .dataframe tbody tr th {\n",
       "        vertical-align: top;\n",
       "    }\n",
       "\n",
       "    .dataframe thead th {\n",
       "        text-align: right;\n",
       "    }\n",
       "</style>\n",
       "<table border=\"1\" class=\"dataframe\">\n",
       "  <thead>\n",
       "    <tr style=\"text-align: right;\">\n",
       "      <th></th>\n",
       "      <th>store_id</th>\n",
       "      <th>amount_sum</th>\n",
       "      <th>amount_count</th>\n",
       "      <th>refund_sum</th>\n",
       "      <th>temp_date</th>\n",
       "      <th>trans_amount</th>\n",
       "      <th>days_of_week</th>\n",
       "      <th>holyday</th>\n",
       "      <th>MA7</th>\n",
       "      <th>MA15</th>\n",
       "      <th>MA30</th>\n",
       "    </tr>\n",
       "    <tr>\n",
       "      <th>date</th>\n",
       "      <th></th>\n",
       "      <th></th>\n",
       "      <th></th>\n",
       "      <th></th>\n",
       "      <th></th>\n",
       "      <th></th>\n",
       "      <th></th>\n",
       "      <th></th>\n",
       "      <th></th>\n",
       "      <th></th>\n",
       "      <th></th>\n",
       "    </tr>\n",
       "  </thead>\n",
       "  <tbody>\n",
       "    <tr>\n",
       "      <td>2018-04-21</td>\n",
       "      <td>1163</td>\n",
       "      <td>545</td>\n",
       "      <td>1</td>\n",
       "      <td>0.0</td>\n",
       "      <td>2018-04-21</td>\n",
       "      <td>545.0</td>\n",
       "      <td>5</td>\n",
       "      <td>0</td>\n",
       "      <td>545.0</td>\n",
       "      <td>545.0</td>\n",
       "      <td>545.0</td>\n",
       "    </tr>\n",
       "    <tr>\n",
       "      <td>2018-04-22</td>\n",
       "      <td>1163</td>\n",
       "      <td>0</td>\n",
       "      <td>0</td>\n",
       "      <td>0.0</td>\n",
       "      <td>2018-04-22</td>\n",
       "      <td>0.0</td>\n",
       "      <td>0</td>\n",
       "      <td>0</td>\n",
       "      <td>272.5</td>\n",
       "      <td>272.5</td>\n",
       "      <td>272.5</td>\n",
       "    </tr>\n",
       "  </tbody>\n",
       "</table>\n",
       "</div>"
      ],
      "text/plain": [
       "            store_id  amount_sum  amount_count  refund_sum  temp_date  \\\n",
       "date                                                                    \n",
       "2018-04-21      1163         545             1         0.0 2018-04-21   \n",
       "2018-04-22      1163           0             0         0.0 2018-04-22   \n",
       "\n",
       "            trans_amount  days_of_week  holyday    MA7   MA15   MA30  \n",
       "date                                                                  \n",
       "2018-04-21         545.0             5        0  545.0  545.0  545.0  \n",
       "2018-04-22           0.0             0        0  272.5  272.5  272.5  "
      ]
     },
     "execution_count": 230,
     "metadata": {},
     "output_type": "execute_result"
    }
   ],
   "source": [
    "store_x"
   ]
  },
  {
   "cell_type": "code",
   "execution_count": 188,
   "metadata": {
    "ExecuteTime": {
     "end_time": "2020-06-26T08:29:27.556416Z",
     "start_time": "2020-06-26T08:29:27.549414Z"
    },
    "hidden": true
   },
   "outputs": [
    {
     "data": {
      "text/html": [
       "<div>\n",
       "<style scoped>\n",
       "    .dataframe tbody tr th:only-of-type {\n",
       "        vertical-align: middle;\n",
       "    }\n",
       "\n",
       "    .dataframe tbody tr th {\n",
       "        vertical-align: top;\n",
       "    }\n",
       "\n",
       "    .dataframe thead th {\n",
       "        text-align: right;\n",
       "    }\n",
       "</style>\n",
       "<table border=\"1\" class=\"dataframe\">\n",
       "  <thead>\n",
       "    <tr style=\"text-align: right;\">\n",
       "      <th></th>\n",
       "      <th>store_id</th>\n",
       "      <th>amount_sum</th>\n",
       "      <th>amount_count</th>\n",
       "      <th>refund_sum</th>\n",
       "      <th>temp_date</th>\n",
       "      <th>days_of_week</th>\n",
       "      <th>holyday</th>\n",
       "      <th>trans_amount</th>\n",
       "      <th>MA7</th>\n",
       "      <th>MA15</th>\n",
       "      <th>MA30</th>\n",
       "    </tr>\n",
       "  </thead>\n",
       "  <tbody>\n",
       "  </tbody>\n",
       "</table>\n",
       "</div>"
      ],
      "text/plain": [
       "Empty DataFrame\n",
       "Columns: [store_id, amount_sum, amount_count, refund_sum, temp_date, days_of_week, holyday, trans_amount, MA7, MA15, MA30]\n",
       "Index: []"
      ]
     },
     "execution_count": 188,
     "metadata": {},
     "output_type": "execute_result"
    }
   ],
   "source": [
    "store"
   ]
  },
  {
   "cell_type": "code",
   "execution_count": 189,
   "metadata": {
    "ExecuteTime": {
     "end_time": "2020-06-26T08:29:30.455068Z",
     "start_time": "2020-06-26T08:29:30.448067Z"
    },
    "hidden": true
   },
   "outputs": [],
   "source": [
    "store = sample_df[sample_df.store_id == 8]"
   ]
  },
  {
   "cell_type": "code",
   "execution_count": 164,
   "metadata": {
    "ExecuteTime": {
     "end_time": "2020-06-26T08:15:23.540808Z",
     "start_time": "2020-06-26T08:15:23.522803Z"
    },
    "hidden": true
   },
   "outputs": [],
   "source": [
    "store = sample_df[sample_df.store_id == store_id]"
   ]
  },
  {
   "cell_type": "code",
   "execution_count": 174,
   "metadata": {
    "ExecuteTime": {
     "end_time": "2020-06-26T08:21:02.517983Z",
     "start_time": "2020-06-26T08:21:02.511981Z"
    },
    "hidden": true
   },
   "outputs": [
    {
     "data": {
      "text/plain": [
       "65714.6097208347"
      ]
     },
     "execution_count": 174,
     "metadata": {},
     "output_type": "execute_result"
    }
   ],
   "source": [
    "store.trans_amount.sum()"
   ]
  },
  {
   "cell_type": "code",
   "execution_count": 173,
   "metadata": {
    "ExecuteTime": {
     "end_time": "2020-06-26T08:20:35.276574Z",
     "start_time": "2020-06-26T08:20:35.270572Z"
    },
    "hidden": true
   },
   "outputs": [
    {
     "data": {
      "text/plain": [
       "531"
      ]
     },
     "execution_count": 173,
     "metadata": {},
     "output_type": "execute_result"
    }
   ],
   "source": [
    "store[store.trans_amount>0].shape[0]"
   ]
  },
  {
   "cell_type": "code",
   "execution_count": 151,
   "metadata": {
    "ExecuteTime": {
     "end_time": "2020-06-26T07:50:05.415090Z",
     "start_time": "2020-06-26T07:50:05.411088Z"
    },
    "hidden": true
   },
   "outputs": [],
   "source": [
    "store = store.asfreq('D',fill_value = 0)"
   ]
  },
  {
   "cell_type": "code",
   "execution_count": 152,
   "metadata": {
    "ExecuteTime": {
     "end_time": "2020-06-26T07:50:05.616134Z",
     "start_time": "2020-06-26T07:50:05.612133Z"
    },
    "hidden": true
   },
   "outputs": [],
   "source": [
    "store['temp_date'] = store.index\n",
    "store['store_id'] = store_id"
   ]
  },
  {
   "cell_type": "code",
   "execution_count": 153,
   "metadata": {
    "ExecuteTime": {
     "end_time": "2020-06-26T07:50:05.942208Z",
     "start_time": "2020-06-26T07:50:05.930205Z"
    },
    "hidden": true
   },
   "outputs": [
    {
     "data": {
      "text/html": [
       "<div>\n",
       "<style scoped>\n",
       "    .dataframe tbody tr th:only-of-type {\n",
       "        vertical-align: middle;\n",
       "    }\n",
       "\n",
       "    .dataframe tbody tr th {\n",
       "        vertical-align: top;\n",
       "    }\n",
       "\n",
       "    .dataframe thead th {\n",
       "        text-align: right;\n",
       "    }\n",
       "</style>\n",
       "<table border=\"1\" class=\"dataframe\">\n",
       "  <thead>\n",
       "    <tr style=\"text-align: right;\">\n",
       "      <th></th>\n",
       "      <th>store_id</th>\n",
       "      <th>amount_sum</th>\n",
       "      <th>amount_count</th>\n",
       "      <th>refund_sum</th>\n",
       "      <th>temp_date</th>\n",
       "    </tr>\n",
       "    <tr>\n",
       "      <th>date</th>\n",
       "      <th></th>\n",
       "      <th></th>\n",
       "      <th></th>\n",
       "      <th></th>\n",
       "      <th></th>\n",
       "    </tr>\n",
       "  </thead>\n",
       "  <tbody>\n",
       "    <tr>\n",
       "      <td>2016-08-10</td>\n",
       "      <td>32</td>\n",
       "      <td>140</td>\n",
       "      <td>1</td>\n",
       "      <td>0.0</td>\n",
       "      <td>2016-08-10</td>\n",
       "    </tr>\n",
       "    <tr>\n",
       "      <td>2016-08-11</td>\n",
       "      <td>32</td>\n",
       "      <td>0</td>\n",
       "      <td>0</td>\n",
       "      <td>0.0</td>\n",
       "      <td>2016-08-11</td>\n",
       "    </tr>\n",
       "    <tr>\n",
       "      <td>2016-08-12</td>\n",
       "      <td>32</td>\n",
       "      <td>0</td>\n",
       "      <td>0</td>\n",
       "      <td>0.0</td>\n",
       "      <td>2016-08-12</td>\n",
       "    </tr>\n",
       "    <tr>\n",
       "      <td>2016-08-13</td>\n",
       "      <td>32</td>\n",
       "      <td>60</td>\n",
       "      <td>1</td>\n",
       "      <td>0.0</td>\n",
       "      <td>2016-08-13</td>\n",
       "    </tr>\n",
       "    <tr>\n",
       "      <td>2016-08-14</td>\n",
       "      <td>32</td>\n",
       "      <td>0</td>\n",
       "      <td>0</td>\n",
       "      <td>0.0</td>\n",
       "      <td>2016-08-14</td>\n",
       "    </tr>\n",
       "    <tr>\n",
       "      <td>...</td>\n",
       "      <td>...</td>\n",
       "      <td>...</td>\n",
       "      <td>...</td>\n",
       "      <td>...</td>\n",
       "      <td>...</td>\n",
       "    </tr>\n",
       "    <tr>\n",
       "      <td>2018-07-26</td>\n",
       "      <td>32</td>\n",
       "      <td>884</td>\n",
       "      <td>4</td>\n",
       "      <td>0.0</td>\n",
       "      <td>2018-07-26</td>\n",
       "    </tr>\n",
       "    <tr>\n",
       "      <td>2018-07-27</td>\n",
       "      <td>32</td>\n",
       "      <td>549</td>\n",
       "      <td>5</td>\n",
       "      <td>0.0</td>\n",
       "      <td>2018-07-27</td>\n",
       "    </tr>\n",
       "    <tr>\n",
       "      <td>2018-07-28</td>\n",
       "      <td>32</td>\n",
       "      <td>709</td>\n",
       "      <td>4</td>\n",
       "      <td>0.0</td>\n",
       "      <td>2018-07-28</td>\n",
       "    </tr>\n",
       "    <tr>\n",
       "      <td>2018-07-29</td>\n",
       "      <td>32</td>\n",
       "      <td>364</td>\n",
       "      <td>3</td>\n",
       "      <td>0.0</td>\n",
       "      <td>2018-07-29</td>\n",
       "    </tr>\n",
       "    <tr>\n",
       "      <td>2018-07-30</td>\n",
       "      <td>32</td>\n",
       "      <td>327</td>\n",
       "      <td>3</td>\n",
       "      <td>0.0</td>\n",
       "      <td>2018-07-30</td>\n",
       "    </tr>\n",
       "  </tbody>\n",
       "</table>\n",
       "<p>720 rows × 5 columns</p>\n",
       "</div>"
      ],
      "text/plain": [
       "            store_id  amount_sum  amount_count  refund_sum  temp_date\n",
       "date                                                                 \n",
       "2016-08-10        32         140             1         0.0 2016-08-10\n",
       "2016-08-11        32           0             0         0.0 2016-08-11\n",
       "2016-08-12        32           0             0         0.0 2016-08-12\n",
       "2016-08-13        32          60             1         0.0 2016-08-13\n",
       "2016-08-14        32           0             0         0.0 2016-08-14\n",
       "...              ...         ...           ...         ...        ...\n",
       "2018-07-26        32         884             4         0.0 2018-07-26\n",
       "2018-07-27        32         549             5         0.0 2018-07-27\n",
       "2018-07-28        32         709             4         0.0 2018-07-28\n",
       "2018-07-29        32         364             3         0.0 2018-07-29\n",
       "2018-07-30        32         327             3         0.0 2018-07-30\n",
       "\n",
       "[720 rows x 5 columns]"
      ]
     },
     "execution_count": 153,
     "metadata": {},
     "output_type": "execute_result"
    }
   ],
   "source": [
    "store"
   ]
  },
  {
   "cell_type": "code",
   "execution_count": 83,
   "metadata": {
    "ExecuteTime": {
     "end_time": "2020-06-26T07:21:29.165602Z",
     "start_time": "2020-06-26T07:21:29.162603Z"
    },
    "hidden": true
   },
   "outputs": [],
   "source": [
    "store_y = store.last(\"100D\")"
   ]
  },
  {
   "cell_type": "code",
   "execution_count": 85,
   "metadata": {
    "ExecuteTime": {
     "end_time": "2020-06-26T07:22:04.693756Z",
     "start_time": "2020-06-26T07:22:04.688755Z"
    },
    "hidden": true
   },
   "outputs": [
    {
     "data": {
      "text/plain": [
       "510"
      ]
     },
     "execution_count": 85,
     "metadata": {},
     "output_type": "execute_result"
    }
   ],
   "source": [
    "store_y.amount_sum.sum()"
   ]
  },
  {
   "cell_type": "code",
   "execution_count": null,
   "metadata": {
    "hidden": true
   },
   "outputs": [],
   "source": []
  }
 ],
 "metadata": {
  "kernelspec": {
   "display_name": "Python 3",
   "language": "python",
   "name": "python3"
  },
  "language_info": {
   "codemirror_mode": {
    "name": "ipython",
    "version": 3
   },
   "file_extension": ".py",
   "mimetype": "text/x-python",
   "name": "python",
   "nbconvert_exporter": "python",
   "pygments_lexer": "ipython3",
   "version": "3.6.5"
  },
  "toc": {
   "base_numbering": 1,
   "nav_menu": {},
   "number_sections": true,
   "sideBar": true,
   "skip_h1_title": false,
   "title_cell": "Table of Contents",
   "title_sidebar": "Contents",
   "toc_cell": false,
   "toc_position": {},
   "toc_section_display": true,
   "toc_window_display": false
  },
  "varInspector": {
   "cols": {
    "lenName": 16,
    "lenType": 16,
    "lenVar": 40
   },
   "kernels_config": {
    "python": {
     "delete_cmd_postfix": "",
     "delete_cmd_prefix": "del ",
     "library": "var_list.py",
     "varRefreshCmd": "print(var_dic_list())"
    },
    "r": {
     "delete_cmd_postfix": ") ",
     "delete_cmd_prefix": "rm(",
     "library": "var_list.r",
     "varRefreshCmd": "cat(var_dic_list()) "
    }
   },
   "types_to_exclude": [
    "module",
    "function",
    "builtin_function_or_method",
    "instance",
    "_Feature"
   ],
   "window_display": false
  }
 },
 "nbformat": 4,
 "nbformat_minor": 2
}
