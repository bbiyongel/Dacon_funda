{
 "cells": [
  {
   "cell_type": "code",
   "execution_count": 1,
   "metadata": {
    "ExecuteTime": {
     "end_time": "2020-06-26T06:45:55.227009Z",
     "start_time": "2020-06-26T06:45:53.987731Z"
    }
   },
   "outputs": [
    {
     "name": "stderr",
     "output_type": "stream",
     "text": [
      "C:\\Users\\User\\Anaconda3\\lib\\site-packages\\distributed\\config.py:63: YAMLLoadWarning: calling yaml.load() without Loader=... is deprecated, as the default Loader is unsafe. Please read https://msg.pyyaml.org/load for full details.\n",
      "  config.update(yaml.load(text) or {})\n"
     ]
    }
   ],
   "source": [
    "import numpy as np\n",
    "import pandas as pd\n",
    "import matplotlib.pyplot as plt\n",
    "import seaborn as sns\n",
    "from tqdm import notebook\n",
    "import datetime\n",
    "\n",
    "import xgboost as xgb\n",
    "from sklearn.model_selection import train_test_split\n",
    "import lightgbm\n",
    "\n",
    "#한글 깨짐방지\n",
    "plt.rc('font',family = 'Malgun Gothic')\n",
    "plt.rcParams['axes.unicode_minus'] = False"
   ]
  },
  {
   "cell_type": "code",
   "execution_count": 240,
   "metadata": {
    "ExecuteTime": {
     "end_time": "2020-06-26T08:46:49.132111Z",
     "start_time": "2020-06-26T08:46:44.818139Z"
    }
   },
   "outputs": [],
   "source": [
    "path = './data/'\n",
    "train = pd.read_csv(path + 'train.csv')\n",
    "test = pd.read_csv(path + 'test.csv')\n",
    "submission  = pd.read_csv(path + 'submission.csv')\n",
    "merge_df = pd.concat([train,test])"
   ]
  },
  {
   "cell_type": "code",
   "execution_count": 3,
   "metadata": {
    "ExecuteTime": {
     "end_time": "2020-06-26T06:45:57.862602Z",
     "start_time": "2020-06-26T06:45:57.857601Z"
    },
    "scrolled": true
   },
   "outputs": [
    {
     "data": {
      "text/plain": [
       "((3362796, 8), (473392, 8))"
      ]
     },
     "execution_count": 3,
     "metadata": {},
     "output_type": "execute_result"
    }
   ],
   "source": [
    "train.shape, test.shape"
   ]
  },
  {
   "cell_type": "code",
   "execution_count": 238,
   "metadata": {
    "ExecuteTime": {
     "end_time": "2020-06-26T08:45:45.333189Z",
     "start_time": "2020-06-26T08:45:45.292181Z"
    }
   },
   "outputs": [
    {
     "name": "stdout",
     "output_type": "stream",
     "text": [
      "test의 최소 길이: 93,test의 최대길이 : 607\n"
     ]
    }
   ],
   "source": [
    "test['date'] = pd.to_datetime(test['date'])\n",
    "gap_check = test.groupby('store_id')['date'].agg(['min','max'])\n",
    "gap = (gap_check['max']-gap_check['min']).apply(lambda x : x.days)\n",
    "print(f'test의 최소 길이: {gap.min()},test의 최대길이 : {gap.max()}')"
   ]
  },
  {
   "cell_type": "markdown",
   "metadata": {},
   "source": [
    "### Data setting\n",
    "* 거래 취소의 경우 거래금액, 환불금액 2회 체크되므로 거래취소 횟수의 2배만큼 제외해야함\n",
    "* 날짜기준으로 묶어줄 필요가 있음\n",
    "* 주말과 요일은 날짜기준으로 결합\n",
    "\n",
    "-> 시간은 EDA에서 상세히 다시살펴볼것 (새벽시간대 매출이 높은 곳이라던지)"
   ]
  },
  {
   "cell_type": "code",
   "execution_count": 241,
   "metadata": {
    "ExecuteTime": {
     "end_time": "2020-06-26T08:46:50.575932Z",
     "start_time": "2020-06-26T08:46:49.135112Z"
    }
   },
   "outputs": [
    {
     "name": "stdout",
     "output_type": "stream",
     "text": [
      "train의 최소 길이: 0,train의 최대길이 : 729\n"
     ]
    }
   ],
   "source": [
    "# train 중 전체 거래일이 100일 이하인경우 학습에 사용불가\n",
    "train['date'] = pd.to_datetime(train['date'])\n",
    "gap_check = train.groupby('store_id')['date'].agg(['min','max'])\n",
    "gap = (gap_check['max']-gap_check['min']).apply(lambda x : x.days)\n",
    "print(f'train의 최소 길이: {gap.min()},train의 최대길이 : {gap.max()}')\n",
    "del_id = gap[gap<100].index\n",
    "clean_train = train[~(train.store_id.isin(del_id))]"
   ]
  },
  {
   "cell_type": "code",
   "execution_count": 134,
   "metadata": {
    "ExecuteTime": {
     "end_time": "2020-06-26T07:40:33.644727Z",
     "start_time": "2020-06-26T07:40:33.597717Z"
    }
   },
   "outputs": [
    {
     "name": "stdout",
     "output_type": "stream",
     "text": [
      "기본 트레인 길이 : 3362796, 기본트레인 상점수 : 1775\n",
      "clean 트레인 길이 : 3345678, clean 트레인 상점수 : 1641\n"
     ]
    }
   ],
   "source": [
    "print(f'기본 트레인 길이 : {train.shape[0]}, 기본트레인 상점수 : {train.store_id.nunique()}')\n",
    "print(f'clean 트레인 길이 : {clean_train.shape[0]}, clean 트레인 상점수 : {clean_train.store_id.nunique()}')"
   ]
  },
  {
   "cell_type": "code",
   "execution_count": 4,
   "metadata": {
    "ExecuteTime": {
     "end_time": "2020-06-26T06:45:58.149667Z",
     "start_time": "2020-06-26T06:45:57.863602Z"
    }
   },
   "outputs": [],
   "source": [
    "#전체날짜의 휴일 요일\n",
    "all_dates = merge_df.drop_duplicates('date').sort_values('date')\n",
    "all_dates = all_dates[['date','days_of_week','holyday']]\n",
    "all_dates.reset_index(drop=True, inplace=True)\n",
    "all_dates['date'] = pd.to_datetime(all_dates['date'])"
   ]
  },
  {
   "cell_type": "code",
   "execution_count": 215,
   "metadata": {
    "ExecuteTime": {
     "end_time": "2020-06-26T08:36:55.656770Z",
     "start_time": "2020-06-26T08:36:54.548519Z"
    }
   },
   "outputs": [
    {
     "name": "stderr",
     "output_type": "stream",
     "text": [
      "C:\\Users\\User\\AppData\\Roaming\\Python\\Python36\\site-packages\\pandas\\core\\indexing.py:494: SettingWithCopyWarning: \n",
      "A value is trying to be set on a copy of a slice from a DataFrame.\n",
      "Try using .loc[row_indexer,col_indexer] = value instead\n",
      "\n",
      "See the caveats in the documentation: http://pandas.pydata.org/pandas-docs/stable/user_guide/indexing.html#returning-a-view-versus-a-copy\n",
      "  self.obj[item] = s\n"
     ]
    }
   ],
   "source": [
    "clean_train.loc[clean_train.amount <0,'refund'] = 1\n",
    "sample_df = clean_train.groupby(['date','store_id']).agg({'amount':['sum','count'],'refund':'sum'}).reset_index()\n",
    "sample_df.columns = ['date','store_id','amount_sum','amount_count','refund_sum']\n",
    "sample_df['date'] = pd.to_datetime(sample_df['date'])\n",
    "sample_df['temp_date'] = sample_df['date']\n",
    "\n",
    "#거래횟수당 평균 거래금액 \n",
    "sample_df['trans_amount'] = sample_df['amount_sum']/(sample_df['amount_count']-sample_df['refund_sum']*2)\n",
    "sample_df['trans_amount'].fillna(0,inplace= True)\n",
    "\n",
    "#날짜병합\n",
    "sample_df = pd.merge(sample_df,all_dates)\n",
    "\n",
    "sample_df.set_index(\"date\",inplace=True)"
   ]
  },
  {
   "cell_type": "code",
   "execution_count": 271,
   "metadata": {
    "ExecuteTime": {
     "end_time": "2020-06-26T08:57:03.990130Z",
     "start_time": "2020-06-26T08:57:03.861101Z"
    }
   },
   "outputs": [
    {
     "data": {
      "application/vnd.jupyter.widget-view+json": {
       "model_id": "6ed90dfb2c894a3eb16a5763d60aaa8f",
       "version_major": 2,
       "version_minor": 0
      },
      "text/plain": [
       "HBox(children=(FloatProgress(value=0.0, max=3.0), HTML(value='')))"
      ]
     },
     "metadata": {},
     "output_type": "display_data"
    },
    {
     "name": "stdout",
     "output_type": "stream",
     "text": [
      "\n"
     ]
    }
   ],
   "source": [
    "store_id_list = sample_df.store_id.unique()\n",
    "fin_ls =[]\n",
    "for store_id in notebook.tqdm(store_id_list[:3]):\n",
    "    feat = dict()\n",
    "    \n",
    "    store = sample_df[sample_df.store_id == store_id]\n",
    "    \n",
    "    weekly = store[['days_of_week','amount_sum']].groupby('days_of_week').agg(['sum','count'])\n",
    "    weekly.columns = ['weekly_amount_sum','weekly_amount_count']\n",
    "    weekly_dict = weekly.to_dict()\n",
    "\n",
    "    holyday = store[['holyday','amount_sum']].groupby('holyday').agg(['sum','count'])\n",
    "    holyday.columns = ['holyday_amount_sum','holyday_amount_count']\n",
    "    holyday_dict = holyday.to_dict()\n",
    "    \n",
    "    feat.update(weekly_dict)\n",
    "    feat.update(holyday_dict)\n",
    "    \n",
    "    store = store.asfreq('D',fill_value = 0) #일자별로 열추가 \n",
    "    store['temp_date'] = store.index\n",
    "    store['store_id'] = store_id\n",
    "\n",
    "    # 7일, 15일, 30일간의 이동평균 계산 \n",
    "    store['MA7'] = store['amount_sum'].rolling('7D').mean()\n",
    "    store['MA15'] = store['amount_sum'].rolling('15D').mean()\n",
    "    store['MA30'] = store['amount_sum'].rolling('30D').mean()\n",
    "    \n",
    "    # train set인 경우 마지막 100일은 y값으로 저장되어야함\n",
    "    # store_x는 100일전까지 기간 데이터 \n",
    "    if isTrain:\n",
    "        store_y = store.last(\"100D\")\n",
    "        y = store_y.amount_sum.sum()\n",
    "        store_x = store[store.temp_date < store_y.iloc[0].temp_date]\n",
    "    #test는 전체\n",
    "    else : \n",
    "        y = 0\n",
    "        store_x = store[:]\n",
    "        \n",
    "#     feat = dict()\n",
    "    feat['store_id'] = store_id\n",
    "    feat['y'] = y\n",
    "    feat['daily_mean'] = store_x.amount_sum.mean()\n",
    "    feat['daily_mid'] = store_x.amount_sum.median()\n",
    "    feat['amount_count'] = store.amount_count.sum()\n",
    "    feat['refund_count'] = store.refund_sum.sum()\n",
    "    feat['daily_trans_amount'] = store.trans_amount.sum() / store[store.trans_amount>0].shape[0]\n",
    "    \n",
    "    feat['last7D_mean'] = store_x.last('7D').amount_sum.mean()\n",
    "    feat['last15D_mean'] = store_x.last('15D').amount_sum.mean()\n",
    "    feat['last30D_mean'] = store_x.last('30D').amount_sum.mean()\n",
    "    \n",
    "    feat['last7D_median'] = store_x.last('7D').amount_sum.median()\n",
    "    feat['last15D_median'] = store_x.last('15D').amount_sum.median()\n",
    "    feat['last30D_median'] = store_x.last('30D').amount_sum.median()\n",
    "    \n",
    "    feat['last7D_sum'] = store_x.last('7D').amount_sum.sum()\n",
    "    feat['last15D_sum'] = store_x.last('15D').amount_sum.sum()\n",
    "    feat['last30D_sum'] = store_x.last('30D').amount_sum.sum()\n",
    "    \n",
    "    feat['last7D_MA7_mean'] = store_x.last('7D').MA7.mean()\n",
    "    feat['last15D_MA15_mean'] = store_x.last('15D').MA15.mean()\n",
    "    feat['last30D_MA30_mean'] = store_x.last('30D').MA30.mean()\n",
    "    \n",
    "    feat['last7D_MA7_median'] = store_x.last('7D').MA7.median()\n",
    "    feat['last15D_MA15_median'] = store_x.last('15D').MA15.median()\n",
    "    feat['last30D_MA30_median'] = store_x.last('30D').MA30.median()\n",
    "    \n",
    "    feat['last7D_MA7_sum'] = store_x.last('7D').MA7.sum()\n",
    "    feat['last15D_MA15_sum'] = store_x.last('15D').MA15.sum()\n",
    "    feat['last30D_MA30_sum'] = store_x.last('30D').MA30.sum()\n",
    "    \n",
    "    fin_ls.append(feat)"
   ]
  },
  {
   "cell_type": "markdown",
   "metadata": {},
   "source": [
    "### 주별, 주말별 계산 어쩌냐"
   ]
  },
  {
   "cell_type": "code",
   "execution_count": 251,
   "metadata": {
    "ExecuteTime": {
     "end_time": "2020-06-26T08:50:09.677751Z",
     "start_time": "2020-06-26T08:50:09.668748Z"
    }
   },
   "outputs": [],
   "source": [
    "weekly = store[['days_of_week','amount_sum']].groupby('days_of_week').agg(['sum','count'])\n",
    "weekly.columns = ['weekly_amount_sum','weekly_amount_count']\n",
    "weekly_dict = weekly.to_dict()\n",
    "\n",
    "holyday = store[['holyday','amount_sum']].groupby('holyday').agg(['sum','count'])\n",
    "holyday.columns = ['holyday_amount_sum','holyday_amount_count']\n",
    "holyday_dict = holyday.to_dict()"
   ]
  },
  {
   "cell_type": "code",
   "execution_count": 278,
   "metadata": {
    "ExecuteTime": {
     "end_time": "2020-06-26T08:58:58.536645Z",
     "start_time": "2020-06-26T08:58:58.533643Z"
    }
   },
   "outputs": [],
   "source": [
    "feat.update(weekly['weekly_amount_sum'].to_dict())"
   ]
  },
  {
   "cell_type": "code",
   "execution_count": 228,
   "metadata": {
    "ExecuteTime": {
     "end_time": "2020-06-26T08:41:31.915375Z",
     "start_time": "2020-06-26T08:41:31.909374Z"
    },
    "scrolled": true
   },
   "outputs": [
    {
     "data": {
      "text/plain": [
       "1"
      ]
     },
     "execution_count": 228,
     "metadata": {},
     "output_type": "execute_result"
    }
   ],
   "source": [
    "store_x[store_x.amount_sum>0].shape[0]"
   ]
  },
  {
   "cell_type": "code",
   "execution_count": 230,
   "metadata": {
    "ExecuteTime": {
     "end_time": "2020-06-26T08:42:33.576499Z",
     "start_time": "2020-06-26T08:42:33.564495Z"
    }
   },
   "outputs": [
    {
     "data": {
      "text/html": [
       "<div>\n",
       "<style scoped>\n",
       "    .dataframe tbody tr th:only-of-type {\n",
       "        vertical-align: middle;\n",
       "    }\n",
       "\n",
       "    .dataframe tbody tr th {\n",
       "        vertical-align: top;\n",
       "    }\n",
       "\n",
       "    .dataframe thead th {\n",
       "        text-align: right;\n",
       "    }\n",
       "</style>\n",
       "<table border=\"1\" class=\"dataframe\">\n",
       "  <thead>\n",
       "    <tr style=\"text-align: right;\">\n",
       "      <th></th>\n",
       "      <th>store_id</th>\n",
       "      <th>amount_sum</th>\n",
       "      <th>amount_count</th>\n",
       "      <th>refund_sum</th>\n",
       "      <th>temp_date</th>\n",
       "      <th>trans_amount</th>\n",
       "      <th>days_of_week</th>\n",
       "      <th>holyday</th>\n",
       "      <th>MA7</th>\n",
       "      <th>MA15</th>\n",
       "      <th>MA30</th>\n",
       "    </tr>\n",
       "    <tr>\n",
       "      <th>date</th>\n",
       "      <th></th>\n",
       "      <th></th>\n",
       "      <th></th>\n",
       "      <th></th>\n",
       "      <th></th>\n",
       "      <th></th>\n",
       "      <th></th>\n",
       "      <th></th>\n",
       "      <th></th>\n",
       "      <th></th>\n",
       "      <th></th>\n",
       "    </tr>\n",
       "  </thead>\n",
       "  <tbody>\n",
       "    <tr>\n",
       "      <td>2018-04-21</td>\n",
       "      <td>1163</td>\n",
       "      <td>545</td>\n",
       "      <td>1</td>\n",
       "      <td>0.0</td>\n",
       "      <td>2018-04-21</td>\n",
       "      <td>545.0</td>\n",
       "      <td>5</td>\n",
       "      <td>0</td>\n",
       "      <td>545.0</td>\n",
       "      <td>545.0</td>\n",
       "      <td>545.0</td>\n",
       "    </tr>\n",
       "    <tr>\n",
       "      <td>2018-04-22</td>\n",
       "      <td>1163</td>\n",
       "      <td>0</td>\n",
       "      <td>0</td>\n",
       "      <td>0.0</td>\n",
       "      <td>2018-04-22</td>\n",
       "      <td>0.0</td>\n",
       "      <td>0</td>\n",
       "      <td>0</td>\n",
       "      <td>272.5</td>\n",
       "      <td>272.5</td>\n",
       "      <td>272.5</td>\n",
       "    </tr>\n",
       "  </tbody>\n",
       "</table>\n",
       "</div>"
      ],
      "text/plain": [
       "            store_id  amount_sum  amount_count  refund_sum  temp_date  \\\n",
       "date                                                                    \n",
       "2018-04-21      1163         545             1         0.0 2018-04-21   \n",
       "2018-04-22      1163           0             0         0.0 2018-04-22   \n",
       "\n",
       "            trans_amount  days_of_week  holyday    MA7   MA15   MA30  \n",
       "date                                                                  \n",
       "2018-04-21         545.0             5        0  545.0  545.0  545.0  \n",
       "2018-04-22           0.0             0        0  272.5  272.5  272.5  "
      ]
     },
     "execution_count": 230,
     "metadata": {},
     "output_type": "execute_result"
    }
   ],
   "source": [
    "store_x"
   ]
  },
  {
   "cell_type": "code",
   "execution_count": 188,
   "metadata": {
    "ExecuteTime": {
     "end_time": "2020-06-26T08:29:27.556416Z",
     "start_time": "2020-06-26T08:29:27.549414Z"
    }
   },
   "outputs": [
    {
     "data": {
      "text/html": [
       "<div>\n",
       "<style scoped>\n",
       "    .dataframe tbody tr th:only-of-type {\n",
       "        vertical-align: middle;\n",
       "    }\n",
       "\n",
       "    .dataframe tbody tr th {\n",
       "        vertical-align: top;\n",
       "    }\n",
       "\n",
       "    .dataframe thead th {\n",
       "        text-align: right;\n",
       "    }\n",
       "</style>\n",
       "<table border=\"1\" class=\"dataframe\">\n",
       "  <thead>\n",
       "    <tr style=\"text-align: right;\">\n",
       "      <th></th>\n",
       "      <th>store_id</th>\n",
       "      <th>amount_sum</th>\n",
       "      <th>amount_count</th>\n",
       "      <th>refund_sum</th>\n",
       "      <th>temp_date</th>\n",
       "      <th>days_of_week</th>\n",
       "      <th>holyday</th>\n",
       "      <th>trans_amount</th>\n",
       "      <th>MA7</th>\n",
       "      <th>MA15</th>\n",
       "      <th>MA30</th>\n",
       "    </tr>\n",
       "  </thead>\n",
       "  <tbody>\n",
       "  </tbody>\n",
       "</table>\n",
       "</div>"
      ],
      "text/plain": [
       "Empty DataFrame\n",
       "Columns: [store_id, amount_sum, amount_count, refund_sum, temp_date, days_of_week, holyday, trans_amount, MA7, MA15, MA30]\n",
       "Index: []"
      ]
     },
     "execution_count": 188,
     "metadata": {},
     "output_type": "execute_result"
    }
   ],
   "source": [
    "store"
   ]
  },
  {
   "cell_type": "code",
   "execution_count": 189,
   "metadata": {
    "ExecuteTime": {
     "end_time": "2020-06-26T08:29:30.455068Z",
     "start_time": "2020-06-26T08:29:30.448067Z"
    }
   },
   "outputs": [],
   "source": [
    "store = sample_df[sample_df.store_id == 8]"
   ]
  },
  {
   "cell_type": "code",
   "execution_count": 164,
   "metadata": {
    "ExecuteTime": {
     "end_time": "2020-06-26T08:15:23.540808Z",
     "start_time": "2020-06-26T08:15:23.522803Z"
    }
   },
   "outputs": [],
   "source": [
    "store = sample_df[sample_df.store_id == store_id]"
   ]
  },
  {
   "cell_type": "code",
   "execution_count": 174,
   "metadata": {
    "ExecuteTime": {
     "end_time": "2020-06-26T08:21:02.517983Z",
     "start_time": "2020-06-26T08:21:02.511981Z"
    }
   },
   "outputs": [
    {
     "data": {
      "text/plain": [
       "65714.6097208347"
      ]
     },
     "execution_count": 174,
     "metadata": {},
     "output_type": "execute_result"
    }
   ],
   "source": [
    "store.trans_amount.sum()"
   ]
  },
  {
   "cell_type": "code",
   "execution_count": 173,
   "metadata": {
    "ExecuteTime": {
     "end_time": "2020-06-26T08:20:35.276574Z",
     "start_time": "2020-06-26T08:20:35.270572Z"
    }
   },
   "outputs": [
    {
     "data": {
      "text/plain": [
       "531"
      ]
     },
     "execution_count": 173,
     "metadata": {},
     "output_type": "execute_result"
    }
   ],
   "source": [
    "store[store.trans_amount>0].shape[0]"
   ]
  },
  {
   "cell_type": "code",
   "execution_count": 151,
   "metadata": {
    "ExecuteTime": {
     "end_time": "2020-06-26T07:50:05.415090Z",
     "start_time": "2020-06-26T07:50:05.411088Z"
    }
   },
   "outputs": [],
   "source": [
    "store = store.asfreq('D',fill_value = 0)"
   ]
  },
  {
   "cell_type": "code",
   "execution_count": 152,
   "metadata": {
    "ExecuteTime": {
     "end_time": "2020-06-26T07:50:05.616134Z",
     "start_time": "2020-06-26T07:50:05.612133Z"
    }
   },
   "outputs": [],
   "source": [
    "store['temp_date'] = store.index\n",
    "store['store_id'] = store_id"
   ]
  },
  {
   "cell_type": "code",
   "execution_count": 153,
   "metadata": {
    "ExecuteTime": {
     "end_time": "2020-06-26T07:50:05.942208Z",
     "start_time": "2020-06-26T07:50:05.930205Z"
    }
   },
   "outputs": [
    {
     "data": {
      "text/html": [
       "<div>\n",
       "<style scoped>\n",
       "    .dataframe tbody tr th:only-of-type {\n",
       "        vertical-align: middle;\n",
       "    }\n",
       "\n",
       "    .dataframe tbody tr th {\n",
       "        vertical-align: top;\n",
       "    }\n",
       "\n",
       "    .dataframe thead th {\n",
       "        text-align: right;\n",
       "    }\n",
       "</style>\n",
       "<table border=\"1\" class=\"dataframe\">\n",
       "  <thead>\n",
       "    <tr style=\"text-align: right;\">\n",
       "      <th></th>\n",
       "      <th>store_id</th>\n",
       "      <th>amount_sum</th>\n",
       "      <th>amount_count</th>\n",
       "      <th>refund_sum</th>\n",
       "      <th>temp_date</th>\n",
       "    </tr>\n",
       "    <tr>\n",
       "      <th>date</th>\n",
       "      <th></th>\n",
       "      <th></th>\n",
       "      <th></th>\n",
       "      <th></th>\n",
       "      <th></th>\n",
       "    </tr>\n",
       "  </thead>\n",
       "  <tbody>\n",
       "    <tr>\n",
       "      <td>2016-08-10</td>\n",
       "      <td>32</td>\n",
       "      <td>140</td>\n",
       "      <td>1</td>\n",
       "      <td>0.0</td>\n",
       "      <td>2016-08-10</td>\n",
       "    </tr>\n",
       "    <tr>\n",
       "      <td>2016-08-11</td>\n",
       "      <td>32</td>\n",
       "      <td>0</td>\n",
       "      <td>0</td>\n",
       "      <td>0.0</td>\n",
       "      <td>2016-08-11</td>\n",
       "    </tr>\n",
       "    <tr>\n",
       "      <td>2016-08-12</td>\n",
       "      <td>32</td>\n",
       "      <td>0</td>\n",
       "      <td>0</td>\n",
       "      <td>0.0</td>\n",
       "      <td>2016-08-12</td>\n",
       "    </tr>\n",
       "    <tr>\n",
       "      <td>2016-08-13</td>\n",
       "      <td>32</td>\n",
       "      <td>60</td>\n",
       "      <td>1</td>\n",
       "      <td>0.0</td>\n",
       "      <td>2016-08-13</td>\n",
       "    </tr>\n",
       "    <tr>\n",
       "      <td>2016-08-14</td>\n",
       "      <td>32</td>\n",
       "      <td>0</td>\n",
       "      <td>0</td>\n",
       "      <td>0.0</td>\n",
       "      <td>2016-08-14</td>\n",
       "    </tr>\n",
       "    <tr>\n",
       "      <td>...</td>\n",
       "      <td>...</td>\n",
       "      <td>...</td>\n",
       "      <td>...</td>\n",
       "      <td>...</td>\n",
       "      <td>...</td>\n",
       "    </tr>\n",
       "    <tr>\n",
       "      <td>2018-07-26</td>\n",
       "      <td>32</td>\n",
       "      <td>884</td>\n",
       "      <td>4</td>\n",
       "      <td>0.0</td>\n",
       "      <td>2018-07-26</td>\n",
       "    </tr>\n",
       "    <tr>\n",
       "      <td>2018-07-27</td>\n",
       "      <td>32</td>\n",
       "      <td>549</td>\n",
       "      <td>5</td>\n",
       "      <td>0.0</td>\n",
       "      <td>2018-07-27</td>\n",
       "    </tr>\n",
       "    <tr>\n",
       "      <td>2018-07-28</td>\n",
       "      <td>32</td>\n",
       "      <td>709</td>\n",
       "      <td>4</td>\n",
       "      <td>0.0</td>\n",
       "      <td>2018-07-28</td>\n",
       "    </tr>\n",
       "    <tr>\n",
       "      <td>2018-07-29</td>\n",
       "      <td>32</td>\n",
       "      <td>364</td>\n",
       "      <td>3</td>\n",
       "      <td>0.0</td>\n",
       "      <td>2018-07-29</td>\n",
       "    </tr>\n",
       "    <tr>\n",
       "      <td>2018-07-30</td>\n",
       "      <td>32</td>\n",
       "      <td>327</td>\n",
       "      <td>3</td>\n",
       "      <td>0.0</td>\n",
       "      <td>2018-07-30</td>\n",
       "    </tr>\n",
       "  </tbody>\n",
       "</table>\n",
       "<p>720 rows × 5 columns</p>\n",
       "</div>"
      ],
      "text/plain": [
       "            store_id  amount_sum  amount_count  refund_sum  temp_date\n",
       "date                                                                 \n",
       "2016-08-10        32         140             1         0.0 2016-08-10\n",
       "2016-08-11        32           0             0         0.0 2016-08-11\n",
       "2016-08-12        32           0             0         0.0 2016-08-12\n",
       "2016-08-13        32          60             1         0.0 2016-08-13\n",
       "2016-08-14        32           0             0         0.0 2016-08-14\n",
       "...              ...         ...           ...         ...        ...\n",
       "2018-07-26        32         884             4         0.0 2018-07-26\n",
       "2018-07-27        32         549             5         0.0 2018-07-27\n",
       "2018-07-28        32         709             4         0.0 2018-07-28\n",
       "2018-07-29        32         364             3         0.0 2018-07-29\n",
       "2018-07-30        32         327             3         0.0 2018-07-30\n",
       "\n",
       "[720 rows x 5 columns]"
      ]
     },
     "execution_count": 153,
     "metadata": {},
     "output_type": "execute_result"
    }
   ],
   "source": [
    "store"
   ]
  },
  {
   "cell_type": "code",
   "execution_count": 83,
   "metadata": {
    "ExecuteTime": {
     "end_time": "2020-06-26T07:21:29.165602Z",
     "start_time": "2020-06-26T07:21:29.162603Z"
    }
   },
   "outputs": [],
   "source": [
    "store_y = store.last(\"100D\")"
   ]
  },
  {
   "cell_type": "code",
   "execution_count": 85,
   "metadata": {
    "ExecuteTime": {
     "end_time": "2020-06-26T07:22:04.693756Z",
     "start_time": "2020-06-26T07:22:04.688755Z"
    }
   },
   "outputs": [
    {
     "data": {
      "text/plain": [
       "510"
      ]
     },
     "execution_count": 85,
     "metadata": {},
     "output_type": "execute_result"
    }
   ],
   "source": [
    "store_y.amount_sum.sum()"
   ]
  },
  {
   "cell_type": "code",
   "execution_count": null,
   "metadata": {},
   "outputs": [],
   "source": []
  }
 ],
 "metadata": {
  "kernelspec": {
   "display_name": "Python 3",
   "language": "python",
   "name": "python3"
  },
  "language_info": {
   "codemirror_mode": {
    "name": "ipython",
    "version": 3
   },
   "file_extension": ".py",
   "mimetype": "text/x-python",
   "name": "python",
   "nbconvert_exporter": "python",
   "pygments_lexer": "ipython3",
   "version": "3.6.5"
  },
  "toc": {
   "base_numbering": 1,
   "nav_menu": {},
   "number_sections": true,
   "sideBar": true,
   "skip_h1_title": false,
   "title_cell": "Table of Contents",
   "title_sidebar": "Contents",
   "toc_cell": false,
   "toc_position": {},
   "toc_section_display": true,
   "toc_window_display": false
  }
 },
 "nbformat": 4,
 "nbformat_minor": 2
}
