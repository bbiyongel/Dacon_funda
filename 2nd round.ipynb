{
 "cells": [
  {
   "cell_type": "code",
   "execution_count": 180,
   "metadata": {
    "ExecuteTime": {
     "end_time": "2020-06-28T11:24:47.796046Z",
     "start_time": "2020-06-28T11:24:47.792045Z"
    }
   },
   "outputs": [],
   "source": [
    "import numpy as np\n",
    "import pandas as pd\n",
    "import matplotlib.pyplot as plt\n",
    "import seaborn as sns\n",
    "from tqdm import notebook\n",
    "import datetime\n",
    "import os\n",
    "\n",
    "import xgboost as xgb\n",
    "from sklearn.model_selection import train_test_split\n",
    "import lightgbm\n",
    "import warnings\n",
    "from sklearn.metrics import mean_squared_error\n",
    "\n",
    "warnings.filterwarnings('ignore')\n",
    "#한글 깨짐방지\n",
    "plt.rc('font',family = 'Malgun Gothic')\n",
    "plt.rcParams['axes.unicode_minus'] = False"
   ]
  },
  {
   "cell_type": "code",
   "execution_count": 2,
   "metadata": {
    "ExecuteTime": {
     "end_time": "2020-06-28T10:25:36.147673Z",
     "start_time": "2020-06-28T10:25:33.684784Z"
    }
   },
   "outputs": [],
   "source": [
    "path = './data/'\n",
    "train = pd.read_csv(path + 'train.csv')\n",
    "test = pd.read_csv(path + 'test.csv')\n",
    "submission  = pd.read_csv(path + 'submission.csv')\n",
    "merge_df = pd.concat([train,test])"
   ]
  },
  {
   "cell_type": "code",
   "execution_count": 3,
   "metadata": {
    "ExecuteTime": {
     "end_time": "2020-06-28T10:25:36.151675Z",
     "start_time": "2020-06-28T10:25:36.148673Z"
    },
    "scrolled": true
   },
   "outputs": [
    {
     "data": {
      "text/plain": [
       "((3362796, 8), (473392, 8))"
      ]
     },
     "execution_count": 3,
     "metadata": {},
     "output_type": "execute_result"
    }
   ],
   "source": [
    "train.shape, test.shape"
   ]
  },
  {
   "cell_type": "code",
   "execution_count": 4,
   "metadata": {
    "ExecuteTime": {
     "end_time": "2020-06-28T10:25:36.249704Z",
     "start_time": "2020-06-28T10:25:36.152674Z"
    }
   },
   "outputs": [
    {
     "name": "stdout",
     "output_type": "stream",
     "text": [
      "test의 최소 길이: 93,test의 최대길이 : 607\n"
     ]
    }
   ],
   "source": [
    "test['date'] = pd.to_datetime(test['date'])\n",
    "gap_check = test.groupby('store_id')['date'].agg(['min','max'])\n",
    "gap = (gap_check['max']-gap_check['min']).apply(lambda x : x.days)\n",
    "print(f'test의 최소 길이: {gap.min()},test의 최대길이 : {gap.max()}')"
   ]
  },
  {
   "cell_type": "markdown",
   "metadata": {},
   "source": [
    "### Data setting\n",
    "* 거래 취소의 경우 거래금액, 환불금액 2회 체크되므로 거래취소 횟수의 2배만큼 제외해야함\n",
    "* 날짜기준으로 묶어줄 필요가 있음\n",
    "* 주말과 요일은 날짜기준으로 결합\n",
    "\n",
    "-> 시간은 EDA에서 상세히 다시살펴볼것 (새벽시간대 매출이 높은 곳이라던지)"
   ]
  },
  {
   "cell_type": "markdown",
   "metadata": {},
   "source": [
    "### 필요없는 row 제거\n",
    "* 2nd 솔루션 : 거래기록이 160일 이하인 경우/ 2018-07-31 주변 5일 내 거래가 없으면 제외, test의 경우 2019-03-31 이전 7일간 거래가 없으면 폐업으로 추정\n",
    "* 변경 : 거래기록 100일 이하인경우 삭제, 100일 이전 거래횟수가 30회 이하면 제외"
   ]
  },
  {
   "cell_type": "code",
   "execution_count": 146,
   "metadata": {
    "ExecuteTime": {
     "end_time": "2020-06-28T11:11:24.403712Z",
     "start_time": "2020-06-28T11:11:23.790573Z"
    }
   },
   "outputs": [],
   "source": [
    "# train 중 전체 거래일이 100일 이하인경우 학습에 사용불가\n",
    "train['date'] = pd.to_datetime(train['date'])\n",
    "gap_check = train.groupby('store_id')['date'].agg(['min','max'])\n",
    "gap = (gap_check['max']-gap_check['min']).apply(lambda x : x.days)\n",
    "gap.name = 'gap'\n",
    "row_count = train.groupby('store_id')['date'].count()\n",
    "gap = pd.concat([gap,row_count],axis=1)\n",
    "\n",
    "del_id = gap.loc[(gap['gap']<100)|(gap['date']<29)].index\n",
    "clean_train = train[~(train.store_id.isin(del_id))]"
   ]
  },
  {
   "cell_type": "code",
   "execution_count": 147,
   "metadata": {
    "ExecuteTime": {
     "end_time": "2020-06-28T11:11:26.002178Z",
     "start_time": "2020-06-28T11:11:25.936161Z"
    }
   },
   "outputs": [
    {
     "name": "stdout",
     "output_type": "stream",
     "text": [
      "기본 트레인 길이 : 3362796, 기본트레인 상점수 : 1775\n",
      "clean 트레인 길이 : 3343266, clean 트레인 상점수 : 1483\n",
      "길이 차이 : 19530,상점수 차이 : 292\n"
     ]
    }
   ],
   "source": [
    "print(f'기본 트레인 길이 : {train.shape[0]}, 기본트레인 상점수 : {train.store_id.nunique()}')\n",
    "print(f'clean 트레인 길이 : {clean_train.shape[0]}, clean 트레인 상점수 : {clean_train.store_id.nunique()}')\n",
    "print(f'길이 차이 : {train.shape[0] - clean_train.shape[0]},상점수 차이 : {train.store_id.nunique() - clean_train.store_id.nunique()}')"
   ]
  },
  {
   "cell_type": "code",
   "execution_count": 148,
   "metadata": {
    "ExecuteTime": {
     "end_time": "2020-06-28T11:11:28.628509Z",
     "start_time": "2020-06-28T11:11:28.439464Z"
    }
   },
   "outputs": [],
   "source": [
    "#전체날짜의 휴일 요일\n",
    "all_dates = merge_df.drop_duplicates('date').sort_values('date')\n",
    "all_dates = all_dates[['date','days_of_week','holyday']]\n",
    "all_dates.reset_index(drop=True, inplace=True)\n",
    "all_dates['date'] = pd.to_datetime(all_dates['date'])"
   ]
  },
  {
   "cell_type": "code",
   "execution_count": 149,
   "metadata": {
    "ExecuteTime": {
     "end_time": "2020-06-28T11:11:29.659163Z",
     "start_time": "2020-06-28T11:11:28.820392Z"
    }
   },
   "outputs": [],
   "source": [
    "clean_train.loc[clean_train.amount <0,'refund'] = 1\n",
    "sample_df = clean_train.groupby(['date','store_id']).agg({'amount':['sum','count'],'refund':'sum'}).reset_index()\n",
    "sample_df.columns = ['date','store_id','amount_sum','amount_count','refund_sum']\n",
    "sample_df['date'] = pd.to_datetime(sample_df['date'])\n",
    "sample_df['temp_date'] = sample_df['date']\n",
    "\n",
    "#거래횟수당 평균 거래금액 \n",
    "sample_df['trans_amount'] = sample_df['amount_sum']/(sample_df['amount_count']-sample_df['refund_sum'])\n",
    "sample_df['trans_amount'].fillna(0,inplace= True)\n",
    "\n",
    "#날짜병합\n",
    "sample_df = pd.merge(sample_df,all_dates)\n",
    "\n",
    "sample_df.set_index(\"date\",inplace=True)"
   ]
  },
  {
   "cell_type": "code",
   "execution_count": 150,
   "metadata": {
    "ExecuteTime": {
     "end_time": "2020-06-28T11:11:29.887456Z",
     "start_time": "2020-06-28T11:11:29.856449Z"
    }
   },
   "outputs": [
    {
     "data": {
      "text/html": [
       "<div>\n",
       "<style scoped>\n",
       "    .dataframe tbody tr th:only-of-type {\n",
       "        vertical-align: middle;\n",
       "    }\n",
       "\n",
       "    .dataframe tbody tr th {\n",
       "        vertical-align: top;\n",
       "    }\n",
       "\n",
       "    .dataframe thead th {\n",
       "        text-align: right;\n",
       "    }\n",
       "</style>\n",
       "<table border=\"1\" class=\"dataframe\">\n",
       "  <thead>\n",
       "    <tr style=\"text-align: right;\">\n",
       "      <th></th>\n",
       "      <th>store_id</th>\n",
       "      <th>date</th>\n",
       "      <th>time</th>\n",
       "      <th>card_id</th>\n",
       "      <th>amount</th>\n",
       "      <th>installments</th>\n",
       "      <th>days_of_week</th>\n",
       "      <th>holyday</th>\n",
       "      <th>refund</th>\n",
       "    </tr>\n",
       "  </thead>\n",
       "  <tbody>\n",
       "    <tr>\n",
       "      <td>486173</td>\n",
       "      <td>176</td>\n",
       "      <td>2018-07-13</td>\n",
       "      <td>13:34:02</td>\n",
       "      <td>edba13c668</td>\n",
       "      <td>-2700</td>\n",
       "      <td>18.0</td>\n",
       "      <td>4</td>\n",
       "      <td>0</td>\n",
       "      <td>1.0</td>\n",
       "    </tr>\n",
       "    <tr>\n",
       "      <td>486174</td>\n",
       "      <td>176</td>\n",
       "      <td>2018-07-13</td>\n",
       "      <td>16:30:12</td>\n",
       "      <td>77fff27956</td>\n",
       "      <td>2750</td>\n",
       "      <td>NaN</td>\n",
       "      <td>4</td>\n",
       "      <td>0</td>\n",
       "      <td>NaN</td>\n",
       "    </tr>\n",
       "  </tbody>\n",
       "</table>\n",
       "</div>"
      ],
      "text/plain": [
       "        store_id       date      time     card_id  amount  installments  \\\n",
       "486173       176 2018-07-13  13:34:02  edba13c668   -2700          18.0   \n",
       "486174       176 2018-07-13  16:30:12  77fff27956    2750           NaN   \n",
       "\n",
       "        days_of_week  holyday  refund  \n",
       "486173             4        0     1.0  \n",
       "486174             4        0     NaN  "
      ]
     },
     "execution_count": 150,
     "metadata": {},
     "output_type": "execute_result"
    }
   ],
   "source": [
    "#환불금액이 동일하지 않은 경우도 있음 \n",
    "train.loc[(train.store_id == 176)&(train.date == datetime.datetime(2018,7,13))]"
   ]
  },
  {
   "cell_type": "code",
   "execution_count": 151,
   "metadata": {
    "ExecuteTime": {
     "end_time": "2020-06-28T11:11:30.089016Z",
     "start_time": "2020-06-28T11:11:30.078014Z"
    }
   },
   "outputs": [],
   "source": [
    "def reform_data(df, isTrain = True):\n",
    "    '''날짜별로 나열되어있는 데이터를 상정별로 병합\n",
    "    \n",
    "    데이터를 store_id를 기준으로 병합. 최종 거래일로 부터 100일인 날짜를 마지막으로 설정 후\n",
    "    최초 거래일자부터의 데이터를 결합. 마지막 100일의 거래금액은 y로 변환\n",
    "    \n",
    "    all_dates는 train,test의 날짜를 결합해놓은 데이터 \n",
    "    \n",
    "    Parameters\n",
    "    ---------\n",
    "    df(DataFrame) : train, test 데이터 입력\n",
    "    isTrain(bool) : train일때 True, test일때, False\n",
    "    \n",
    "    '''\n",
    "    df.loc[df.amount <0,'refund'] = 1\n",
    "    sample_df = df.groupby(['date','store_id']).agg({'amount':['sum','count'],'refund':'sum'}).reset_index()\n",
    "    sample_df.columns = ['date','store_id','amount_sum','amount_count','refund_sum']\n",
    "    sample_df['date'] = pd.to_datetime(sample_df['date'])\n",
    "    sample_df['temp_date'] = sample_df['date']\n",
    "\n",
    "    #거래횟수당 평균 거래금액 \n",
    "    sample_df['trans_amount'] = sample_df['amount_sum']/(sample_df['amount_count']-sample_df['refund_sum'])\n",
    "    sample_df['trans_amount'].fillna(0,inplace= True)\n",
    "\n",
    "    #날짜병합\n",
    "    sample_df = pd.merge(sample_df,all_dates)\n",
    "\n",
    "    sample_df.set_index(\"date\",inplace=True)\n",
    "\n",
    "    store_id_list = sample_df.store_id.unique()\n",
    "    fin_ls =[]\n",
    "    add_row = pd.DataFrame({'holyday_amount_sum':0,'holyday_amount_mean':0},index = ['holy']) #holyday 없는경우 \n",
    "    \n",
    "    for store_id in notebook.tqdm(store_id_list):\n",
    "\n",
    "        store = sample_df[sample_df.store_id == store_id]    \n",
    "        store = store.asfreq('D',fill_value = 0) #일자별로 열추가 \n",
    "        store['temp_date'] = store.index\n",
    "        store['store_id'] = store_id\n",
    "\n",
    "        # 7일, 15일, 30일간의 이동평균 계산 \n",
    "        store['MA7'] = store['amount_sum'].rolling('7D').mean()\n",
    "        store['MA15'] = store['amount_sum'].rolling('15D').mean()\n",
    "        store['MA30'] = store['amount_sum'].rolling('30D').mean()\n",
    "\n",
    "        # train set인 경우 마지막 100일은 y값으로 저장되어야함\n",
    "        # store_x는 100일전까지 기간 데이터 \n",
    "        if isTrain:\n",
    "            store_y = store.last(\"100D\")\n",
    "            y = store_y.amount_sum.sum()\n",
    "            store_x = store[store.temp_date < store_y.iloc[0].temp_date]\n",
    "        #test는 전체\n",
    "        else : \n",
    "            y = 0\n",
    "            store_x = store[:]\n",
    "\n",
    "        feat = dict()\n",
    "\n",
    "        #amount >0 이상인 경우만 \n",
    "        over_zero = store_x.loc[store_x.amount_sum>0]\n",
    "        \n",
    "        # base (거래가 있는 경우만 )\n",
    "        feat['store_id'] = store_id\n",
    "        feat['y'] = y\n",
    "        feat['amount_mean'] = over_zero.amount_sum.mean()  # 거래액의 평균\n",
    "        feat['amount_mid'] = over_zero.amount_sum.median() # 거래액의 중간값\n",
    "        feat['count_sum'] = over_zero.amount_count.sum() # 전체 거래 횟수\n",
    "        feat['count_mean'] = over_zero.amount_count.mean() # 평균 거래 횟수\n",
    "        feat['refund_count'] = over_zero.refund_sum.sum() # 전체 최소 횟수\n",
    "        feat['refund_rate'] = over_zero['refund_sum'].sum()/over_zero.shape[0] # 취소율\n",
    "        feat['daily_trans_amount'] = over_zero.trans_amount.sum() / over_zero.shape[0] #일자별 평균 금액의 평균\n",
    "\n",
    "        feat['mean_gap'] = (over_zero.index[1:] - over_zero.index[:-1]).days.values.mean() # 거래일자간 평균 기간\n",
    "        \n",
    "        #weekly (거래가 있는 경우만 고려)\n",
    "        weekly = over_zero[['days_of_week','amount_sum']].groupby('days_of_week').agg(['sum','mean'])\n",
    "        weekly.columns = ['weekly_amount_sum','weekly_amount_mean']\n",
    "\n",
    "        weekly_sum = weekly['weekly_amount_sum']\n",
    "        weekly_sum.index = [f\"{index}_sum\" for index in weekly['weekly_amount_sum'].index.values]\n",
    "        feat.update(weekly_sum.to_dict())\n",
    "\n",
    "        weekly_mean = weekly['weekly_amount_mean']\n",
    "        weekly_mean.index = [f\"{index}_mean\" for index in weekly['weekly_amount_mean'].index.values]\n",
    "        feat.update(weekly_mean.to_dict())\n",
    "\n",
    "        #holyday (거래가 있는 경우만 고려)\n",
    "        holyday = over_zero[['holyday','amount_sum']].groupby('holyday').agg(['sum','mean'])\n",
    "        holyday.columns = ['holyday_amount_sum','holyday_amount_mean']\n",
    "\n",
    "        try : \n",
    "            holyday.index = ['unholy','holy']\n",
    "        except :\n",
    "            holyday = pd.concat([holyday,add_row])\n",
    "            \n",
    "        holyday_sum = holyday['holyday_amount_sum']\n",
    "        holyday_sum.index = [f\"{index}_sum\" for index in holyday['holyday_amount_sum'].index.values]\n",
    "        feat.update(holyday_sum.to_dict())\n",
    "\n",
    "        holyday_mean = holyday['holyday_amount_mean']\n",
    "        holyday_mean.index = [f\"{index}_mean\" for index in holyday['holyday_amount_mean'].index.values]\n",
    "        feat.update(holyday_mean.to_dict())\n",
    "    \n",
    "        #이동평균값 \n",
    "        feat['7D_mean'] = store_x.last('7D').amount_sum.mean()\n",
    "        feat['15D_mean'] = store_x.last('15D').amount_sum.mean()\n",
    "        feat['30D_mean'] = store_x.last('30D').amount_sum.mean()\n",
    "\n",
    "        feat['7D_median'] = store_x.last('7D').amount_sum.median()\n",
    "        feat['15D_median'] = store_x.last('15D').amount_sum.median()\n",
    "        feat['30D_median'] = store_x.last('30D').amount_sum.median()\n",
    "\n",
    "        feat['7D_sum'] = store_x.last('7D').amount_sum.sum()\n",
    "        feat['15D_sum'] = store_x.last('15D').amount_sum.sum()\n",
    "        feat['30D_sum'] = store_x.last('30D').amount_sum.sum()\n",
    "\n",
    "        feat['7D_MA7_mean'] = store_x.last('7D').MA7.mean()\n",
    "        feat['15D_MA15_mean'] = store_x.last('15D').MA15.mean()\n",
    "        feat['30D_MA30_mean'] = store_x.last('30D').MA30.mean()\n",
    "\n",
    "        feat['7D_MA7_median'] = store_x.last('7D').MA7.median()\n",
    "        feat['15D_MA15_median'] = store_x.last('15D').MA15.median()\n",
    "        feat['30D_MA30_median'] = store_x.last('30D').MA30.median()\n",
    "\n",
    "        feat['7D_MA7_sum'] = store_x.last('7D').MA7.sum()\n",
    "        feat['15D_MA15_sum'] = store_x.last('15D').MA15.sum()\n",
    "        feat['30D_MA30_sum'] = store_x.last('30D').MA30.sum()\n",
    "\n",
    "        fin_ls.append(feat)\n",
    "        \n",
    "    fin_df = pd.DataFrame(fin_ls)\n",
    "    return fin_df"
   ]
  },
  {
   "cell_type": "code",
   "execution_count": 152,
   "metadata": {
    "ExecuteTime": {
     "end_time": "2020-06-28T11:12:06.136324Z",
     "start_time": "2020-06-28T11:11:30.278309Z"
    },
    "scrolled": true
   },
   "outputs": [
    {
     "data": {
      "application/vnd.jupyter.widget-view+json": {
       "model_id": "8f3ae415966048bf89f14d091ac50cfa",
       "version_major": 2,
       "version_minor": 0
      },
      "text/plain": [
       "HBox(children=(FloatProgress(value=0.0, max=1483.0), HTML(value='')))"
      ]
     },
     "metadata": {},
     "output_type": "display_data"
    },
    {
     "name": "stdout",
     "output_type": "stream",
     "text": [
      "\n"
     ]
    },
    {
     "data": {
      "application/vnd.jupyter.widget-view+json": {
       "model_id": "f865137c7417429fa0a7b0f85fb4728b",
       "version_major": 2,
       "version_minor": 0
      },
      "text/plain": [
       "HBox(children=(FloatProgress(value=0.0, max=200.0), HTML(value='')))"
      ]
     },
     "metadata": {},
     "output_type": "display_data"
    },
    {
     "name": "stdout",
     "output_type": "stream",
     "text": [
      "\n"
     ]
    }
   ],
   "source": [
    "reform_train = reform_data(clean_train)\n",
    "reform_test = reform_data(test)"
   ]
  },
  {
   "cell_type": "code",
   "execution_count": 158,
   "metadata": {
    "ExecuteTime": {
     "end_time": "2020-06-28T11:14:34.301735Z",
     "start_time": "2020-06-28T11:14:34.216716Z"
    }
   },
   "outputs": [
    {
     "data": {
      "text/html": [
       "<div>\n",
       "<style scoped>\n",
       "    .dataframe tbody tr th:only-of-type {\n",
       "        vertical-align: middle;\n",
       "    }\n",
       "\n",
       "    .dataframe tbody tr th {\n",
       "        vertical-align: top;\n",
       "    }\n",
       "\n",
       "    .dataframe thead th {\n",
       "        text-align: right;\n",
       "    }\n",
       "</style>\n",
       "<table border=\"1\" class=\"dataframe\">\n",
       "  <thead>\n",
       "    <tr style=\"text-align: right;\">\n",
       "      <th></th>\n",
       "      <th>store_id</th>\n",
       "      <th>y</th>\n",
       "      <th>amount_mean</th>\n",
       "      <th>amount_mid</th>\n",
       "      <th>count_sum</th>\n",
       "      <th>count_mean</th>\n",
       "      <th>refund_count</th>\n",
       "      <th>refund_rate</th>\n",
       "      <th>daily_trans_amount</th>\n",
       "      <th>mean_gap</th>\n",
       "      <th>0_sum</th>\n",
       "      <th>1_sum</th>\n",
       "      <th>2_sum</th>\n",
       "      <th>3_sum</th>\n",
       "      <th>4_sum</th>\n",
       "      <th>5_sum</th>\n",
       "      <th>6_sum</th>\n",
       "      <th>0_mean</th>\n",
       "      <th>1_mean</th>\n",
       "      <th>2_mean</th>\n",
       "      <th>3_mean</th>\n",
       "      <th>4_mean</th>\n",
       "      <th>5_mean</th>\n",
       "      <th>6_mean</th>\n",
       "      <th>unholy_sum</th>\n",
       "      <th>holy_sum</th>\n",
       "      <th>unholy_mean</th>\n",
       "      <th>holy_mean</th>\n",
       "      <th>7D_mean</th>\n",
       "      <th>15D_mean</th>\n",
       "      <th>30D_mean</th>\n",
       "      <th>7D_median</th>\n",
       "      <th>15D_median</th>\n",
       "      <th>30D_median</th>\n",
       "      <th>7D_sum</th>\n",
       "      <th>15D_sum</th>\n",
       "      <th>30D_sum</th>\n",
       "      <th>7D_MA7_mean</th>\n",
       "      <th>15D_MA15_mean</th>\n",
       "      <th>30D_MA30_mean</th>\n",
       "      <th>7D_MA7_median</th>\n",
       "      <th>15D_MA15_median</th>\n",
       "      <th>30D_MA30_median</th>\n",
       "      <th>7D_MA7_sum</th>\n",
       "      <th>15D_MA15_sum</th>\n",
       "      <th>30D_MA30_sum</th>\n",
       "    </tr>\n",
       "  </thead>\n",
       "  <tbody>\n",
       "    <tr>\n",
       "      <td>count</td>\n",
       "      <td>1483.000000</td>\n",
       "      <td>1.483000e+03</td>\n",
       "      <td>1483.000000</td>\n",
       "      <td>1483.000000</td>\n",
       "      <td>1483.000000</td>\n",
       "      <td>1483.000000</td>\n",
       "      <td>1483.000000</td>\n",
       "      <td>1483.000000</td>\n",
       "      <td>1483.000000</td>\n",
       "      <td>1480.000000</td>\n",
       "      <td>1.474000e+03</td>\n",
       "      <td>1.449000e+03</td>\n",
       "      <td>1.455000e+03</td>\n",
       "      <td>1.469000e+03</td>\n",
       "      <td>1.468000e+03</td>\n",
       "      <td>1.429000e+03</td>\n",
       "      <td>1262.00000</td>\n",
       "      <td>1474.000000</td>\n",
       "      <td>1449.000000</td>\n",
       "      <td>1455.000000</td>\n",
       "      <td>1469.000000</td>\n",
       "      <td>1468.000000</td>\n",
       "      <td>1429.000000</td>\n",
       "      <td>1262.000000</td>\n",
       "      <td>1.247000e+03</td>\n",
       "      <td>1483.000000</td>\n",
       "      <td>1247.000000</td>\n",
       "      <td>1483.000000</td>\n",
       "      <td>1483.000000</td>\n",
       "      <td>1483.000000</td>\n",
       "      <td>1483.000000</td>\n",
       "      <td>1483.000000</td>\n",
       "      <td>1483.000000</td>\n",
       "      <td>1483.000000</td>\n",
       "      <td>1483.000000</td>\n",
       "      <td>1483.000000</td>\n",
       "      <td>1483.000000</td>\n",
       "      <td>1483.000000</td>\n",
       "      <td>1483.000000</td>\n",
       "      <td>1483.000000</td>\n",
       "      <td>1483.000000</td>\n",
       "      <td>1483.000000</td>\n",
       "      <td>1483.000000</td>\n",
       "      <td>1483.000000</td>\n",
       "      <td>1483.000000</td>\n",
       "      <td>1483.000000</td>\n",
       "    </tr>\n",
       "    <tr>\n",
       "      <td>mean</td>\n",
       "      <td>898.420769</td>\n",
       "      <td>5.926068e+04</td>\n",
       "      <td>1134.388388</td>\n",
       "      <td>866.092717</td>\n",
       "      <td>1817.596089</td>\n",
       "      <td>5.286492</td>\n",
       "      <td>16.438975</td>\n",
       "      <td>0.061421</td>\n",
       "      <td>493.116007</td>\n",
       "      <td>3.243291</td>\n",
       "      <td>4.454142e+04</td>\n",
       "      <td>3.839039e+04</td>\n",
       "      <td>3.927679e+04</td>\n",
       "      <td>3.929129e+04</td>\n",
       "      <td>4.276922e+04</td>\n",
       "      <td>4.479472e+04</td>\n",
       "      <td>39334.33122</td>\n",
       "      <td>1078.454111</td>\n",
       "      <td>1150.676063</td>\n",
       "      <td>1101.732732</td>\n",
       "      <td>1107.150384</td>\n",
       "      <td>1138.389294</td>\n",
       "      <td>1143.776285</td>\n",
       "      <td>1051.497901</td>\n",
       "      <td>2.929191e+05</td>\n",
       "      <td>10108.190155</td>\n",
       "      <td>1039.025553</td>\n",
       "      <td>827.617304</td>\n",
       "      <td>586.597314</td>\n",
       "      <td>601.165141</td>\n",
       "      <td>620.619663</td>\n",
       "      <td>488.466622</td>\n",
       "      <td>466.319960</td>\n",
       "      <td>468.372556</td>\n",
       "      <td>4096.985165</td>\n",
       "      <td>8951.170600</td>\n",
       "      <td>18315.575860</td>\n",
       "      <td>617.068513</td>\n",
       "      <td>623.823236</td>\n",
       "      <td>625.788771</td>\n",
       "      <td>622.455367</td>\n",
       "      <td>623.630191</td>\n",
       "      <td>625.072541</td>\n",
       "      <td>4308.576719</td>\n",
       "      <td>9285.790351</td>\n",
       "      <td>18457.221210</td>\n",
       "    </tr>\n",
       "    <tr>\n",
       "      <td>std</td>\n",
       "      <td>521.091486</td>\n",
       "      <td>1.120253e+05</td>\n",
       "      <td>2372.485488</td>\n",
       "      <td>1533.465496</td>\n",
       "      <td>3653.064037</td>\n",
       "      <td>8.663589</td>\n",
       "      <td>83.176581</td>\n",
       "      <td>0.590469</td>\n",
       "      <td>1206.542959</td>\n",
       "      <td>4.724456</td>\n",
       "      <td>1.046776e+05</td>\n",
       "      <td>7.309921e+04</td>\n",
       "      <td>7.492232e+04</td>\n",
       "      <td>7.698308e+04</td>\n",
       "      <td>7.949675e+04</td>\n",
       "      <td>8.368372e+04</td>\n",
       "      <td>75554.68607</td>\n",
       "      <td>2408.683242</td>\n",
       "      <td>3120.058002</td>\n",
       "      <td>2343.139966</td>\n",
       "      <td>2909.321604</td>\n",
       "      <td>2071.777511</td>\n",
       "      <td>1994.873379</td>\n",
       "      <td>1968.168017</td>\n",
       "      <td>5.091492e+05</td>\n",
       "      <td>21413.450435</td>\n",
       "      <td>1615.622402</td>\n",
       "      <td>1371.973519</td>\n",
       "      <td>1931.467032</td>\n",
       "      <td>1376.536207</td>\n",
       "      <td>1233.734830</td>\n",
       "      <td>1257.045123</td>\n",
       "      <td>1145.153428</td>\n",
       "      <td>1165.428085</td>\n",
       "      <td>13517.614216</td>\n",
       "      <td>20636.964073</td>\n",
       "      <td>36997.735514</td>\n",
       "      <td>1260.117903</td>\n",
       "      <td>1189.810429</td>\n",
       "      <td>1145.365992</td>\n",
       "      <td>1216.688283</td>\n",
       "      <td>1188.255665</td>\n",
       "      <td>1153.859902</td>\n",
       "      <td>8814.540966</td>\n",
       "      <td>17828.330544</td>\n",
       "      <td>34320.635898</td>\n",
       "    </tr>\n",
       "    <tr>\n",
       "      <td>min</td>\n",
       "      <td>0.000000</td>\n",
       "      <td>7.500000e+01</td>\n",
       "      <td>42.333333</td>\n",
       "      <td>25.000000</td>\n",
       "      <td>1.000000</td>\n",
       "      <td>1.000000</td>\n",
       "      <td>0.000000</td>\n",
       "      <td>0.000000</td>\n",
       "      <td>14.107333</td>\n",
       "      <td>1.000000</td>\n",
       "      <td>8.300000e+01</td>\n",
       "      <td>8.100000e+01</td>\n",
       "      <td>2.400000e+01</td>\n",
       "      <td>2.000000e+01</td>\n",
       "      <td>2.700000e+01</td>\n",
       "      <td>5.000000e+01</td>\n",
       "      <td>25.00000</td>\n",
       "      <td>42.333333</td>\n",
       "      <td>30.000000</td>\n",
       "      <td>24.000000</td>\n",
       "      <td>20.000000</td>\n",
       "      <td>27.000000</td>\n",
       "      <td>37.500000</td>\n",
       "      <td>23.333333</td>\n",
       "      <td>1.484000e+03</td>\n",
       "      <td>0.000000</td>\n",
       "      <td>55.196491</td>\n",
       "      <td>0.000000</td>\n",
       "      <td>-57142.857143</td>\n",
       "      <td>-26666.666667</td>\n",
       "      <td>-13333.333333</td>\n",
       "      <td>0.000000</td>\n",
       "      <td>0.000000</td>\n",
       "      <td>0.000000</td>\n",
       "      <td>-400000.000000</td>\n",
       "      <td>-400000.000000</td>\n",
       "      <td>-400000.000000</td>\n",
       "      <td>-12244.897959</td>\n",
       "      <td>-2666.666667</td>\n",
       "      <td>-25.757778</td>\n",
       "      <td>-321.428571</td>\n",
       "      <td>0.000000</td>\n",
       "      <td>-55.400000</td>\n",
       "      <td>-85714.285714</td>\n",
       "      <td>-40000.000000</td>\n",
       "      <td>-772.733333</td>\n",
       "    </tr>\n",
       "    <tr>\n",
       "      <td>25%</td>\n",
       "      <td>442.500000</td>\n",
       "      <td>1.523350e+04</td>\n",
       "      <td>349.513097</td>\n",
       "      <td>250.000000</td>\n",
       "      <td>136.000000</td>\n",
       "      <td>1.516368</td>\n",
       "      <td>1.000000</td>\n",
       "      <td>0.008562</td>\n",
       "      <td>104.268448</td>\n",
       "      <td>1.095377</td>\n",
       "      <td>6.878000e+03</td>\n",
       "      <td>5.500000e+03</td>\n",
       "      <td>5.900000e+03</td>\n",
       "      <td>5.416000e+03</td>\n",
       "      <td>6.070250e+03</td>\n",
       "      <td>6.200000e+03</td>\n",
       "      <td>3886.25000</td>\n",
       "      <td>304.596591</td>\n",
       "      <td>312.441860</td>\n",
       "      <td>308.571429</td>\n",
       "      <td>315.000000</td>\n",
       "      <td>339.985806</td>\n",
       "      <td>353.287671</td>\n",
       "      <td>319.422619</td>\n",
       "      <td>5.882000e+04</td>\n",
       "      <td>525.000000</td>\n",
       "      <td>347.759521</td>\n",
       "      <td>159.068182</td>\n",
       "      <td>107.142857</td>\n",
       "      <td>126.333333</td>\n",
       "      <td>145.166667</td>\n",
       "      <td>0.000000</td>\n",
       "      <td>0.000000</td>\n",
       "      <td>0.000000</td>\n",
       "      <td>750.000000</td>\n",
       "      <td>1835.000000</td>\n",
       "      <td>4249.000000</td>\n",
       "      <td>118.346939</td>\n",
       "      <td>144.235556</td>\n",
       "      <td>148.733333</td>\n",
       "      <td>114.285714</td>\n",
       "      <td>137.866667</td>\n",
       "      <td>148.136667</td>\n",
       "      <td>823.642857</td>\n",
       "      <td>2115.500000</td>\n",
       "      <td>4357.833333</td>\n",
       "    </tr>\n",
       "    <tr>\n",
       "      <td>50%</td>\n",
       "      <td>900.000000</td>\n",
       "      <td>3.361600e+04</td>\n",
       "      <td>632.363636</td>\n",
       "      <td>467.000000</td>\n",
       "      <td>531.000000</td>\n",
       "      <td>2.624113</td>\n",
       "      <td>4.000000</td>\n",
       "      <td>0.024540</td>\n",
       "      <td>188.110302</td>\n",
       "      <td>1.357762</td>\n",
       "      <td>1.740950e+04</td>\n",
       "      <td>1.803300e+04</td>\n",
       "      <td>1.726500e+04</td>\n",
       "      <td>1.755000e+04</td>\n",
       "      <td>1.966000e+04</td>\n",
       "      <td>1.890000e+04</td>\n",
       "      <td>14696.00000</td>\n",
       "      <td>566.703904</td>\n",
       "      <td>583.584270</td>\n",
       "      <td>601.111111</td>\n",
       "      <td>593.181818</td>\n",
       "      <td>637.390297</td>\n",
       "      <td>640.200000</td>\n",
       "      <td>583.746503</td>\n",
       "      <td>1.464120e+05</td>\n",
       "      <td>3370.000000</td>\n",
       "      <td>615.974576</td>\n",
       "      <td>450.000000</td>\n",
       "      <td>307.142857</td>\n",
       "      <td>342.000000</td>\n",
       "      <td>345.633333</td>\n",
       "      <td>180.000000</td>\n",
       "      <td>195.000000</td>\n",
       "      <td>190.000000</td>\n",
       "      <td>2150.000000</td>\n",
       "      <td>5091.000000</td>\n",
       "      <td>10120.000000</td>\n",
       "      <td>328.775510</td>\n",
       "      <td>344.617778</td>\n",
       "      <td>349.866667</td>\n",
       "      <td>317.714286</td>\n",
       "      <td>340.000000</td>\n",
       "      <td>346.083333</td>\n",
       "      <td>2298.714286</td>\n",
       "      <td>5144.333333</td>\n",
       "      <td>10119.032146</td>\n",
       "    </tr>\n",
       "    <tr>\n",
       "      <td>75%</td>\n",
       "      <td>1350.500000</td>\n",
       "      <td>6.804200e+04</td>\n",
       "      <td>1250.986583</td>\n",
       "      <td>963.750000</td>\n",
       "      <td>1894.500000</td>\n",
       "      <td>5.487522</td>\n",
       "      <td>14.000000</td>\n",
       "      <td>0.049478</td>\n",
       "      <td>407.968660</td>\n",
       "      <td>2.927230</td>\n",
       "      <td>4.746575e+04</td>\n",
       "      <td>4.408500e+04</td>\n",
       "      <td>4.427850e+04</td>\n",
       "      <td>4.558500e+04</td>\n",
       "      <td>4.807975e+04</td>\n",
       "      <td>4.997000e+04</td>\n",
       "      <td>43179.25000</td>\n",
       "      <td>1142.507305</td>\n",
       "      <td>1208.696629</td>\n",
       "      <td>1186.372549</td>\n",
       "      <td>1174.588235</td>\n",
       "      <td>1260.176136</td>\n",
       "      <td>1295.000000</td>\n",
       "      <td>1130.324747</td>\n",
       "      <td>3.357145e+05</td>\n",
       "      <td>10778.500000</td>\n",
       "      <td>1172.621320</td>\n",
       "      <td>951.100000</td>\n",
       "      <td>734.500000</td>\n",
       "      <td>716.200000</td>\n",
       "      <td>732.183333</td>\n",
       "      <td>554.000000</td>\n",
       "      <td>545.000000</td>\n",
       "      <td>536.500000</td>\n",
       "      <td>5110.500000</td>\n",
       "      <td>10673.000000</td>\n",
       "      <td>21183.500000</td>\n",
       "      <td>742.693878</td>\n",
       "      <td>742.860000</td>\n",
       "      <td>715.405556</td>\n",
       "      <td>728.428571</td>\n",
       "      <td>739.866667</td>\n",
       "      <td>711.458333</td>\n",
       "      <td>5197.071429</td>\n",
       "      <td>10906.000000</td>\n",
       "      <td>20667.959105</td>\n",
       "    </tr>\n",
       "    <tr>\n",
       "      <td>max</td>\n",
       "      <td>1799.000000</td>\n",
       "      <td>2.755612e+06</td>\n",
       "      <td>64667.538462</td>\n",
       "      <td>24630.000000</td>\n",
       "      <td>56848.000000</td>\n",
       "      <td>122.018519</td>\n",
       "      <td>2411.000000</td>\n",
       "      <td>22.324074</td>\n",
       "      <td>26449.737342</td>\n",
       "      <td>50.200000</td>\n",
       "      <td>2.522034e+06</td>\n",
       "      <td>1.406489e+06</td>\n",
       "      <td>1.352439e+06</td>\n",
       "      <td>1.411112e+06</td>\n",
       "      <td>1.408678e+06</td>\n",
       "      <td>1.369847e+06</td>\n",
       "      <td>993133.00000</td>\n",
       "      <td>64667.538462</td>\n",
       "      <td>83416.750000</td>\n",
       "      <td>59385.777778</td>\n",
       "      <td>92721.700000</td>\n",
       "      <td>47095.500000</td>\n",
       "      <td>47500.000000</td>\n",
       "      <td>45000.000000</td>\n",
       "      <td>8.968854e+06</td>\n",
       "      <td>342140.000000</td>\n",
       "      <td>23235.923077</td>\n",
       "      <td>15981.750000</td>\n",
       "      <td>29583.142857</td>\n",
       "      <td>28849.200000</td>\n",
       "      <td>29313.600000</td>\n",
       "      <td>33774.000000</td>\n",
       "      <td>28725.000000</td>\n",
       "      <td>30886.500000</td>\n",
       "      <td>207082.000000</td>\n",
       "      <td>432738.000000</td>\n",
       "      <td>879408.000000</td>\n",
       "      <td>29783.020408</td>\n",
       "      <td>29655.035556</td>\n",
       "      <td>28790.528889</td>\n",
       "      <td>29583.142857</td>\n",
       "      <td>29701.333333</td>\n",
       "      <td>28889.316667</td>\n",
       "      <td>208481.142857</td>\n",
       "      <td>444825.533333</td>\n",
       "      <td>863715.866667</td>\n",
       "    </tr>\n",
       "  </tbody>\n",
       "</table>\n",
       "</div>"
      ],
      "text/plain": [
       "          store_id             y   amount_mean    amount_mid     count_sum  \\\n",
       "count  1483.000000  1.483000e+03   1483.000000   1483.000000   1483.000000   \n",
       "mean    898.420769  5.926068e+04   1134.388388    866.092717   1817.596089   \n",
       "std     521.091486  1.120253e+05   2372.485488   1533.465496   3653.064037   \n",
       "min       0.000000  7.500000e+01     42.333333     25.000000      1.000000   \n",
       "25%     442.500000  1.523350e+04    349.513097    250.000000    136.000000   \n",
       "50%     900.000000  3.361600e+04    632.363636    467.000000    531.000000   \n",
       "75%    1350.500000  6.804200e+04   1250.986583    963.750000   1894.500000   \n",
       "max    1799.000000  2.755612e+06  64667.538462  24630.000000  56848.000000   \n",
       "\n",
       "        count_mean  refund_count  refund_rate  daily_trans_amount  \\\n",
       "count  1483.000000   1483.000000  1483.000000         1483.000000   \n",
       "mean      5.286492     16.438975     0.061421          493.116007   \n",
       "std       8.663589     83.176581     0.590469         1206.542959   \n",
       "min       1.000000      0.000000     0.000000           14.107333   \n",
       "25%       1.516368      1.000000     0.008562          104.268448   \n",
       "50%       2.624113      4.000000     0.024540          188.110302   \n",
       "75%       5.487522     14.000000     0.049478          407.968660   \n",
       "max     122.018519   2411.000000    22.324074        26449.737342   \n",
       "\n",
       "          mean_gap         0_sum         1_sum         2_sum         3_sum  \\\n",
       "count  1480.000000  1.474000e+03  1.449000e+03  1.455000e+03  1.469000e+03   \n",
       "mean      3.243291  4.454142e+04  3.839039e+04  3.927679e+04  3.929129e+04   \n",
       "std       4.724456  1.046776e+05  7.309921e+04  7.492232e+04  7.698308e+04   \n",
       "min       1.000000  8.300000e+01  8.100000e+01  2.400000e+01  2.000000e+01   \n",
       "25%       1.095377  6.878000e+03  5.500000e+03  5.900000e+03  5.416000e+03   \n",
       "50%       1.357762  1.740950e+04  1.803300e+04  1.726500e+04  1.755000e+04   \n",
       "75%       2.927230  4.746575e+04  4.408500e+04  4.427850e+04  4.558500e+04   \n",
       "max      50.200000  2.522034e+06  1.406489e+06  1.352439e+06  1.411112e+06   \n",
       "\n",
       "              4_sum         5_sum         6_sum        0_mean        1_mean  \\\n",
       "count  1.468000e+03  1.429000e+03    1262.00000   1474.000000   1449.000000   \n",
       "mean   4.276922e+04  4.479472e+04   39334.33122   1078.454111   1150.676063   \n",
       "std    7.949675e+04  8.368372e+04   75554.68607   2408.683242   3120.058002   \n",
       "min    2.700000e+01  5.000000e+01      25.00000     42.333333     30.000000   \n",
       "25%    6.070250e+03  6.200000e+03    3886.25000    304.596591    312.441860   \n",
       "50%    1.966000e+04  1.890000e+04   14696.00000    566.703904    583.584270   \n",
       "75%    4.807975e+04  4.997000e+04   43179.25000   1142.507305   1208.696629   \n",
       "max    1.408678e+06  1.369847e+06  993133.00000  64667.538462  83416.750000   \n",
       "\n",
       "             2_mean        3_mean        4_mean        5_mean        6_mean  \\\n",
       "count   1455.000000   1469.000000   1468.000000   1429.000000   1262.000000   \n",
       "mean    1101.732732   1107.150384   1138.389294   1143.776285   1051.497901   \n",
       "std     2343.139966   2909.321604   2071.777511   1994.873379   1968.168017   \n",
       "min       24.000000     20.000000     27.000000     37.500000     23.333333   \n",
       "25%      308.571429    315.000000    339.985806    353.287671    319.422619   \n",
       "50%      601.111111    593.181818    637.390297    640.200000    583.746503   \n",
       "75%     1186.372549   1174.588235   1260.176136   1295.000000   1130.324747   \n",
       "max    59385.777778  92721.700000  47095.500000  47500.000000  45000.000000   \n",
       "\n",
       "         unholy_sum       holy_sum   unholy_mean     holy_mean       7D_mean  \\\n",
       "count  1.247000e+03    1483.000000   1247.000000   1483.000000   1483.000000   \n",
       "mean   2.929191e+05   10108.190155   1039.025553    827.617304    586.597314   \n",
       "std    5.091492e+05   21413.450435   1615.622402   1371.973519   1931.467032   \n",
       "min    1.484000e+03       0.000000     55.196491      0.000000 -57142.857143   \n",
       "25%    5.882000e+04     525.000000    347.759521    159.068182    107.142857   \n",
       "50%    1.464120e+05    3370.000000    615.974576    450.000000    307.142857   \n",
       "75%    3.357145e+05   10778.500000   1172.621320    951.100000    734.500000   \n",
       "max    8.968854e+06  342140.000000  23235.923077  15981.750000  29583.142857   \n",
       "\n",
       "           15D_mean      30D_mean     7D_median    15D_median    30D_median  \\\n",
       "count   1483.000000   1483.000000   1483.000000   1483.000000   1483.000000   \n",
       "mean     601.165141    620.619663    488.466622    466.319960    468.372556   \n",
       "std     1376.536207   1233.734830   1257.045123   1145.153428   1165.428085   \n",
       "min   -26666.666667 -13333.333333      0.000000      0.000000      0.000000   \n",
       "25%      126.333333    145.166667      0.000000      0.000000      0.000000   \n",
       "50%      342.000000    345.633333    180.000000    195.000000    190.000000   \n",
       "75%      716.200000    732.183333    554.000000    545.000000    536.500000   \n",
       "max    28849.200000  29313.600000  33774.000000  28725.000000  30886.500000   \n",
       "\n",
       "              7D_sum        15D_sum        30D_sum   7D_MA7_mean  \\\n",
       "count    1483.000000    1483.000000    1483.000000   1483.000000   \n",
       "mean     4096.985165    8951.170600   18315.575860    617.068513   \n",
       "std     13517.614216   20636.964073   36997.735514   1260.117903   \n",
       "min   -400000.000000 -400000.000000 -400000.000000 -12244.897959   \n",
       "25%       750.000000    1835.000000    4249.000000    118.346939   \n",
       "50%      2150.000000    5091.000000   10120.000000    328.775510   \n",
       "75%      5110.500000   10673.000000   21183.500000    742.693878   \n",
       "max    207082.000000  432738.000000  879408.000000  29783.020408   \n",
       "\n",
       "       15D_MA15_mean  30D_MA30_mean  7D_MA7_median  15D_MA15_median  \\\n",
       "count    1483.000000    1483.000000    1483.000000      1483.000000   \n",
       "mean      623.823236     625.788771     622.455367       623.630191   \n",
       "std      1189.810429    1145.365992    1216.688283      1188.255665   \n",
       "min     -2666.666667     -25.757778    -321.428571         0.000000   \n",
       "25%       144.235556     148.733333     114.285714       137.866667   \n",
       "50%       344.617778     349.866667     317.714286       340.000000   \n",
       "75%       742.860000     715.405556     728.428571       739.866667   \n",
       "max     29655.035556   28790.528889   29583.142857     29701.333333   \n",
       "\n",
       "       30D_MA30_median     7D_MA7_sum   15D_MA15_sum   30D_MA30_sum  \n",
       "count      1483.000000    1483.000000    1483.000000    1483.000000  \n",
       "mean        625.072541    4308.576719    9285.790351   18457.221210  \n",
       "std        1153.859902    8814.540966   17828.330544   34320.635898  \n",
       "min         -55.400000  -85714.285714  -40000.000000    -772.733333  \n",
       "25%         148.136667     823.642857    2115.500000    4357.833333  \n",
       "50%         346.083333    2298.714286    5144.333333   10119.032146  \n",
       "75%         711.458333    5197.071429   10906.000000   20667.959105  \n",
       "max       28889.316667  208481.142857  444825.533333  863715.866667  "
      ]
     },
     "execution_count": 158,
     "metadata": {},
     "output_type": "execute_result"
    }
   ],
   "source": [
    "reform_train.describe()"
   ]
  },
  {
   "cell_type": "code",
   "execution_count": 160,
   "metadata": {
    "ExecuteTime": {
     "end_time": "2020-06-28T11:15:25.953313Z",
     "start_time": "2020-06-28T11:15:25.949313Z"
    }
   },
   "outputs": [],
   "source": [
    "money_col = ['amount_mean', 'amount_mid', '0_sum', '1_sum', '2_sum', '3_sum', '4_sum', '5_sum', '6_sum', '0_mean',\n",
    "             '1_mean', '2_mean', '3_mean', '4_mean', '5_mean', '6_mean',\n",
    "             'unholy_sum', 'holy_sum', 'unholy_mean', 'holy_mean', '7D_mean',\n",
    "             '15D_mean', '30D_mean', '7D_median', '15D_median', '30D_median',\n",
    "             '7D_sum', '15D_sum', '30D_sum', '7D_MA7_mean', '15D_MA15_mean',\n",
    "             '30D_MA30_mean', '7D_MA7_median', '15D_MA15_median', '30D_MA30_median',\n",
    "             '7D_MA7_sum', '15D_MA15_sum', '30D_MA30_sum']"
   ]
  },
  {
   "cell_type": "code",
   "execution_count": 161,
   "metadata": {
    "ExecuteTime": {
     "end_time": "2020-06-28T11:18:07.366612Z",
     "start_time": "2020-06-28T11:18:07.363611Z"
    }
   },
   "outputs": [
    {
     "data": {
      "text/plain": [
       "((1483, 46), (200, 46))"
      ]
     },
     "execution_count": 161,
     "metadata": {},
     "output_type": "execute_result"
    }
   ],
   "source": [
    "reform_train.shape,reform_test.shape"
   ]
  },
  {
   "cell_type": "markdown",
   "metadata": {},
   "source": [
    "### modeling\n",
    "* 2nd 솔루션은 xgb, train_test_split 0.1만"
   ]
  },
  {
   "cell_type": "code",
   "execution_count": 163,
   "metadata": {
    "ExecuteTime": {
     "end_time": "2020-06-28T11:18:18.296215Z",
     "start_time": "2020-06-28T11:18:18.294215Z"
    }
   },
   "outputs": [],
   "source": [
    "col = [i for i in reform_train.columns if i not in ['store_id','y']]\n",
    "y = reform_train['y'].values\n",
    "\n",
    "train_X, test_X, train_y, test_y = train_test_split(reform_train[col],y, test_size=0.3, random_state=4024)"
   ]
  },
  {
   "cell_type": "markdown",
   "metadata": {},
   "source": [
    "#### lgbm"
   ]
  },
  {
   "cell_type": "code",
   "execution_count": 176,
   "metadata": {
    "ExecuteTime": {
     "end_time": "2020-06-28T11:24:29.673188Z",
     "start_time": "2020-06-28T11:24:26.330903Z"
    }
   },
   "outputs": [
    {
     "name": "stdout",
     "output_type": "stream",
     "text": [
      "Training until validation scores don't improve for 500 rounds\n",
      "[100]\ttrain's rmse: 120305\ttrain's l2: 1.44732e+10\ttest's rmse: 58516.8\ttest's l2: 3.42422e+09\n",
      "[200]\ttrain's rmse: 114647\ttrain's l2: 1.3144e+10\ttest's rmse: 52518.5\ttest's l2: 2.75819e+09\n",
      "[300]\ttrain's rmse: 109772\ttrain's l2: 1.20499e+10\ttest's rmse: 47210.8\ttest's l2: 2.22886e+09\n",
      "[400]\ttrain's rmse: 105568\ttrain's l2: 1.11446e+10\ttest's rmse: 42502.8\ttest's l2: 1.80649e+09\n",
      "[500]\ttrain's rmse: 101942\ttrain's l2: 1.03923e+10\ttest's rmse: 38614.3\ttest's l2: 1.49107e+09\n",
      "[600]\ttrain's rmse: 98829.1\ttrain's l2: 9.7672e+09\ttest's rmse: 35259.2\ttest's l2: 1.24321e+09\n",
      "[700]\ttrain's rmse: 96149.9\ttrain's l2: 9.24481e+09\ttest's rmse: 32522.9\ttest's l2: 1.05774e+09\n",
      "[800]\ttrain's rmse: 93847.8\ttrain's l2: 8.80741e+09\ttest's rmse: 30388.3\ttest's l2: 9.23448e+08\n",
      "[900]\ttrain's rmse: 91874.2\ttrain's l2: 8.44086e+09\ttest's rmse: 28760.3\ttest's l2: 8.27155e+08\n",
      "[1000]\ttrain's rmse: 90152\ttrain's l2: 8.12739e+09\ttest's rmse: 27539.8\ttest's l2: 7.58442e+08\n",
      "[1100]\ttrain's rmse: 88621.3\ttrain's l2: 7.85374e+09\ttest's rmse: 26609.3\ttest's l2: 7.08057e+08\n",
      "[1200]\ttrain's rmse: 87260.8\ttrain's l2: 7.61444e+09\ttest's rmse: 25931\ttest's l2: 6.72418e+08\n",
      "[1300]\ttrain's rmse: 86052.7\ttrain's l2: 7.40507e+09\ttest's rmse: 25469.4\ttest's l2: 6.4869e+08\n",
      "[1400]\ttrain's rmse: 84977.3\ttrain's l2: 7.22114e+09\ttest's rmse: 25197.3\ttest's l2: 6.34903e+08\n",
      "[1500]\ttrain's rmse: 84018.1\ttrain's l2: 7.05905e+09\ttest's rmse: 25054.2\ttest's l2: 6.27714e+08\n",
      "[1600]\ttrain's rmse: 83147.8\ttrain's l2: 6.91355e+09\ttest's rmse: 25017.5\ttest's l2: 6.25874e+08\n",
      "[1700]\ttrain's rmse: 82352.9\ttrain's l2: 6.782e+09\ttest's rmse: 25087.1\ttest's l2: 6.29363e+08\n",
      "[1800]\ttrain's rmse: 81605.5\ttrain's l2: 6.65946e+09\ttest's rmse: 25220.1\ttest's l2: 6.36055e+08\n",
      "[1900]\ttrain's rmse: 80906.6\ttrain's l2: 6.54588e+09\ttest's rmse: 25359.1\ttest's l2: 6.43085e+08\n",
      "[2000]\ttrain's rmse: 80241.3\ttrain's l2: 6.43867e+09\ttest's rmse: 25473.8\ttest's l2: 6.48916e+08\n",
      "Early stopping, best iteration is:\n",
      "[1578]\ttrain's rmse: 83332.4\ttrain's l2: 6.94428e+09\ttest's rmse: 25013.7\ttest's l2: 6.25686e+08\n"
     ]
    },
    {
     "data": {
      "text/plain": [
       "LGBMRegressor(boosting_type='gbdt', class_weight=None, colsample_bytree=1.0,\n",
       "              importance_type='split', learning_rate=0.001, max_depth=-1,\n",
       "              min_child_samples=20, min_child_weight=0.001, min_split_gain=0.0,\n",
       "              n_estimators=30000, n_jobs=-1, num_leaves=31, objective=None,\n",
       "              random_state=None, reg_alpha=0.0, reg_lambda=0.0, silent=True,\n",
       "              subsample=1.0, subsample_for_bin=200000, subsample_freq=0)"
      ]
     },
     "execution_count": 176,
     "metadata": {},
     "output_type": "execute_result"
    }
   ],
   "source": [
    "lgbm = lightgbm.LGBMRegressor(learning_rate=0.001, n_estimators=30000)\n",
    "\n",
    "lgbm.fit(train_X,train_y,eval_set=[(train_X,train_y),(test_X,test_y)], eval_names=['train','test'],eval_metric='rmse',verbose=100, early_stopping_rounds= 500)"
   ]
  },
  {
   "cell_type": "code",
   "execution_count": 177,
   "metadata": {
    "ExecuteTime": {
     "end_time": "2020-06-28T11:24:29.693192Z",
     "start_time": "2020-06-28T11:24:29.674188Z"
    }
   },
   "outputs": [],
   "source": [
    "y_pred = lgbm.predict(test_X)\n",
    "score = np.sqrt(mean_squared_error(test_y, y_pred))"
   ]
  },
  {
   "cell_type": "code",
   "execution_count": 178,
   "metadata": {
    "ExecuteTime": {
     "end_time": "2020-06-28T11:24:29.726200Z",
     "start_time": "2020-06-28T11:24:29.694192Z"
    }
   },
   "outputs": [],
   "source": [
    "y_pred = lgbm.predict(reform_test[col])"
   ]
  },
  {
   "cell_type": "code",
   "execution_count": 181,
   "metadata": {
    "ExecuteTime": {
     "end_time": "2020-06-28T11:24:54.209194Z",
     "start_time": "2020-06-28T11:24:54.200192Z"
    },
    "scrolled": true
   },
   "outputs": [],
   "source": [
    "submission['total_sales'] = y_pred\n",
    "\n",
    "today = datetime.datetime.today().date()\n",
    "os.makedirs('./submission/',exist_ok=True)\n",
    "submission.to_csv(f'./submission/submission_{today}_lgbm_{score}_rmse.csv',index=False)"
   ]
  },
  {
   "cell_type": "markdown",
   "metadata": {},
   "source": [
    "#### xgb"
   ]
  },
  {
   "cell_type": "code",
   "execution_count": 182,
   "metadata": {
    "ExecuteTime": {
     "end_time": "2020-06-28T11:26:57.967925Z",
     "start_time": "2020-06-28T11:26:57.962925Z"
    }
   },
   "outputs": [],
   "source": [
    "def XGB_regressor(train_X, train_y, test_X, test_y, metric, feature_name = None, seed_val = 2018, num_rounds = 3000):\n",
    "    params = {'objective' : 'reg:squarederror',\n",
    "              'learning_rate' : 0.05,\n",
    "              'max_depth' : 10,\n",
    "              'eval_metric': metric,#??? rmse가 아니고??\n",
    "              'min_child_weight': 1,\n",
    "              'subsample': 0.7,\n",
    "              'colsample_bytree' : 0.7,\n",
    "              'seed': seed_val}\n",
    "    plst = list(params.items())\n",
    "    \n",
    "    xgtrain = xgb.DMatrix(train_X, label = train_y)\n",
    "    \n",
    "    if test_y is not None:\n",
    "        xgtest = xgb.DMatrix(test_X, label = test_y)\n",
    "        watchlist = [ (xgtrain, 'train'), (xgtest, 'test')]\n",
    "        model = xgb.train(plst, xgtrain, num_rounds, watchlist, early_stopping_rounds= 300,verbose_eval= 100)\n",
    "    else :\n",
    "        xgtest = xgb.DMatrix(test_X)\n",
    "        model = xgb.train(plst, xgtrain, num_rounds)\n",
    "        \n",
    "    return model"
   ]
  },
  {
   "cell_type": "code",
   "execution_count": 185,
   "metadata": {
    "ExecuteTime": {
     "end_time": "2020-06-28T11:27:53.866170Z",
     "start_time": "2020-06-28T11:27:53.184017Z"
    },
    "scrolled": true
   },
   "outputs": [
    {
     "name": "stdout",
     "output_type": "stream",
     "text": [
      "[0]\ttrain-rmse:135567.90625\ttest-rmse:81256.32812\n",
      "Multiple eval metrics have been passed: 'test-rmse' will be used for early stopping.\n",
      "\n",
      "Will train until test-rmse hasn't improved in 300 rounds.\n",
      "[100]\ttrain-rmse:12467.85840\ttest-rmse:23141.36719\n",
      "[200]\ttrain-rmse:2663.48389\ttest-rmse:23221.37109\n",
      "[300]\ttrain-rmse:753.29089\ttest-rmse:23256.43945\n",
      "[400]\ttrain-rmse:238.16800\ttest-rmse:23262.75000\n",
      "Stopping. Best iteration:\n",
      "[125]\ttrain-rmse:8033.55176\ttest-rmse:23099.49805\n",
      "\n"
     ]
    }
   ],
   "source": [
    "model = XGB_regressor(train_X, train_y, test_X, test_y, 'rmse')"
   ]
  },
  {
   "cell_type": "code",
   "execution_count": 188,
   "metadata": {
    "ExecuteTime": {
     "end_time": "2020-06-28T11:28:13.444616Z",
     "start_time": "2020-06-28T11:28:13.435614Z"
    }
   },
   "outputs": [],
   "source": [
    "y_pred = model.predict(xgb.DMatrix(test_X))\n",
    "score = np.sqrt(mean_squared_error(test_y, y_pred))"
   ]
  },
  {
   "cell_type": "code",
   "execution_count": 189,
   "metadata": {
    "ExecuteTime": {
     "end_time": "2020-06-28T11:28:20.510502Z",
     "start_time": "2020-06-28T11:28:20.505502Z"
    }
   },
   "outputs": [],
   "source": [
    "#몇가지 조정을 더 거친후 제출할 답변임\n",
    "y_pred = model.predict(xgb.DMatrix(reform_test[col]), ntree_limit = model.best_ntree_limit)"
   ]
  },
  {
   "cell_type": "code",
   "execution_count": 190,
   "metadata": {
    "ExecuteTime": {
     "end_time": "2020-06-28T11:28:30.081381Z",
     "start_time": "2020-06-28T11:28:30.075380Z"
    }
   },
   "outputs": [],
   "source": [
    "submission['total_sales'] = y_pred\n",
    "\n",
    "today = datetime.datetime.today().date()\n",
    "os.makedirs('./submission/',exist_ok=True)\n",
    "submission.to_csv(f'./submission/submission_{today}_xgb_{score}_rmse.csv',index=False)"
   ]
  },
  {
   "cell_type": "markdown",
   "metadata": {},
   "source": [
    "#### lgbm (log scale)"
   ]
  },
  {
   "cell_type": "code",
   "execution_count": 194,
   "metadata": {
    "ExecuteTime": {
     "end_time": "2020-06-28T11:46:23.010161Z",
     "start_time": "2020-06-28T11:46:22.991158Z"
    }
   },
   "outputs": [],
   "source": [
    "reform_train[money_col] = reform_train[money_col].apply(lambda x : np.log(1+x))"
   ]
  },
  {
   "cell_type": "code",
   "execution_count": 195,
   "metadata": {
    "ExecuteTime": {
     "end_time": "2020-06-28T11:47:13.142080Z",
     "start_time": "2020-06-28T11:47:13.136080Z"
    }
   },
   "outputs": [],
   "source": [
    "train_X, test_X, train_y, test_y = train_test_split(reform_train[col],y, test_size=0.3, random_state=4024)"
   ]
  },
  {
   "cell_type": "code",
   "execution_count": 201,
   "metadata": {
    "ExecuteTime": {
     "end_time": "2020-06-28T11:48:55.871872Z",
     "start_time": "2020-06-28T11:48:52.426561Z"
    }
   },
   "outputs": [
    {
     "name": "stdout",
     "output_type": "stream",
     "text": [
      "Training until validation scores don't improve for 500 rounds\n",
      "[100]\ttrain's rmse: 120300\ttrain's l2: 1.44721e+10\ttest's rmse: 58516.7\ttest's l2: 3.4242e+09\n",
      "[200]\ttrain's rmse: 114640\ttrain's l2: 1.31422e+10\ttest's rmse: 52540.7\ttest's l2: 2.76053e+09\n",
      "[300]\ttrain's rmse: 109764\ttrain's l2: 1.20482e+10\ttest's rmse: 47248.8\ttest's l2: 2.23245e+09\n",
      "[400]\ttrain's rmse: 105563\ttrain's l2: 1.11435e+10\ttest's rmse: 42514.4\ttest's l2: 1.80748e+09\n",
      "[500]\ttrain's rmse: 101933\ttrain's l2: 1.03903e+10\ttest's rmse: 38552.9\ttest's l2: 1.48633e+09\n",
      "[600]\ttrain's rmse: 98811\ttrain's l2: 9.76362e+09\ttest's rmse: 35221.7\ttest's l2: 1.24057e+09\n",
      "[700]\ttrain's rmse: 96126.5\ttrain's l2: 9.24031e+09\ttest's rmse: 32485.2\ttest's l2: 1.05529e+09\n",
      "[800]\ttrain's rmse: 93818.5\ttrain's l2: 8.80191e+09\ttest's rmse: 30282.2\ttest's l2: 9.17011e+08\n",
      "[900]\ttrain's rmse: 91831\ttrain's l2: 8.43294e+09\ttest's rmse: 28592.5\ttest's l2: 8.17531e+08\n",
      "[1000]\ttrain's rmse: 90108\ttrain's l2: 8.11945e+09\ttest's rmse: 27345.9\ttest's l2: 7.47799e+08\n",
      "[1100]\ttrain's rmse: 88577.3\ttrain's l2: 7.84593e+09\ttest's rmse: 26413.3\ttest's l2: 6.97663e+08\n",
      "[1200]\ttrain's rmse: 87221.8\ttrain's l2: 7.60763e+09\ttest's rmse: 25730.2\ttest's l2: 6.62043e+08\n",
      "[1300]\ttrain's rmse: 86017.4\ttrain's l2: 7.39899e+09\ttest's rmse: 25220.9\ttest's l2: 6.36096e+08\n",
      "[1400]\ttrain's rmse: 84946.4\ttrain's l2: 7.2159e+09\ttest's rmse: 24892.3\ttest's l2: 6.19625e+08\n",
      "[1500]\ttrain's rmse: 83990.1\ttrain's l2: 7.05434e+09\ttest's rmse: 24697.4\ttest's l2: 6.09962e+08\n",
      "[1600]\ttrain's rmse: 83118.6\ttrain's l2: 6.90871e+09\ttest's rmse: 24605.4\ttest's l2: 6.05425e+08\n",
      "[1700]\ttrain's rmse: 82327.5\ttrain's l2: 6.77781e+09\ttest's rmse: 24628.7\ttest's l2: 6.06572e+08\n",
      "[1800]\ttrain's rmse: 81578.3\ttrain's l2: 6.65502e+09\ttest's rmse: 24737.5\ttest's l2: 6.11943e+08\n",
      "[1900]\ttrain's rmse: 80873.7\ttrain's l2: 6.54056e+09\ttest's rmse: 24866\ttest's l2: 6.1832e+08\n",
      "[2000]\ttrain's rmse: 80210.2\ttrain's l2: 6.43367e+09\ttest's rmse: 25016.8\ttest's l2: 6.2584e+08\n",
      "[2100]\ttrain's rmse: 79587.1\ttrain's l2: 6.3341e+09\ttest's rmse: 25181.7\ttest's l2: 6.34117e+08\n",
      "Early stopping, best iteration is:\n",
      "[1634]\ttrain's rmse: 82840.7\ttrain's l2: 6.86258e+09\ttest's rmse: 24597.7\ttest's l2: 6.05045e+08\n"
     ]
    },
    {
     "data": {
      "text/plain": [
       "LGBMRegressor(boosting_type='gbdt', class_weight=None, colsample_bytree=1.0,\n",
       "              importance_type='split', learning_rate=0.001, max_depth=-1,\n",
       "              min_child_samples=20, min_child_weight=0.001, min_split_gain=0.0,\n",
       "              n_estimators=30000, n_jobs=-1, num_leaves=31, objective=None,\n",
       "              random_state=None, reg_alpha=0.0, reg_lambda=0.0, silent=True,\n",
       "              subsample=1.0, subsample_for_bin=200000, subsample_freq=0)"
      ]
     },
     "execution_count": 201,
     "metadata": {},
     "output_type": "execute_result"
    }
   ],
   "source": [
    "lgbm = lightgbm.LGBMRegressor(learning_rate=0.001, n_estimators=30000)\n",
    "\n",
    "lgbm.fit(train_X,train_y,eval_set=[(train_X,train_y),(test_X,test_y)], eval_names=['train','test'],eval_metric='rmse',verbose=100, early_stopping_rounds= 500)"
   ]
  },
  {
   "cell_type": "code",
   "execution_count": 202,
   "metadata": {
    "ExecuteTime": {
     "end_time": "2020-06-28T11:49:07.150222Z",
     "start_time": "2020-06-28T11:49:07.130219Z"
    }
   },
   "outputs": [],
   "source": [
    "y_pred = lgbm.predict(test_X)\n",
    "score = np.sqrt(mean_squared_error(test_y, y_pred))"
   ]
  },
  {
   "cell_type": "code",
   "execution_count": 203,
   "metadata": {
    "ExecuteTime": {
     "end_time": "2020-06-28T11:49:07.525832Z",
     "start_time": "2020-06-28T11:49:07.513829Z"
    }
   },
   "outputs": [],
   "source": [
    "y_pred = lgbm.predict(reform_test[col])"
   ]
  },
  {
   "cell_type": "code",
   "execution_count": 204,
   "metadata": {
    "ExecuteTime": {
     "end_time": "2020-06-28T11:49:07.910922Z",
     "start_time": "2020-06-28T11:49:07.905921Z"
    },
    "scrolled": true
   },
   "outputs": [],
   "source": [
    "submission['total_sales'] = y_pred\n",
    "\n",
    "today = datetime.datetime.today().date()\n",
    "os.makedirs('./submission/',exist_ok=True)\n",
    "submission.to_csv(f'./submission/submission_{today}_lgbm_scale_{score}_rmse.csv',index=False)"
   ]
  },
  {
   "cell_type": "code",
   "execution_count": null,
   "metadata": {},
   "outputs": [],
   "source": []
  },
  {
   "cell_type": "markdown",
   "metadata": {
    "heading_collapsed": true
   },
   "source": [
    "### 작업본"
   ]
  },
  {
   "cell_type": "markdown",
   "metadata": {
    "hidden": true
   },
   "source": [
    "#### 주별, 주말별 계산 어쩌냐"
   ]
  },
  {
   "cell_type": "code",
   "execution_count": 55,
   "metadata": {
    "ExecuteTime": {
     "end_time": "2020-06-28T09:04:05.140336Z",
     "start_time": "2020-06-28T09:04:05.137335Z"
    },
    "hidden": true
   },
   "outputs": [],
   "source": [
    "#weekly\n",
    "weekly_sum = weekly['weekly_amount_sum']\n",
    "weekly_sum.index = [f\"{index}_sum\" for index in weekly['weekly_amount_sum'].index.values]\n",
    "feat.update(weekly_sum.to_dict())\n",
    "\n",
    "weekly_count = weekly['weekly_amount_count']\n",
    "weekly_count.index = [f\"{index}_count\" for index in weekly['weekly_amount_count'].index.values]\n",
    "feat.update(weekly_count.to_dict())\n",
    "\n",
    "#holyday\n",
    "holyday.index = ['unholy','holy']\n",
    "holyday_sum = holyday['holyday_amount_sum']\n",
    "holyday_sum.index = [f\"{index}_sum\" for index in holyday['holyday_amount_sum'].index.values]\n",
    "feat.update(holyday_sum.to_dict())\n",
    "\n",
    "holyday_count = holyday['holyday_amount_count']\n",
    "holyday_count.index = [f\"{index}_count\" for index in holyday['holyday_amount_count'].index.values]\n",
    "feat.update(holyday_count.to_dict())"
   ]
  },
  {
   "cell_type": "code",
   "execution_count": 228,
   "metadata": {
    "ExecuteTime": {
     "end_time": "2020-06-26T08:41:31.915375Z",
     "start_time": "2020-06-26T08:41:31.909374Z"
    },
    "hidden": true,
    "scrolled": true
   },
   "outputs": [
    {
     "data": {
      "text/plain": [
       "1"
      ]
     },
     "execution_count": 228,
     "metadata": {},
     "output_type": "execute_result"
    }
   ],
   "source": [
    "store_x[store_x.amount_sum>0].shape[0]"
   ]
  },
  {
   "cell_type": "code",
   "execution_count": 54,
   "metadata": {
    "ExecuteTime": {
     "end_time": "2020-06-28T09:04:04.838148Z",
     "start_time": "2020-06-28T09:04:04.826144Z"
    },
    "hidden": true
   },
   "outputs": [],
   "source": [
    "weekly = store[['days_of_week','amount_sum']].groupby('days_of_week').agg(['sum','count'])\n",
    "weekly.columns = ['weekly_amount_sum','weekly_amount_count']\n",
    "weekly_dict = weekly.to_dict()\n",
    "\n",
    "holyday = store[['holyday','amount_sum']].groupby('holyday').agg(['sum','count'])\n",
    "holyday.columns = ['holyday_amount_sum','holyday_amount_count']\n",
    "holyday_dict = holyday.to_dict()"
   ]
  },
  {
   "cell_type": "code",
   "execution_count": 230,
   "metadata": {
    "ExecuteTime": {
     "end_time": "2020-06-26T08:42:33.576499Z",
     "start_time": "2020-06-26T08:42:33.564495Z"
    },
    "hidden": true
   },
   "outputs": [
    {
     "data": {
      "text/html": [
       "<div>\n",
       "<style scoped>\n",
       "    .dataframe tbody tr th:only-of-type {\n",
       "        vertical-align: middle;\n",
       "    }\n",
       "\n",
       "    .dataframe tbody tr th {\n",
       "        vertical-align: top;\n",
       "    }\n",
       "\n",
       "    .dataframe thead th {\n",
       "        text-align: right;\n",
       "    }\n",
       "</style>\n",
       "<table border=\"1\" class=\"dataframe\">\n",
       "  <thead>\n",
       "    <tr style=\"text-align: right;\">\n",
       "      <th></th>\n",
       "      <th>store_id</th>\n",
       "      <th>amount_sum</th>\n",
       "      <th>amount_count</th>\n",
       "      <th>refund_sum</th>\n",
       "      <th>temp_date</th>\n",
       "      <th>trans_amount</th>\n",
       "      <th>days_of_week</th>\n",
       "      <th>holyday</th>\n",
       "      <th>MA7</th>\n",
       "      <th>MA15</th>\n",
       "      <th>MA30</th>\n",
       "    </tr>\n",
       "    <tr>\n",
       "      <th>date</th>\n",
       "      <th></th>\n",
       "      <th></th>\n",
       "      <th></th>\n",
       "      <th></th>\n",
       "      <th></th>\n",
       "      <th></th>\n",
       "      <th></th>\n",
       "      <th></th>\n",
       "      <th></th>\n",
       "      <th></th>\n",
       "      <th></th>\n",
       "    </tr>\n",
       "  </thead>\n",
       "  <tbody>\n",
       "    <tr>\n",
       "      <td>2018-04-21</td>\n",
       "      <td>1163</td>\n",
       "      <td>545</td>\n",
       "      <td>1</td>\n",
       "      <td>0.0</td>\n",
       "      <td>2018-04-21</td>\n",
       "      <td>545.0</td>\n",
       "      <td>5</td>\n",
       "      <td>0</td>\n",
       "      <td>545.0</td>\n",
       "      <td>545.0</td>\n",
       "      <td>545.0</td>\n",
       "    </tr>\n",
       "    <tr>\n",
       "      <td>2018-04-22</td>\n",
       "      <td>1163</td>\n",
       "      <td>0</td>\n",
       "      <td>0</td>\n",
       "      <td>0.0</td>\n",
       "      <td>2018-04-22</td>\n",
       "      <td>0.0</td>\n",
       "      <td>0</td>\n",
       "      <td>0</td>\n",
       "      <td>272.5</td>\n",
       "      <td>272.5</td>\n",
       "      <td>272.5</td>\n",
       "    </tr>\n",
       "  </tbody>\n",
       "</table>\n",
       "</div>"
      ],
      "text/plain": [
       "            store_id  amount_sum  amount_count  refund_sum  temp_date  \\\n",
       "date                                                                    \n",
       "2018-04-21      1163         545             1         0.0 2018-04-21   \n",
       "2018-04-22      1163           0             0         0.0 2018-04-22   \n",
       "\n",
       "            trans_amount  days_of_week  holyday    MA7   MA15   MA30  \n",
       "date                                                                  \n",
       "2018-04-21         545.0             5        0  545.0  545.0  545.0  \n",
       "2018-04-22           0.0             0        0  272.5  272.5  272.5  "
      ]
     },
     "execution_count": 230,
     "metadata": {},
     "output_type": "execute_result"
    }
   ],
   "source": [
    "store_x"
   ]
  },
  {
   "cell_type": "code",
   "execution_count": 188,
   "metadata": {
    "ExecuteTime": {
     "end_time": "2020-06-26T08:29:27.556416Z",
     "start_time": "2020-06-26T08:29:27.549414Z"
    },
    "hidden": true
   },
   "outputs": [
    {
     "data": {
      "text/html": [
       "<div>\n",
       "<style scoped>\n",
       "    .dataframe tbody tr th:only-of-type {\n",
       "        vertical-align: middle;\n",
       "    }\n",
       "\n",
       "    .dataframe tbody tr th {\n",
       "        vertical-align: top;\n",
       "    }\n",
       "\n",
       "    .dataframe thead th {\n",
       "        text-align: right;\n",
       "    }\n",
       "</style>\n",
       "<table border=\"1\" class=\"dataframe\">\n",
       "  <thead>\n",
       "    <tr style=\"text-align: right;\">\n",
       "      <th></th>\n",
       "      <th>store_id</th>\n",
       "      <th>amount_sum</th>\n",
       "      <th>amount_count</th>\n",
       "      <th>refund_sum</th>\n",
       "      <th>temp_date</th>\n",
       "      <th>days_of_week</th>\n",
       "      <th>holyday</th>\n",
       "      <th>trans_amount</th>\n",
       "      <th>MA7</th>\n",
       "      <th>MA15</th>\n",
       "      <th>MA30</th>\n",
       "    </tr>\n",
       "  </thead>\n",
       "  <tbody>\n",
       "  </tbody>\n",
       "</table>\n",
       "</div>"
      ],
      "text/plain": [
       "Empty DataFrame\n",
       "Columns: [store_id, amount_sum, amount_count, refund_sum, temp_date, days_of_week, holyday, trans_amount, MA7, MA15, MA30]\n",
       "Index: []"
      ]
     },
     "execution_count": 188,
     "metadata": {},
     "output_type": "execute_result"
    }
   ],
   "source": [
    "store"
   ]
  },
  {
   "cell_type": "code",
   "execution_count": 189,
   "metadata": {
    "ExecuteTime": {
     "end_time": "2020-06-26T08:29:30.455068Z",
     "start_time": "2020-06-26T08:29:30.448067Z"
    },
    "hidden": true
   },
   "outputs": [],
   "source": [
    "store = sample_df[sample_df.store_id == 8]"
   ]
  },
  {
   "cell_type": "code",
   "execution_count": 164,
   "metadata": {
    "ExecuteTime": {
     "end_time": "2020-06-26T08:15:23.540808Z",
     "start_time": "2020-06-26T08:15:23.522803Z"
    },
    "hidden": true
   },
   "outputs": [],
   "source": [
    "store = sample_df[sample_df.store_id == store_id]"
   ]
  },
  {
   "cell_type": "code",
   "execution_count": 174,
   "metadata": {
    "ExecuteTime": {
     "end_time": "2020-06-26T08:21:02.517983Z",
     "start_time": "2020-06-26T08:21:02.511981Z"
    },
    "hidden": true
   },
   "outputs": [
    {
     "data": {
      "text/plain": [
       "65714.6097208347"
      ]
     },
     "execution_count": 174,
     "metadata": {},
     "output_type": "execute_result"
    }
   ],
   "source": [
    "store.trans_amount.sum()"
   ]
  },
  {
   "cell_type": "code",
   "execution_count": 173,
   "metadata": {
    "ExecuteTime": {
     "end_time": "2020-06-26T08:20:35.276574Z",
     "start_time": "2020-06-26T08:20:35.270572Z"
    },
    "hidden": true
   },
   "outputs": [
    {
     "data": {
      "text/plain": [
       "531"
      ]
     },
     "execution_count": 173,
     "metadata": {},
     "output_type": "execute_result"
    }
   ],
   "source": [
    "store[store.trans_amount>0].shape[0]"
   ]
  },
  {
   "cell_type": "code",
   "execution_count": 151,
   "metadata": {
    "ExecuteTime": {
     "end_time": "2020-06-26T07:50:05.415090Z",
     "start_time": "2020-06-26T07:50:05.411088Z"
    },
    "hidden": true
   },
   "outputs": [],
   "source": [
    "store = store.asfreq('D',fill_value = 0)"
   ]
  },
  {
   "cell_type": "code",
   "execution_count": 152,
   "metadata": {
    "ExecuteTime": {
     "end_time": "2020-06-26T07:50:05.616134Z",
     "start_time": "2020-06-26T07:50:05.612133Z"
    },
    "hidden": true
   },
   "outputs": [],
   "source": [
    "store['temp_date'] = store.index\n",
    "store['store_id'] = store_id"
   ]
  },
  {
   "cell_type": "code",
   "execution_count": 153,
   "metadata": {
    "ExecuteTime": {
     "end_time": "2020-06-26T07:50:05.942208Z",
     "start_time": "2020-06-26T07:50:05.930205Z"
    },
    "hidden": true
   },
   "outputs": [
    {
     "data": {
      "text/html": [
       "<div>\n",
       "<style scoped>\n",
       "    .dataframe tbody tr th:only-of-type {\n",
       "        vertical-align: middle;\n",
       "    }\n",
       "\n",
       "    .dataframe tbody tr th {\n",
       "        vertical-align: top;\n",
       "    }\n",
       "\n",
       "    .dataframe thead th {\n",
       "        text-align: right;\n",
       "    }\n",
       "</style>\n",
       "<table border=\"1\" class=\"dataframe\">\n",
       "  <thead>\n",
       "    <tr style=\"text-align: right;\">\n",
       "      <th></th>\n",
       "      <th>store_id</th>\n",
       "      <th>amount_sum</th>\n",
       "      <th>amount_count</th>\n",
       "      <th>refund_sum</th>\n",
       "      <th>temp_date</th>\n",
       "    </tr>\n",
       "    <tr>\n",
       "      <th>date</th>\n",
       "      <th></th>\n",
       "      <th></th>\n",
       "      <th></th>\n",
       "      <th></th>\n",
       "      <th></th>\n",
       "    </tr>\n",
       "  </thead>\n",
       "  <tbody>\n",
       "    <tr>\n",
       "      <td>2016-08-10</td>\n",
       "      <td>32</td>\n",
       "      <td>140</td>\n",
       "      <td>1</td>\n",
       "      <td>0.0</td>\n",
       "      <td>2016-08-10</td>\n",
       "    </tr>\n",
       "    <tr>\n",
       "      <td>2016-08-11</td>\n",
       "      <td>32</td>\n",
       "      <td>0</td>\n",
       "      <td>0</td>\n",
       "      <td>0.0</td>\n",
       "      <td>2016-08-11</td>\n",
       "    </tr>\n",
       "    <tr>\n",
       "      <td>2016-08-12</td>\n",
       "      <td>32</td>\n",
       "      <td>0</td>\n",
       "      <td>0</td>\n",
       "      <td>0.0</td>\n",
       "      <td>2016-08-12</td>\n",
       "    </tr>\n",
       "    <tr>\n",
       "      <td>2016-08-13</td>\n",
       "      <td>32</td>\n",
       "      <td>60</td>\n",
       "      <td>1</td>\n",
       "      <td>0.0</td>\n",
       "      <td>2016-08-13</td>\n",
       "    </tr>\n",
       "    <tr>\n",
       "      <td>2016-08-14</td>\n",
       "      <td>32</td>\n",
       "      <td>0</td>\n",
       "      <td>0</td>\n",
       "      <td>0.0</td>\n",
       "      <td>2016-08-14</td>\n",
       "    </tr>\n",
       "    <tr>\n",
       "      <td>...</td>\n",
       "      <td>...</td>\n",
       "      <td>...</td>\n",
       "      <td>...</td>\n",
       "      <td>...</td>\n",
       "      <td>...</td>\n",
       "    </tr>\n",
       "    <tr>\n",
       "      <td>2018-07-26</td>\n",
       "      <td>32</td>\n",
       "      <td>884</td>\n",
       "      <td>4</td>\n",
       "      <td>0.0</td>\n",
       "      <td>2018-07-26</td>\n",
       "    </tr>\n",
       "    <tr>\n",
       "      <td>2018-07-27</td>\n",
       "      <td>32</td>\n",
       "      <td>549</td>\n",
       "      <td>5</td>\n",
       "      <td>0.0</td>\n",
       "      <td>2018-07-27</td>\n",
       "    </tr>\n",
       "    <tr>\n",
       "      <td>2018-07-28</td>\n",
       "      <td>32</td>\n",
       "      <td>709</td>\n",
       "      <td>4</td>\n",
       "      <td>0.0</td>\n",
       "      <td>2018-07-28</td>\n",
       "    </tr>\n",
       "    <tr>\n",
       "      <td>2018-07-29</td>\n",
       "      <td>32</td>\n",
       "      <td>364</td>\n",
       "      <td>3</td>\n",
       "      <td>0.0</td>\n",
       "      <td>2018-07-29</td>\n",
       "    </tr>\n",
       "    <tr>\n",
       "      <td>2018-07-30</td>\n",
       "      <td>32</td>\n",
       "      <td>327</td>\n",
       "      <td>3</td>\n",
       "      <td>0.0</td>\n",
       "      <td>2018-07-30</td>\n",
       "    </tr>\n",
       "  </tbody>\n",
       "</table>\n",
       "<p>720 rows × 5 columns</p>\n",
       "</div>"
      ],
      "text/plain": [
       "            store_id  amount_sum  amount_count  refund_sum  temp_date\n",
       "date                                                                 \n",
       "2016-08-10        32         140             1         0.0 2016-08-10\n",
       "2016-08-11        32           0             0         0.0 2016-08-11\n",
       "2016-08-12        32           0             0         0.0 2016-08-12\n",
       "2016-08-13        32          60             1         0.0 2016-08-13\n",
       "2016-08-14        32           0             0         0.0 2016-08-14\n",
       "...              ...         ...           ...         ...        ...\n",
       "2018-07-26        32         884             4         0.0 2018-07-26\n",
       "2018-07-27        32         549             5         0.0 2018-07-27\n",
       "2018-07-28        32         709             4         0.0 2018-07-28\n",
       "2018-07-29        32         364             3         0.0 2018-07-29\n",
       "2018-07-30        32         327             3         0.0 2018-07-30\n",
       "\n",
       "[720 rows x 5 columns]"
      ]
     },
     "execution_count": 153,
     "metadata": {},
     "output_type": "execute_result"
    }
   ],
   "source": [
    "store"
   ]
  },
  {
   "cell_type": "code",
   "execution_count": 83,
   "metadata": {
    "ExecuteTime": {
     "end_time": "2020-06-26T07:21:29.165602Z",
     "start_time": "2020-06-26T07:21:29.162603Z"
    },
    "hidden": true
   },
   "outputs": [],
   "source": [
    "store_y = store.last(\"100D\")"
   ]
  },
  {
   "cell_type": "code",
   "execution_count": 85,
   "metadata": {
    "ExecuteTime": {
     "end_time": "2020-06-26T07:22:04.693756Z",
     "start_time": "2020-06-26T07:22:04.688755Z"
    },
    "hidden": true
   },
   "outputs": [
    {
     "data": {
      "text/plain": [
       "510"
      ]
     },
     "execution_count": 85,
     "metadata": {},
     "output_type": "execute_result"
    }
   ],
   "source": [
    "store_y.amount_sum.sum()"
   ]
  },
  {
   "cell_type": "code",
   "execution_count": null,
   "metadata": {
    "hidden": true
   },
   "outputs": [],
   "source": []
  }
 ],
 "metadata": {
  "kernelspec": {
   "display_name": "Python 3",
   "language": "python",
   "name": "python3"
  },
  "language_info": {
   "codemirror_mode": {
    "name": "ipython",
    "version": 3
   },
   "file_extension": ".py",
   "mimetype": "text/x-python",
   "name": "python",
   "nbconvert_exporter": "python",
   "pygments_lexer": "ipython3",
   "version": "3.6.5"
  },
  "toc": {
   "base_numbering": 1,
   "nav_menu": {},
   "number_sections": true,
   "sideBar": true,
   "skip_h1_title": false,
   "title_cell": "Table of Contents",
   "title_sidebar": "Contents",
   "toc_cell": false,
   "toc_position": {},
   "toc_section_display": true,
   "toc_window_display": false
  },
  "varInspector": {
   "cols": {
    "lenName": 16,
    "lenType": 16,
    "lenVar": 40
   },
   "kernels_config": {
    "python": {
     "delete_cmd_postfix": "",
     "delete_cmd_prefix": "del ",
     "library": "var_list.py",
     "varRefreshCmd": "print(var_dic_list())"
    },
    "r": {
     "delete_cmd_postfix": ") ",
     "delete_cmd_prefix": "rm(",
     "library": "var_list.r",
     "varRefreshCmd": "cat(var_dic_list()) "
    }
   },
   "types_to_exclude": [
    "module",
    "function",
    "builtin_function_or_method",
    "instance",
    "_Feature"
   ],
   "window_display": false
  }
 },
 "nbformat": 4,
 "nbformat_minor": 2
}
