{
 "cells": [
  {
   "cell_type": "markdown",
   "metadata": {},
   "source": [
    "## import and load"
   ]
  },
  {
   "cell_type": "code",
   "execution_count": 1,
   "metadata": {
    "ExecuteTime": {
     "end_time": "2020-06-23T02:49:28.376790Z",
     "start_time": "2020-06-23T02:49:28.374790Z"
    }
   },
   "outputs": [],
   "source": [
    "import numpy as np\n",
    "import pandas as pd\n",
    "import matplotlib.pyplot as plt\n",
    "import seaborn as sns\n",
    "from tqdm import notebook\n",
    "import datetime\n",
    "\n",
    "#한글 깨짐방지\n",
    "plt.rc('font',family = 'Malgun Gothic')\n",
    "plt.rcParams['axes.unicode_minus'] = False"
   ]
  },
  {
   "cell_type": "code",
   "execution_count": 2,
   "metadata": {
    "ExecuteTime": {
     "end_time": "2020-06-23T02:49:30.867677Z",
     "start_time": "2020-06-23T02:49:28.377790Z"
    }
   },
   "outputs": [],
   "source": [
    "path = './data/'\n",
    "train = pd.read_csv(path + 'train.csv')\n",
    "test = pd.read_csv(path + 'test.csv')\n",
    "submission  = pd.read_csv(path + 'submission.csv')"
   ]
  },
  {
   "cell_type": "markdown",
   "metadata": {},
   "source": [
    "## data setting"
   ]
  },
  {
   "cell_type": "code",
   "execution_count": 3,
   "metadata": {
    "ExecuteTime": {
     "end_time": "2020-06-23T02:49:31.010709Z",
     "start_time": "2020-06-23T02:49:30.868678Z"
    }
   },
   "outputs": [],
   "source": [
    "#time, installment, days_of_week, card_id, holyday는 필요없다 생각하여 글쓴이는 제거\n",
    "train = train.drop(columns=['time', 'installments', 'days_of_week', 'card_id', 'holyday'])\n",
    "test = test.drop(columns=['time', 'installments', 'days_of_week', 'card_id', 'holyday'])"
   ]
  },
  {
   "cell_type": "code",
   "execution_count": 4,
   "metadata": {
    "ExecuteTime": {
     "end_time": "2020-06-23T02:49:31.522825Z",
     "start_time": "2020-06-23T02:49:31.011710Z"
    }
   },
   "outputs": [],
   "source": [
    "# 'date','store_id'로 결합\n",
    "train = train.groupby(['date','store_id']).agg({'amount':'sum'}).reset_index()\n",
    "test = test.groupby(['date','store_id']).agg({'amount':'sum'}).reset_index()"
   ]
  },
  {
   "cell_type": "code",
   "execution_count": 5,
   "metadata": {
    "ExecuteTime": {
     "end_time": "2020-06-23T02:49:31.532828Z",
     "start_time": "2020-06-23T02:49:31.523826Z"
    }
   },
   "outputs": [
    {
     "data": {
      "text/html": [
       "<div>\n",
       "<style scoped>\n",
       "    .dataframe tbody tr th:only-of-type {\n",
       "        vertical-align: middle;\n",
       "    }\n",
       "\n",
       "    .dataframe tbody tr th {\n",
       "        vertical-align: top;\n",
       "    }\n",
       "\n",
       "    .dataframe thead th {\n",
       "        text-align: right;\n",
       "    }\n",
       "</style>\n",
       "<table border=\"1\" class=\"dataframe\">\n",
       "  <thead>\n",
       "    <tr style=\"text-align: right;\">\n",
       "      <th></th>\n",
       "      <th>date</th>\n",
       "      <th>store_id</th>\n",
       "      <th>amount</th>\n",
       "    </tr>\n",
       "  </thead>\n",
       "  <tbody>\n",
       "    <tr>\n",
       "      <td>0</td>\n",
       "      <td>2016-08-01</td>\n",
       "      <td>2</td>\n",
       "      <td>2372</td>\n",
       "    </tr>\n",
       "  </tbody>\n",
       "</table>\n",
       "</div>"
      ],
      "text/plain": [
       "         date  store_id  amount\n",
       "0  2016-08-01         2    2372"
      ]
     },
     "execution_count": 5,
     "metadata": {},
     "output_type": "execute_result"
    }
   ],
   "source": [
    "#이러한 형태로 변환됨\n",
    "train.head(1)"
   ]
  },
  {
   "cell_type": "code",
   "execution_count": 6,
   "metadata": {
    "ExecuteTime": {
     "end_time": "2020-06-23T02:49:31.589841Z",
     "start_time": "2020-06-23T02:49:31.533829Z"
    }
   },
   "outputs": [],
   "source": [
    "#date전환\n",
    "train['date'] = pd.to_datetime(train['date'],infer_datetime_format= True)\n",
    "test['date'] = pd.to_datetime(test['date'],infer_datetime_format= True)"
   ]
  },
  {
   "cell_type": "code",
   "execution_count": 7,
   "metadata": {
    "ExecuteTime": {
     "end_time": "2020-06-23T02:49:31.595842Z",
     "start_time": "2020-06-23T02:49:31.590841Z"
    }
   },
   "outputs": [],
   "source": [
    "# 나중을 위한 복제\n",
    "train['temp_date'] = train['date']\n",
    "test['temp_date'] = test['date']"
   ]
  },
  {
   "cell_type": "code",
   "execution_count": 8,
   "metadata": {
    "ExecuteTime": {
     "end_time": "2020-06-23T02:49:31.601843Z",
     "start_time": "2020-06-23T02:49:31.596842Z"
    }
   },
   "outputs": [],
   "source": [
    "# 날짜를 인덱스로 설정\n",
    "train.set_index(\"date\",inplace=True)\n",
    "test.set_index(\"date\",inplace=True)"
   ]
  },
  {
   "cell_type": "markdown",
   "metadata": {},
   "source": [
    "### 일부제거"
   ]
  },
  {
   "cell_type": "markdown",
   "metadata": {},
   "source": [
    "#### train\n",
    "1. 거래기록이 160일 이하인 경우 삭제 -> 대회 목적이 100일 이후를 예측하는 것이므로 60일은 train(X), 100일은 predict(y)에 사용\n",
    "    * 160일이 가장 이상적이라고 고려함\n",
    "2. 2018-07-31 주변 5일 내 거래가 없으면 폐업으로 추정, 2018-07-31은 꼭 있어야하는 데이터"
   ]
  },
  {
   "cell_type": "code",
   "execution_count": 9,
   "metadata": {
    "ExecuteTime": {
     "end_time": "2020-06-23T02:49:38.999060Z",
     "start_time": "2020-06-23T02:49:31.602843Z"
    }
   },
   "outputs": [
    {
     "name": "stdout",
     "output_type": "stream",
     "text": [
      "Before removing stores (due to limit):  (480160, 3)\n"
     ]
    },
    {
     "data": {
      "application/vnd.jupyter.widget-view+json": {
       "model_id": "d767ea0650c7406884ea497c9c1582d9",
       "version_major": 2,
       "version_minor": 0
      },
      "text/plain": [
       "HBox(children=(FloatProgress(value=0.0, max=1800.0), HTML(value='')))"
      ]
     },
     "metadata": {},
     "output_type": "display_data"
    },
    {
     "name": "stdout",
     "output_type": "stream",
     "text": [
      "\n",
      "Total # of stores that exceeds 160 is 806\n",
      "After removing stores (due to limit):  (47969, 3)\n"
     ]
    }
   ],
   "source": [
    "counter = 0\n",
    "limit = 160\n",
    "\n",
    "print(\"Before removing stores (due to limit): \", train.shape)\n",
    "\n",
    "#160 이상이면 카운트를 올리고, 아니라면 제외함\n",
    "for store_id in notebook.tqdm(range(train['store_id'].max()+1)):\n",
    "    if train.loc[train['store_id'] == store_id, 'store_id' ].count() <= limit:\n",
    "        counter += 1\n",
    "    else :\n",
    "        train = train[train.store_id !=store_id]\n",
    "\n",
    "print(f\"Total # of stores that exceeds {limit} is {counter}\")\n",
    "print(\"After removing stores (due to limit): \", train.shape)"
   ]
  },
  {
   "cell_type": "code",
   "execution_count": 10,
   "metadata": {
    "ExecuteTime": {
     "end_time": "2020-06-23T02:49:39.004060Z",
     "start_time": "2020-06-23T02:49:39.000060Z"
    }
   },
   "outputs": [],
   "source": [
    "#  2018-07-31 주변 5일 내 거래가 없으면 폐업으로 추정, 2018-07-31은 꼭 있어야하는 데이터\n",
    "def keep_alive_store(df):\n",
    "    store_id_list = df.store_id.unique()\n",
    "    yes, no = 0, 0\n",
    "    \n",
    "    t2 = datetime.datetime.strptime('2018-07-31', '%Y-%m-%d')\n",
    "    \n",
    "    for store_id in store_id_list:\n",
    "        if df.loc[df.store_id == store_id,'temp_date'].iloc[-1] == t2:\n",
    "            yes += 1\n",
    "        else:\n",
    "            t1 = df.loc[df.store_id == store_id,'temp_date'].iloc[-1]\n",
    "            difference = t2 - t1\n",
    "            if difference.days <=5:\n",
    "                yes += 1\n",
    "            else :\n",
    "                no += 1\n",
    "                df = df[df.store_id != store_id]\n",
    "    print(f\"# of train store open/out of business: {yes}, {no}\")\n",
    "    return df"
   ]
  },
  {
   "cell_type": "code",
   "execution_count": 11,
   "metadata": {
    "ExecuteTime": {
     "end_time": "2020-06-23T02:49:39.739567Z",
     "start_time": "2020-06-23T02:49:39.005060Z"
    }
   },
   "outputs": [
    {
     "name": "stdout",
     "output_type": "stream",
     "text": [
      "# of train store open/out of business: 399, 382\n"
     ]
    }
   ],
   "source": [
    "train = keep_alive_store(train)"
   ]
  },
  {
   "cell_type": "markdown",
   "metadata": {},
   "source": [
    "#### test\n",
    "1. 2018-03-31 주변 7일 거래기록이 없으면 폐업으로 가정 \n",
    "  - 197번 매장을 폐업으로 추정"
   ]
  },
  {
   "cell_type": "code",
   "execution_count": 15,
   "metadata": {
    "ExecuteTime": {
     "end_time": "2020-06-23T04:25:45.196321Z",
     "start_time": "2020-06-23T04:25:45.085537Z"
    }
   },
   "outputs": [
    {
     "name": "stdout",
     "output_type": "stream",
     "text": [
      "2018-01-17 00:00:00\n",
      "# of test store open/out of business: 199, 1\n"
     ]
    }
   ],
   "source": [
    "store_id_list = test.store_id.unique()\n",
    "yes, no = 0, 0\n",
    "closed_test_store = []\n",
    "t2 = datetime.datetime.strptime('2018-03-01',\"%Y-%m-%d\")\n",
    "\n",
    "for store_id in store_id_list:    \n",
    "    t1 = test[test.store_id == store_id]['temp_date'].iloc[-1]\n",
    "    differ = t2 - t1\n",
    "    \n",
    "    if differ.days <= 7 :\n",
    "        yes += 1 \n",
    "    else :\n",
    "        no += 1\n",
    "        print(test[test.store_id == store_id].iloc[-1]['temp_date'])\n",
    "        closed_test_store.append(store_id)\n",
    "print(f\"# of test store open/out of business: {yes}, {no}\")"
   ]
  },
  {
   "cell_type": "markdown",
   "metadata": {},
   "source": [
    "### reform"
   ]
  },
  {
   "cell_type": "code",
   "execution_count": 32,
   "metadata": {
    "ExecuteTime": {
     "end_time": "2020-06-23T05:20:16.982954Z",
     "start_time": "2020-06-23T05:20:16.969177Z"
    }
   },
   "outputs": [],
   "source": [
    "def reform_data(df, isTrain):\n",
    "    store_id_list = df.store_id.unique()\n",
    "    x_array = []\n",
    "    for store_id in store_id_list:\n",
    "        store = df[df.store_id == store_id]\n",
    "        store = store.asfreq('D',fill_value = 0) #일자별로 열추가 \n",
    "        store['temp_date'] = store.index\n",
    "        store['store_id'] = store_id\n",
    "        \n",
    "        # 7일, 15일, 30일간의 이동평균 계산 \n",
    "        store['MA7'] = store['amount'].rolling('7D').mean()\n",
    "        store['MA15'] = store['amount'].rolling('15D').mean()\n",
    "        store['MA30'] = store['amount'].rolling('30D').mean()\n",
    "        \n",
    "        # train set인 경우 마지막 100일은 y값으로 저장되어야함\n",
    "        # store_x는 100일전까지 기간 데이터 \n",
    "        if isTrain:\n",
    "            store_y = store.last(\"100D\")\n",
    "            y = store_y.amount.sum()\n",
    "            store_x = store[store.temp_date < store_y.iloc[0].temp_date]\n",
    "        #test는 전체\n",
    "        else : \n",
    "            y = 0\n",
    "            store_x = store[:]\n",
    "            \n",
    "        new_data = []\n",
    "        new_data.append(store_id)\n",
    "        new_data.append(y)\n",
    "        \n",
    "        new_data.append(store_x.amount.mean())\n",
    "        new_data.append(store_x.amount.median())\n",
    "        \n",
    "        new_data.append(store_x.last('7D').amount.mean())\n",
    "        new_data.append(store_x.last('15D').amount.mean())\n",
    "        new_data.append(store_x.last('30D').amount.mean())\n",
    "        \n",
    "        new_data.append(store_x.last('7D').amount.median())\n",
    "        new_data.append(store_x.last('15D').amount.median())\n",
    "        new_data.append(store_x.last('30D').amount.median())\n",
    "        \n",
    "        new_data.append(store_x.last('7D').amount.sum())\n",
    "        new_data.append(store_x.last('15D').amount.sum())\n",
    "        new_data.append(store_x.last('30D').amount.sum())\n",
    "        \n",
    "        new_data.append(store_x.last('7D').MA7.mean())\n",
    "        new_data.append(store_x.last('15D').MA7.mean())\n",
    "        new_data.append(store_x.last('30D').MA7.mean())\n",
    "        \n",
    "        new_data.append(store_x.last('7D').MA15.mean())\n",
    "        new_data.append(store_x.last('15D').MA15.mean())\n",
    "        new_data.append(store_x.last('30D').MA15.mean())\n",
    "        \n",
    "        new_data.append(store_x.last('7D').MA30.mean())\n",
    "        new_data.append(store_x.last('15D').MA30.mean())\n",
    "        new_data.append(store_x.last('30D').MA30.mean())\n",
    "        \n",
    "        x_array.append(new_data)\n",
    "    \n",
    "    return x_array"
   ]
  },
  {
   "cell_type": "code",
   "execution_count": 33,
   "metadata": {
    "ExecuteTime": {
     "end_time": "2020-06-23T05:20:23.233359Z",
     "start_time": "2020-06-23T05:20:17.425054Z"
    }
   },
   "outputs": [],
   "source": [
    "reformed_train = reform_data(train, True) # train data with new values\n",
    "reformed_test = reform_data(test, False) # test data with new values"
   ]
  },
  {
   "cell_type": "code",
   "execution_count": 37,
   "metadata": {
    "ExecuteTime": {
     "end_time": "2020-06-23T05:23:37.945200Z",
     "start_time": "2020-06-23T05:23:37.938199Z"
    }
   },
   "outputs": [],
   "source": [
    "#컬럼이름 부여\n",
    "train_fin = pd.DataFrame(reformed_train, columns=['store_id', 'y', 'mean', 'median', '7mean', '15mean', '30mean', \n",
    "                                         '7median', '15median', '30median',  '7sum', '15sum', '30sum', \n",
    "                                         '7ma7mean', '15ma7mean', '30ma7mean',  '7ma15mean', '15ma15mean',\n",
    "                                         '30ma15mean',  '7ma30mean', '15ma30mean', '30ma30mean'])\n",
    "test_fin = pd.DataFrame(reformed_test, columns=['store_id', 'y', 'mean', 'median', '7mean', '15mean', '30mean', \n",
    "                                         '7median', '15median', '30median',  '7sum', '15sum', '30sum', \n",
    "                                         '7ma7mean', '15ma7mean', '30ma7mean',  '7ma15mean', '15ma15mean',\n",
    "                                         '30ma15mean',  '7ma30mean', '15ma30mean', '30ma30mean'])"
   ]
  },
  {
   "cell_type": "code",
   "execution_count": 44,
   "metadata": {
    "ExecuteTime": {
     "end_time": "2020-06-23T05:25:20.500724Z",
     "start_time": "2020-06-23T05:25:20.497724Z"
    }
   },
   "outputs": [
    {
     "data": {
      "text/plain": [
       "((399, 22), (200, 22))"
      ]
     },
     "execution_count": 44,
     "metadata": {},
     "output_type": "execute_result"
    }
   ],
   "source": [
    "train_fin.shape, test_fin.shape"
   ]
  },
  {
   "cell_type": "markdown",
   "metadata": {},
   "source": [
    "### modeling\n",
    "* xgboost를 활용, test분할은 0.1aks"
   ]
  },
  {
   "cell_type": "code",
   "execution_count": 35,
   "metadata": {
    "ExecuteTime": {
     "end_time": "2020-06-23T05:21:44.838609Z",
     "start_time": "2020-06-23T05:21:39.576935Z"
    }
   },
   "outputs": [
    {
     "name": "stderr",
     "output_type": "stream",
     "text": [
      "C:\\Users\\User\\Anaconda3\\lib\\site-packages\\distributed\\config.py:63: YAMLLoadWarning: calling yaml.load() without Loader=... is deprecated, as the default Loader is unsafe. Please read https://msg.pyyaml.org/load for full details.\n",
      "  config.update(yaml.load(text) or {})\n"
     ]
    }
   ],
   "source": [
    "import xgboost as xgb\n",
    "from sklearn.model_selection import train_test_split"
   ]
  },
  {
   "cell_type": "code",
   "execution_count": 42,
   "metadata": {
    "ExecuteTime": {
     "end_time": "2020-06-23T05:25:08.523606Z",
     "start_time": "2020-06-23T05:25:08.521604Z"
    }
   },
   "outputs": [],
   "source": [
    "col = [i for i in train_fin.columns if i not in ['store_id','y']]\n",
    "y = train_fin['y'].values"
   ]
  },
  {
   "cell_type": "code",
   "execution_count": 43,
   "metadata": {
    "ExecuteTime": {
     "end_time": "2020-06-23T05:25:08.903322Z",
     "start_time": "2020-06-23T05:25:08.898321Z"
    }
   },
   "outputs": [],
   "source": [
    "train_X, test_X, train_y, test_y = train_test_split(train_fin[col],y, test_size=0.1, random_state=2018)"
   ]
  },
  {
   "cell_type": "code",
   "execution_count": 68,
   "metadata": {
    "ExecuteTime": {
     "end_time": "2020-06-23T05:54:58.287464Z",
     "start_time": "2020-06-23T05:54:58.283463Z"
    }
   },
   "outputs": [],
   "source": [
    "def XGB_regressor(train_X, train_y, test_X, test_y, metric, feature_name = None, seed_val = 2018, num_rounds = 30):\n",
    "    params = {'objective' : 'reg:squarederror',\n",
    "              'eta' : 0.05,\n",
    "              'max_depth' : 10,\n",
    "              'eval_metric': metric,#??? rmse가 아니고??\n",
    "              'min_child_weight': 1,\n",
    "              'subsample': 0.7,\n",
    "              'colsample_bytree' : 0.7,\n",
    "              'seed': seed_val}\n",
    "    plst = list(params.items())\n",
    "    \n",
    "    xgtrain = xgb.DMatrix(train_X, label = train_y)\n",
    "    \n",
    "    if test_y is not None:\n",
    "        xgtest = xgb.DMatrix(test_X, label = test_y)\n",
    "        watchlist = [ (xgtrain, 'train'), (xgtest, 'test')]\n",
    "        model = xgb.train(plst, xgtrain, num_rounds, watchlist, early_stopping_rounds= 300,verbose_eval= 10)\n",
    "    else :\n",
    "        xgtest = xgb.DMatrix(test_X)\n",
    "        model = xgb.train(plst, xgtrain, num_rounds)\n",
    "        \n",
    "    return model"
   ]
  },
  {
   "cell_type": "code",
   "execution_count": 69,
   "metadata": {
    "ExecuteTime": {
     "end_time": "2020-06-23T05:54:58.806580Z",
     "start_time": "2020-06-23T05:54:58.779575Z"
    }
   },
   "outputs": [
    {
     "name": "stdout",
     "output_type": "stream",
     "text": [
      "[0]\ttrain-mae:31435.27539\ttest-mae:31416.20703\n",
      "Multiple eval metrics have been passed: 'test-mae' will be used for early stopping.\n",
      "\n",
      "Will train until test-mae hasn't improved in 300 rounds.\n",
      "[10]\ttrain-mae:21438.35352\ttest-mae:20587.20703\n",
      "[20]\ttrain-mae:16275.93750\ttest-mae:16815.99414\n",
      "[29]\ttrain-mae:13466.90234\ttest-mae:16067.39551\n"
     ]
    }
   ],
   "source": [
    "model = XGB_regressor(train_X, train_y, test_X, test_y, 'mae')"
   ]
  },
  {
   "cell_type": "code",
   "execution_count": 70,
   "metadata": {
    "ExecuteTime": {
     "end_time": "2020-06-23T05:55:09.615046Z",
     "start_time": "2020-06-23T05:55:09.587041Z"
    }
   },
   "outputs": [
    {
     "name": "stdout",
     "output_type": "stream",
     "text": [
      "[0]\ttrain-rmse:59720.36328\ttest-rmse:44749.51562\n",
      "Multiple eval metrics have been passed: 'test-rmse' will be used for early stopping.\n",
      "\n",
      "Will train until test-rmse hasn't improved in 300 rounds.\n",
      "[10]\ttrain-rmse:50741.58594\ttest-rmse:34072.02734\n",
      "[20]\ttrain-rmse:46506.29297\ttest-rmse:29934.97852\n",
      "[29]\ttrain-rmse:44591.16406\ttest-rmse:28305.98047\n"
     ]
    }
   ],
   "source": [
    "model = XGB_regressor(train_X, train_y, test_X, test_y, 'rmse')"
   ]
  },
  {
   "cell_type": "code",
   "execution_count": 72,
   "metadata": {
    "ExecuteTime": {
     "end_time": "2020-06-23T05:56:31.006487Z",
     "start_time": "2020-06-23T05:56:31.002486Z"
    }
   },
   "outputs": [],
   "source": [
    "##??? sorting을 이제한다고???\n",
    "test_fin = test_fin.sort_values(by='store_id')"
   ]
  },
  {
   "cell_type": "code",
   "execution_count": 75,
   "metadata": {
    "ExecuteTime": {
     "end_time": "2020-06-23T05:57:31.505766Z",
     "start_time": "2020-06-23T05:57:31.499767Z"
    }
   },
   "outputs": [],
   "source": [
    "#몇가지 조정을 더 거친후 제출할 답변임\n",
    "y_pred = model.predict(xgb.DMatrix(test_fin[col]), ntree_limit = model.best_ntree_limit)"
   ]
  },
  {
   "cell_type": "code",
   "execution_count": 81,
   "metadata": {
    "ExecuteTime": {
     "end_time": "2020-06-23T06:00:55.263567Z",
     "start_time": "2020-06-23T06:00:55.260568Z"
    }
   },
   "outputs": [],
   "source": [
    "score = 28305.98047"
   ]
  },
  {
   "cell_type": "code",
   "execution_count": 83,
   "metadata": {
    "ExecuteTime": {
     "end_time": "2020-06-23T06:01:20.049709Z",
     "start_time": "2020-06-23T06:01:20.043709Z"
    }
   },
   "outputs": [],
   "source": [
    "# 이상해서 한번 제출해봄 -> 오버피팅 과도하게되고 결과 안 좋음\n",
    "\n",
    "score = 28305.98047\n",
    "submission['total_sales'] = y_pred\n",
    "\n",
    "today = datetime.datetime.today().date()\n",
    "os.makedirs('./submission/',exist_ok=True)\n",
    "submission.to_csv(f'./submission/submission_{today}_xgb_{score}.csv',index=False)"
   ]
  },
  {
   "cell_type": "markdown",
   "metadata": {},
   "source": [
    "### 추가조정\n",
    "* 몇몇 상점은 2~3월에 폐업했을 것임"
   ]
  },
  {
   "cell_type": "code",
   "execution_count": 84,
   "metadata": {
    "ExecuteTime": {
     "end_time": "2020-06-23T06:03:24.410935Z",
     "start_time": "2020-06-23T06:03:24.407936Z"
    }
   },
   "outputs": [],
   "source": [
    "store_id_list = test.store_id.unique()\n",
    "store_id_list.sort()"
   ]
  },
  {
   "cell_type": "code",
   "execution_count": 87,
   "metadata": {
    "ExecuteTime": {
     "end_time": "2020-06-23T06:07:46.985214Z",
     "start_time": "2020-06-23T06:07:46.701150Z"
    }
   },
   "outputs": [],
   "source": [
    "feb_march = []\n",
    "for store_id in store_id_list:\n",
    "    mini = test[test.store_id == store_id]\n",
    "    march = mini[mini.temp_date <= datetime.datetime(2018,3,1)]['temp_date'].count()\n",
    "    feb = mini[mini.temp_date <= datetime.datetime(2018,2,1)]['temp_date'].count() - march # 1월은???\n",
    "    feb_march.append((march+feb)/2/31) #???"
   ]
  },
  {
   "cell_type": "code",
   "execution_count": 92,
   "metadata": {
    "ExecuteTime": {
     "end_time": "2020-06-23T06:09:56.817704Z",
     "start_time": "2020-06-23T06:09:56.814703Z"
    }
   },
   "outputs": [],
   "source": [
    "#2-3월 확인 전에 이전에 발견한 폐점한 곳 0으로 적용\n",
    "for c in closed_test_store:\n",
    "    y_pred[c] = 0"
   ]
  },
  {
   "cell_type": "code",
   "execution_count": null,
   "metadata": {},
   "outputs": [],
   "source": [
    "# At last the 'y_test' predicted from the trained model is adjusted with 'feb_march'.\n",
    "#\n",
    "# The last number 0.72 is an optimized number variable to make sure that no prediction exceeds the answer.\n",
    "# This is required as penalties are given."
   ]
  },
  {
   "cell_type": "code",
   "execution_count": 93,
   "metadata": {
    "ExecuteTime": {
     "end_time": "2020-06-23T06:11:31.568672Z",
     "start_time": "2020-06-23T06:11:31.564672Z"
    }
   },
   "outputs": [],
   "source": [
    "for x in range(200):\n",
    "    y_pred[x] = y_pred[x] * feb_march[x] * 0.72"
   ]
  },
  {
   "cell_type": "code",
   "execution_count": 95,
   "metadata": {
    "ExecuteTime": {
     "end_time": "2020-06-23T06:12:55.493124Z",
     "start_time": "2020-06-23T06:12:55.487122Z"
    }
   },
   "outputs": [],
   "source": [
    "# ??? 성적 구린데?? 뭐지?? 다시해봐야하나\n",
    "\n",
    "score = 28305.98047\n",
    "submission['total_sales'] = y_pred\n",
    "\n",
    "today = datetime.datetime.today().date()\n",
    "os.makedirs('./submission/',exist_ok=True)\n",
    "submission.to_csv(f'./submission/submission_{today}_xgb_{score}_adjust.csv',index=False)"
   ]
  },
  {
   "cell_type": "code",
   "execution_count": null,
   "metadata": {},
   "outputs": [],
   "source": []
  }
 ],
 "metadata": {
  "kernelspec": {
   "display_name": "Python 3",
   "language": "python",
   "name": "python3"
  },
  "language_info": {
   "codemirror_mode": {
    "name": "ipython",
    "version": 3
   },
   "file_extension": ".py",
   "mimetype": "text/x-python",
   "name": "python",
   "nbconvert_exporter": "python",
   "pygments_lexer": "ipython3",
   "version": "3.6.5"
  },
  "toc": {
   "base_numbering": 1,
   "nav_menu": {},
   "number_sections": true,
   "sideBar": true,
   "skip_h1_title": false,
   "title_cell": "Table of Contents",
   "title_sidebar": "Contents",
   "toc_cell": false,
   "toc_position": {},
   "toc_section_display": true,
   "toc_window_display": false
  }
 },
 "nbformat": 4,
 "nbformat_minor": 2
}
