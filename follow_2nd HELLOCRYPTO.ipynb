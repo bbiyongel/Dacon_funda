{
 "cells": [
  {
   "cell_type": "markdown",
   "metadata": {},
   "source": [
    "## import and load"
   ]
  },
  {
   "cell_type": "code",
   "execution_count": 31,
   "metadata": {
    "ExecuteTime": {
     "end_time": "2020-06-22T08:46:15.152692Z",
     "start_time": "2020-06-22T08:46:15.149691Z"
    }
   },
   "outputs": [],
   "source": [
    "import numpy as np\n",
    "import pandas as pd\n",
    "import matplotlib.pyplot as plt\n",
    "import seaborn as sns\n",
    "from tqdm import notebook\n",
    "import datetime\n",
    "\n",
    "#한글 깨짐방지\n",
    "plt.rc('font',family = 'Malgun Gothic')\n",
    "plt.rcParams['axes.unicode_minus'] = False"
   ]
  },
  {
   "cell_type": "code",
   "execution_count": 23,
   "metadata": {
    "ExecuteTime": {
     "end_time": "2020-06-22T08:43:47.417444Z",
     "start_time": "2020-06-22T08:43:44.904875Z"
    }
   },
   "outputs": [],
   "source": [
    "path = './data/'\n",
    "train = pd.read_csv(path + 'train.csv')\n",
    "test = pd.read_csv(path + 'test.csv')\n",
    "submission  = pd.read_csv(path + 'submission.csv')"
   ]
  },
  {
   "cell_type": "markdown",
   "metadata": {},
   "source": [
    "## data setting"
   ]
  },
  {
   "cell_type": "code",
   "execution_count": 24,
   "metadata": {
    "ExecuteTime": {
     "end_time": "2020-06-22T08:43:47.576480Z",
     "start_time": "2020-06-22T08:43:47.418444Z"
    }
   },
   "outputs": [],
   "source": [
    "#time, installment, days_of_week, card_id, holyday는 필요없다 생각하여 글쓴이는 제거\n",
    "train = train.drop(columns=['time', 'installments', 'days_of_week', 'card_id', 'holyday'])\n",
    "test = test.drop(columns=['time', 'installments', 'days_of_week', 'card_id', 'holyday'])"
   ]
  },
  {
   "cell_type": "code",
   "execution_count": 25,
   "metadata": {
    "ExecuteTime": {
     "end_time": "2020-06-22T08:43:48.111600Z",
     "start_time": "2020-06-22T08:43:47.577480Z"
    }
   },
   "outputs": [],
   "source": [
    "# 'date','store_id'로 결합\n",
    "train = train.groupby(['date','store_id']).agg({'amount':'sum'}).reset_index()\n",
    "test = test.groupby(['date','store_id']).agg({'amount':'sum'}).reset_index()"
   ]
  },
  {
   "cell_type": "code",
   "execution_count": 26,
   "metadata": {
    "ExecuteTime": {
     "end_time": "2020-06-22T08:43:48.118602Z",
     "start_time": "2020-06-22T08:43:48.112600Z"
    }
   },
   "outputs": [
    {
     "data": {
      "text/html": [
       "<div>\n",
       "<style scoped>\n",
       "    .dataframe tbody tr th:only-of-type {\n",
       "        vertical-align: middle;\n",
       "    }\n",
       "\n",
       "    .dataframe tbody tr th {\n",
       "        vertical-align: top;\n",
       "    }\n",
       "\n",
       "    .dataframe thead th {\n",
       "        text-align: right;\n",
       "    }\n",
       "</style>\n",
       "<table border=\"1\" class=\"dataframe\">\n",
       "  <thead>\n",
       "    <tr style=\"text-align: right;\">\n",
       "      <th></th>\n",
       "      <th>date</th>\n",
       "      <th>store_id</th>\n",
       "      <th>amount</th>\n",
       "    </tr>\n",
       "  </thead>\n",
       "  <tbody>\n",
       "    <tr>\n",
       "      <td>0</td>\n",
       "      <td>2016-08-01</td>\n",
       "      <td>2</td>\n",
       "      <td>2372</td>\n",
       "    </tr>\n",
       "  </tbody>\n",
       "</table>\n",
       "</div>"
      ],
      "text/plain": [
       "         date  store_id  amount\n",
       "0  2016-08-01         2    2372"
      ]
     },
     "execution_count": 26,
     "metadata": {},
     "output_type": "execute_result"
    }
   ],
   "source": [
    "#이러한 형태로 변환됨\n",
    "train.head(1)"
   ]
  },
  {
   "cell_type": "code",
   "execution_count": 27,
   "metadata": {
    "ExecuteTime": {
     "end_time": "2020-06-22T08:43:48.173616Z",
     "start_time": "2020-06-22T08:43:48.119602Z"
    }
   },
   "outputs": [],
   "source": [
    "#date전환\n",
    "train['date'] = pd.to_datetime(train['date'],infer_datetime_format= True)\n",
    "test['date'] = pd.to_datetime(test['date'],infer_datetime_format= True)"
   ]
  },
  {
   "cell_type": "code",
   "execution_count": 28,
   "metadata": {
    "ExecuteTime": {
     "end_time": "2020-06-22T08:43:48.178615Z",
     "start_time": "2020-06-22T08:43:48.174614Z"
    }
   },
   "outputs": [],
   "source": [
    "# 나중을 위한 복제\n",
    "train['temp_date'] = train['date']\n",
    "test['temp_date'] = test['date']"
   ]
  },
  {
   "cell_type": "code",
   "execution_count": 29,
   "metadata": {
    "ExecuteTime": {
     "end_time": "2020-06-22T08:43:48.182616Z",
     "start_time": "2020-06-22T08:43:48.179616Z"
    }
   },
   "outputs": [],
   "source": [
    "# 날짜를 인덱스로 설정\n",
    "train.set_index(\"date\",inplace=True)\n",
    "test.set_index(\"date\",inplace=True)"
   ]
  },
  {
   "cell_type": "markdown",
   "metadata": {},
   "source": [
    "### 일부제거\n",
    "1. 거래기록이 160일 이하인 경우 삭제 -> 대회 목적이 100일 이후를 예측하는 것이므로 60일은 train(X), 100일은 predict(y)에 사용\n",
    "    * 160일이 가장 이상적이라고 고려함\n",
    "2. 2018-07-31 주변 5일 내 거래가 없으면 폐업으로 추정, 2018-07-31은 꼭 있어야하는 데이터"
   ]
  },
  {
   "cell_type": "code",
   "execution_count": 30,
   "metadata": {
    "ExecuteTime": {
     "end_time": "2020-06-22T08:43:55.913364Z",
     "start_time": "2020-06-22T08:43:48.183617Z"
    }
   },
   "outputs": [
    {
     "name": "stdout",
     "output_type": "stream",
     "text": [
      "Before removing stores (due to limit):  (480160, 3)\n"
     ]
    },
    {
     "data": {
      "application/vnd.jupyter.widget-view+json": {
       "model_id": "b0ba72918507485796339e6831f7c41e",
       "version_major": 2,
       "version_minor": 0
      },
      "text/plain": [
       "HBox(children=(FloatProgress(value=0.0, max=1800.0), HTML(value='')))"
      ]
     },
     "metadata": {},
     "output_type": "display_data"
    },
    {
     "name": "stdout",
     "output_type": "stream",
     "text": [
      "\n",
      "Total # of stores that exceeds 160 is 806\n",
      "After removing stores (due to limit):  (47969, 3)\n"
     ]
    }
   ],
   "source": [
    "counter = 0\n",
    "limit = 160\n",
    "\n",
    "print(\"Before removing stores (due to limit): \", train.shape)\n",
    "\n",
    "#160 이상이면 카운트를 올리고, 아니라면 제외함\n",
    "for store_id in notebook.tqdm(range(train['store_id'].max()+1)):\n",
    "    if train.loc[train['store_id'] == store_id, 'store_id' ].count() <= limit:\n",
    "        counter += 1\n",
    "    else :\n",
    "        train = train[train.store_id !=store_id]\n",
    "\n",
    "print(f\"Total # of stores that exceeds {limit} is {counter}\")\n",
    "print(\"After removing stores (due to limit): \", train.shape)"
   ]
  },
  {
   "cell_type": "code",
   "execution_count": 37,
   "metadata": {
    "ExecuteTime": {
     "end_time": "2020-06-22T08:54:04.848805Z",
     "start_time": "2020-06-22T08:54:04.845804Z"
    }
   },
   "outputs": [],
   "source": [
    "def keep_alive_store(df):\n",
    "    store_id_list = df.store_id.unique()\n",
    "    yes, no = 0, 0\n",
    "    \n",
    "    t2 = datetime.datetime.strptime('2018-07-31', '%Y-%m-%d')\n",
    "    \n",
    "    for store_id in store_id_list:\n",
    "        if df.loc[df.store_id == store_id,'temp_date'].iloc[-1] == t2:\n",
    "            yes += 1\n",
    "        else:\n",
    "            t1 = df.loc[df.store_id == store_id,'temp_date'].iloc[-1]\n",
    "            difference = t2 - t1\n",
    "            if difference.days <=5:\n",
    "                yes += 1\n",
    "            else :\n",
    "                no += 1\n",
    "                df = df[df.store_id != store_id]\n",
    "    print(f\"# of train store open/out of business: {yes}, {no}\")\n",
    "    return df"
   ]
  },
  {
   "cell_type": "code",
   "execution_count": 38,
   "metadata": {
    "ExecuteTime": {
     "end_time": "2020-06-22T08:54:06.036312Z",
     "start_time": "2020-06-22T08:54:05.277736Z"
    }
   },
   "outputs": [
    {
     "name": "stdout",
     "output_type": "stream",
     "text": [
      "# of train store open/out of business: 399, 382\n"
     ]
    }
   ],
   "source": [
    "train = keep_alive_store(train)"
   ]
  },
  {
   "cell_type": "code",
   "execution_count": null,
   "metadata": {},
   "outputs": [],
   "source": []
  }
 ],
 "metadata": {
  "kernelspec": {
   "display_name": "Python 3",
   "language": "python",
   "name": "python3"
  },
  "language_info": {
   "codemirror_mode": {
    "name": "ipython",
    "version": 3
   },
   "file_extension": ".py",
   "mimetype": "text/x-python",
   "name": "python",
   "nbconvert_exporter": "python",
   "pygments_lexer": "ipython3",
   "version": "3.6.5"
  },
  "toc": {
   "base_numbering": 1,
   "nav_menu": {},
   "number_sections": true,
   "sideBar": true,
   "skip_h1_title": false,
   "title_cell": "Table of Contents",
   "title_sidebar": "Contents",
   "toc_cell": false,
   "toc_position": {},
   "toc_section_display": true,
   "toc_window_display": false
  }
 },
 "nbformat": 4,
 "nbformat_minor": 2
}
