{
 "cells": [
  {
   "cell_type": "code",
   "execution_count": 1,
   "metadata": {
    "ExecuteTime": {
     "end_time": "2020-07-01T08:35:37.440739Z",
     "start_time": "2020-07-01T08:35:34.260026Z"
    }
   },
   "outputs": [
    {
     "name": "stderr",
     "output_type": "stream",
     "text": [
      "C:\\Users\\User\\Anaconda3\\lib\\site-packages\\distributed\\config.py:63: YAMLLoadWarning: calling yaml.load() without Loader=... is deprecated, as the default Loader is unsafe. Please read https://msg.pyyaml.org/load for full details.\n",
      "  config.update(yaml.load(text) or {})\n"
     ]
    }
   ],
   "source": [
    "import numpy as np\n",
    "import pandas as pd\n",
    "import matplotlib.pyplot as plt\n",
    "import seaborn as sns\n",
    "from tqdm.notebook import tqdm\n",
    "import datetime\n",
    "import os\n",
    "\n",
    "import xgboost as xgb\n",
    "from sklearn.model_selection import train_test_split\n",
    "import lightgbm\n",
    "import warnings\n",
    "from sklearn.metrics import mean_squared_error\n",
    "from fbprophet import Prophet\n",
    "warnings.filterwarnings('ignore')\n",
    "#한글 깨짐방지\n",
    "plt.rc('font',family = 'Malgun Gothic')\n",
    "plt.rcParams['axes.unicode_minus'] = False"
   ]
  },
  {
   "cell_type": "code",
   "execution_count": 2,
   "metadata": {
    "ExecuteTime": {
     "end_time": "2020-07-01T08:35:40.002895Z",
     "start_time": "2020-07-01T08:35:37.441740Z"
    }
   },
   "outputs": [],
   "source": [
    "path = './data/'\n",
    "train = pd.read_csv(path + 'train.csv')\n",
    "test = pd.read_csv(path + 'test.csv')\n",
    "submission  = pd.read_csv(path + 'submission.csv')\n",
    "merge_df = pd.concat([train,test])"
   ]
  },
  {
   "cell_type": "code",
   "execution_count": 3,
   "metadata": {
    "ExecuteTime": {
     "end_time": "2020-07-01T08:35:40.979937Z",
     "start_time": "2020-07-01T08:35:40.003887Z"
    }
   },
   "outputs": [],
   "source": [
    "train['DT'] = pd.to_datetime(train['date']+\" \"+train['time'])"
   ]
  },
  {
   "cell_type": "code",
   "execution_count": 4,
   "metadata": {
    "ExecuteTime": {
     "end_time": "2020-07-01T08:35:40.995403Z",
     "start_time": "2020-07-01T08:35:40.980937Z"
    }
   },
   "outputs": [
    {
     "data": {
      "text/html": [
       "<div>\n",
       "<style scoped>\n",
       "    .dataframe tbody tr th:only-of-type {\n",
       "        vertical-align: middle;\n",
       "    }\n",
       "\n",
       "    .dataframe tbody tr th {\n",
       "        vertical-align: top;\n",
       "    }\n",
       "\n",
       "    .dataframe thead th {\n",
       "        text-align: right;\n",
       "    }\n",
       "</style>\n",
       "<table border=\"1\" class=\"dataframe\">\n",
       "  <thead>\n",
       "    <tr style=\"text-align: right;\">\n",
       "      <th></th>\n",
       "      <th>store_id</th>\n",
       "      <th>date</th>\n",
       "      <th>time</th>\n",
       "      <th>card_id</th>\n",
       "      <th>amount</th>\n",
       "      <th>installments</th>\n",
       "      <th>days_of_week</th>\n",
       "      <th>holyday</th>\n",
       "      <th>DT</th>\n",
       "    </tr>\n",
       "  </thead>\n",
       "  <tbody>\n",
       "    <tr>\n",
       "      <td>0</td>\n",
       "      <td>0</td>\n",
       "      <td>2016-12-14</td>\n",
       "      <td>18:05:31</td>\n",
       "      <td>d297bba73f</td>\n",
       "      <td>5</td>\n",
       "      <td>NaN</td>\n",
       "      <td>2</td>\n",
       "      <td>0</td>\n",
       "      <td>2016-12-14 18:05:31</td>\n",
       "    </tr>\n",
       "    <tr>\n",
       "      <td>1</td>\n",
       "      <td>0</td>\n",
       "      <td>2016-12-14</td>\n",
       "      <td>18:05:54</td>\n",
       "      <td>d297bba73f</td>\n",
       "      <td>-5</td>\n",
       "      <td>NaN</td>\n",
       "      <td>2</td>\n",
       "      <td>0</td>\n",
       "      <td>2016-12-14 18:05:54</td>\n",
       "    </tr>\n",
       "    <tr>\n",
       "      <td>2</td>\n",
       "      <td>0</td>\n",
       "      <td>2016-12-19</td>\n",
       "      <td>12:42:31</td>\n",
       "      <td>0880849c05</td>\n",
       "      <td>144</td>\n",
       "      <td>NaN</td>\n",
       "      <td>0</td>\n",
       "      <td>0</td>\n",
       "      <td>2016-12-19 12:42:31</td>\n",
       "    </tr>\n",
       "    <tr>\n",
       "      <td>3</td>\n",
       "      <td>0</td>\n",
       "      <td>2016-12-19</td>\n",
       "      <td>12:48:08</td>\n",
       "      <td>8b4f9e0e95</td>\n",
       "      <td>66</td>\n",
       "      <td>NaN</td>\n",
       "      <td>0</td>\n",
       "      <td>0</td>\n",
       "      <td>2016-12-19 12:48:08</td>\n",
       "    </tr>\n",
       "    <tr>\n",
       "      <td>4</td>\n",
       "      <td>0</td>\n",
       "      <td>2016-12-19</td>\n",
       "      <td>13:31:08</td>\n",
       "      <td>7ad237eed0</td>\n",
       "      <td>24</td>\n",
       "      <td>NaN</td>\n",
       "      <td>0</td>\n",
       "      <td>0</td>\n",
       "      <td>2016-12-19 13:31:08</td>\n",
       "    </tr>\n",
       "  </tbody>\n",
       "</table>\n",
       "</div>"
      ],
      "text/plain": [
       "   store_id        date      time     card_id  amount  installments  \\\n",
       "0         0  2016-12-14  18:05:31  d297bba73f       5           NaN   \n",
       "1         0  2016-12-14  18:05:54  d297bba73f      -5           NaN   \n",
       "2         0  2016-12-19  12:42:31  0880849c05     144           NaN   \n",
       "3         0  2016-12-19  12:48:08  8b4f9e0e95      66           NaN   \n",
       "4         0  2016-12-19  13:31:08  7ad237eed0      24           NaN   \n",
       "\n",
       "   days_of_week  holyday                  DT  \n",
       "0             2        0 2016-12-14 18:05:31  \n",
       "1             2        0 2016-12-14 18:05:54  \n",
       "2             0        0 2016-12-19 12:42:31  \n",
       "3             0        0 2016-12-19 12:48:08  \n",
       "4             0        0 2016-12-19 13:31:08  "
      ]
     },
     "execution_count": 4,
     "metadata": {},
     "output_type": "execute_result"
    }
   ],
   "source": [
    "train.head()"
   ]
  },
  {
   "cell_type": "code",
   "execution_count": 5,
   "metadata": {
    "ExecuteTime": {
     "end_time": "2020-07-01T08:35:41.467549Z",
     "start_time": "2020-07-01T08:35:40.996404Z"
    }
   },
   "outputs": [
    {
     "data": {
      "text/html": [
       "<div>\n",
       "<style scoped>\n",
       "    .dataframe tbody tr th:only-of-type {\n",
       "        vertical-align: middle;\n",
       "    }\n",
       "\n",
       "    .dataframe tbody tr th {\n",
       "        vertical-align: top;\n",
       "    }\n",
       "\n",
       "    .dataframe thead th {\n",
       "        text-align: right;\n",
       "    }\n",
       "</style>\n",
       "<table border=\"1\" class=\"dataframe\">\n",
       "  <thead>\n",
       "    <tr style=\"text-align: right;\">\n",
       "      <th></th>\n",
       "      <th>date</th>\n",
       "      <th>store_id</th>\n",
       "      <th>amount</th>\n",
       "    </tr>\n",
       "  </thead>\n",
       "  <tbody>\n",
       "    <tr>\n",
       "      <td>34</td>\n",
       "      <td>2016-08-01</td>\n",
       "      <td>138</td>\n",
       "      <td>-180</td>\n",
       "    </tr>\n",
       "    <tr>\n",
       "      <td>1504</td>\n",
       "      <td>2016-08-04</td>\n",
       "      <td>1478</td>\n",
       "      <td>-11250</td>\n",
       "    </tr>\n",
       "    <tr>\n",
       "      <td>5810</td>\n",
       "      <td>2016-08-15</td>\n",
       "      <td>1683</td>\n",
       "      <td>-35</td>\n",
       "    </tr>\n",
       "    <tr>\n",
       "      <td>5823</td>\n",
       "      <td>2016-08-15</td>\n",
       "      <td>1753</td>\n",
       "      <td>-75</td>\n",
       "    </tr>\n",
       "    <tr>\n",
       "      <td>5881</td>\n",
       "      <td>2016-08-16</td>\n",
       "      <td>216</td>\n",
       "      <td>-1295</td>\n",
       "    </tr>\n",
       "    <tr>\n",
       "      <td>...</td>\n",
       "      <td>...</td>\n",
       "      <td>...</td>\n",
       "      <td>...</td>\n",
       "    </tr>\n",
       "    <tr>\n",
       "      <td>473957</td>\n",
       "      <td>2018-07-25</td>\n",
       "      <td>36</td>\n",
       "      <td>-500</td>\n",
       "    </tr>\n",
       "    <tr>\n",
       "      <td>476119</td>\n",
       "      <td>2018-07-27</td>\n",
       "      <td>513</td>\n",
       "      <td>-300</td>\n",
       "    </tr>\n",
       "    <tr>\n",
       "      <td>478867</td>\n",
       "      <td>2018-07-30</td>\n",
       "      <td>956</td>\n",
       "      <td>-295</td>\n",
       "    </tr>\n",
       "    <tr>\n",
       "      <td>479213</td>\n",
       "      <td>2018-07-30</td>\n",
       "      <td>1669</td>\n",
       "      <td>-250</td>\n",
       "    </tr>\n",
       "    <tr>\n",
       "      <td>479632</td>\n",
       "      <td>2018-07-31</td>\n",
       "      <td>728</td>\n",
       "      <td>-3250</td>\n",
       "    </tr>\n",
       "  </tbody>\n",
       "</table>\n",
       "<p>643 rows × 3 columns</p>\n",
       "</div>"
      ],
      "text/plain": [
       "              date  store_id  amount\n",
       "34      2016-08-01       138    -180\n",
       "1504    2016-08-04      1478  -11250\n",
       "5810    2016-08-15      1683     -35\n",
       "5823    2016-08-15      1753     -75\n",
       "5881    2016-08-16       216   -1295\n",
       "...            ...       ...     ...\n",
       "473957  2018-07-25        36    -500\n",
       "476119  2018-07-27       513    -300\n",
       "478867  2018-07-30       956    -295\n",
       "479213  2018-07-30      1669    -250\n",
       "479632  2018-07-31       728   -3250\n",
       "\n",
       "[643 rows x 3 columns]"
      ]
     },
     "execution_count": 5,
     "metadata": {},
     "output_type": "execute_result"
    }
   ],
   "source": [
    "d_sum = train.groupby(['date','store_id'])['amount'].sum().reset_index()\n",
    "d_sum[d_sum['amount']<0]"
   ]
  },
  {
   "cell_type": "code",
   "execution_count": 6,
   "metadata": {
    "ExecuteTime": {
     "end_time": "2020-07-01T08:35:41.630585Z",
     "start_time": "2020-07-01T08:35:41.468549Z"
    }
   },
   "outputs": [
    {
     "data": {
      "text/html": [
       "<div>\n",
       "<style scoped>\n",
       "    .dataframe tbody tr th:only-of-type {\n",
       "        vertical-align: middle;\n",
       "    }\n",
       "\n",
       "    .dataframe tbody tr th {\n",
       "        vertical-align: top;\n",
       "    }\n",
       "\n",
       "    .dataframe thead th {\n",
       "        text-align: right;\n",
       "    }\n",
       "</style>\n",
       "<table border=\"1\" class=\"dataframe\">\n",
       "  <thead>\n",
       "    <tr style=\"text-align: right;\">\n",
       "      <th></th>\n",
       "      <th>store_id</th>\n",
       "      <th>date</th>\n",
       "      <th>time</th>\n",
       "      <th>card_id</th>\n",
       "      <th>amount</th>\n",
       "      <th>installments</th>\n",
       "      <th>days_of_week</th>\n",
       "      <th>holyday</th>\n",
       "      <th>DT</th>\n",
       "    </tr>\n",
       "  </thead>\n",
       "  <tbody>\n",
       "    <tr>\n",
       "      <td>2785057</td>\n",
       "      <td>1478</td>\n",
       "      <td>2016-08-04</td>\n",
       "      <td>19:37:01</td>\n",
       "      <td>8589f5980e</td>\n",
       "      <td>-11250</td>\n",
       "      <td>NaN</td>\n",
       "      <td>3</td>\n",
       "      <td>0</td>\n",
       "      <td>2016-08-04 19:37:01</td>\n",
       "    </tr>\n",
       "  </tbody>\n",
       "</table>\n",
       "</div>"
      ],
      "text/plain": [
       "         store_id        date      time     card_id  amount  installments  \\\n",
       "2785057      1478  2016-08-04  19:37:01  8589f5980e  -11250           NaN   \n",
       "\n",
       "         days_of_week  holyday                  DT  \n",
       "2785057             3        0 2016-08-04 19:37:01  "
      ]
     },
     "execution_count": 6,
     "metadata": {},
     "output_type": "execute_result"
    }
   ],
   "source": [
    "train[(train.store_id == 1478)&(train.date == '2016-08-04')]"
   ]
  },
  {
   "cell_type": "code",
   "execution_count": 28,
   "metadata": {
    "ExecuteTime": {
     "end_time": "2020-07-01T08:40:34.059270Z",
     "start_time": "2020-07-01T08:40:33.629174Z"
    }
   },
   "outputs": [],
   "source": [
    "minus_amount_df = train[train.amount<0][['DT','store_id','card_id','amount']]\n",
    "plus_amount_df = train[train.amount>0][['DT','store_id','card_id','amount']]"
   ]
  },
  {
   "cell_type": "code",
   "execution_count": 29,
   "metadata": {
    "ExecuteTime": {
     "end_time": "2020-07-01T08:40:34.269318Z",
     "start_time": "2020-07-01T08:40:34.060270Z"
    }
   },
   "outputs": [],
   "source": [
    "plus_index = list(plus_amount_df.index)"
   ]
  },
  {
   "cell_type": "code",
   "execution_count": 39,
   "metadata": {
    "ExecuteTime": {
     "end_time": "2020-07-01T08:46:13.291626Z",
     "start_time": "2020-07-01T08:45:28.053905Z"
    }
   },
   "outputs": [
    {
     "data": {
      "application/vnd.jupyter.widget-view+json": {
       "model_id": "947ebff547f04f9aa350337ea7bdcab4",
       "version_major": 2,
       "version_minor": 0
      },
      "text/plain": [
       "HBox(children=(FloatProgress(value=0.0, max=33832.0), HTML(value='')))"
      ]
     },
     "metadata": {},
     "output_type": "display_data"
    },
    {
     "name": "stdout",
     "output_type": "stream",
     "text": [
      "16048 16046\n",
      "81063 81058\n",
      "81064 81058\n",
      "92481 92479\n",
      "92836 92822\n",
      "154872 154868\n",
      "154877 154868\n",
      "154878 154868\n",
      "164843 164841\n",
      "176596 176593\n",
      "195660 195654\n",
      "225140 225138\n",
      "225555 225553\n",
      "227676 227674\n",
      "271809 271807\n",
      "뭐지?? 400700\n",
      "400700 400583\n",
      "401224 401222\n",
      "407416 407414\n",
      "410174 410172\n",
      "416456 416454\n",
      "425266 425264\n",
      "427196 427194\n",
      "\n"
     ]
    },
    {
     "ename": "KeyboardInterrupt",
     "evalue": "",
     "output_type": "error",
     "traceback": [
      "\u001b[1;31m---------------------------------------------------------------------------\u001b[0m",
      "\u001b[1;31mKeyboardInterrupt\u001b[0m                         Traceback (most recent call last)",
      "\u001b[1;32m<ipython-input-39-3536f59124eb>\u001b[0m in \u001b[0;36m<module>\u001b[1;34m()\u001b[0m\n\u001b[0;32m     10\u001b[0m \u001b[1;33m\u001b[0m\u001b[0m\n\u001b[0;32m     11\u001b[0m     \u001b[1;31m#store_id 와 card_id가 같으면서 날짜가 이전인경우 (각 조건을 나눠서 하는게 속도가 빠름)\u001b[0m\u001b[1;33m\u001b[0m\u001b[1;33m\u001b[0m\u001b[0m\n\u001b[1;32m---> 12\u001b[1;33m     \u001b[0mrange_df\u001b[0m \u001b[1;33m=\u001b[0m \u001b[0mplus_amount_df\u001b[0m\u001b[1;33m[\u001b[0m\u001b[0mplus_amount_df\u001b[0m\u001b[1;33m.\u001b[0m\u001b[0mstore_id\u001b[0m \u001b[1;33m==\u001b[0m \u001b[0mminus_store\u001b[0m\u001b[1;33m]\u001b[0m\u001b[1;33m\u001b[0m\u001b[0m\n\u001b[0m\u001b[0;32m     13\u001b[0m     \u001b[0mrange_df\u001b[0m \u001b[1;33m=\u001b[0m \u001b[0mrange_df\u001b[0m\u001b[1;33m[\u001b[0m\u001b[0mrange_df\u001b[0m\u001b[1;33m.\u001b[0m\u001b[0mcard_id\u001b[0m \u001b[1;33m==\u001b[0m \u001b[0mminus_card\u001b[0m\u001b[1;33m]\u001b[0m\u001b[1;33m\u001b[0m\u001b[0m\n\u001b[0;32m     14\u001b[0m     \u001b[0mrange_df\u001b[0m \u001b[1;33m=\u001b[0m \u001b[0mrange_df\u001b[0m\u001b[1;33m[\u001b[0m\u001b[0mrange_df\u001b[0m\u001b[1;33m.\u001b[0m\u001b[0mDT\u001b[0m \u001b[1;33m<=\u001b[0m \u001b[0mminus_DT\u001b[0m\u001b[1;33m]\u001b[0m\u001b[1;33m\u001b[0m\u001b[0m\n",
      "\u001b[1;32m~\\AppData\\Roaming\\Python\\Python36\\site-packages\\pandas\\core\\ops\\__init__.py\u001b[0m in \u001b[0;36mwrapper\u001b[1;34m(self, other, axis)\u001b[0m\n\u001b[0;32m   1227\u001b[0m \u001b[1;33m\u001b[0m\u001b[0m\n\u001b[0;32m   1228\u001b[0m             \u001b[1;32mwith\u001b[0m \u001b[0mnp\u001b[0m\u001b[1;33m.\u001b[0m\u001b[0merrstate\u001b[0m\u001b[1;33m(\u001b[0m\u001b[0mall\u001b[0m\u001b[1;33m=\u001b[0m\u001b[1;34m\"ignore\"\u001b[0m\u001b[1;33m)\u001b[0m\u001b[1;33m:\u001b[0m\u001b[1;33m\u001b[0m\u001b[0m\n\u001b[1;32m-> 1229\u001b[1;33m                 \u001b[0mres\u001b[0m \u001b[1;33m=\u001b[0m \u001b[0mna_op\u001b[0m\u001b[1;33m(\u001b[0m\u001b[0mvalues\u001b[0m\u001b[1;33m,\u001b[0m \u001b[0mother\u001b[0m\u001b[1;33m)\u001b[0m\u001b[1;33m\u001b[0m\u001b[0m\n\u001b[0m\u001b[0;32m   1230\u001b[0m             \u001b[1;32mif\u001b[0m \u001b[0mis_scalar\u001b[0m\u001b[1;33m(\u001b[0m\u001b[0mres\u001b[0m\u001b[1;33m)\u001b[0m\u001b[1;33m:\u001b[0m\u001b[1;33m\u001b[0m\u001b[0m\n\u001b[0;32m   1231\u001b[0m                 raise TypeError(\n",
      "\u001b[1;32m~\\AppData\\Roaming\\Python\\Python36\\site-packages\\pandas\\core\\ops\\__init__.py\u001b[0m in \u001b[0;36mna_op\u001b[1;34m(x, y)\u001b[0m\n\u001b[0;32m   1113\u001b[0m             \u001b[1;32mif\u001b[0m \u001b[0mmethod\u001b[0m \u001b[1;32mis\u001b[0m \u001b[1;32mnot\u001b[0m \u001b[1;32mNone\u001b[0m\u001b[1;33m:\u001b[0m\u001b[1;33m\u001b[0m\u001b[0m\n\u001b[0;32m   1114\u001b[0m                 \u001b[1;32mwith\u001b[0m \u001b[0mnp\u001b[0m\u001b[1;33m.\u001b[0m\u001b[0merrstate\u001b[0m\u001b[1;33m(\u001b[0m\u001b[0mall\u001b[0m\u001b[1;33m=\u001b[0m\u001b[1;34m\"ignore\"\u001b[0m\u001b[1;33m)\u001b[0m\u001b[1;33m:\u001b[0m\u001b[1;33m\u001b[0m\u001b[0m\n\u001b[1;32m-> 1115\u001b[1;33m                     \u001b[0mresult\u001b[0m \u001b[1;33m=\u001b[0m \u001b[0mmethod\u001b[0m\u001b[1;33m(\u001b[0m\u001b[0my\u001b[0m\u001b[1;33m)\u001b[0m\u001b[1;33m\u001b[0m\u001b[0m\n\u001b[0m\u001b[0;32m   1116\u001b[0m                 \u001b[1;32mif\u001b[0m \u001b[0mresult\u001b[0m \u001b[1;32mis\u001b[0m \u001b[0mNotImplemented\u001b[0m\u001b[1;33m:\u001b[0m\u001b[1;33m\u001b[0m\u001b[0m\n\u001b[0;32m   1117\u001b[0m                     \u001b[1;32mreturn\u001b[0m \u001b[0minvalid_comparison\u001b[0m\u001b[1;33m(\u001b[0m\u001b[0mx\u001b[0m\u001b[1;33m,\u001b[0m \u001b[0my\u001b[0m\u001b[1;33m,\u001b[0m \u001b[0mop\u001b[0m\u001b[1;33m)\u001b[0m\u001b[1;33m\u001b[0m\u001b[0m\n",
      "\u001b[1;31mKeyboardInterrupt\u001b[0m: "
     ]
    }
   ],
   "source": [
    "err_dic = dict()\n",
    "non_match = []\n",
    "double = []\n",
    "for i in tqdm(range(minus_amount_df.shape[0])):\n",
    "    minus_index = minus_amount_df.iloc[i].name\n",
    "    minus_card = minus_amount_df.iloc[i].card_id \n",
    "    minus_store = minus_amount_df.iloc[i].store_id\n",
    "    minus_DT = minus_amount_df.iloc[i].DT\n",
    "    minus_amount = minus_amount_df.iloc[i].amount\n",
    "\n",
    "    #store_id 와 card_id가 같으면서 날짜가 이전인경우 (각 조건을 나눠서 하는게 속도가 빠름)\n",
    "    range_df = plus_amount_df[plus_amount_df.store_id == minus_store]\n",
    "    range_df = range_df[range_df.card_id == minus_card]\n",
    "    range_df = range_df[range_df.DT <= minus_DT]\n",
    "#     range_df = plus_amount_df[(plus_amount_df.store_id == minus_store)&(plus_amount_df.card_id == minus_card)&(plus_amount_df.DT <= minus_DT)]\n",
    "    #내가 해놓고 내가 이해가 안되는 지경 2020-07-01 17:54:21 \n",
    "    \n",
    "    '''\n",
    "    range_df는 음수의 이전날짜면서, 상점명, 카드명이 동일한 경우\n",
    "    target은 금액이 더 큰경우\n",
    "    \n",
    "    '''\n",
    "    try:\n",
    "        target = range_df[range_df.amount.apply(lambda x : x >= abs(minus_amount))]\n",
    "        if len(target)<1: #금액이 큰게 없는경우 \n",
    "            non_match.append(minus_index)\n",
    "            pass\n",
    "\n",
    "        if target.amount.isin([abs(minus_amount)]).sum()>0: #동일한 금액이 있는 경우 가장 최근날짜로 \n",
    "            error_index = target[(target.amount == abs(minus_amount))].index.max()\n",
    "        else :\n",
    "            error_index = target.index.max() #동일한 금액이 없다면 그냥 최근 날짜로 (금액불일치)\n",
    "    except :\n",
    "        print(\"뭐지????????????????????\",minus_index)\n",
    "        pass\n",
    "    \n",
    "#     plus_amount_df.loc[error_index,'amount'] =+ minus_amount\n",
    "        \n",
    "    try : \n",
    "        if err_dic[error_index] < 0:\n",
    "            err_dic[error_index] += minus_amount\n",
    "            print(minus_index,error_index)\n",
    "            double.append(error_index)\n",
    "    except:\n",
    "            err_dic[error_index] = minus_amount\n",
    "# plus_amount_df.loc[plus_amount_df['index'].isin(order_dic.keys()),'amount'] += list(order_dic.values())"
   ]
  },
  {
   "cell_type": "code",
   "execution_count": 47,
   "metadata": {
    "ExecuteTime": {
     "end_time": "2020-07-01T08:51:44.453791Z",
     "start_time": "2020-07-01T08:51:44.451782Z"
    }
   },
   "outputs": [
    {
     "data": {
      "text/plain": [
       "[400700]"
      ]
     },
     "execution_count": 47,
     "metadata": {},
     "output_type": "execute_result"
    }
   ],
   "source": [
    "non_match"
   ]
  },
  {
   "cell_type": "code",
   "execution_count": 48,
   "metadata": {
    "ExecuteTime": {
     "end_time": "2020-07-01T08:52:49.583946Z",
     "start_time": "2020-07-01T08:52:49.580952Z"
    }
   },
   "outputs": [
    {
     "data": {
      "text/plain": [
       "[16046,\n",
       " 81058,\n",
       " 81058,\n",
       " 92479,\n",
       " 92822,\n",
       " 154868,\n",
       " 154868,\n",
       " 154868,\n",
       " 164841,\n",
       " 176593,\n",
       " 195654,\n",
       " 225138,\n",
       " 225553,\n",
       " 227674,\n",
       " 271807,\n",
       " 400583,\n",
       " 401222,\n",
       " 407414,\n",
       " 410172,\n",
       " 416454,\n",
       " 425264,\n",
       " 427194]"
      ]
     },
     "execution_count": 48,
     "metadata": {},
     "output_type": "execute_result"
    }
   ],
   "source": [
    "double"
   ]
  },
  {
   "cell_type": "code",
   "execution_count": 294,
   "metadata": {
    "ExecuteTime": {
     "end_time": "2020-07-01T08:32:48.096658Z",
     "start_time": "2020-07-01T08:32:48.093664Z"
    }
   },
   "outputs": [
    {
     "data": {
      "text/plain": [
       "0"
      ]
     },
     "execution_count": 294,
     "metadata": {},
     "output_type": "execute_result"
    }
   ],
   "source": [
    "len(target)"
   ]
  },
  {
   "cell_type": "code",
   "execution_count": 289,
   "metadata": {
    "ExecuteTime": {
     "end_time": "2020-07-01T08:30:36.567498Z",
     "start_time": "2020-07-01T08:30:36.565498Z"
    }
   },
   "outputs": [],
   "source": [
    "sample = plus_amount_df.iloc[:10]"
   ]
  },
  {
   "cell_type": "code",
   "execution_count": 290,
   "metadata": {
    "ExecuteTime": {
     "end_time": "2020-07-01T08:30:45.532806Z",
     "start_time": "2020-07-01T08:30:45.524806Z"
    }
   },
   "outputs": [
    {
     "data": {
      "text/html": [
       "<div>\n",
       "<style scoped>\n",
       "    .dataframe tbody tr th:only-of-type {\n",
       "        vertical-align: middle;\n",
       "    }\n",
       "\n",
       "    .dataframe tbody tr th {\n",
       "        vertical-align: top;\n",
       "    }\n",
       "\n",
       "    .dataframe thead th {\n",
       "        text-align: right;\n",
       "    }\n",
       "</style>\n",
       "<table border=\"1\" class=\"dataframe\">\n",
       "  <thead>\n",
       "    <tr style=\"text-align: right;\">\n",
       "      <th></th>\n",
       "      <th>DT</th>\n",
       "      <th>store_id</th>\n",
       "      <th>card_id</th>\n",
       "      <th>amount</th>\n",
       "    </tr>\n",
       "  </thead>\n",
       "  <tbody>\n",
       "    <tr>\n",
       "      <td>2</td>\n",
       "      <td>2016-12-19 12:42:31</td>\n",
       "      <td>0</td>\n",
       "      <td>0880849c05</td>\n",
       "      <td>144</td>\n",
       "    </tr>\n",
       "    <tr>\n",
       "      <td>3</td>\n",
       "      <td>2016-12-19 12:48:08</td>\n",
       "      <td>0</td>\n",
       "      <td>8b4f9e0e95</td>\n",
       "      <td>66</td>\n",
       "    </tr>\n",
       "    <tr>\n",
       "      <td>4</td>\n",
       "      <td>2016-12-19 13:31:08</td>\n",
       "      <td>0</td>\n",
       "      <td>7ad237eed0</td>\n",
       "      <td>24</td>\n",
       "    </tr>\n",
       "    <tr>\n",
       "      <td>5</td>\n",
       "      <td>2016-12-19 13:36:39</td>\n",
       "      <td>0</td>\n",
       "      <td>30b1422f77</td>\n",
       "      <td>44</td>\n",
       "    </tr>\n",
       "    <tr>\n",
       "      <td>6</td>\n",
       "      <td>2016-12-19 14:00:23</td>\n",
       "      <td>0</td>\n",
       "      <td>6dd8dad5ab</td>\n",
       "      <td>146</td>\n",
       "    </tr>\n",
       "    <tr>\n",
       "      <td>7</td>\n",
       "      <td>2016-12-19 14:01:36</td>\n",
       "      <td>0</td>\n",
       "      <td>a4a425c5d2</td>\n",
       "      <td>6</td>\n",
       "    </tr>\n",
       "    <tr>\n",
       "      <td>8</td>\n",
       "      <td>2016-12-19 14:09:46</td>\n",
       "      <td>0</td>\n",
       "      <td>f213c011fe</td>\n",
       "      <td>306</td>\n",
       "    </tr>\n",
       "    <tr>\n",
       "      <td>9</td>\n",
       "      <td>2016-12-19 14:13:02</td>\n",
       "      <td>0</td>\n",
       "      <td>a185b7b11f</td>\n",
       "      <td>51</td>\n",
       "    </tr>\n",
       "    <tr>\n",
       "      <td>10</td>\n",
       "      <td>2016-12-19 14:51:28</td>\n",
       "      <td>0</td>\n",
       "      <td>5af79433af</td>\n",
       "      <td>26</td>\n",
       "    </tr>\n",
       "  </tbody>\n",
       "</table>\n",
       "</div>"
      ],
      "text/plain": [
       "                    DT  store_id     card_id  amount\n",
       "2  2016-12-19 12:42:31         0  0880849c05     144\n",
       "3  2016-12-19 12:48:08         0  8b4f9e0e95      66\n",
       "4  2016-12-19 13:31:08         0  7ad237eed0      24\n",
       "5  2016-12-19 13:36:39         0  30b1422f77      44\n",
       "6  2016-12-19 14:00:23         0  6dd8dad5ab     146\n",
       "7  2016-12-19 14:01:36         0  a4a425c5d2       6\n",
       "8  2016-12-19 14:09:46         0  f213c011fe     306\n",
       "9  2016-12-19 14:13:02         0  a185b7b11f      51\n",
       "10 2016-12-19 14:51:28         0  5af79433af      26"
      ]
     },
     "execution_count": 290,
     "metadata": {},
     "output_type": "execute_result"
    }
   ],
   "source": [
    "sample.drop(0)"
   ]
  },
  {
   "cell_type": "code",
   "execution_count": 246,
   "metadata": {
    "ExecuteTime": {
     "end_time": "2020-07-01T07:59:10.994156Z",
     "start_time": "2020-07-01T07:59:10.990156Z"
    }
   },
   "outputs": [
    {
     "data": {
      "text/plain": [
       "-12"
      ]
     },
     "execution_count": 246,
     "metadata": {},
     "output_type": "execute_result"
    }
   ],
   "source": [
    "minus_amount"
   ]
  },
  {
   "cell_type": "code",
   "execution_count": 251,
   "metadata": {
    "ExecuteTime": {
     "end_time": "2020-07-01T08:05:06.801964Z",
     "start_time": "2020-07-01T08:05:06.797971Z"
    }
   },
   "outputs": [
    {
     "data": {
      "text/plain": [
       "Timestamp('2017-05-13 13:26:21')"
      ]
     },
     "execution_count": 251,
     "metadata": {},
     "output_type": "execute_result"
    }
   ],
   "source": [
    "minus_DT"
   ]
  },
  {
   "cell_type": "code",
   "execution_count": 250,
   "metadata": {
    "ExecuteTime": {
     "end_time": "2020-07-01T08:03:32.929810Z",
     "start_time": "2020-07-01T08:03:32.926817Z"
    }
   },
   "outputs": [
    {
     "data": {
      "text/plain": [
       "4"
      ]
     },
     "execution_count": 250,
     "metadata": {},
     "output_type": "execute_result"
    }
   ],
   "source": [
    "target.amount.isin([abs(minus_amount)]).sum()"
   ]
  },
  {
   "cell_type": "code",
   "execution_count": 253,
   "metadata": {
    "ExecuteTime": {
     "end_time": "2020-07-01T08:06:10.772497Z",
     "start_time": "2020-07-01T08:06:10.766502Z"
    }
   },
   "outputs": [
    {
     "data": {
      "text/html": [
       "<div>\n",
       "<style scoped>\n",
       "    .dataframe tbody tr th:only-of-type {\n",
       "        vertical-align: middle;\n",
       "    }\n",
       "\n",
       "    .dataframe tbody tr th {\n",
       "        vertical-align: top;\n",
       "    }\n",
       "\n",
       "    .dataframe thead th {\n",
       "        text-align: right;\n",
       "    }\n",
       "</style>\n",
       "<table border=\"1\" class=\"dataframe\">\n",
       "  <thead>\n",
       "    <tr style=\"text-align: right;\">\n",
       "      <th></th>\n",
       "      <th>DT</th>\n",
       "      <th>store_id</th>\n",
       "      <th>card_id</th>\n",
       "      <th>amount</th>\n",
       "    </tr>\n",
       "  </thead>\n",
       "  <tbody>\n",
       "    <tr>\n",
       "      <td>110456</td>\n",
       "      <td>2017-03-27 15:53:32</td>\n",
       "      <td>23</td>\n",
       "      <td>93159945b3</td>\n",
       "      <td>12</td>\n",
       "    </tr>\n",
       "    <tr>\n",
       "      <td>110457</td>\n",
       "      <td>2017-03-27 15:56:02</td>\n",
       "      <td>23</td>\n",
       "      <td>93159945b3</td>\n",
       "      <td>12</td>\n",
       "    </tr>\n",
       "    <tr>\n",
       "      <td>110769</td>\n",
       "      <td>2017-04-17 14:54:57</td>\n",
       "      <td>23</td>\n",
       "      <td>93159945b3</td>\n",
       "      <td>12</td>\n",
       "    </tr>\n",
       "    <tr>\n",
       "      <td>110984</td>\n",
       "      <td>2017-05-01 14:51:28</td>\n",
       "      <td>23</td>\n",
       "      <td>93159945b3</td>\n",
       "      <td>12</td>\n",
       "    </tr>\n",
       "  </tbody>\n",
       "</table>\n",
       "</div>"
      ],
      "text/plain": [
       "                        DT  store_id     card_id  amount\n",
       "110456 2017-03-27 15:53:32        23  93159945b3      12\n",
       "110457 2017-03-27 15:56:02        23  93159945b3      12\n",
       "110769 2017-04-17 14:54:57        23  93159945b3      12\n",
       "110984 2017-05-01 14:51:28        23  93159945b3      12"
      ]
     },
     "execution_count": 253,
     "metadata": {},
     "output_type": "execute_result"
    }
   ],
   "source": [
    "target[target.amount.isin([abs(minus_amount)])]"
   ]
  },
  {
   "cell_type": "code",
   "execution_count": 249,
   "metadata": {
    "ExecuteTime": {
     "end_time": "2020-07-01T08:02:53.797225Z",
     "start_time": "2020-07-01T08:02:53.790227Z"
    },
    "scrolled": true
   },
   "outputs": [
    {
     "data": {
      "text/html": [
       "<div>\n",
       "<style scoped>\n",
       "    .dataframe tbody tr th:only-of-type {\n",
       "        vertical-align: middle;\n",
       "    }\n",
       "\n",
       "    .dataframe tbody tr th {\n",
       "        vertical-align: top;\n",
       "    }\n",
       "\n",
       "    .dataframe thead th {\n",
       "        text-align: right;\n",
       "    }\n",
       "</style>\n",
       "<table border=\"1\" class=\"dataframe\">\n",
       "  <thead>\n",
       "    <tr style=\"text-align: right;\">\n",
       "      <th></th>\n",
       "      <th>DT</th>\n",
       "      <th>store_id</th>\n",
       "      <th>card_id</th>\n",
       "      <th>amount</th>\n",
       "    </tr>\n",
       "  </thead>\n",
       "  <tbody>\n",
       "    <tr>\n",
       "      <td>110452</td>\n",
       "      <td>2017-03-27 14:14:22</td>\n",
       "      <td>23</td>\n",
       "      <td>93159945b3</td>\n",
       "      <td>17</td>\n",
       "    </tr>\n",
       "    <tr>\n",
       "      <td>110456</td>\n",
       "      <td>2017-03-27 15:53:32</td>\n",
       "      <td>23</td>\n",
       "      <td>93159945b3</td>\n",
       "      <td>12</td>\n",
       "    </tr>\n",
       "    <tr>\n",
       "      <td>110457</td>\n",
       "      <td>2017-03-27 15:56:02</td>\n",
       "      <td>23</td>\n",
       "      <td>93159945b3</td>\n",
       "      <td>12</td>\n",
       "    </tr>\n",
       "    <tr>\n",
       "      <td>110769</td>\n",
       "      <td>2017-04-17 14:54:57</td>\n",
       "      <td>23</td>\n",
       "      <td>93159945b3</td>\n",
       "      <td>12</td>\n",
       "    </tr>\n",
       "    <tr>\n",
       "      <td>110872</td>\n",
       "      <td>2017-04-24 13:39:38</td>\n",
       "      <td>23</td>\n",
       "      <td>93159945b3</td>\n",
       "      <td>14</td>\n",
       "    </tr>\n",
       "    <tr>\n",
       "      <td>110874</td>\n",
       "      <td>2017-04-24 13:44:06</td>\n",
       "      <td>23</td>\n",
       "      <td>93159945b3</td>\n",
       "      <td>16</td>\n",
       "    </tr>\n",
       "    <tr>\n",
       "      <td>110984</td>\n",
       "      <td>2017-05-01 14:51:28</td>\n",
       "      <td>23</td>\n",
       "      <td>93159945b3</td>\n",
       "      <td>12</td>\n",
       "    </tr>\n",
       "    <tr>\n",
       "      <td>111051</td>\n",
       "      <td>2017-05-08 13:50:12</td>\n",
       "      <td>23</td>\n",
       "      <td>93159945b3</td>\n",
       "      <td>30</td>\n",
       "    </tr>\n",
       "  </tbody>\n",
       "</table>\n",
       "</div>"
      ],
      "text/plain": [
       "                        DT  store_id     card_id  amount\n",
       "110452 2017-03-27 14:14:22        23  93159945b3      17\n",
       "110456 2017-03-27 15:53:32        23  93159945b3      12\n",
       "110457 2017-03-27 15:56:02        23  93159945b3      12\n",
       "110769 2017-04-17 14:54:57        23  93159945b3      12\n",
       "110872 2017-04-24 13:39:38        23  93159945b3      14\n",
       "110874 2017-04-24 13:44:06        23  93159945b3      16\n",
       "110984 2017-05-01 14:51:28        23  93159945b3      12\n",
       "111051 2017-05-08 13:50:12        23  93159945b3      30"
      ]
     },
     "execution_count": 249,
     "metadata": {},
     "output_type": "execute_result"
    }
   ],
   "source": [
    "target"
   ]
  },
  {
   "cell_type": "markdown",
   "metadata": {},
   "source": [
    "### 검증"
   ]
  },
  {
   "cell_type": "code",
   "execution_count": 41,
   "metadata": {
    "ExecuteTime": {
     "end_time": "2020-07-01T08:46:29.870726Z",
     "start_time": "2020-07-01T08:46:29.867718Z"
    }
   },
   "outputs": [],
   "source": [
    "i = 400700"
   ]
  },
  {
   "cell_type": "code",
   "execution_count": 42,
   "metadata": {
    "ExecuteTime": {
     "end_time": "2020-07-01T08:46:30.250804Z",
     "start_time": "2020-07-01T08:46:30.245802Z"
    }
   },
   "outputs": [
    {
     "data": {
      "text/plain": [
       "DT          2016-08-01 17:56:07\n",
       "store_id                    138\n",
       "card_id              65be030b0f\n",
       "amount                     -180\n",
       "Name: 400700, dtype: object"
      ]
     },
     "execution_count": 42,
     "metadata": {},
     "output_type": "execute_result"
    }
   ],
   "source": [
    "check_store = minus_amount_df.loc[i]['store_id']\n",
    "check_card = minus_amount_df.loc[i]['card_id']\n",
    "check_amount = minus_amount_df.loc[i]['amount']\n",
    "check_DT = minus_amount_df.loc[i]['DT']\n",
    "minus_amount_df.loc[i]"
   ]
  },
  {
   "cell_type": "code",
   "execution_count": 43,
   "metadata": {
    "ExecuteTime": {
     "end_time": "2020-07-01T08:46:31.361089Z",
     "start_time": "2020-07-01T08:46:31.349087Z"
    }
   },
   "outputs": [
    {
     "data": {
      "text/html": [
       "<div>\n",
       "<style scoped>\n",
       "    .dataframe tbody tr th:only-of-type {\n",
       "        vertical-align: middle;\n",
       "    }\n",
       "\n",
       "    .dataframe tbody tr th {\n",
       "        vertical-align: top;\n",
       "    }\n",
       "\n",
       "    .dataframe thead th {\n",
       "        text-align: right;\n",
       "    }\n",
       "</style>\n",
       "<table border=\"1\" class=\"dataframe\">\n",
       "  <thead>\n",
       "    <tr style=\"text-align: right;\">\n",
       "      <th></th>\n",
       "      <th>DT</th>\n",
       "      <th>store_id</th>\n",
       "      <th>card_id</th>\n",
       "      <th>amount</th>\n",
       "    </tr>\n",
       "  </thead>\n",
       "  <tbody>\n",
       "    <tr>\n",
       "      <td>400700</td>\n",
       "      <td>2016-08-01 17:56:07</td>\n",
       "      <td>138</td>\n",
       "      <td>65be030b0f</td>\n",
       "      <td>-180</td>\n",
       "    </tr>\n",
       "  </tbody>\n",
       "</table>\n",
       "</div>"
      ],
      "text/plain": [
       "                        DT  store_id     card_id  amount\n",
       "400700 2016-08-01 17:56:07       138  65be030b0f    -180"
      ]
     },
     "execution_count": 43,
     "metadata": {},
     "output_type": "execute_result"
    }
   ],
   "source": [
    "minus_amount_df[(minus_amount_df.store_id == check_store)&(minus_amount_df.card_id == check_card)]"
   ]
  },
  {
   "cell_type": "code",
   "execution_count": 44,
   "metadata": {
    "ExecuteTime": {
     "end_time": "2020-07-01T08:46:31.956222Z",
     "start_time": "2020-07-01T08:46:31.796187Z"
    }
   },
   "outputs": [
    {
     "data": {
      "text/html": [
       "<div>\n",
       "<style scoped>\n",
       "    .dataframe tbody tr th:only-of-type {\n",
       "        vertical-align: middle;\n",
       "    }\n",
       "\n",
       "    .dataframe tbody tr th {\n",
       "        vertical-align: top;\n",
       "    }\n",
       "\n",
       "    .dataframe thead th {\n",
       "        text-align: right;\n",
       "    }\n",
       "</style>\n",
       "<table border=\"1\" class=\"dataframe\">\n",
       "  <thead>\n",
       "    <tr style=\"text-align: right;\">\n",
       "      <th></th>\n",
       "      <th>DT</th>\n",
       "      <th>store_id</th>\n",
       "      <th>card_id</th>\n",
       "      <th>amount</th>\n",
       "    </tr>\n",
       "  </thead>\n",
       "  <tbody>\n",
       "  </tbody>\n",
       "</table>\n",
       "</div>"
      ],
      "text/plain": [
       "Empty DataFrame\n",
       "Columns: [DT, store_id, card_id, amount]\n",
       "Index: []"
      ]
     },
     "execution_count": 44,
     "metadata": {},
     "output_type": "execute_result"
    }
   ],
   "source": [
    "plus_amount_df[(plus_amount_df.store_id == check_store)&(plus_amount_df.card_id == check_card)]"
   ]
  },
  {
   "cell_type": "code",
   "execution_count": 278,
   "metadata": {
    "ExecuteTime": {
     "end_time": "2020-07-01T08:20:04.799747Z",
     "start_time": "2020-07-01T08:20:04.789744Z"
    }
   },
   "outputs": [],
   "source": [
    "range_df = plus_amount_df[plus_amount_df.store_id == check_store]\n",
    "range_df = range_df[range_df.card_id == check_card]\n",
    "range_df = range_df[range_df.DT <= check_DT]\n",
    "#     range_df = plus_amount_df[(plus_amount_df.store_id == minus_store)&(plus_amount_df.card_id == minus_card)&(plus_amount_df.DT <= minus_DT)]\n",
    "\n",
    "target = range_df[range_df.amount.apply(lambda x : x >= abs(minus_amount))]"
   ]
  },
  {
   "cell_type": "code",
   "execution_count": 274,
   "metadata": {
    "ExecuteTime": {
     "end_time": "2020-07-01T08:19:27.684039Z",
     "start_time": "2020-07-01T08:19:27.678045Z"
    }
   },
   "outputs": [
    {
     "data": {
      "text/html": [
       "<div>\n",
       "<style scoped>\n",
       "    .dataframe tbody tr th:only-of-type {\n",
       "        vertical-align: middle;\n",
       "    }\n",
       "\n",
       "    .dataframe tbody tr th {\n",
       "        vertical-align: top;\n",
       "    }\n",
       "\n",
       "    .dataframe thead th {\n",
       "        text-align: right;\n",
       "    }\n",
       "</style>\n",
       "<table border=\"1\" class=\"dataframe\">\n",
       "  <thead>\n",
       "    <tr style=\"text-align: right;\">\n",
       "      <th></th>\n",
       "      <th>DT</th>\n",
       "      <th>store_id</th>\n",
       "      <th>card_id</th>\n",
       "      <th>amount</th>\n",
       "    </tr>\n",
       "  </thead>\n",
       "  <tbody>\n",
       "  </tbody>\n",
       "</table>\n",
       "</div>"
      ],
      "text/plain": [
       "Empty DataFrame\n",
       "Columns: [DT, store_id, card_id, amount]\n",
       "Index: []"
      ]
     },
     "execution_count": 274,
     "metadata": {},
     "output_type": "execute_result"
    }
   ],
   "source": [
    "target[target.amount.isin([abs(check_amount)])]"
   ]
  },
  {
   "cell_type": "code",
   "execution_count": 270,
   "metadata": {
    "ExecuteTime": {
     "end_time": "2020-07-01T08:15:09.297207Z",
     "start_time": "2020-07-01T08:15:09.293207Z"
    },
    "scrolled": true
   },
   "outputs": [
    {
     "data": {
      "text/plain": [
       "82421"
      ]
     },
     "execution_count": 270,
     "metadata": {},
     "output_type": "execute_result"
    }
   ],
   "source": [
    "target[target.amount.isin([abs(check_amount)])].index.max()"
   ]
  },
  {
   "cell_type": "code",
   "execution_count": null,
   "metadata": {},
   "outputs": [],
   "source": []
  }
 ],
 "metadata": {
  "kernelspec": {
   "display_name": "Python 3",
   "language": "python",
   "name": "python3"
  },
  "language_info": {
   "codemirror_mode": {
    "name": "ipython",
    "version": 3
   },
   "file_extension": ".py",
   "mimetype": "text/x-python",
   "name": "python",
   "nbconvert_exporter": "python",
   "pygments_lexer": "ipython3",
   "version": "3.6.5"
  },
  "toc": {
   "base_numbering": 1,
   "nav_menu": {},
   "number_sections": true,
   "sideBar": true,
   "skip_h1_title": false,
   "title_cell": "Table of Contents",
   "title_sidebar": "Contents",
   "toc_cell": false,
   "toc_position": {},
   "toc_section_display": true,
   "toc_window_display": false
  }
 },
 "nbformat": 4,
 "nbformat_minor": 2
}
