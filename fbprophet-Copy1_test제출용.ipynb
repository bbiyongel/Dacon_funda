{
 "cells": [
  {
   "cell_type": "code",
   "execution_count": 1,
   "metadata": {
    "ExecuteTime": {
     "end_time": "2020-07-02T07:31:11.493247Z",
     "start_time": "2020-07-02T07:31:07.605261Z"
    }
   },
   "outputs": [
    {
     "name": "stderr",
     "output_type": "stream",
     "text": [
      "C:\\Users\\User\\Anaconda3\\lib\\site-packages\\distributed\\config.py:63: YAMLLoadWarning: calling yaml.load() without Loader=... is deprecated, as the default Loader is unsafe. Please read https://msg.pyyaml.org/load for full details.\n",
      "  config.update(yaml.load(text) or {})\n"
     ]
    }
   ],
   "source": [
    "import numpy as np\n",
    "import pandas as pd\n",
    "import matplotlib.pyplot as plt\n",
    "import seaborn as sns\n",
    "from tqdm.notebook import tqdm\n",
    "import datetime\n",
    "import os\n",
    "\n",
    "import xgboost as xgb\n",
    "from sklearn.model_selection import train_test_split\n",
    "import lightgbm\n",
    "import warnings\n",
    "from sklearn.metrics import mean_squared_error\n",
    "from fbprophet import Prophet\n",
    "warnings.filterwarnings('ignore')\n",
    "#한글 깨짐방지\n",
    "plt.rc('font',family = 'Malgun Gothic')\n",
    "plt.rcParams['axes.unicode_minus'] = False\n",
    "\n",
    "import logging\n",
    "logging.getLogger('fbprophet').setLevel(logging.WARNING)"
   ]
  },
  {
   "cell_type": "code",
   "execution_count": 2,
   "metadata": {
    "ExecuteTime": {
     "end_time": "2020-07-02T07:31:14.149498Z",
     "start_time": "2020-07-02T07:31:11.494248Z"
    }
   },
   "outputs": [],
   "source": [
    "path = './data/'\n",
    "train = pd.read_csv(path + 'train.csv')\n",
    "test = pd.read_csv(path + 'test.csv')\n",
    "submission  = pd.read_csv(path + 'submission.csv')\n",
    "merge_df = pd.concat([train,test])"
   ]
  },
  {
   "cell_type": "markdown",
   "metadata": {},
   "source": [
    "## 전처리"
   ]
  },
  {
   "cell_type": "code",
   "execution_count": 3,
   "metadata": {
    "ExecuteTime": {
     "end_time": "2020-07-02T07:31:14.633607Z",
     "start_time": "2020-07-02T07:31:14.150499Z"
    }
   },
   "outputs": [
    {
     "data": {
      "text/html": [
       "<div>\n",
       "<style scoped>\n",
       "    .dataframe tbody tr th:only-of-type {\n",
       "        vertical-align: middle;\n",
       "    }\n",
       "\n",
       "    .dataframe tbody tr th {\n",
       "        vertical-align: top;\n",
       "    }\n",
       "\n",
       "    .dataframe thead th {\n",
       "        text-align: right;\n",
       "    }\n",
       "</style>\n",
       "<table border=\"1\" class=\"dataframe\">\n",
       "  <thead>\n",
       "    <tr style=\"text-align: right;\">\n",
       "      <th></th>\n",
       "      <th>date</th>\n",
       "      <th>store_id</th>\n",
       "      <th>amount</th>\n",
       "    </tr>\n",
       "  </thead>\n",
       "  <tbody>\n",
       "    <tr>\n",
       "      <td>34</td>\n",
       "      <td>2016-08-01</td>\n",
       "      <td>138</td>\n",
       "      <td>-180</td>\n",
       "    </tr>\n",
       "    <tr>\n",
       "      <td>1504</td>\n",
       "      <td>2016-08-04</td>\n",
       "      <td>1478</td>\n",
       "      <td>-11250</td>\n",
       "    </tr>\n",
       "    <tr>\n",
       "      <td>5810</td>\n",
       "      <td>2016-08-15</td>\n",
       "      <td>1683</td>\n",
       "      <td>-35</td>\n",
       "    </tr>\n",
       "    <tr>\n",
       "      <td>5823</td>\n",
       "      <td>2016-08-15</td>\n",
       "      <td>1753</td>\n",
       "      <td>-75</td>\n",
       "    </tr>\n",
       "    <tr>\n",
       "      <td>5881</td>\n",
       "      <td>2016-08-16</td>\n",
       "      <td>216</td>\n",
       "      <td>-1295</td>\n",
       "    </tr>\n",
       "    <tr>\n",
       "      <td>...</td>\n",
       "      <td>...</td>\n",
       "      <td>...</td>\n",
       "      <td>...</td>\n",
       "    </tr>\n",
       "    <tr>\n",
       "      <td>473957</td>\n",
       "      <td>2018-07-25</td>\n",
       "      <td>36</td>\n",
       "      <td>-500</td>\n",
       "    </tr>\n",
       "    <tr>\n",
       "      <td>476119</td>\n",
       "      <td>2018-07-27</td>\n",
       "      <td>513</td>\n",
       "      <td>-300</td>\n",
       "    </tr>\n",
       "    <tr>\n",
       "      <td>478867</td>\n",
       "      <td>2018-07-30</td>\n",
       "      <td>956</td>\n",
       "      <td>-295</td>\n",
       "    </tr>\n",
       "    <tr>\n",
       "      <td>479213</td>\n",
       "      <td>2018-07-30</td>\n",
       "      <td>1669</td>\n",
       "      <td>-250</td>\n",
       "    </tr>\n",
       "    <tr>\n",
       "      <td>479632</td>\n",
       "      <td>2018-07-31</td>\n",
       "      <td>728</td>\n",
       "      <td>-3250</td>\n",
       "    </tr>\n",
       "  </tbody>\n",
       "</table>\n",
       "<p>643 rows × 3 columns</p>\n",
       "</div>"
      ],
      "text/plain": [
       "              date  store_id  amount\n",
       "34      2016-08-01       138    -180\n",
       "1504    2016-08-04      1478  -11250\n",
       "5810    2016-08-15      1683     -35\n",
       "5823    2016-08-15      1753     -75\n",
       "5881    2016-08-16       216   -1295\n",
       "...            ...       ...     ...\n",
       "473957  2018-07-25        36    -500\n",
       "476119  2018-07-27       513    -300\n",
       "478867  2018-07-30       956    -295\n",
       "479213  2018-07-30      1669    -250\n",
       "479632  2018-07-31       728   -3250\n",
       "\n",
       "[643 rows x 3 columns]"
      ]
     },
     "execution_count": 3,
     "metadata": {},
     "output_type": "execute_result"
    }
   ],
   "source": [
    "#그냥 합산했을때 음수 발생하는 경우\n",
    "d_sum = train.groupby(['date','store_id'])['amount'].sum().reset_index()\n",
    "d_sum[d_sum['amount']<0]"
   ]
  },
  {
   "cell_type": "code",
   "execution_count": 4,
   "metadata": {
    "ExecuteTime": {
     "end_time": "2020-07-02T07:31:14.642609Z",
     "start_time": "2020-07-02T07:31:14.634607Z"
    },
    "code_folding": [
     0
    ]
   },
   "outputs": [],
   "source": [
    "def del_minus(df):\n",
    "    '''음수값을 처리하기 위함\n",
    "    음수값을 처리할때 조건은, 동일 store_id, card_id이어야하며\n",
    "    날짜는 minus보다 이전 날짜\n",
    "    금액은 minus보다 큰 금액이어야 함\n",
    "\n",
    "    위 조건을 만족하는 row가 여러개일 경우\n",
    "    가장 최근의 날짜를 선택하되, 그 날짜가 이미 선택되어 있다면\n",
    "    보다 이전날짜를 탐색하고, matching되지 않는다면 따로 분류\n",
    "\n",
    "    속도를 원활하게 하기 위해 diction에 저장후 plus_amount_df와 매칭\n",
    "    '''\n",
    "    df['DT'] = pd.to_datetime(df['date']+\" \"+df['time'])\n",
    "    minus_amount_df = df[df.amount<0][['DT','store_id','card_id','amount']]\n",
    "    plus_amount_df = df[df.amount>0][['DT','store_id','card_id','amount']]\n",
    "\n",
    "    err_dic = dict()\n",
    "    not_match = []\n",
    "    check_list = []\n",
    "    err_dic[470565] = 0\n",
    "    for i in tqdm(range(minus_amount_df.shape[0])):\n",
    "        error_index = np.nan #초기화\n",
    "        minus_index = minus_amount_df.iloc[i].name\n",
    "        minus_card = minus_amount_df.iloc[i].card_id \n",
    "        minus_store = minus_amount_df.iloc[i].store_id\n",
    "        minus_DT = minus_amount_df.iloc[i].DT\n",
    "        minus_amount = minus_amount_df.iloc[i].amount\n",
    "\n",
    "        try :\n",
    "            range_df = plus_amount_df[plus_amount_df.store_id == minus_store] #동일 상점\n",
    "            range_df = range_df[range_df.card_id == minus_card] #동일 카드\n",
    "            range_df = range_df[range_df.DT <= minus_DT] #이전날짜\n",
    "            range_df = range_df[range_df.amount.apply(lambda x : x >= abs(minus_amount))] #보다 큰 금액\n",
    "            big_df = range_df[range_df.amount.apply(lambda x : x > abs(minus_amount))] #보다 큰 금액\n",
    "            same_df = range_df[range_df.amount.apply(lambda x : x == abs(minus_amount))] #동일한 금액\n",
    "        except :\n",
    "            not_match.append(minus_index)\n",
    "            pass\n",
    "\n",
    "        #동일한 금액이 있는 경우\n",
    "        if len(same_df)>=1:\n",
    "            same_index = same_df.index\n",
    "            error_index = same_index.max()  #최근날짜의 index를 추출\n",
    "            if error_index in err_dic.keys(): #그 index가 이미 key값을 가지고 있는지 확인\n",
    "                same_index = list(same_index)\n",
    "                same_index.reverse()\n",
    "                for dex in same_index[1:]: \n",
    "                    error_index = dex\n",
    "                    if error_index not in err_dic.keys(): #key에 없는 값을 찾았다면 중단\n",
    "                        break\n",
    "                if error_index in err_dic.keys(): #모든 인덱스를 비교하고도 key값에 있다면 not_match에 저장\n",
    "                    error_index = np.nan\n",
    "                    not_match.append(minus_index)\n",
    "            try :\n",
    "                err_dic[error_index] = minus_amount\n",
    "                check_list.append(error_index)\n",
    "            except :\n",
    "                pass\n",
    "\n",
    "        #금액보다 더 큰 금액\n",
    "        elif len(big_df)>= 1:\n",
    "            big_index = big_df.index\n",
    "            error_index = big_index.max()\n",
    "            if error_index in err_dic.keys():\n",
    "                big_index = list(big_index)\n",
    "                big_index.reverse()\n",
    "                for dex in big_index[1:]:\n",
    "                    error_index = dex\n",
    "                    if error_index not in err_dic.keys(): \n",
    "                        break\n",
    "                if error_index in err_dic.keys():\n",
    "                    error_index = np.nan\n",
    "                    not_match.append(minus_index)\n",
    "            try :\n",
    "                err_dic[error_index] = minus_amount\n",
    "                check_list.append(error_index)\n",
    "            except :\n",
    "                pass\n",
    "        else : \n",
    "            not_match.append(minus_index) #매칭되는 것이 없다면 not_match에 넣어둔다 \n",
    "\n",
    "    #최종정리\n",
    "    plus_amount_df = df[df.amount>0]\n",
    "    fin_minus= pd.DataFrame(index= err_dic.keys(),data=err_dic.values(), columns= ['minus']) \n",
    "    plus_amount_df = pd.merge(plus_amount_df,fin_minus,left_index=True, right_index=True,how = 'left')\n",
    "    plus_amount_df['minus'].fillna(0,inplace = True)\n",
    "    plus_amount_df['amount'] = plus_amount_df['amount'] + plus_amount_df['minus']\n",
    "    plus_amount_df.drop('minus',axis=1,inplace=True)        \n",
    "    return plus_amount_df"
   ]
  },
  {
   "cell_type": "code",
   "execution_count": 5,
   "metadata": {
    "ExecuteTime": {
     "end_time": "2020-07-02T07:31:56.795444Z",
     "start_time": "2020-07-02T07:31:14.644610Z"
    }
   },
   "outputs": [
    {
     "data": {
      "application/vnd.jupyter.widget-view+json": {
       "model_id": "d8035123542448f2900e467274050f04",
       "version_major": 2,
       "version_minor": 0
      },
      "text/plain": [
       "HBox(children=(FloatProgress(value=0.0, max=7943.0), HTML(value='')))"
      ]
     },
     "metadata": {},
     "output_type": "display_data"
    },
    {
     "name": "stdout",
     "output_type": "stream",
     "text": [
      "\n"
     ]
    }
   ],
   "source": [
    "new_test = del_minus(test)\n",
    "# new_train = del_minus(train)"
   ]
  },
  {
   "cell_type": "markdown",
   "metadata": {},
   "source": [
    "### fbprophet적용\n",
    "* 기초적용"
   ]
  },
  {
   "cell_type": "code",
   "execution_count": 7,
   "metadata": {
    "ExecuteTime": {
     "end_time": "2020-07-02T07:31:57.862285Z",
     "start_time": "2020-07-02T07:31:57.805272Z"
    }
   },
   "outputs": [],
   "source": [
    "train_grouped = new_test.groupby(['date','store_id'])['amount'].sum().reset_index()"
   ]
  },
  {
   "cell_type": "code",
   "execution_count": 8,
   "metadata": {
    "ExecuteTime": {
     "end_time": "2020-07-02T07:31:58.280427Z",
     "start_time": "2020-07-02T07:31:58.276427Z"
    }
   },
   "outputs": [
    {
     "data": {
      "text/plain": [
       "200"
      ]
     },
     "execution_count": 8,
     "metadata": {},
     "output_type": "execute_result"
    }
   ],
   "source": [
    "train_grouped.store_id.nunique()"
   ]
  },
  {
   "cell_type": "markdown",
   "metadata": {},
   "source": [
    "### 각 store_id별로 적용후 rmse 비교"
   ]
  },
  {
   "cell_type": "code",
   "execution_count": 6,
   "metadata": {
    "ExecuteTime": {
     "end_time": "2020-07-02T07:31:56.809674Z",
     "start_time": "2020-07-02T07:31:56.796450Z"
    }
   },
   "outputs": [],
   "source": [
    "Train = False"
   ]
  },
  {
   "cell_type": "code",
   "execution_count": 25,
   "metadata": {
    "ExecuteTime": {
     "end_time": "2020-07-02T07:51:36.639031Z",
     "start_time": "2020-07-02T07:46:58.064207Z"
    }
   },
   "outputs": [
    {
     "data": {
      "application/vnd.jupyter.widget-view+json": {
       "model_id": "759dd1033e234ec6816224329c000e38",
       "version_major": 2,
       "version_minor": 0
      },
      "text/plain": [
       "HBox(children=(FloatProgress(value=0.0, max=200.0), HTML(value='')))"
      ]
     },
     "metadata": {},
     "output_type": "display_data"
    },
    {
     "name": "stderr",
     "output_type": "stream",
     "text": [
      "WARNING:fbprophet:Optimization terminated abnormally. Falling back to Newton.\n"
     ]
    },
    {
     "name": "stdout",
     "output_type": "stream",
     "text": [
      "\n"
     ]
    }
   ],
   "source": [
    "train_grouped = new_test.groupby(['date','store_id'])['amount'].sum().reset_index()\n",
    "y_reals = []\n",
    "y_preds = []\n",
    "store_ids = []\n",
    "for i in tqdm(train_grouped.store_id.unique()):\n",
    "    sample = train_grouped[train_grouped.store_id ==i]\n",
    "    sample.drop('store_id',axis=1,inplace=True)\n",
    "    sample.columns = ['ds','y']\n",
    "    if Train :\n",
    "        sample['ds'] = pd.to_datetime(sample['ds'])\n",
    "        sample.index= sample['ds']\n",
    "        \n",
    "        train = sample[sample['ds'] < answer['ds'].iloc[0]]\n",
    "        answer = sample.last('100D')\n",
    "        y_real = answer['y'].sum()\n",
    "        y_reals.append(y_real)\n",
    "    else :\n",
    "        train = sample\n",
    "        \n",
    "    #예측\n",
    "    m = Prophet(changepoint_prior_scale=0.01)\n",
    "    m.fit(train)\n",
    "    future = m.make_future_dataframe(periods=100)\n",
    "    forecast = m.predict(future)\n",
    "    y_pred = forecast.iloc[-100:, :].yhat.sum()\n",
    "    y_preds.append(y_pred)\n",
    "    store_ids.append(i)"
   ]
  },
  {
   "cell_type": "code",
   "execution_count": 18,
   "metadata": {
    "ExecuteTime": {
     "end_time": "2020-07-02T07:44:19.889458Z",
     "start_time": "2020-07-02T07:44:19.885458Z"
    }
   },
   "outputs": [],
   "source": [
    "result = pd.DataFrame(data={'store_id': store_ids, 'amount': y_preds}).sort_values('store_id')"
   ]
  },
  {
   "cell_type": "code",
   "execution_count": 21,
   "metadata": {
    "ExecuteTime": {
     "end_time": "2020-07-02T07:44:52.599357Z",
     "start_time": "2020-07-02T07:44:52.596358Z"
    }
   },
   "outputs": [],
   "source": [
    "submission['total_sales'] = result['amount']"
   ]
  },
  {
   "cell_type": "code",
   "execution_count": 24,
   "metadata": {
    "ExecuteTime": {
     "end_time": "2020-07-02T07:45:57.082389Z",
     "start_time": "2020-07-02T07:45:56.979537Z"
    }
   },
   "outputs": [],
   "source": [
    "today = datetime.datetime.today().date()\n",
    "submission.to_csv(f'./submission/submission_{today}_fbprophet(0.001)_rmse.csv',index=False)"
   ]
  },
  {
   "cell_type": "markdown",
   "metadata": {},
   "source": [
    "### 일부직접확인"
   ]
  },
  {
   "cell_type": "code",
   "execution_count": 245,
   "metadata": {
    "ExecuteTime": {
     "end_time": "2020-07-02T07:04:20.038483Z",
     "start_time": "2020-07-02T07:04:20.034482Z"
    }
   },
   "outputs": [],
   "source": [
    "sample = train_grouped[train_grouped.store_id ==1795]"
   ]
  },
  {
   "cell_type": "code",
   "execution_count": 246,
   "metadata": {
    "ExecuteTime": {
     "end_time": "2020-07-02T07:04:20.395197Z",
     "start_time": "2020-07-02T07:04:20.392196Z"
    }
   },
   "outputs": [],
   "source": [
    "sample.drop('store_id',axis=1,inplace=True)"
   ]
  },
  {
   "cell_type": "code",
   "execution_count": 247,
   "metadata": {
    "ExecuteTime": {
     "end_time": "2020-07-02T07:04:20.666877Z",
     "start_time": "2020-07-02T07:04:20.661869Z"
    }
   },
   "outputs": [],
   "source": [
    "sample['date'] = pd.to_datetime(sample['date'])\n",
    "sample.index= sample['date']"
   ]
  },
  {
   "cell_type": "code",
   "execution_count": 248,
   "metadata": {
    "ExecuteTime": {
     "end_time": "2020-07-02T07:04:20.913496Z",
     "start_time": "2020-07-02T07:04:20.910504Z"
    }
   },
   "outputs": [],
   "source": [
    "sample.columns = ['ds','y']"
   ]
  },
  {
   "cell_type": "code",
   "execution_count": 250,
   "metadata": {
    "ExecuteTime": {
     "end_time": "2020-07-02T07:04:21.674665Z",
     "start_time": "2020-07-02T07:04:21.670673Z"
    }
   },
   "outputs": [],
   "source": [
    "train = sample[sample['ds'] < answer['ds'].iloc[0]]"
   ]
  },
  {
   "cell_type": "code",
   "execution_count": 251,
   "metadata": {
    "ExecuteTime": {
     "end_time": "2020-07-02T07:04:22.090472Z",
     "start_time": "2020-07-02T07:04:22.086470Z"
    }
   },
   "outputs": [],
   "source": [
    "answer = sample.last('100D')"
   ]
  },
  {
   "cell_type": "code",
   "execution_count": 252,
   "metadata": {
    "ExecuteTime": {
     "end_time": "2020-07-02T07:04:22.402558Z",
     "start_time": "2020-07-02T07:04:22.398565Z"
    }
   },
   "outputs": [
    {
     "data": {
      "text/plain": [
       "265542.0"
      ]
     },
     "execution_count": 252,
     "metadata": {},
     "output_type": "execute_result"
    }
   ],
   "source": [
    "y_real = answer['y'].sum()\n",
    "y_real"
   ]
  },
  {
   "cell_type": "code",
   "execution_count": 288,
   "metadata": {
    "ExecuteTime": {
     "end_time": "2020-07-02T07:08:33.685852Z",
     "start_time": "2020-07-02T07:08:29.782185Z"
    }
   },
   "outputs": [
    {
     "name": "stderr",
     "output_type": "stream",
     "text": [
      "INFO:fbprophet:Disabling yearly seasonality. Run prophet with yearly_seasonality=True to override this.\n",
      "INFO:fbprophet:Disabling daily seasonality. Run prophet with daily_seasonality=True to override this.\n",
      "WARNING:fbprophet:Optimization terminated abnormally. Falling back to Newton.\n"
     ]
    },
    {
     "data": {
      "text/plain": [
       "<fbprophet.forecaster.Prophet at 0x2ed30b39128>"
      ]
     },
     "execution_count": 288,
     "metadata": {},
     "output_type": "execute_result"
    }
   ],
   "source": [
    "m = Prophet(changepoint_prior_scale=0.001)\n",
    "m.fit(train)"
   ]
  },
  {
   "cell_type": "code",
   "execution_count": 289,
   "metadata": {
    "ExecuteTime": {
     "end_time": "2020-07-02T07:08:33.690858Z",
     "start_time": "2020-07-02T07:08:33.686858Z"
    }
   },
   "outputs": [],
   "source": [
    "future = m.make_future_dataframe(periods=100)"
   ]
  },
  {
   "cell_type": "code",
   "execution_count": 290,
   "metadata": {
    "ExecuteTime": {
     "end_time": "2020-07-02T07:08:34.938075Z",
     "start_time": "2020-07-02T07:08:33.691859Z"
    }
   },
   "outputs": [
    {
     "data": {
      "text/html": [
       "<div>\n",
       "<style scoped>\n",
       "    .dataframe tbody tr th:only-of-type {\n",
       "        vertical-align: middle;\n",
       "    }\n",
       "\n",
       "    .dataframe tbody tr th {\n",
       "        vertical-align: top;\n",
       "    }\n",
       "\n",
       "    .dataframe thead th {\n",
       "        text-align: right;\n",
       "    }\n",
       "</style>\n",
       "<table border=\"1\" class=\"dataframe\">\n",
       "  <thead>\n",
       "    <tr style=\"text-align: right;\">\n",
       "      <th></th>\n",
       "      <th>ds</th>\n",
       "      <th>trend</th>\n",
       "      <th>yhat_lower</th>\n",
       "      <th>yhat_upper</th>\n",
       "      <th>trend_lower</th>\n",
       "      <th>trend_upper</th>\n",
       "      <th>additive_terms</th>\n",
       "      <th>additive_terms_lower</th>\n",
       "      <th>additive_terms_upper</th>\n",
       "      <th>weekly</th>\n",
       "      <th>weekly_lower</th>\n",
       "      <th>weekly_upper</th>\n",
       "      <th>multiplicative_terms</th>\n",
       "      <th>multiplicative_terms_lower</th>\n",
       "      <th>multiplicative_terms_upper</th>\n",
       "      <th>yhat</th>\n",
       "    </tr>\n",
       "  </thead>\n",
       "  <tbody>\n",
       "    <tr>\n",
       "      <td>520</td>\n",
       "      <td>2018-07-27</td>\n",
       "      <td>2725.146561</td>\n",
       "      <td>2073.359904</td>\n",
       "      <td>4000.836181</td>\n",
       "      <td>2725.146532</td>\n",
       "      <td>2725.146590</td>\n",
       "      <td>286.906063</td>\n",
       "      <td>286.906063</td>\n",
       "      <td>286.906063</td>\n",
       "      <td>286.906063</td>\n",
       "      <td>286.906063</td>\n",
       "      <td>286.906063</td>\n",
       "      <td>0.0</td>\n",
       "      <td>0.0</td>\n",
       "      <td>0.0</td>\n",
       "      <td>3012.052624</td>\n",
       "    </tr>\n",
       "    <tr>\n",
       "      <td>521</td>\n",
       "      <td>2018-07-28</td>\n",
       "      <td>2725.925911</td>\n",
       "      <td>1045.411007</td>\n",
       "      <td>3104.788030</td>\n",
       "      <td>2725.925882</td>\n",
       "      <td>2725.925940</td>\n",
       "      <td>-652.655976</td>\n",
       "      <td>-652.655976</td>\n",
       "      <td>-652.655976</td>\n",
       "      <td>-652.655976</td>\n",
       "      <td>-652.655976</td>\n",
       "      <td>-652.655976</td>\n",
       "      <td>0.0</td>\n",
       "      <td>0.0</td>\n",
       "      <td>0.0</td>\n",
       "      <td>2073.269935</td>\n",
       "    </tr>\n",
       "    <tr>\n",
       "      <td>522</td>\n",
       "      <td>2018-07-29</td>\n",
       "      <td>2726.705261</td>\n",
       "      <td>1077.158278</td>\n",
       "      <td>3054.988202</td>\n",
       "      <td>2726.705231</td>\n",
       "      <td>2726.705291</td>\n",
       "      <td>-661.922318</td>\n",
       "      <td>-661.922318</td>\n",
       "      <td>-661.922318</td>\n",
       "      <td>-661.922318</td>\n",
       "      <td>-661.922318</td>\n",
       "      <td>-661.922318</td>\n",
       "      <td>0.0</td>\n",
       "      <td>0.0</td>\n",
       "      <td>0.0</td>\n",
       "      <td>2064.782943</td>\n",
       "    </tr>\n",
       "    <tr>\n",
       "      <td>523</td>\n",
       "      <td>2018-07-30</td>\n",
       "      <td>2727.484612</td>\n",
       "      <td>1718.206604</td>\n",
       "      <td>3723.421647</td>\n",
       "      <td>2727.484581</td>\n",
       "      <td>2727.484641</td>\n",
       "      <td>-2.742436</td>\n",
       "      <td>-2.742436</td>\n",
       "      <td>-2.742436</td>\n",
       "      <td>-2.742436</td>\n",
       "      <td>-2.742436</td>\n",
       "      <td>-2.742436</td>\n",
       "      <td>0.0</td>\n",
       "      <td>0.0</td>\n",
       "      <td>0.0</td>\n",
       "      <td>2724.742176</td>\n",
       "    </tr>\n",
       "    <tr>\n",
       "      <td>524</td>\n",
       "      <td>2018-07-31</td>\n",
       "      <td>2728.263962</td>\n",
       "      <td>2183.527875</td>\n",
       "      <td>4078.156680</td>\n",
       "      <td>2728.263931</td>\n",
       "      <td>2728.263992</td>\n",
       "      <td>419.012436</td>\n",
       "      <td>419.012436</td>\n",
       "      <td>419.012436</td>\n",
       "      <td>419.012436</td>\n",
       "      <td>419.012436</td>\n",
       "      <td>419.012436</td>\n",
       "      <td>0.0</td>\n",
       "      <td>0.0</td>\n",
       "      <td>0.0</td>\n",
       "      <td>3147.276397</td>\n",
       "    </tr>\n",
       "  </tbody>\n",
       "</table>\n",
       "</div>"
      ],
      "text/plain": [
       "            ds        trend   yhat_lower   yhat_upper  trend_lower  \\\n",
       "520 2018-07-27  2725.146561  2073.359904  4000.836181  2725.146532   \n",
       "521 2018-07-28  2725.925911  1045.411007  3104.788030  2725.925882   \n",
       "522 2018-07-29  2726.705261  1077.158278  3054.988202  2726.705231   \n",
       "523 2018-07-30  2727.484612  1718.206604  3723.421647  2727.484581   \n",
       "524 2018-07-31  2728.263962  2183.527875  4078.156680  2728.263931   \n",
       "\n",
       "     trend_upper  additive_terms  additive_terms_lower  additive_terms_upper  \\\n",
       "520  2725.146590      286.906063            286.906063            286.906063   \n",
       "521  2725.925940     -652.655976           -652.655976           -652.655976   \n",
       "522  2726.705291     -661.922318           -661.922318           -661.922318   \n",
       "523  2727.484641       -2.742436             -2.742436             -2.742436   \n",
       "524  2728.263992      419.012436            419.012436            419.012436   \n",
       "\n",
       "         weekly  weekly_lower  weekly_upper  multiplicative_terms  \\\n",
       "520  286.906063    286.906063    286.906063                   0.0   \n",
       "521 -652.655976   -652.655976   -652.655976                   0.0   \n",
       "522 -661.922318   -661.922318   -661.922318                   0.0   \n",
       "523   -2.742436     -2.742436     -2.742436                   0.0   \n",
       "524  419.012436    419.012436    419.012436                   0.0   \n",
       "\n",
       "     multiplicative_terms_lower  multiplicative_terms_upper         yhat  \n",
       "520                         0.0                         0.0  3012.052624  \n",
       "521                         0.0                         0.0  2073.269935  \n",
       "522                         0.0                         0.0  2064.782943  \n",
       "523                         0.0                         0.0  2724.742176  \n",
       "524                         0.0                         0.0  3147.276397  "
      ]
     },
     "execution_count": 290,
     "metadata": {},
     "output_type": "execute_result"
    }
   ],
   "source": [
    "forecast = m.predict(future)\n",
    "forecast.tail()"
   ]
  },
  {
   "cell_type": "code",
   "execution_count": 291,
   "metadata": {
    "ExecuteTime": {
     "end_time": "2020-07-02T07:08:34.942596Z",
     "start_time": "2020-07-02T07:08:34.938603Z"
    }
   },
   "outputs": [],
   "source": [
    "y_pred = forecast.iloc[-100:, :].yhat.sum()"
   ]
  },
  {
   "cell_type": "code",
   "execution_count": 292,
   "metadata": {
    "ExecuteTime": {
     "end_time": "2020-07-02T07:08:34.946597Z",
     "start_time": "2020-07-02T07:08:34.943588Z"
    }
   },
   "outputs": [
    {
     "data": {
      "text/plain": [
       "269384.8832349306"
      ]
     },
     "execution_count": 292,
     "metadata": {},
     "output_type": "execute_result"
    }
   ],
   "source": [
    "y_pred"
   ]
  },
  {
   "cell_type": "code",
   "execution_count": 293,
   "metadata": {
    "ExecuteTime": {
     "end_time": "2020-07-02T07:08:34.950590Z",
     "start_time": "2020-07-02T07:08:34.947597Z"
    },
    "scrolled": true
   },
   "outputs": [
    {
     "data": {
      "text/plain": [
       "3842.883234930574"
      ]
     },
     "execution_count": 293,
     "metadata": {},
     "output_type": "execute_result"
    }
   ],
   "source": [
    "np.sqrt(mean_squared_error([y_real],[y_pred]))"
   ]
  },
  {
   "cell_type": "code",
   "execution_count": 294,
   "metadata": {
    "ExecuteTime": {
     "end_time": "2020-07-02T07:08:42.123220Z",
     "start_time": "2020-07-02T07:08:42.006186Z"
    }
   },
   "outputs": [
    {
     "data": {
      "text/plain": [
       "[<matplotlib.lines.Line2D at 0x2ed30b7aa58>]"
      ]
     },
     "execution_count": 294,
     "metadata": {},
     "output_type": "execute_result"
    },
    {
     "data": {
      "image/png": "[encoded data removed]",
      "text/plain": [
       "<Figure size 432x288 with 1 Axes>"
      ]
     },
     "metadata": {},
     "output_type": "display_data"
    }
   ],
   "source": [
    "plt.plot(forecast.iloc[-100:, :].yhat)"
   ]
  },
  {
   "cell_type": "code",
   "execution_count": 295,
   "metadata": {
    "ExecuteTime": {
     "end_time": "2020-07-02T07:08:42.815062Z",
     "start_time": "2020-07-02T07:08:42.574313Z"
    }
   },
   "outputs": [
    {
     "data": {
      "image/png": "[encoded data removed]",
      "text/plain": [
       "<Figure size 720x432 with 1 Axes>"
      ]
     },
     "metadata": {},
     "output_type": "display_data"
    }
   ],
   "source": [
    "fig1 = m.plot(forecast)"
   ]
  },
  {
   "cell_type": "code",
   "execution_count": 279,
   "metadata": {
    "ExecuteTime": {
     "end_time": "2020-07-02T07:07:14.297649Z",
     "start_time": "2020-07-02T07:07:13.992526Z"
    }
   },
   "outputs": [
    {
     "data": {
      "image/png": "[encoded data removed]",
      "text/plain": [
       "<Figure size 648x432 with 2 Axes>"
      ]
     },
     "metadata": {},
     "output_type": "display_data"
    }
   ],
   "source": [
    "fig2 = m.plot_components(forecast)"
   ]
  },
  {
   "cell_type": "code",
   "execution_count": 277,
   "metadata": {
    "ExecuteTime": {
     "end_time": "2020-07-02T07:05:32.321462Z",
     "start_time": "2020-07-02T07:05:32.069974Z"
    }
   },
   "outputs": [
    {
     "data": {
      "image/png": "[encoded data removed]",
      "text/plain": [
       "<Figure size 720x432 with 1 Axes>"
      ]
     },
     "metadata": {},
     "output_type": "display_data"
    }
   ],
   "source": [
    "from fbprophet.plot import add_changepoints_to_plot\n",
    "\n",
    "fig = m.plot(forecast)\n",
    "a = add_changepoints_to_plot(fig.gca(), m, forecast, threshold=0)\n",
    "plt.show()"
   ]
  },
  {
   "cell_type": "markdown",
   "metadata": {},
   "source": [
    "### ??? 오류발견\n",
    "* 매칭되는것이 있음에도 불구하고 안됨"
   ]
  },
  {
   "cell_type": "code",
   "execution_count": 104,
   "metadata": {
    "ExecuteTime": {
     "end_time": "2020-07-02T06:06:43.361308Z",
     "start_time": "2020-07-02T06:06:43.348305Z"
    }
   },
   "outputs": [],
   "source": [
    "i = 154877\n",
    "minus_index = minus_amount_df.loc[i].name\n",
    "minus_card = minus_amount_df.loc[i].card_id \n",
    "minus_store = minus_amount_df.loc[i].store_id\n",
    "minus_DT = minus_amount_df.loc[i].DT\n",
    "minus_amount = minus_amount_df.loc[i].amount\n",
    "\n",
    "#plus와 minus의 store_id 와 card_id가 같으면서 날짜가 이전인경우 (각 조건을 나눠서 하는게 속도가 빠름)\n",
    "try :\n",
    "    range_df = plus_amount_df[plus_amount_df.store_id == minus_store] #동일 상점\n",
    "    range_df = range_df[range_df.card_id == minus_card] #동일 카드\n",
    "    range_df = range_df[range_df.DT <= minus_DT] #이전날짜\n",
    "    range_df = range_df[range_df.amount.apply(lambda x : x >= abs(minus_amount))] #보다 큰 금액\n",
    "    big_df = range_df[range_df.amount.apply(lambda x : x > abs(minus_amount))] #보다 큰 금액\n",
    "    same_df = range_df[range_df.amount.apply(lambda x : x == abs(minus_amount))] #동일한 금액\n",
    "except :\n",
    "    not_match.append(minus_index)\n",
    "    pass"
   ]
  },
  {
   "cell_type": "code",
   "execution_count": 105,
   "metadata": {
    "ExecuteTime": {
     "end_time": "2020-07-02T06:06:47.170590Z",
     "start_time": "2020-07-02T06:06:47.164589Z"
    }
   },
   "outputs": [
    {
     "data": {
      "text/html": [
       "<div>\n",
       "<style scoped>\n",
       "    .dataframe tbody tr th:only-of-type {\n",
       "        vertical-align: middle;\n",
       "    }\n",
       "\n",
       "    .dataframe tbody tr th {\n",
       "        vertical-align: top;\n",
       "    }\n",
       "\n",
       "    .dataframe thead th {\n",
       "        text-align: right;\n",
       "    }\n",
       "</style>\n",
       "<table border=\"1\" class=\"dataframe\">\n",
       "  <thead>\n",
       "    <tr style=\"text-align: right;\">\n",
       "      <th></th>\n",
       "      <th>DT</th>\n",
       "      <th>store_id</th>\n",
       "      <th>card_id</th>\n",
       "      <th>amount</th>\n",
       "    </tr>\n",
       "  </thead>\n",
       "  <tbody>\n",
       "    <tr>\n",
       "      <td>154865</td>\n",
       "      <td>2017-05-25 03:26:51</td>\n",
       "      <td>39</td>\n",
       "      <td>c95d8a616d</td>\n",
       "      <td>62</td>\n",
       "    </tr>\n",
       "    <tr>\n",
       "      <td>154866</td>\n",
       "      <td>2017-05-25 03:27:28</td>\n",
       "      <td>39</td>\n",
       "      <td>c95d8a616d</td>\n",
       "      <td>62</td>\n",
       "    </tr>\n",
       "    <tr>\n",
       "      <td>154867</td>\n",
       "      <td>2017-05-25 03:32:18</td>\n",
       "      <td>39</td>\n",
       "      <td>c95d8a616d</td>\n",
       "      <td>62</td>\n",
       "    </tr>\n",
       "    <tr>\n",
       "      <td>154868</td>\n",
       "      <td>2017-05-25 03:33:14</td>\n",
       "      <td>39</td>\n",
       "      <td>c95d8a616d</td>\n",
       "      <td>62</td>\n",
       "    </tr>\n",
       "  </tbody>\n",
       "</table>\n",
       "</div>"
      ],
      "text/plain": [
       "                        DT  store_id     card_id  amount\n",
       "154865 2017-05-25 03:26:51        39  c95d8a616d      62\n",
       "154866 2017-05-25 03:27:28        39  c95d8a616d      62\n",
       "154867 2017-05-25 03:32:18        39  c95d8a616d      62\n",
       "154868 2017-05-25 03:33:14        39  c95d8a616d      62"
      ]
     },
     "execution_count": 105,
     "metadata": {},
     "output_type": "execute_result"
    }
   ],
   "source": [
    "range_df"
   ]
  },
  {
   "cell_type": "code",
   "execution_count": 106,
   "metadata": {
    "ExecuteTime": {
     "end_time": "2020-07-02T06:06:58.009281Z",
     "start_time": "2020-07-02T06:06:58.005288Z"
    }
   },
   "outputs": [],
   "source": [
    "#동일한 금액이 있는 경우\n",
    "if len(same_df)>=1:\n",
    "    same_index = same_df.index\n",
    "    error_index = same_index.max()  #최근날짜의 index를 추출\n",
    "    if error_index in err_dic.keys(): #그 index가 이미 key값을 가지고 있는지 확인\n",
    "        same_index = list(same_index)\n",
    "        same_index.reverse()\n",
    "        for dex in same_index[1:]: \n",
    "            error_index = dex\n",
    "            if error_index not in err_dic.keys():\n",
    "                break\n",
    "        if error_index in err_dic.keys(): #모든 인덱스를 비교하고도 key값에 있다면 not_match에 저장\n",
    "            error_index = np.nan\n",
    "            not_match.append(minus_index)\n",
    "    try :\n",
    "        err_dic[error_index] = minus_amount\n",
    "        check_list.append(error_index)\n",
    "    except :\n",
    "        pass"
   ]
  },
  {
   "cell_type": "code",
   "execution_count": 108,
   "metadata": {
    "ExecuteTime": {
     "end_time": "2020-07-02T06:07:10.112146Z",
     "start_time": "2020-07-02T06:07:10.108145Z"
    }
   },
   "outputs": [
    {
     "data": {
      "text/plain": [
       "154867"
      ]
     },
     "execution_count": 108,
     "metadata": {},
     "output_type": "execute_result"
    }
   ],
   "source": [
    "error_index"
   ]
  },
  {
   "cell_type": "code",
   "execution_count": 107,
   "metadata": {
    "ExecuteTime": {
     "end_time": "2020-07-02T06:07:05.136169Z",
     "start_time": "2020-07-02T06:07:05.132169Z"
    }
   },
   "outputs": [
    {
     "data": {
      "text/plain": [
       "-62"
      ]
     },
     "execution_count": 107,
     "metadata": {},
     "output_type": "execute_result"
    }
   ],
   "source": [
    "err_dic[error_index]"
   ]
  },
  {
   "cell_type": "code",
   "execution_count": 110,
   "metadata": {
    "ExecuteTime": {
     "end_time": "2020-07-02T06:13:17.713459Z",
     "start_time": "2020-07-02T06:13:17.702457Z"
    }
   },
   "outputs": [
    {
     "data": {
      "text/html": [
       "<div>\n",
       "<style scoped>\n",
       "    .dataframe tbody tr th:only-of-type {\n",
       "        vertical-align: middle;\n",
       "    }\n",
       "\n",
       "    .dataframe tbody tr th {\n",
       "        vertical-align: top;\n",
       "    }\n",
       "\n",
       "    .dataframe thead th {\n",
       "        text-align: right;\n",
       "    }\n",
       "</style>\n",
       "<table border=\"1\" class=\"dataframe\">\n",
       "  <thead>\n",
       "    <tr style=\"text-align: right;\">\n",
       "      <th></th>\n",
       "      <th>DT</th>\n",
       "      <th>store_id</th>\n",
       "      <th>card_id</th>\n",
       "      <th>amount</th>\n",
       "    </tr>\n",
       "  </thead>\n",
       "  <tbody>\n",
       "    <tr>\n",
       "      <td>400700</td>\n",
       "      <td>2016-08-01 17:56:07</td>\n",
       "      <td>138</td>\n",
       "      <td>65be030b0f</td>\n",
       "      <td>-180</td>\n",
       "    </tr>\n",
       "    <tr>\n",
       "      <td>400700</td>\n",
       "      <td>2016-08-01 17:56:07</td>\n",
       "      <td>138</td>\n",
       "      <td>65be030b0f</td>\n",
       "      <td>-180</td>\n",
       "    </tr>\n",
       "    <tr>\n",
       "      <td>553095</td>\n",
       "      <td>2016-08-16 19:53:30</td>\n",
       "      <td>216</td>\n",
       "      <td>8a3dc45eaa</td>\n",
       "      <td>-915</td>\n",
       "    </tr>\n",
       "    <tr>\n",
       "      <td>702984</td>\n",
       "      <td>2016-08-02 12:08:26</td>\n",
       "      <td>284</td>\n",
       "      <td>3c71002f18</td>\n",
       "      <td>-197</td>\n",
       "    </tr>\n",
       "    <tr>\n",
       "      <td>702984</td>\n",
       "      <td>2016-08-02 12:08:26</td>\n",
       "      <td>284</td>\n",
       "      <td>3c71002f18</td>\n",
       "      <td>-197</td>\n",
       "    </tr>\n",
       "    <tr>\n",
       "      <td>1200075</td>\n",
       "      <td>2016-08-01 18:43:39</td>\n",
       "      <td>508</td>\n",
       "      <td>7e74575056</td>\n",
       "      <td>-330</td>\n",
       "    </tr>\n",
       "    <tr>\n",
       "      <td>1200075</td>\n",
       "      <td>2016-08-01 18:43:39</td>\n",
       "      <td>508</td>\n",
       "      <td>7e74575056</td>\n",
       "      <td>-330</td>\n",
       "    </tr>\n",
       "    <tr>\n",
       "      <td>1886600</td>\n",
       "      <td>2016-08-29 14:12:16</td>\n",
       "      <td>958</td>\n",
       "      <td>610fa6d878</td>\n",
       "      <td>-1590</td>\n",
       "    </tr>\n",
       "    <tr>\n",
       "      <td>1886600</td>\n",
       "      <td>2016-08-29 14:12:16</td>\n",
       "      <td>958</td>\n",
       "      <td>610fa6d878</td>\n",
       "      <td>-1590</td>\n",
       "    </tr>\n",
       "    <tr>\n",
       "      <td>1886601</td>\n",
       "      <td>2016-08-29 14:12:29</td>\n",
       "      <td>958</td>\n",
       "      <td>610fa6d878</td>\n",
       "      <td>-50</td>\n",
       "    </tr>\n",
       "    <tr>\n",
       "      <td>1886601</td>\n",
       "      <td>2016-08-29 14:12:29</td>\n",
       "      <td>958</td>\n",
       "      <td>610fa6d878</td>\n",
       "      <td>-50</td>\n",
       "    </tr>\n",
       "    <tr>\n",
       "      <td>1887484</td>\n",
       "      <td>2016-11-08 19:35:27</td>\n",
       "      <td>958</td>\n",
       "      <td>a7416614f6</td>\n",
       "      <td>-145</td>\n",
       "    </tr>\n",
       "    <tr>\n",
       "      <td>1887485</td>\n",
       "      <td>2016-11-08 19:35:27</td>\n",
       "      <td>958</td>\n",
       "      <td>a7416614f6</td>\n",
       "      <td>-145</td>\n",
       "    </tr>\n",
       "    <tr>\n",
       "      <td>1887488</td>\n",
       "      <td>2016-11-08 19:35:35</td>\n",
       "      <td>958</td>\n",
       "      <td>a7416614f6</td>\n",
       "      <td>-821</td>\n",
       "    </tr>\n",
       "    <tr>\n",
       "      <td>1887489</td>\n",
       "      <td>2016-11-08 19:35:35</td>\n",
       "      <td>958</td>\n",
       "      <td>a7416614f6</td>\n",
       "      <td>-301</td>\n",
       "    </tr>\n",
       "    <tr>\n",
       "      <td>1887490</td>\n",
       "      <td>2016-11-08 19:35:35</td>\n",
       "      <td>958</td>\n",
       "      <td>a7416614f6</td>\n",
       "      <td>-301</td>\n",
       "    </tr>\n",
       "    <tr>\n",
       "      <td>1887491</td>\n",
       "      <td>2016-11-08 19:35:35</td>\n",
       "      <td>958</td>\n",
       "      <td>a7416614f6</td>\n",
       "      <td>-191</td>\n",
       "    </tr>\n",
       "    <tr>\n",
       "      <td>1887492</td>\n",
       "      <td>2016-11-08 19:35:35</td>\n",
       "      <td>958</td>\n",
       "      <td>a7416614f6</td>\n",
       "      <td>-145</td>\n",
       "    </tr>\n",
       "    <tr>\n",
       "      <td>1887510</td>\n",
       "      <td>2016-11-09 19:25:52</td>\n",
       "      <td>958</td>\n",
       "      <td>a7416614f6</td>\n",
       "      <td>-107</td>\n",
       "    </tr>\n",
       "    <tr>\n",
       "      <td>1887511</td>\n",
       "      <td>2016-11-09 19:25:53</td>\n",
       "      <td>958</td>\n",
       "      <td>a7416614f6</td>\n",
       "      <td>-107</td>\n",
       "    </tr>\n",
       "    <tr>\n",
       "      <td>2785057</td>\n",
       "      <td>2016-08-04 19:37:01</td>\n",
       "      <td>1478</td>\n",
       "      <td>8589f5980e</td>\n",
       "      <td>-11250</td>\n",
       "    </tr>\n",
       "    <tr>\n",
       "      <td>3291183</td>\n",
       "      <td>2016-12-27 19:41:03</td>\n",
       "      <td>1760</td>\n",
       "      <td>c43fee0edb</td>\n",
       "      <td>-4980</td>\n",
       "    </tr>\n",
       "    <tr>\n",
       "      <td>3291183</td>\n",
       "      <td>2016-12-27 19:41:03</td>\n",
       "      <td>1760</td>\n",
       "      <td>c43fee0edb</td>\n",
       "      <td>-4980</td>\n",
       "    </tr>\n",
       "    <tr>\n",
       "      <td>3300080</td>\n",
       "      <td>2016-08-02 17:50:19</td>\n",
       "      <td>1769</td>\n",
       "      <td>5c127f94cd</td>\n",
       "      <td>-190</td>\n",
       "    </tr>\n",
       "    <tr>\n",
       "      <td>3300080</td>\n",
       "      <td>2016-08-02 17:50:19</td>\n",
       "      <td>1769</td>\n",
       "      <td>5c127f94cd</td>\n",
       "      <td>-190</td>\n",
       "    </tr>\n",
       "  </tbody>\n",
       "</table>\n",
       "</div>"
      ],
      "text/plain": [
       "                         DT  store_id     card_id  amount\n",
       "400700  2016-08-01 17:56:07       138  65be030b0f    -180\n",
       "400700  2016-08-01 17:56:07       138  65be030b0f    -180\n",
       "553095  2016-08-16 19:53:30       216  8a3dc45eaa    -915\n",
       "702984  2016-08-02 12:08:26       284  3c71002f18    -197\n",
       "702984  2016-08-02 12:08:26       284  3c71002f18    -197\n",
       "1200075 2016-08-01 18:43:39       508  7e74575056    -330\n",
       "1200075 2016-08-01 18:43:39       508  7e74575056    -330\n",
       "1886600 2016-08-29 14:12:16       958  610fa6d878   -1590\n",
       "1886600 2016-08-29 14:12:16       958  610fa6d878   -1590\n",
       "1886601 2016-08-29 14:12:29       958  610fa6d878     -50\n",
       "1886601 2016-08-29 14:12:29       958  610fa6d878     -50\n",
       "1887484 2016-11-08 19:35:27       958  a7416614f6    -145\n",
       "1887485 2016-11-08 19:35:27       958  a7416614f6    -145\n",
       "1887488 2016-11-08 19:35:35       958  a7416614f6    -821\n",
       "1887489 2016-11-08 19:35:35       958  a7416614f6    -301\n",
       "1887490 2016-11-08 19:35:35       958  a7416614f6    -301\n",
       "1887491 2016-11-08 19:35:35       958  a7416614f6    -191\n",
       "1887492 2016-11-08 19:35:35       958  a7416614f6    -145\n",
       "1887510 2016-11-09 19:25:52       958  a7416614f6    -107\n",
       "1887511 2016-11-09 19:25:53       958  a7416614f6    -107\n",
       "2785057 2016-08-04 19:37:01      1478  8589f5980e  -11250\n",
       "3291183 2016-12-27 19:41:03      1760  c43fee0edb   -4980\n",
       "3291183 2016-12-27 19:41:03      1760  c43fee0edb   -4980\n",
       "3300080 2016-08-02 17:50:19      1769  5c127f94cd    -190\n",
       "3300080 2016-08-02 17:50:19      1769  5c127f94cd    -190"
      ]
     },
     "execution_count": 110,
     "metadata": {},
     "output_type": "execute_result"
    }
   ],
   "source": [
    "minus_amount_df.loc[not_match]"
   ]
  },
  {
   "cell_type": "code",
   "execution_count": 111,
   "metadata": {
    "ExecuteTime": {
     "end_time": "2020-07-02T06:14:20.841164Z",
     "start_time": "2020-07-02T06:14:20.835163Z"
    }
   },
   "outputs": [],
   "source": [
    "s_id = 958\n",
    "c_id = '610fa6d878'"
   ]
  },
  {
   "cell_type": "code",
   "execution_count": 112,
   "metadata": {
    "ExecuteTime": {
     "end_time": "2020-07-02T06:14:31.164024Z",
     "start_time": "2020-07-02T06:14:30.834954Z"
    }
   },
   "outputs": [
    {
     "data": {
      "text/html": [
       "<div>\n",
       "<style scoped>\n",
       "    .dataframe tbody tr th:only-of-type {\n",
       "        vertical-align: middle;\n",
       "    }\n",
       "\n",
       "    .dataframe tbody tr th {\n",
       "        vertical-align: top;\n",
       "    }\n",
       "\n",
       "    .dataframe thead th {\n",
       "        text-align: right;\n",
       "    }\n",
       "</style>\n",
       "<table border=\"1\" class=\"dataframe\">\n",
       "  <thead>\n",
       "    <tr style=\"text-align: right;\">\n",
       "      <th></th>\n",
       "      <th>DT</th>\n",
       "      <th>store_id</th>\n",
       "      <th>card_id</th>\n",
       "      <th>amount</th>\n",
       "    </tr>\n",
       "  </thead>\n",
       "  <tbody>\n",
       "    <tr>\n",
       "      <td>1886603</td>\n",
       "      <td>2016-08-29 15:14:06</td>\n",
       "      <td>958</td>\n",
       "      <td>610fa6d878</td>\n",
       "      <td>1640</td>\n",
       "    </tr>\n",
       "    <tr>\n",
       "      <td>1886604</td>\n",
       "      <td>2016-08-29 15:14:42</td>\n",
       "      <td>958</td>\n",
       "      <td>610fa6d878</td>\n",
       "      <td>31</td>\n",
       "    </tr>\n",
       "    <tr>\n",
       "      <td>1886605</td>\n",
       "      <td>2016-08-29 15:21:57</td>\n",
       "      <td>958</td>\n",
       "      <td>610fa6d878</td>\n",
       "      <td>56</td>\n",
       "    </tr>\n",
       "  </tbody>\n",
       "</table>\n",
       "</div>"
      ],
      "text/plain": [
       "                         DT  store_id     card_id  amount\n",
       "1886603 2016-08-29 15:14:06       958  610fa6d878    1640\n",
       "1886604 2016-08-29 15:14:42       958  610fa6d878      31\n",
       "1886605 2016-08-29 15:21:57       958  610fa6d878      56"
      ]
     },
     "execution_count": 112,
     "metadata": {},
     "output_type": "execute_result"
    }
   ],
   "source": [
    "p_day = plus_amount_df[(plus_amount_df.store_id == s_id)&(plus_amount_df.card_id == c_id)]['DT'].iloc[0]\n",
    "plus_amount_df[(plus_amount_df.store_id == s_id)&(plus_amount_df.card_id == c_id)]"
   ]
  },
  {
   "cell_type": "code",
   "execution_count": 30,
   "metadata": {
    "ExecuteTime": {
     "end_time": "2020-07-02T05:33:53.919774Z",
     "start_time": "2020-07-02T05:33:53.899768Z"
    }
   },
   "outputs": [
    {
     "data": {
      "text/html": [
       "<div>\n",
       "<style scoped>\n",
       "    .dataframe tbody tr th:only-of-type {\n",
       "        vertical-align: middle;\n",
       "    }\n",
       "\n",
       "    .dataframe tbody tr th {\n",
       "        vertical-align: top;\n",
       "    }\n",
       "\n",
       "    .dataframe thead th {\n",
       "        text-align: right;\n",
       "    }\n",
       "</style>\n",
       "<table border=\"1\" class=\"dataframe\">\n",
       "  <thead>\n",
       "    <tr style=\"text-align: right;\">\n",
       "      <th></th>\n",
       "      <th>DT</th>\n",
       "      <th>store_id</th>\n",
       "      <th>card_id</th>\n",
       "      <th>amount</th>\n",
       "    </tr>\n",
       "  </thead>\n",
       "  <tbody>\n",
       "    <tr>\n",
       "      <td>154871</td>\n",
       "      <td>2017-05-25 23:19:28</td>\n",
       "      <td>39</td>\n",
       "      <td>c95d8a616d</td>\n",
       "      <td>-62</td>\n",
       "    </tr>\n",
       "    <tr>\n",
       "      <td>154872</td>\n",
       "      <td>2017-05-25 23:19:28</td>\n",
       "      <td>39</td>\n",
       "      <td>c95d8a616d</td>\n",
       "      <td>-62</td>\n",
       "    </tr>\n",
       "    <tr>\n",
       "      <td>154877</td>\n",
       "      <td>2017-05-26 14:39:27</td>\n",
       "      <td>39</td>\n",
       "      <td>c95d8a616d</td>\n",
       "      <td>-62</td>\n",
       "    </tr>\n",
       "    <tr>\n",
       "      <td>154878</td>\n",
       "      <td>2017-05-26 14:39:30</td>\n",
       "      <td>39</td>\n",
       "      <td>c95d8a616d</td>\n",
       "      <td>-62</td>\n",
       "    </tr>\n",
       "  </tbody>\n",
       "</table>\n",
       "</div>"
      ],
      "text/plain": [
       "                        DT  store_id     card_id  amount\n",
       "154871 2017-05-25 23:19:28        39  c95d8a616d     -62\n",
       "154872 2017-05-25 23:19:28        39  c95d8a616d     -62\n",
       "154877 2017-05-26 14:39:27        39  c95d8a616d     -62\n",
       "154878 2017-05-26 14:39:30        39  c95d8a616d     -62"
      ]
     },
     "execution_count": 30,
     "metadata": {},
     "output_type": "execute_result"
    }
   ],
   "source": [
    "m_day = minus_amount_df[(minus_amount_df.store_id == 39)&(minus_amount_df.card_id == 'c95d8a616d')]['DT'].iloc[0]\n",
    "minus_amount_df[(minus_amount_df.store_id == 39)&(minus_amount_df.card_id == 'c95d8a616d')]"
   ]
  },
  {
   "cell_type": "markdown",
   "metadata": {},
   "source": [
    "### 검증"
   ]
  },
  {
   "cell_type": "code",
   "execution_count": 14,
   "metadata": {
    "ExecuteTime": {
     "end_time": "2020-07-02T02:03:10.801237Z",
     "start_time": "2020-07-02T02:03:10.797236Z"
    }
   },
   "outputs": [],
   "source": [
    "i = 929475"
   ]
  },
  {
   "cell_type": "code",
   "execution_count": 15,
   "metadata": {
    "ExecuteTime": {
     "end_time": "2020-07-02T02:03:11.367413Z",
     "start_time": "2020-07-02T02:03:11.350410Z"
    }
   },
   "outputs": [
    {
     "data": {
      "text/plain": [
       "DT          2017-03-30 14:32:49\n",
       "store_id                    370\n",
       "card_id              46a88eb161\n",
       "amount                   135980\n",
       "Name: 929475, dtype: object"
      ]
     },
     "execution_count": 15,
     "metadata": {},
     "output_type": "execute_result"
    }
   ],
   "source": [
    "check_store = plus_amount_df.loc[i]['store_id']\n",
    "check_card = plus_amount_df.loc[i]['card_id']\n",
    "check_amount = plus_amount_df.loc[i]['amount']\n",
    "check_DT = plus_amount_df.loc[i]['DT']\n",
    "plus_amount_df.loc[i]"
   ]
  },
  {
   "cell_type": "code",
   "execution_count": 17,
   "metadata": {
    "ExecuteTime": {
     "end_time": "2020-07-02T02:04:39.824438Z",
     "start_time": "2020-07-02T02:04:39.813414Z"
    }
   },
   "outputs": [],
   "source": [
    "range_df= minus_amount_df[(minus_amount_df.store_id == check_store)&(minus_amount_df.card_id == check_card)]"
   ]
  },
  {
   "cell_type": "code",
   "execution_count": 19,
   "metadata": {
    "ExecuteTime": {
     "end_time": "2020-07-02T02:05:24.500638Z",
     "start_time": "2020-07-02T02:05:24.305825Z"
    }
   },
   "outputs": [
    {
     "data": {
      "text/html": [
       "<div>\n",
       "<style scoped>\n",
       "    .dataframe tbody tr th:only-of-type {\n",
       "        vertical-align: middle;\n",
       "    }\n",
       "\n",
       "    .dataframe tbody tr th {\n",
       "        vertical-align: top;\n",
       "    }\n",
       "\n",
       "    .dataframe thead th {\n",
       "        text-align: right;\n",
       "    }\n",
       "</style>\n",
       "<table border=\"1\" class=\"dataframe\">\n",
       "  <thead>\n",
       "    <tr style=\"text-align: right;\">\n",
       "      <th></th>\n",
       "      <th>DT</th>\n",
       "      <th>store_id</th>\n",
       "      <th>card_id</th>\n",
       "      <th>amount</th>\n",
       "    </tr>\n",
       "  </thead>\n",
       "  <tbody>\n",
       "    <tr>\n",
       "      <td>929475</td>\n",
       "      <td>2017-03-30 14:32:49</td>\n",
       "      <td>370</td>\n",
       "      <td>46a88eb161</td>\n",
       "      <td>135980</td>\n",
       "    </tr>\n",
       "    <tr>\n",
       "      <td>929477</td>\n",
       "      <td>2017-04-17 16:01:00</td>\n",
       "      <td>370</td>\n",
       "      <td>46a88eb161</td>\n",
       "      <td>89180</td>\n",
       "    </tr>\n",
       "    <tr>\n",
       "      <td>929478</td>\n",
       "      <td>2017-04-18 13:03:18</td>\n",
       "      <td>370</td>\n",
       "      <td>46a88eb161</td>\n",
       "      <td>52000</td>\n",
       "    </tr>\n",
       "    <tr>\n",
       "      <td>929479</td>\n",
       "      <td>2017-04-18 13:03:55</td>\n",
       "      <td>370</td>\n",
       "      <td>46a88eb161</td>\n",
       "      <td>52000</td>\n",
       "    </tr>\n",
       "    <tr>\n",
       "      <td>929482</td>\n",
       "      <td>2017-05-17 10:47:41</td>\n",
       "      <td>370</td>\n",
       "      <td>46a88eb161</td>\n",
       "      <td>50000</td>\n",
       "    </tr>\n",
       "    <tr>\n",
       "      <td>...</td>\n",
       "      <td>...</td>\n",
       "      <td>...</td>\n",
       "      <td>...</td>\n",
       "      <td>...</td>\n",
       "    </tr>\n",
       "    <tr>\n",
       "      <td>929594</td>\n",
       "      <td>2017-10-26 16:25:11</td>\n",
       "      <td>370</td>\n",
       "      <td>46a88eb161</td>\n",
       "      <td>50000</td>\n",
       "    </tr>\n",
       "    <tr>\n",
       "      <td>929595</td>\n",
       "      <td>2017-10-26 16:25:41</td>\n",
       "      <td>370</td>\n",
       "      <td>46a88eb161</td>\n",
       "      <td>50000</td>\n",
       "    </tr>\n",
       "    <tr>\n",
       "      <td>929596</td>\n",
       "      <td>2017-10-26 16:26:13</td>\n",
       "      <td>370</td>\n",
       "      <td>46a88eb161</td>\n",
       "      <td>50000</td>\n",
       "    </tr>\n",
       "    <tr>\n",
       "      <td>929597</td>\n",
       "      <td>2017-10-26 16:26:44</td>\n",
       "      <td>370</td>\n",
       "      <td>46a88eb161</td>\n",
       "      <td>50000</td>\n",
       "    </tr>\n",
       "    <tr>\n",
       "      <td>929598</td>\n",
       "      <td>2017-10-26 16:28:00</td>\n",
       "      <td>370</td>\n",
       "      <td>46a88eb161</td>\n",
       "      <td>10400</td>\n",
       "    </tr>\n",
       "  </tbody>\n",
       "</table>\n",
       "<p>67 rows × 4 columns</p>\n",
       "</div>"
      ],
      "text/plain": [
       "                        DT  store_id     card_id  amount\n",
       "929475 2017-03-30 14:32:49       370  46a88eb161  135980\n",
       "929477 2017-04-17 16:01:00       370  46a88eb161   89180\n",
       "929478 2017-04-18 13:03:18       370  46a88eb161   52000\n",
       "929479 2017-04-18 13:03:55       370  46a88eb161   52000\n",
       "929482 2017-05-17 10:47:41       370  46a88eb161   50000\n",
       "...                    ...       ...         ...     ...\n",
       "929594 2017-10-26 16:25:11       370  46a88eb161   50000\n",
       "929595 2017-10-26 16:25:41       370  46a88eb161   50000\n",
       "929596 2017-10-26 16:26:13       370  46a88eb161   50000\n",
       "929597 2017-10-26 16:26:44       370  46a88eb161   50000\n",
       "929598 2017-10-26 16:28:00       370  46a88eb161   10400\n",
       "\n",
       "[67 rows x 4 columns]"
      ]
     },
     "execution_count": 19,
     "metadata": {},
     "output_type": "execute_result"
    }
   ],
   "source": [
    "plus_amount_df[(plus_amount_df.store_id == check_store)&(plus_amount_df.card_id == check_card)]"
   ]
  },
  {
   "cell_type": "code",
   "execution_count": 18,
   "metadata": {
    "ExecuteTime": {
     "end_time": "2020-07-02T02:04:42.890374Z",
     "start_time": "2020-07-02T02:04:42.878372Z"
    }
   },
   "outputs": [
    {
     "data": {
      "text/html": [
       "<div>\n",
       "<style scoped>\n",
       "    .dataframe tbody tr th:only-of-type {\n",
       "        vertical-align: middle;\n",
       "    }\n",
       "\n",
       "    .dataframe tbody tr th {\n",
       "        vertical-align: top;\n",
       "    }\n",
       "\n",
       "    .dataframe thead th {\n",
       "        text-align: right;\n",
       "    }\n",
       "</style>\n",
       "<table border=\"1\" class=\"dataframe\">\n",
       "  <thead>\n",
       "    <tr style=\"text-align: right;\">\n",
       "      <th></th>\n",
       "      <th>DT</th>\n",
       "      <th>store_id</th>\n",
       "      <th>card_id</th>\n",
       "      <th>amount</th>\n",
       "    </tr>\n",
       "  </thead>\n",
       "  <tbody>\n",
       "    <tr>\n",
       "      <td>929489</td>\n",
       "      <td>2017-06-08 11:44:35</td>\n",
       "      <td>370</td>\n",
       "      <td>46a88eb161</td>\n",
       "      <td>-135980</td>\n",
       "    </tr>\n",
       "    <tr>\n",
       "      <td>929490</td>\n",
       "      <td>2017-06-12 18:27:24</td>\n",
       "      <td>370</td>\n",
       "      <td>46a88eb161</td>\n",
       "      <td>-52000</td>\n",
       "    </tr>\n",
       "    <tr>\n",
       "      <td>929491</td>\n",
       "      <td>2017-06-12 18:28:09</td>\n",
       "      <td>370</td>\n",
       "      <td>46a88eb161</td>\n",
       "      <td>-52000</td>\n",
       "    </tr>\n",
       "    <tr>\n",
       "      <td>929502</td>\n",
       "      <td>2017-07-03 15:42:08</td>\n",
       "      <td>370</td>\n",
       "      <td>46a88eb161</td>\n",
       "      <td>-89180</td>\n",
       "    </tr>\n",
       "    <tr>\n",
       "      <td>929503</td>\n",
       "      <td>2017-07-04 21:39:08</td>\n",
       "      <td>370</td>\n",
       "      <td>46a88eb161</td>\n",
       "      <td>-10313</td>\n",
       "    </tr>\n",
       "    <tr>\n",
       "      <td>929504</td>\n",
       "      <td>2017-07-04 21:40:03</td>\n",
       "      <td>370</td>\n",
       "      <td>46a88eb161</td>\n",
       "      <td>-10313</td>\n",
       "    </tr>\n",
       "    <tr>\n",
       "      <td>929505</td>\n",
       "      <td>2017-07-05 13:00:47</td>\n",
       "      <td>370</td>\n",
       "      <td>46a88eb161</td>\n",
       "      <td>-10313</td>\n",
       "    </tr>\n",
       "    <tr>\n",
       "      <td>929506</td>\n",
       "      <td>2017-07-05 13:01:48</td>\n",
       "      <td>370</td>\n",
       "      <td>46a88eb161</td>\n",
       "      <td>-10313</td>\n",
       "    </tr>\n",
       "    <tr>\n",
       "      <td>929507</td>\n",
       "      <td>2017-07-05 13:03:05</td>\n",
       "      <td>370</td>\n",
       "      <td>46a88eb161</td>\n",
       "      <td>-1650</td>\n",
       "    </tr>\n",
       "    <tr>\n",
       "      <td>929508</td>\n",
       "      <td>2017-07-05 22:57:22</td>\n",
       "      <td>370</td>\n",
       "      <td>46a88eb161</td>\n",
       "      <td>-50000</td>\n",
       "    </tr>\n",
       "    <tr>\n",
       "      <td>929509</td>\n",
       "      <td>2017-07-06 11:44:35</td>\n",
       "      <td>370</td>\n",
       "      <td>46a88eb161</td>\n",
       "      <td>-26800</td>\n",
       "    </tr>\n",
       "    <tr>\n",
       "      <td>929511</td>\n",
       "      <td>2017-07-06 18:35:12</td>\n",
       "      <td>370</td>\n",
       "      <td>46a88eb161</td>\n",
       "      <td>-1746</td>\n",
       "    </tr>\n",
       "    <tr>\n",
       "      <td>929512</td>\n",
       "      <td>2017-07-06 18:36:22</td>\n",
       "      <td>370</td>\n",
       "      <td>46a88eb161</td>\n",
       "      <td>-13658</td>\n",
       "    </tr>\n",
       "    <tr>\n",
       "      <td>929513</td>\n",
       "      <td>2017-07-07 13:30:38</td>\n",
       "      <td>370</td>\n",
       "      <td>46a88eb161</td>\n",
       "      <td>-15000</td>\n",
       "    </tr>\n",
       "    <tr>\n",
       "      <td>929514</td>\n",
       "      <td>2017-07-07 13:31:26</td>\n",
       "      <td>370</td>\n",
       "      <td>46a88eb161</td>\n",
       "      <td>-15000</td>\n",
       "    </tr>\n",
       "    <tr>\n",
       "      <td>929515</td>\n",
       "      <td>2017-07-07 20:01:44</td>\n",
       "      <td>370</td>\n",
       "      <td>46a88eb161</td>\n",
       "      <td>-50000</td>\n",
       "    </tr>\n",
       "    <tr>\n",
       "      <td>929521</td>\n",
       "      <td>2017-07-10 12:02:15</td>\n",
       "      <td>370</td>\n",
       "      <td>46a88eb161</td>\n",
       "      <td>-50000</td>\n",
       "    </tr>\n",
       "    <tr>\n",
       "      <td>929542</td>\n",
       "      <td>2017-08-10 19:21:42</td>\n",
       "      <td>370</td>\n",
       "      <td>46a88eb161</td>\n",
       "      <td>-2539</td>\n",
       "    </tr>\n",
       "    <tr>\n",
       "      <td>929543</td>\n",
       "      <td>2017-08-10 19:22:28</td>\n",
       "      <td>370</td>\n",
       "      <td>46a88eb161</td>\n",
       "      <td>-17953</td>\n",
       "    </tr>\n",
       "    <tr>\n",
       "      <td>929544</td>\n",
       "      <td>2017-08-10 19:23:07</td>\n",
       "      <td>370</td>\n",
       "      <td>46a88eb161</td>\n",
       "      <td>-15000</td>\n",
       "    </tr>\n",
       "    <tr>\n",
       "      <td>929545</td>\n",
       "      <td>2017-08-10 19:24:06</td>\n",
       "      <td>370</td>\n",
       "      <td>46a88eb161</td>\n",
       "      <td>-15000</td>\n",
       "    </tr>\n",
       "    <tr>\n",
       "      <td>929546</td>\n",
       "      <td>2017-08-10 19:24:55</td>\n",
       "      <td>370</td>\n",
       "      <td>46a88eb161</td>\n",
       "      <td>-15000</td>\n",
       "    </tr>\n",
       "    <tr>\n",
       "      <td>929547</td>\n",
       "      <td>2017-08-12 11:32:52</td>\n",
       "      <td>370</td>\n",
       "      <td>46a88eb161</td>\n",
       "      <td>-5824</td>\n",
       "    </tr>\n",
       "    <tr>\n",
       "      <td>929548</td>\n",
       "      <td>2017-08-12 11:33:42</td>\n",
       "      <td>370</td>\n",
       "      <td>46a88eb161</td>\n",
       "      <td>-20000</td>\n",
       "    </tr>\n",
       "    <tr>\n",
       "      <td>929549</td>\n",
       "      <td>2017-08-12 11:34:36</td>\n",
       "      <td>370</td>\n",
       "      <td>46a88eb161</td>\n",
       "      <td>-20000</td>\n",
       "    </tr>\n",
       "    <tr>\n",
       "      <td>929550</td>\n",
       "      <td>2017-08-12 11:35:18</td>\n",
       "      <td>370</td>\n",
       "      <td>46a88eb161</td>\n",
       "      <td>-20000</td>\n",
       "    </tr>\n",
       "    <tr>\n",
       "      <td>929551</td>\n",
       "      <td>2017-08-12 11:35:58</td>\n",
       "      <td>370</td>\n",
       "      <td>46a88eb161</td>\n",
       "      <td>-20000</td>\n",
       "    </tr>\n",
       "    <tr>\n",
       "      <td>929552</td>\n",
       "      <td>2017-08-12 11:36:49</td>\n",
       "      <td>370</td>\n",
       "      <td>46a88eb161</td>\n",
       "      <td>-20000</td>\n",
       "    </tr>\n",
       "    <tr>\n",
       "      <td>929553</td>\n",
       "      <td>2017-08-12 11:37:32</td>\n",
       "      <td>370</td>\n",
       "      <td>46a88eb161</td>\n",
       "      <td>-20000</td>\n",
       "    </tr>\n",
       "    <tr>\n",
       "      <td>929554</td>\n",
       "      <td>2017-08-12 11:38:25</td>\n",
       "      <td>370</td>\n",
       "      <td>46a88eb161</td>\n",
       "      <td>-20000</td>\n",
       "    </tr>\n",
       "    <tr>\n",
       "      <td>929555</td>\n",
       "      <td>2017-08-12 11:39:34</td>\n",
       "      <td>370</td>\n",
       "      <td>46a88eb161</td>\n",
       "      <td>-12129</td>\n",
       "    </tr>\n",
       "    <tr>\n",
       "      <td>929556</td>\n",
       "      <td>2017-08-12 11:40:20</td>\n",
       "      <td>370</td>\n",
       "      <td>46a88eb161</td>\n",
       "      <td>-15000</td>\n",
       "    </tr>\n",
       "    <tr>\n",
       "      <td>929557</td>\n",
       "      <td>2017-08-12 11:40:56</td>\n",
       "      <td>370</td>\n",
       "      <td>46a88eb161</td>\n",
       "      <td>-15000</td>\n",
       "    </tr>\n",
       "    <tr>\n",
       "      <td>929558</td>\n",
       "      <td>2017-08-12 11:41:42</td>\n",
       "      <td>370</td>\n",
       "      <td>46a88eb161</td>\n",
       "      <td>-15000</td>\n",
       "    </tr>\n",
       "    <tr>\n",
       "      <td>929582</td>\n",
       "      <td>2017-09-30 13:22:13</td>\n",
       "      <td>370</td>\n",
       "      <td>46a88eb161</td>\n",
       "      <td>-25000</td>\n",
       "    </tr>\n",
       "    <tr>\n",
       "      <td>929583</td>\n",
       "      <td>2017-09-30 13:23:32</td>\n",
       "      <td>370</td>\n",
       "      <td>46a88eb161</td>\n",
       "      <td>-25000</td>\n",
       "    </tr>\n",
       "    <tr>\n",
       "      <td>929584</td>\n",
       "      <td>2017-09-30 13:24:23</td>\n",
       "      <td>370</td>\n",
       "      <td>46a88eb161</td>\n",
       "      <td>-25000</td>\n",
       "    </tr>\n",
       "    <tr>\n",
       "      <td>929585</td>\n",
       "      <td>2017-09-30 13:25:22</td>\n",
       "      <td>370</td>\n",
       "      <td>46a88eb161</td>\n",
       "      <td>-21095</td>\n",
       "    </tr>\n",
       "    <tr>\n",
       "      <td>929586</td>\n",
       "      <td>2017-09-30 13:25:55</td>\n",
       "      <td>370</td>\n",
       "      <td>46a88eb161</td>\n",
       "      <td>-3843</td>\n",
       "    </tr>\n",
       "    <tr>\n",
       "      <td>929587</td>\n",
       "      <td>2017-10-13 17:41:27</td>\n",
       "      <td>370</td>\n",
       "      <td>46a88eb161</td>\n",
       "      <td>-4925</td>\n",
       "    </tr>\n",
       "    <tr>\n",
       "      <td>929588</td>\n",
       "      <td>2017-10-13 17:42:29</td>\n",
       "      <td>370</td>\n",
       "      <td>46a88eb161</td>\n",
       "      <td>-18394</td>\n",
       "    </tr>\n",
       "    <tr>\n",
       "      <td>929589</td>\n",
       "      <td>2017-10-13 17:43:21</td>\n",
       "      <td>370</td>\n",
       "      <td>46a88eb161</td>\n",
       "      <td>-25000</td>\n",
       "    </tr>\n",
       "    <tr>\n",
       "      <td>929590</td>\n",
       "      <td>2017-10-13 17:44:19</td>\n",
       "      <td>370</td>\n",
       "      <td>46a88eb161</td>\n",
       "      <td>-25000</td>\n",
       "    </tr>\n",
       "    <tr>\n",
       "      <td>929591</td>\n",
       "      <td>2017-10-13 17:45:14</td>\n",
       "      <td>370</td>\n",
       "      <td>46a88eb161</td>\n",
       "      <td>-25000</td>\n",
       "    </tr>\n",
       "    <tr>\n",
       "      <td>929592</td>\n",
       "      <td>2017-10-13 17:46:15</td>\n",
       "      <td>370</td>\n",
       "      <td>46a88eb161</td>\n",
       "      <td>-25000</td>\n",
       "    </tr>\n",
       "    <tr>\n",
       "      <td>929599</td>\n",
       "      <td>2017-11-01 11:15:39</td>\n",
       "      <td>370</td>\n",
       "      <td>46a88eb161</td>\n",
       "      <td>-50000</td>\n",
       "    </tr>\n",
       "    <tr>\n",
       "      <td>929600</td>\n",
       "      <td>2017-11-03 21:26:44</td>\n",
       "      <td>370</td>\n",
       "      <td>46a88eb161</td>\n",
       "      <td>-10400</td>\n",
       "    </tr>\n",
       "    <tr>\n",
       "      <td>929621</td>\n",
       "      <td>2018-04-11 19:43:09</td>\n",
       "      <td>370</td>\n",
       "      <td>46a88eb161</td>\n",
       "      <td>-50000</td>\n",
       "    </tr>\n",
       "    <tr>\n",
       "      <td>929622</td>\n",
       "      <td>2018-04-11 19:43:09</td>\n",
       "      <td>370</td>\n",
       "      <td>46a88eb161</td>\n",
       "      <td>-50000</td>\n",
       "    </tr>\n",
       "    <tr>\n",
       "      <td>929623</td>\n",
       "      <td>2018-04-11 19:43:10</td>\n",
       "      <td>370</td>\n",
       "      <td>46a88eb161</td>\n",
       "      <td>-50000</td>\n",
       "    </tr>\n",
       "    <tr>\n",
       "      <td>929624</td>\n",
       "      <td>2018-04-11 19:43:10</td>\n",
       "      <td>370</td>\n",
       "      <td>46a88eb161</td>\n",
       "      <td>-50000</td>\n",
       "    </tr>\n",
       "  </tbody>\n",
       "</table>\n",
       "</div>"
      ],
      "text/plain": [
       "                        DT  store_id     card_id  amount\n",
       "929489 2017-06-08 11:44:35       370  46a88eb161 -135980\n",
       "929490 2017-06-12 18:27:24       370  46a88eb161  -52000\n",
       "929491 2017-06-12 18:28:09       370  46a88eb161  -52000\n",
       "929502 2017-07-03 15:42:08       370  46a88eb161  -89180\n",
       "929503 2017-07-04 21:39:08       370  46a88eb161  -10313\n",
       "929504 2017-07-04 21:40:03       370  46a88eb161  -10313\n",
       "929505 2017-07-05 13:00:47       370  46a88eb161  -10313\n",
       "929506 2017-07-05 13:01:48       370  46a88eb161  -10313\n",
       "929507 2017-07-05 13:03:05       370  46a88eb161   -1650\n",
       "929508 2017-07-05 22:57:22       370  46a88eb161  -50000\n",
       "929509 2017-07-06 11:44:35       370  46a88eb161  -26800\n",
       "929511 2017-07-06 18:35:12       370  46a88eb161   -1746\n",
       "929512 2017-07-06 18:36:22       370  46a88eb161  -13658\n",
       "929513 2017-07-07 13:30:38       370  46a88eb161  -15000\n",
       "929514 2017-07-07 13:31:26       370  46a88eb161  -15000\n",
       "929515 2017-07-07 20:01:44       370  46a88eb161  -50000\n",
       "929521 2017-07-10 12:02:15       370  46a88eb161  -50000\n",
       "929542 2017-08-10 19:21:42       370  46a88eb161   -2539\n",
       "929543 2017-08-10 19:22:28       370  46a88eb161  -17953\n",
       "929544 2017-08-10 19:23:07       370  46a88eb161  -15000\n",
       "929545 2017-08-10 19:24:06       370  46a88eb161  -15000\n",
       "929546 2017-08-10 19:24:55       370  46a88eb161  -15000\n",
       "929547 2017-08-12 11:32:52       370  46a88eb161   -5824\n",
       "929548 2017-08-12 11:33:42       370  46a88eb161  -20000\n",
       "929549 2017-08-12 11:34:36       370  46a88eb161  -20000\n",
       "929550 2017-08-12 11:35:18       370  46a88eb161  -20000\n",
       "929551 2017-08-12 11:35:58       370  46a88eb161  -20000\n",
       "929552 2017-08-12 11:36:49       370  46a88eb161  -20000\n",
       "929553 2017-08-12 11:37:32       370  46a88eb161  -20000\n",
       "929554 2017-08-12 11:38:25       370  46a88eb161  -20000\n",
       "929555 2017-08-12 11:39:34       370  46a88eb161  -12129\n",
       "929556 2017-08-12 11:40:20       370  46a88eb161  -15000\n",
       "929557 2017-08-12 11:40:56       370  46a88eb161  -15000\n",
       "929558 2017-08-12 11:41:42       370  46a88eb161  -15000\n",
       "929582 2017-09-30 13:22:13       370  46a88eb161  -25000\n",
       "929583 2017-09-30 13:23:32       370  46a88eb161  -25000\n",
       "929584 2017-09-30 13:24:23       370  46a88eb161  -25000\n",
       "929585 2017-09-30 13:25:22       370  46a88eb161  -21095\n",
       "929586 2017-09-30 13:25:55       370  46a88eb161   -3843\n",
       "929587 2017-10-13 17:41:27       370  46a88eb161   -4925\n",
       "929588 2017-10-13 17:42:29       370  46a88eb161  -18394\n",
       "929589 2017-10-13 17:43:21       370  46a88eb161  -25000\n",
       "929590 2017-10-13 17:44:19       370  46a88eb161  -25000\n",
       "929591 2017-10-13 17:45:14       370  46a88eb161  -25000\n",
       "929592 2017-10-13 17:46:15       370  46a88eb161  -25000\n",
       "929599 2017-11-01 11:15:39       370  46a88eb161  -50000\n",
       "929600 2017-11-03 21:26:44       370  46a88eb161  -10400\n",
       "929621 2018-04-11 19:43:09       370  46a88eb161  -50000\n",
       "929622 2018-04-11 19:43:09       370  46a88eb161  -50000\n",
       "929623 2018-04-11 19:43:10       370  46a88eb161  -50000\n",
       "929624 2018-04-11 19:43:10       370  46a88eb161  -50000"
      ]
     },
     "execution_count": 18,
     "metadata": {},
     "output_type": "execute_result"
    }
   ],
   "source": [
    "range_df"
   ]
  },
  {
   "cell_type": "code",
   "execution_count": 35,
   "metadata": {
    "ExecuteTime": {
     "end_time": "2020-07-02T01:53:05.817055Z",
     "start_time": "2020-07-02T01:53:05.814062Z"
    }
   },
   "outputs": [
    {
     "name": "stdout",
     "output_type": "stream",
     "text": [
      "82548\n"
     ]
    }
   ],
   "source": [
    "if len(range_df)>= 1:\n",
    "    range_index = range_df.index\n",
    "    error_index = range_index.max()\n",
    "    print(error_index)\n",
    "    if error_index in err_dic.keys():\n",
    "        range_index = list(range_index)\n",
    "        range_index.reverse()\n",
    "        for dex in range_index[1:]:\n",
    "            error_index = dex\n",
    "            print(error_index)\n",
    "            if error_index in err_dic.keys():\n",
    "                pass"
   ]
  },
  {
   "cell_type": "markdown",
   "metadata": {},
   "source": [
    "### 검증"
   ]
  },
  {
   "cell_type": "code",
   "execution_count": 41,
   "metadata": {
    "ExecuteTime": {
     "end_time": "2020-07-01T08:46:29.870726Z",
     "start_time": "2020-07-01T08:46:29.867718Z"
    }
   },
   "outputs": [],
   "source": [
    "i = 400700"
   ]
  },
  {
   "cell_type": "code",
   "execution_count": 42,
   "metadata": {
    "ExecuteTime": {
     "end_time": "2020-07-01T08:46:30.250804Z",
     "start_time": "2020-07-01T08:46:30.245802Z"
    }
   },
   "outputs": [
    {
     "data": {
      "text/plain": [
       "DT          2016-08-01 17:56:07\n",
       "store_id                    138\n",
       "card_id              65be030b0f\n",
       "amount                     -180\n",
       "Name: 400700, dtype: object"
      ]
     },
     "execution_count": 42,
     "metadata": {},
     "output_type": "execute_result"
    }
   ],
   "source": [
    "check_store = minus_amount_df.loc[i]['store_id']\n",
    "check_card = minus_amount_df.loc[i]['card_id']\n",
    "check_amount = minus_amount_df.loc[i]['amount']\n",
    "check_DT = minus_amount_df.loc[i]['DT']\n",
    "minus_amount_df.loc[i]"
   ]
  },
  {
   "cell_type": "code",
   "execution_count": 43,
   "metadata": {
    "ExecuteTime": {
     "end_time": "2020-07-01T08:46:31.361089Z",
     "start_time": "2020-07-01T08:46:31.349087Z"
    }
   },
   "outputs": [
    {
     "data": {
      "text/html": [
       "<div>\n",
       "<style scoped>\n",
       "    .dataframe tbody tr th:only-of-type {\n",
       "        vertical-align: middle;\n",
       "    }\n",
       "\n",
       "    .dataframe tbody tr th {\n",
       "        vertical-align: top;\n",
       "    }\n",
       "\n",
       "    .dataframe thead th {\n",
       "        text-align: right;\n",
       "    }\n",
       "</style>\n",
       "<table border=\"1\" class=\"dataframe\">\n",
       "  <thead>\n",
       "    <tr style=\"text-align: right;\">\n",
       "      <th></th>\n",
       "      <th>DT</th>\n",
       "      <th>store_id</th>\n",
       "      <th>card_id</th>\n",
       "      <th>amount</th>\n",
       "    </tr>\n",
       "  </thead>\n",
       "  <tbody>\n",
       "    <tr>\n",
       "      <td>400700</td>\n",
       "      <td>2016-08-01 17:56:07</td>\n",
       "      <td>138</td>\n",
       "      <td>65be030b0f</td>\n",
       "      <td>-180</td>\n",
       "    </tr>\n",
       "  </tbody>\n",
       "</table>\n",
       "</div>"
      ],
      "text/plain": [
       "                        DT  store_id     card_id  amount\n",
       "400700 2016-08-01 17:56:07       138  65be030b0f    -180"
      ]
     },
     "execution_count": 43,
     "metadata": {},
     "output_type": "execute_result"
    }
   ],
   "source": [
    "minus_amount_df[(minus_amount_df.store_id == check_store)&(minus_amount_df.card_id == check_card)]"
   ]
  },
  {
   "cell_type": "code",
   "execution_count": 44,
   "metadata": {
    "ExecuteTime": {
     "end_time": "2020-07-01T08:46:31.956222Z",
     "start_time": "2020-07-01T08:46:31.796187Z"
    }
   },
   "outputs": [
    {
     "data": {
      "text/html": [
       "<div>\n",
       "<style scoped>\n",
       "    .dataframe tbody tr th:only-of-type {\n",
       "        vertical-align: middle;\n",
       "    }\n",
       "\n",
       "    .dataframe tbody tr th {\n",
       "        vertical-align: top;\n",
       "    }\n",
       "\n",
       "    .dataframe thead th {\n",
       "        text-align: right;\n",
       "    }\n",
       "</style>\n",
       "<table border=\"1\" class=\"dataframe\">\n",
       "  <thead>\n",
       "    <tr style=\"text-align: right;\">\n",
       "      <th></th>\n",
       "      <th>DT</th>\n",
       "      <th>store_id</th>\n",
       "      <th>card_id</th>\n",
       "      <th>amount</th>\n",
       "    </tr>\n",
       "  </thead>\n",
       "  <tbody>\n",
       "  </tbody>\n",
       "</table>\n",
       "</div>"
      ],
      "text/plain": [
       "Empty DataFrame\n",
       "Columns: [DT, store_id, card_id, amount]\n",
       "Index: []"
      ]
     },
     "execution_count": 44,
     "metadata": {},
     "output_type": "execute_result"
    }
   ],
   "source": [
    "plus_amount_df[(plus_amount_df.store_id == check_store)&(plus_amount_df.card_id == check_card)]"
   ]
  },
  {
   "cell_type": "code",
   "execution_count": 278,
   "metadata": {
    "ExecuteTime": {
     "end_time": "2020-07-01T08:20:04.799747Z",
     "start_time": "2020-07-01T08:20:04.789744Z"
    }
   },
   "outputs": [],
   "source": [
    "range_df = plus_amount_df[plus_amount_df.store_id == check_store]\n",
    "range_df = range_df[range_df.card_id == check_card]\n",
    "range_df = range_df[range_df.DT <= check_DT]\n",
    "#     range_df = plus_amount_df[(plus_amount_df.store_id == minus_store)&(plus_amount_df.card_id == minus_card)&(plus_amount_df.DT <= minus_DT)]\n",
    "\n",
    "target = range_df[range_df.amount.apply(lambda x : x >= abs(minus_amount))]"
   ]
  },
  {
   "cell_type": "code",
   "execution_count": 274,
   "metadata": {
    "ExecuteTime": {
     "end_time": "2020-07-01T08:19:27.684039Z",
     "start_time": "2020-07-01T08:19:27.678045Z"
    }
   },
   "outputs": [
    {
     "data": {
      "text/html": [
       "<div>\n",
       "<style scoped>\n",
       "    .dataframe tbody tr th:only-of-type {\n",
       "        vertical-align: middle;\n",
       "    }\n",
       "\n",
       "    .dataframe tbody tr th {\n",
       "        vertical-align: top;\n",
       "    }\n",
       "\n",
       "    .dataframe thead th {\n",
       "        text-align: right;\n",
       "    }\n",
       "</style>\n",
       "<table border=\"1\" class=\"dataframe\">\n",
       "  <thead>\n",
       "    <tr style=\"text-align: right;\">\n",
       "      <th></th>\n",
       "      <th>DT</th>\n",
       "      <th>store_id</th>\n",
       "      <th>card_id</th>\n",
       "      <th>amount</th>\n",
       "    </tr>\n",
       "  </thead>\n",
       "  <tbody>\n",
       "  </tbody>\n",
       "</table>\n",
       "</div>"
      ],
      "text/plain": [
       "Empty DataFrame\n",
       "Columns: [DT, store_id, card_id, amount]\n",
       "Index: []"
      ]
     },
     "execution_count": 274,
     "metadata": {},
     "output_type": "execute_result"
    }
   ],
   "source": [
    "target[target.amount.isin([abs(check_amount)])]"
   ]
  },
  {
   "cell_type": "code",
   "execution_count": 270,
   "metadata": {
    "ExecuteTime": {
     "end_time": "2020-07-01T08:15:09.297207Z",
     "start_time": "2020-07-01T08:15:09.293207Z"
    },
    "scrolled": true
   },
   "outputs": [
    {
     "data": {
      "text/plain": [
       "82421"
      ]
     },
     "execution_count": 270,
     "metadata": {},
     "output_type": "execute_result"
    }
   ],
   "source": [
    "target[target.amount.isin([abs(check_amount)])].index.max()"
   ]
  },
  {
   "cell_type": "code",
   "execution_count": null,
   "metadata": {},
   "outputs": [],
   "source": []
  }
 ],
 "metadata": {
  "kernelspec": {
   "display_name": "Python 3",
   "language": "python",
   "name": "python3"
  },
  "language_info": {
   "codemirror_mode": {
    "name": "ipython",
    "version": 3
   },
   "file_extension": ".py",
   "mimetype": "text/x-python",
   "name": "python",
   "nbconvert_exporter": "python",
   "pygments_lexer": "ipython3",
   "version": "3.6.5"
  },
  "toc": {
   "base_numbering": 1,
   "nav_menu": {},
   "number_sections": true,
   "sideBar": true,
   "skip_h1_title": false,
   "title_cell": "Table of Contents",
   "title_sidebar": "Contents",
   "toc_cell": false,
   "toc_position": {},
   "toc_section_display": true,
   "toc_window_display": false
  }
 },
 "nbformat": 4,
 "nbformat_minor": 2
}
