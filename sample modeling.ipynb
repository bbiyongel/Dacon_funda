{
 "cells": [
  {
   "cell_type": "markdown",
   "metadata": {},
   "source": [
    "## import / load data"
   ]
  },
  {
   "cell_type": "code",
   "execution_count": 1,
   "metadata": {
    "ExecuteTime": {
     "end_time": "2020-06-22T06:25:14.264143Z",
     "start_time": "2020-06-22T06:25:11.885692Z"
    }
   },
   "outputs": [
    {
     "name": "stderr",
     "output_type": "stream",
     "text": [
      "C:\\Users\\User\\Anaconda3\\lib\\site-packages\\distributed\\config.py:63: YAMLLoadWarning: calling yaml.load() without Loader=... is deprecated, as the default Loader is unsafe. Please read https://msg.pyyaml.org/load for full details.\n",
      "  config.update(yaml.load(text) or {})\n"
     ]
    }
   ],
   "source": [
    "import pandas as pd\n",
    "import numpy as np\n",
    "import os\n",
    "import matplotlib.pyplot as plt\n",
    "import seaborn as sns\n",
    "import datetime\n",
    "from tqdm import notebook\n",
    "import gc\n",
    "\n",
    "from sklearn.ensemble import RandomForestRegressor\n",
    "from sklearn.model_selection import train_test_split\n",
    "from sklearn.metrics import mean_squared_error\n",
    "import lightgbm\n",
    "import xgboost\n"
   ]
  },
  {
   "cell_type": "code",
   "execution_count": 2,
   "metadata": {
    "ExecuteTime": {
     "end_time": "2020-06-22T06:25:16.661267Z",
     "start_time": "2020-06-22T06:25:14.264143Z"
    }
   },
   "outputs": [],
   "source": [
    "path = './data/'\n",
    "train = pd.read_csv(path + 'train.csv')\n",
    "test = pd.read_csv(path + 'test.csv')\n",
    "submission  = pd.read_csv(path + 'submission.csv')"
   ]
  },
  {
   "cell_type": "markdown",
   "metadata": {},
   "source": [
    "## Data setting"
   ]
  },
  {
   "cell_type": "code",
   "execution_count": 3,
   "metadata": {
    "ExecuteTime": {
     "end_time": "2020-06-22T06:25:16.999343Z",
     "start_time": "2020-06-22T06:25:16.662267Z"
    }
   },
   "outputs": [],
   "source": [
    "# train/test 결합\n",
    "train['test'] = 0\n",
    "test['test'] = 1\n",
    "merge_df = pd.concat([train,test])"
   ]
  },
  {
   "cell_type": "code",
   "execution_count": 4,
   "metadata": {
    "ExecuteTime": {
     "end_time": "2020-06-22T06:25:40.508505Z",
     "start_time": "2020-06-22T06:25:17.000343Z"
    }
   },
   "outputs": [],
   "source": [
    "# 날짜\n",
    "merge_df['date'] = pd.to_datetime(merge_df.date)\n",
    "merge_df['year'] = merge_df['date'].apply(lambda x : x.year)\n",
    "merge_df['month'] = merge_df['date'].apply(lambda x : x.month)"
   ]
  },
  {
   "cell_type": "code",
   "execution_count": 5,
   "metadata": {
    "ExecuteTime": {
     "end_time": "2020-06-22T06:25:41.273966Z",
     "start_time": "2020-06-22T06:25:40.509506Z"
    }
   },
   "outputs": [],
   "source": [
    "# 평균소비액\n",
    "daily_amount = merge_df[merge_df.amount>0].groupby('date')['amount'].mean()\n",
    "\n",
    "# 거래취소의 경우 \n",
    "merge_df.loc[merge_df.amount <0, 'refund'] = 1\n",
    "merge_df.loc[merge_df.amount >0, 'refund'] = 0\n",
    "# merge_df.loc[merge_df.amount <0, 'amount'] = 0"
   ]
  },
  {
   "cell_type": "code",
   "execution_count": 6,
   "metadata": {
    "ExecuteTime": {
     "end_time": "2020-06-22T06:25:41.297545Z",
     "start_time": "2020-06-22T06:25:41.273966Z"
    }
   },
   "outputs": [
    {
     "data": {
      "text/html": [
       "<div>\n",
       "<style scoped>\n",
       "    .dataframe tbody tr th:only-of-type {\n",
       "        vertical-align: middle;\n",
       "    }\n",
       "\n",
       "    .dataframe tbody tr th {\n",
       "        vertical-align: top;\n",
       "    }\n",
       "\n",
       "    .dataframe thead th {\n",
       "        text-align: right;\n",
       "    }\n",
       "</style>\n",
       "<table border=\"1\" class=\"dataframe\">\n",
       "  <thead>\n",
       "    <tr style=\"text-align: right;\">\n",
       "      <th></th>\n",
       "      <th>store_id</th>\n",
       "      <th>date</th>\n",
       "      <th>time</th>\n",
       "      <th>card_id</th>\n",
       "      <th>amount</th>\n",
       "      <th>installments</th>\n",
       "      <th>days_of_week</th>\n",
       "      <th>holyday</th>\n",
       "      <th>test</th>\n",
       "      <th>year</th>\n",
       "      <th>month</th>\n",
       "      <th>refund</th>\n",
       "    </tr>\n",
       "  </thead>\n",
       "  <tbody>\n",
       "    <tr>\n",
       "      <td>0</td>\n",
       "      <td>0</td>\n",
       "      <td>2016-12-14</td>\n",
       "      <td>18:05:31</td>\n",
       "      <td>d297bba73f</td>\n",
       "      <td>5</td>\n",
       "      <td>NaN</td>\n",
       "      <td>2</td>\n",
       "      <td>0</td>\n",
       "      <td>0</td>\n",
       "      <td>2016</td>\n",
       "      <td>12</td>\n",
       "      <td>0.0</td>\n",
       "    </tr>\n",
       "    <tr>\n",
       "      <td>1</td>\n",
       "      <td>0</td>\n",
       "      <td>2016-12-14</td>\n",
       "      <td>18:05:54</td>\n",
       "      <td>d297bba73f</td>\n",
       "      <td>-5</td>\n",
       "      <td>NaN</td>\n",
       "      <td>2</td>\n",
       "      <td>0</td>\n",
       "      <td>0</td>\n",
       "      <td>2016</td>\n",
       "      <td>12</td>\n",
       "      <td>1.0</td>\n",
       "    </tr>\n",
       "  </tbody>\n",
       "</table>\n",
       "</div>"
      ],
      "text/plain": [
       "   store_id       date      time     card_id  amount  installments  \\\n",
       "0         0 2016-12-14  18:05:31  d297bba73f       5           NaN   \n",
       "1         0 2016-12-14  18:05:54  d297bba73f      -5           NaN   \n",
       "\n",
       "   days_of_week  holyday  test  year  month  refund  \n",
       "0             2        0     0  2016     12     0.0  \n",
       "1             2        0     0  2016     12     1.0  "
      ]
     },
     "execution_count": 6,
     "metadata": {},
     "output_type": "execute_result"
    }
   ],
   "source": [
    "merge_df.head(2)"
   ]
  },
  {
   "cell_type": "markdown",
   "metadata": {},
   "source": [
    "### train_data setting\n",
    "* store_id가 연속적이진 않다 (11과 같은 숫자는 없음)\n",
    "* 거래금액이 0인 경우도 현재 포함되어 있음"
   ]
  },
  {
   "cell_type": "code",
   "execution_count": 263,
   "metadata": {
    "ExecuteTime": {
     "end_time": "2020-06-22T08:00:55.163888Z",
     "start_time": "2020-06-22T08:00:55.081869Z"
    }
   },
   "outputs": [],
   "source": [
    "# 전체 날짜의 요일, 휴일\n",
    "all_dates = merge_df.drop_duplicates('date').sort_values('date')\n",
    "all_dates = all_dates[['date','days_of_week','holyday']]\n",
    "all_dates.reset_index(drop=True, inplace=True)"
   ]
  },
  {
   "cell_type": "code",
   "execution_count": 264,
   "metadata": {
    "ExecuteTime": {
     "end_time": "2020-06-22T08:00:57.346381Z",
     "start_time": "2020-06-22T08:00:55.669002Z"
    }
   },
   "outputs": [],
   "source": [
    "train_df = merge_df[merge_df.test == 0]\n",
    "\n",
    "# 날짜범위 확인\n",
    "train_fin = train_df.groupby('store_id')['date'].agg(['min','max'])\n",
    "train_fin.reset_index(inplace=True)\n",
    "train_fin['last_day'] = train_fin['max'] - datetime.timedelta(100)\n",
    "\n",
    "#최초거래일자부터 마지막 거래일자까지의 기간\n",
    "train_fin['day_gap'] = train_fin['last_day'] - train_fin['min']\n",
    "train_fin['day_gap'] = train_fin['day_gap'].apply(lambda x : x.days)\n",
    "\n",
    "# 마지막 날짜에서 100일전 이전의 거래내역이 없으면 학습대상이 아님\n",
    "train_fin.loc[train_fin['min'] > train_fin['last_day'],'outbound'] = 1\n",
    "train_fin.loc[~(train_fin['min'] > train_fin['last_day']),'outbound'] = 0\n",
    "\n",
    "del_list = train_fin[train_fin.outbound == 1].index\n",
    "\n",
    "train_fin.drop(del_list,inplace= True)\n",
    "del train_fin['outbound']\n",
    "train_fin.reset_index(drop = True,inplace=True)\n",
    "\n",
    "check_amount = train_df.groupby(['store_id','date'])['amount'].agg(['sum','count']).reset_index()\n",
    "check_amount = pd.merge(check_amount,all_dates)\n",
    "refund_df = train_df.groupby(['store_id','date'])['refund'].sum().reset_index()\n",
    "installlment_df = train_df.groupby(['store_id','date'])['installments'].sum().reset_index()"
   ]
  },
  {
   "cell_type": "code",
   "execution_count": 265,
   "metadata": {
    "ExecuteTime": {
     "end_time": "2020-06-22T08:01:23.050939Z",
     "start_time": "2020-06-22T08:00:57.347381Z"
    },
    "scrolled": true
   },
   "outputs": [
    {
     "data": {
      "application/vnd.jupyter.widget-view+json": {
       "model_id": "a6e4baa52d184525adb6179f144505e3",
       "version_major": 2,
       "version_minor": 0
      },
      "text/plain": [
       "HBox(children=(FloatProgress(value=0.0, max=1641.0), HTML(value='')))"
      ]
     },
     "metadata": {},
     "output_type": "display_data"
    },
    {
     "name": "stdout",
     "output_type": "stream",
     "text": [
      "\n"
     ]
    }
   ],
   "source": [
    "before_amount_ls = []\n",
    "after_amount_ls = []\n",
    "transfer_count_ls = []\n",
    "\n",
    "before_holyday_ls = []\n",
    "before_week_dict_ls =[]\n",
    "refund_ls = []\n",
    "installment_ls = []\n",
    "installment_count_ls =[]\n",
    "holy_amount_ls = []\n",
    "week_amount_ls = []\n",
    "\n",
    "for i in notebook.tqdm(train_fin.index):\n",
    "    last_day = train_fin.loc[train_fin.index == i,'last_day'].iloc[0]\n",
    "    store_id = train_fin.loc[train_fin.index == i,'store_id'].iloc[0]\n",
    "    one = check_amount.loc[(check_amount.store_id == store_id)].reset_index(drop=True)\n",
    "    two = refund_df.loc[(refund_df.store_id == store_id)].reset_index(drop=True)\n",
    "    three = installlment_df.loc[(installlment_df.store_id == store_id)].reset_index(drop=True)\n",
    "    \n",
    "    last_index = one.loc[one.date < last_day].index[-1]\n",
    "\n",
    "    before = one[0:last_index+1]\n",
    "    after = one[last_index+1:]\n",
    "\n",
    "    transfer_count = before['count'].sum()\n",
    "    before_amount = before['sum'].sum()\n",
    "    after_amount = after['sum'].sum()\n",
    "\n",
    "\n",
    "    #요일, 휴일\n",
    "    before_holyday = pd.merge(before,all_dates)['holyday'].sum()\n",
    "    before_week = pd.merge(before,all_dates)['days_of_week'].value_counts().to_dict()\n",
    "\n",
    "    after_holyday = pd.merge(after,all_dates)['holyday'].sum()\n",
    "    after_week = pd.merge(after,all_dates)['days_of_week'].value_counts().to_dict()\n",
    "\n",
    "    #환불횟수, 할부총기간\n",
    "    refund = two[0:last_index+1]['refund'].sum()\n",
    "    installment = three[0:last_index+1]['installments'].sum()\n",
    "    installment_count = (three[0:last_index+1]['installments']>0).sum()\n",
    "\n",
    "    #휴일여부, 요일별 거래금액\n",
    "    holy_amount = one.groupby('holyday')['sum'].sum().to_dict()\n",
    "    week_amount = one.groupby('days_of_week')['sum'].sum().to_dict()\n",
    "\n",
    "    #저장\n",
    "    transfer_count_ls.append(transfer_count)\n",
    "    before_amount_ls.append(before_amount)\n",
    "    after_amount_ls.append(after_amount)\n",
    "\n",
    "    before_holyday_ls.append(before_holyday)\n",
    "    before_week_dict_ls.append(before_week)\n",
    "\n",
    "    refund_ls.append(refund)\n",
    "    installment_ls.append(installment)\n",
    "\n",
    "    holy_amount_ls.append(holy_amount)\n",
    "    week_amount_ls.append(week_amount)\n",
    "    installment_count_ls.append(installment_count)\n",
    "        \n",
    "train_fin['transfer_count'] = transfer_count_ls\n",
    "train_fin['before_amount'] = before_amount_ls\n",
    "train_fin['after_amount'] = after_amount_ls\n",
    "train_fin['holyday'] = before_holyday_ls\n",
    "train_fin['refund_sum'] = refund_ls\n",
    "train_fin['installment_sum'] = installment_ls\n",
    "train_fin['installment_count'] = installment_count_ls\n",
    "\n",
    "# 요일 추가\n",
    "week_df = pd.DataFrame(before_week_dict_ls)\n",
    "week_df = week_df[[0,1,2,3,4,5,6]]\n",
    "train_fin = pd.concat([train_fin,week_df],axis= 1)\n",
    "\n",
    "# 공휴일, 요일별 매출액\n",
    "holy_amount_df = pd.DataFrame(holy_amount_ls)\n",
    "holy_amount_df.rename(columns = {0:'unholy_amount',1:'holy_amount'},inplace = True)\n",
    "train_fin = pd.concat([train_fin,holy_amount_df],axis= 1)\n",
    "\n",
    "week_amount_df = pd.DataFrame(week_amount_ls)\n",
    "week_amount_df.rename(columns = {0:\"0_amount\",1:\"1_amount\",2:\"2_amount\",3:\"3_amount\",4:\"4_amount\",5:\"5_amount\",6:\"6_amount\"},inplace = True)\n",
    "train_fin = pd.concat([train_fin,week_amount_df],axis= 1)"
   ]
  },
  {
   "cell_type": "code",
   "execution_count": 266,
   "metadata": {
    "ExecuteTime": {
     "end_time": "2020-06-22T08:01:25.563506Z",
     "start_time": "2020-06-22T08:01:23.051939Z"
    }
   },
   "outputs": [
    {
     "data": {
      "application/vnd.jupyter.widget-view+json": {
       "model_id": "0edd645b227d44bda2a0aca15bd66289",
       "version_major": 2,
       "version_minor": 0
      },
      "text/plain": [
       "HBox(children=(FloatProgress(value=0.0, max=1641.0), HTML(value='')))"
      ]
     },
     "metadata": {},
     "output_type": "display_data"
    },
    {
     "name": "stdout",
     "output_type": "stream",
     "text": [
      "\n"
     ]
    }
   ],
   "source": [
    "#이후 100일까지의 공휴일과 요일 \n",
    "\n",
    "after_holy_ls = []\n",
    "after_week_ls = []\n",
    "for i in notebook.tqdm(range(0, len(train_fin))):\n",
    "    start_day = train_fin.loc[i, 'last_day']\n",
    "    end_day = train_fin.loc[i, 'max']\n",
    "    target = all_dates[(all_dates.date > start_day)&(all_dates.date <= end_day)]\n",
    "    after_holy = target.holyday.sum()\n",
    "    after_week = target.days_of_week.value_counts().to_dict()\n",
    "    \n",
    "    after_holy_ls.append(after_holy)\n",
    "    after_week_ls.append(after_week)\n",
    "\n",
    "week_df = pd.DataFrame(after_week_ls)\n",
    "week_df = week_df[[0,1,2,3,4,5,6]]\n",
    "week_df.rename(columns={0:\"a_0\",1:\"a_1\",2:\"a_2\",3:\"a_3\",4:\"a_4\",5:\"a_5\",6:\"a_6\"},inplace=True)\n",
    "\n",
    "train_fin['after_holy'] = after_holy_ls\n",
    "train_fin = pd.concat([train_fin,week_df],axis = 1)"
   ]
  },
  {
   "cell_type": "code",
   "execution_count": 267,
   "metadata": {
    "ExecuteTime": {
     "end_time": "2020-06-22T08:01:25.576509Z",
     "start_time": "2020-06-22T08:01:25.564507Z"
    }
   },
   "outputs": [
    {
     "data": {
      "text/html": [
       "<div>\n",
       "<style scoped>\n",
       "    .dataframe tbody tr th:only-of-type {\n",
       "        vertical-align: middle;\n",
       "    }\n",
       "\n",
       "    .dataframe tbody tr th {\n",
       "        vertical-align: top;\n",
       "    }\n",
       "\n",
       "    .dataframe thead th {\n",
       "        text-align: right;\n",
       "    }\n",
       "</style>\n",
       "<table border=\"1\" class=\"dataframe\">\n",
       "  <thead>\n",
       "    <tr style=\"text-align: right;\">\n",
       "      <th></th>\n",
       "      <th>store_id</th>\n",
       "      <th>min</th>\n",
       "      <th>max</th>\n",
       "      <th>last_day</th>\n",
       "      <th>day_gap</th>\n",
       "      <th>transfer_count</th>\n",
       "      <th>before_amount</th>\n",
       "      <th>after_amount</th>\n",
       "      <th>holyday</th>\n",
       "      <th>refund_sum</th>\n",
       "      <th>...</th>\n",
       "      <th>5_amount</th>\n",
       "      <th>6_amount</th>\n",
       "      <th>after_holy</th>\n",
       "      <th>a_0</th>\n",
       "      <th>a_1</th>\n",
       "      <th>a_2</th>\n",
       "      <th>a_3</th>\n",
       "      <th>a_4</th>\n",
       "      <th>a_5</th>\n",
       "      <th>a_6</th>\n",
       "    </tr>\n",
       "  </thead>\n",
       "  <tbody>\n",
       "    <tr>\n",
       "      <td>0</td>\n",
       "      <td>0</td>\n",
       "      <td>2016-12-14</td>\n",
       "      <td>2018-07-31</td>\n",
       "      <td>2018-04-22</td>\n",
       "      <td>494</td>\n",
       "      <td>56725</td>\n",
       "      <td>4361581</td>\n",
       "      <td>873030</td>\n",
       "      <td>25</td>\n",
       "      <td>499.0</td>\n",
       "      <td>...</td>\n",
       "      <td>802135.0</td>\n",
       "      <td>837312.0</td>\n",
       "      <td>6</td>\n",
       "      <td>15</td>\n",
       "      <td>15</td>\n",
       "      <td>14</td>\n",
       "      <td>14</td>\n",
       "      <td>14</td>\n",
       "      <td>14</td>\n",
       "      <td>14</td>\n",
       "    </tr>\n",
       "    <tr>\n",
       "      <td>1</td>\n",
       "      <td>1</td>\n",
       "      <td>2016-12-21</td>\n",
       "      <td>2018-07-02</td>\n",
       "      <td>2018-03-24</td>\n",
       "      <td>458</td>\n",
       "      <td>35</td>\n",
       "      <td>120650</td>\n",
       "      <td>27300</td>\n",
       "      <td>0</td>\n",
       "      <td>0.0</td>\n",
       "      <td>...</td>\n",
       "      <td>12000.0</td>\n",
       "      <td>NaN</td>\n",
       "      <td>6</td>\n",
       "      <td>15</td>\n",
       "      <td>14</td>\n",
       "      <td>14</td>\n",
       "      <td>14</td>\n",
       "      <td>14</td>\n",
       "      <td>14</td>\n",
       "      <td>15</td>\n",
       "    </tr>\n",
       "  </tbody>\n",
       "</table>\n",
       "<p>2 rows × 36 columns</p>\n",
       "</div>"
      ],
      "text/plain": [
       "   store_id        min        max   last_day  day_gap  transfer_count  \\\n",
       "0         0 2016-12-14 2018-07-31 2018-04-22      494           56725   \n",
       "1         1 2016-12-21 2018-07-02 2018-03-24      458              35   \n",
       "\n",
       "   before_amount  after_amount  holyday  refund_sum  ...  5_amount  6_amount  \\\n",
       "0        4361581        873030       25       499.0  ...  802135.0  837312.0   \n",
       "1         120650         27300        0         0.0  ...   12000.0       NaN   \n",
       "\n",
       "   after_holy  a_0  a_1  a_2  a_3  a_4  a_5  a_6  \n",
       "0           6   15   15   14   14   14   14   14  \n",
       "1           6   15   14   14   14   14   14   15  \n",
       "\n",
       "[2 rows x 36 columns]"
      ]
     },
     "execution_count": 267,
     "metadata": {},
     "output_type": "execute_result"
    }
   ],
   "source": [
    "train_fin.head(2)"
   ]
  },
  {
   "cell_type": "markdown",
   "metadata": {},
   "source": [
    "### test_data setting"
   ]
  },
  {
   "cell_type": "code",
   "execution_count": 268,
   "metadata": {
    "ExecuteTime": {
     "end_time": "2020-06-22T08:01:25.758551Z",
     "start_time": "2020-06-22T08:01:25.577510Z"
    }
   },
   "outputs": [],
   "source": [
    "test_df = merge_df[merge_df.test == 1]\n",
    "\n",
    "# 날짜범위 확인\n",
    "test_fin = test_df.groupby('store_id')['date'].agg(['min','max'])\n",
    "test_fin.reset_index(inplace=True)\n",
    "\n",
    "#최초거래일자부터 마지막 거래일자까지의 기간\n",
    "test_fin['day_gap'] = test_fin['max'] - test_fin['min']\n",
    "test_fin['day_gap'] = test_fin['day_gap'].apply(lambda x : x.days)\n",
    "\n",
    "# 일자별 결제\n",
    "check_amount = test_df.groupby(['store_id'])['amount'].agg(['sum','count']).reset_index()\n",
    "check_amount = check_amount.rename(columns={'sum':'before_amount','count':'transfer_count'})\n",
    "test_fin = pd.merge(test_fin,check_amount)\n",
    "\n",
    "refund_df = test_df.groupby(['store_id','date'])['refund'].sum().reset_index()\n",
    "installlment_df = test_df.groupby(['store_id','date'])['installments'].sum().reset_index()"
   ]
  },
  {
   "cell_type": "code",
   "execution_count": 269,
   "metadata": {
    "ExecuteTime": {
     "end_time": "2020-06-22T08:01:28.263116Z",
     "start_time": "2020-06-22T08:01:25.759551Z"
    }
   },
   "outputs": [
    {
     "data": {
      "application/vnd.jupyter.widget-view+json": {
       "model_id": "fc4aa7681b64447aa5aa4b9a8749f61e",
       "version_major": 2,
       "version_minor": 0
      },
      "text/plain": [
       "HBox(children=(FloatProgress(value=0.0, max=200.0), HTML(value='')))"
      ]
     },
     "metadata": {},
     "output_type": "display_data"
    },
    {
     "name": "stdout",
     "output_type": "stream",
     "text": [
      "\n"
     ]
    }
   ],
   "source": [
    "check_amount = train_df.groupby(['store_id','date'])['amount'].sum().reset_index()\n",
    "\n",
    "refund_ls = []\n",
    "installment_ls = []\n",
    "installment_count_ls =[]\n",
    "\n",
    "before_holyday_ls = []\n",
    "before_week_dict_ls =[]\n",
    "\n",
    "holy_amount_ls = []\n",
    "week_amount_ls = []\n",
    "\n",
    "for store_id in notebook.tqdm(range(0, test_fin.store_id.nunique())):\n",
    "    one = check_amount.loc[(check_amount.store_id == store_id)].reset_index(drop=True)\n",
    "    two = refund_df.loc[(refund_df.store_id == store_id)].reset_index(drop=True)\n",
    "    three = installlment_df.loc[(installlment_df.store_id == store_id)].reset_index(drop=True)\n",
    "    \n",
    "    refund = two['refund'].sum()\n",
    "    installment = three['installments'].sum()\n",
    "    installment_count = (three['installments']>0).sum()\n",
    "    \n",
    "    holyday = pd.merge(one['date'],all_dates)['holyday'].sum()\n",
    "    before_week = pd.merge(one['date'],all_dates)['days_of_week'].value_counts().to_dict()\n",
    "    \n",
    "    #휴일 여부에 따른 매출액\n",
    "    holy_amount = test_df[test_df.store_id == store_id].groupby('holyday')['amount'].sum().to_dict()\n",
    "    week_amount = test_df[test_df.store_id == store_id].groupby('days_of_week')['amount'].sum().to_dict()\n",
    "    \n",
    "    refund_ls.append(refund)\n",
    "    installment_ls.append(installment)\n",
    "    \n",
    "    before_holyday_ls.append(holyday)\n",
    "    before_week_dict_ls.append(before_week)\n",
    "    \n",
    "    holy_amount_ls.append(holy_amount)\n",
    "    week_amount_ls.append(week_amount)\n",
    "    installment_count_ls.append(installment_count)\n",
    "    \n",
    "test_fin['holyday'] =  before_holyday_ls\n",
    "test_fin['refund_sum'] =  refund_ls\n",
    "test_fin['installment_sum'] = installment_ls\n",
    "test_fin['installment_count'] = installment_count_ls\n",
    "\n",
    "# 요일 추가\n",
    "week_df = pd.DataFrame(before_week_dict_ls)\n",
    "week_df = week_df[[0,1,2,3,4,5,6]]\n",
    "\n",
    "test_fin = pd.concat([test_fin,week_df],axis= 1)\n",
    "\n",
    "# 공휴일, 요일별 매출액\n",
    "holy_amount_df = pd.DataFrame(holy_amount_ls)\n",
    "holy_amount_df.rename(columns = {0:'unholy_amount',1:'holy_amount'},inplace = True)\n",
    "test_fin = pd.concat([test_fin,holy_amount_df],axis= 1)\n",
    "\n",
    "week_amount_df = pd.DataFrame(week_amount_ls)\n",
    "week_amount_df.rename(columns = {0:\"0_amount\",1:\"1_amount\",2:\"2_amount\",3:\"3_amount\",4:\"4_amount\",5:\"5_amount\",6:\"6_amount\"},inplace = True)\n",
    "test_fin = pd.concat([test_fin,week_amount_df],axis= 1)"
   ]
  },
  {
   "cell_type": "code",
   "execution_count": 270,
   "metadata": {
    "ExecuteTime": {
     "end_time": "2020-06-22T08:01:28.594192Z",
     "start_time": "2020-06-22T08:01:28.264117Z"
    }
   },
   "outputs": [
    {
     "data": {
      "application/vnd.jupyter.widget-view+json": {
       "model_id": "9fd47c2487aa473ebd38220002861206",
       "version_major": 2,
       "version_minor": 0
      },
      "text/plain": [
       "HBox(children=(FloatProgress(value=0.0, max=200.0), HTML(value='')))"
      ]
     },
     "metadata": {},
     "output_type": "display_data"
    },
    {
     "name": "stdout",
     "output_type": "stream",
     "text": [
      "\n"
     ]
    }
   ],
   "source": [
    "#이후 100일까지의 공휴일과 요일 \n",
    "test_fin['after_100'] = test_fin['max']+datetime.timedelta(100)\n",
    "\n",
    "after_holy_ls = []\n",
    "after_week_ls = []\n",
    "for i in notebook.tqdm(range(0, len(test_fin))):\n",
    "    start_day = test_fin.loc[i, 'max']\n",
    "    end_day = test_fin.loc[i, 'after_100']\n",
    "    target = all_dates[(all_dates.date > start_day)&(all_dates.date <= end_day)]\n",
    "    after_holy = target.holyday.sum()\n",
    "    after_week = target.days_of_week.value_counts().to_dict()\n",
    "    \n",
    "    after_holy_ls.append(after_holy)\n",
    "    after_week_ls.append(after_week)\n",
    "\n",
    "week_df = pd.DataFrame(after_week_ls)\n",
    "week_df = week_df[[0,1,2,3,4,5,6]]\n",
    "week_df.rename(columns={0:\"a_0\",1:\"a_1\",2:\"a_2\",3:\"a_3\",4:\"a_4\",5:\"a_5\",6:\"a_6\"},inplace=True)\n",
    "\n",
    "test_fin['after_holy'] = after_holy_ls\n",
    "test_fin = pd.concat([test_fin,week_df],axis = 1)"
   ]
  },
  {
   "cell_type": "code",
   "execution_count": 271,
   "metadata": {
    "ExecuteTime": {
     "end_time": "2020-06-22T08:01:28.609195Z",
     "start_time": "2020-06-22T08:01:28.595192Z"
    }
   },
   "outputs": [
    {
     "data": {
      "text/html": [
       "<div>\n",
       "<style scoped>\n",
       "    .dataframe tbody tr th:only-of-type {\n",
       "        vertical-align: middle;\n",
       "    }\n",
       "\n",
       "    .dataframe tbody tr th {\n",
       "        vertical-align: top;\n",
       "    }\n",
       "\n",
       "    .dataframe thead th {\n",
       "        text-align: right;\n",
       "    }\n",
       "</style>\n",
       "<table border=\"1\" class=\"dataframe\">\n",
       "  <thead>\n",
       "    <tr style=\"text-align: right;\">\n",
       "      <th></th>\n",
       "      <th>store_id</th>\n",
       "      <th>min</th>\n",
       "      <th>max</th>\n",
       "      <th>day_gap</th>\n",
       "      <th>before_amount</th>\n",
       "      <th>transfer_count</th>\n",
       "      <th>holyday</th>\n",
       "      <th>refund_sum</th>\n",
       "      <th>installment_sum</th>\n",
       "      <th>installment_count</th>\n",
       "      <th>...</th>\n",
       "      <th>6_amount</th>\n",
       "      <th>after_100</th>\n",
       "      <th>after_holy</th>\n",
       "      <th>a_0</th>\n",
       "      <th>a_1</th>\n",
       "      <th>a_2</th>\n",
       "      <th>a_3</th>\n",
       "      <th>a_4</th>\n",
       "      <th>a_5</th>\n",
       "      <th>a_6</th>\n",
       "    </tr>\n",
       "  </thead>\n",
       "  <tbody>\n",
       "    <tr>\n",
       "      <td>0</td>\n",
       "      <td>0</td>\n",
       "      <td>2016-08-01</td>\n",
       "      <td>2018-03-31</td>\n",
       "      <td>607</td>\n",
       "      <td>638257</td>\n",
       "      <td>4215</td>\n",
       "      <td>31</td>\n",
       "      <td>14.0</td>\n",
       "      <td>2.0</td>\n",
       "      <td>1</td>\n",
       "      <td>...</td>\n",
       "      <td>99337.0</td>\n",
       "      <td>2018-07-09</td>\n",
       "      <td>6</td>\n",
       "      <td>15</td>\n",
       "      <td>14</td>\n",
       "      <td>14</td>\n",
       "      <td>14</td>\n",
       "      <td>14</td>\n",
       "      <td>14</td>\n",
       "      <td>15</td>\n",
       "    </tr>\n",
       "    <tr>\n",
       "      <td>1</td>\n",
       "      <td>1</td>\n",
       "      <td>2016-08-02</td>\n",
       "      <td>2018-03-30</td>\n",
       "      <td>605</td>\n",
       "      <td>427806</td>\n",
       "      <td>435</td>\n",
       "      <td>0</td>\n",
       "      <td>14.0</td>\n",
       "      <td>192.0</td>\n",
       "      <td>49</td>\n",
       "      <td>...</td>\n",
       "      <td>51855.0</td>\n",
       "      <td>2018-07-08</td>\n",
       "      <td>6</td>\n",
       "      <td>14</td>\n",
       "      <td>14</td>\n",
       "      <td>14</td>\n",
       "      <td>14</td>\n",
       "      <td>14</td>\n",
       "      <td>15</td>\n",
       "      <td>15</td>\n",
       "    </tr>\n",
       "  </tbody>\n",
       "</table>\n",
       "<p>2 rows × 35 columns</p>\n",
       "</div>"
      ],
      "text/plain": [
       "   store_id        min        max  day_gap  before_amount  transfer_count  \\\n",
       "0         0 2016-08-01 2018-03-31      607         638257            4215   \n",
       "1         1 2016-08-02 2018-03-30      605         427806             435   \n",
       "\n",
       "   holyday  refund_sum  installment_sum  installment_count  ...  6_amount  \\\n",
       "0       31        14.0              2.0                  1  ...   99337.0   \n",
       "1        0        14.0            192.0                 49  ...   51855.0   \n",
       "\n",
       "   after_100  after_holy  a_0  a_1  a_2  a_3  a_4  a_5  a_6  \n",
       "0 2018-07-09           6   15   14   14   14   14   14   15  \n",
       "1 2018-07-08           6   14   14   14   14   14   15   15  \n",
       "\n",
       "[2 rows x 35 columns]"
      ]
     },
     "execution_count": 271,
     "metadata": {},
     "output_type": "execute_result"
    }
   ],
   "source": [
    "test_fin.head(2)"
   ]
  },
  {
   "cell_type": "markdown",
   "metadata": {},
   "source": [
    "### 추가변수"
   ]
  },
  {
   "cell_type": "code",
   "execution_count": 272,
   "metadata": {
    "ExecuteTime": {
     "end_time": "2020-06-22T08:02:12.544456Z",
     "start_time": "2020-06-22T08:02:12.540456Z"
    }
   },
   "outputs": [],
   "source": [
    "def add_feature(df):\n",
    "    '''추가변수 생성 \n",
    "    거래횟수당 평균 금액, 일평균 금액, 거래횟수 대비 환불비율\n",
    "    휴일 평균 거래금액, 평일 평균 거래금액\n",
    "    요일별 평균 거래금액\n",
    "    \n",
    "    '''\n",
    "    df['refund_per_all'] = df['refund_sum'] / df['transfer_count']\n",
    "    df['installment_mean'] = df['installment_sum'] / df['installment_count']\n",
    "    \n",
    "    df['trans_per_amount'] = df['before_amount'] / df['transfer_count']\n",
    "    df['day_per_amount'] = df['before_amount'] / df['day_gap']\n",
    "    \n",
    "    df['holy_amount_mean'] = df['holy_amount'] / df['holyday']\n",
    "    df['unholy_amount_mean'] = df['unholy_amount'] / (df['day_gap'] - df['holyday'])\n",
    "    \n",
    "    for i in range(0, 7):\n",
    "        df[f'{i}_amount_mean'] = df[f'{i}_amount'] / df[i]\n",
    "    \n",
    "    #후처리\n",
    "    df = df.applymap(lambda x : 0 if x == np.inf else x)\n",
    "    df.fillna(0,inplace=True)\n",
    "    return df"
   ]
  },
  {
   "cell_type": "code",
   "execution_count": 273,
   "metadata": {
    "ExecuteTime": {
     "end_time": "2020-06-22T08:02:13.616699Z",
     "start_time": "2020-06-22T08:02:13.531680Z"
    }
   },
   "outputs": [],
   "source": [
    "test_fin = add_feature(test_fin)\n",
    "train_fin = add_feature(train_fin)"
   ]
  },
  {
   "cell_type": "markdown",
   "metadata": {},
   "source": [
    "### 최종전처리"
   ]
  },
  {
   "cell_type": "code",
   "execution_count": 274,
   "metadata": {
    "ExecuteTime": {
     "end_time": "2020-06-22T08:02:15.419106Z",
     "start_time": "2020-06-22T08:02:15.323084Z"
    }
   },
   "outputs": [],
   "source": [
    "y = train_fin['after_amount']\n",
    "\n",
    "train_df = train_fin.drop(['min','max','last_day','after_amount','store_id'],axis = 1)\n",
    "test_df = test_fin.drop(['min','max','after_100','store_id'],axis = 1)"
   ]
  },
  {
   "cell_type": "code",
   "execution_count": 275,
   "metadata": {
    "ExecuteTime": {
     "end_time": "2020-06-22T08:02:15.936447Z",
     "start_time": "2020-06-22T08:02:15.932446Z"
    }
   },
   "outputs": [
    {
     "data": {
      "text/plain": [
       "((1641, 44), (200, 44))"
      ]
     },
     "execution_count": 275,
     "metadata": {},
     "output_type": "execute_result"
    }
   ],
   "source": [
    "train_df.shape, test_df.shape"
   ]
  },
  {
   "cell_type": "code",
   "execution_count": 276,
   "metadata": {
    "ExecuteTime": {
     "end_time": "2020-06-22T08:02:17.766860Z",
     "start_time": "2020-06-22T08:02:17.763859Z"
    }
   },
   "outputs": [
    {
     "data": {
      "text/plain": [
       "Index([           'day_gap',     'transfer_count',      'before_amount',\n",
       "                  'holyday',         'refund_sum',    'installment_sum',\n",
       "        'installment_count',                    0,                    1,\n",
       "                          2,                    3,                    4,\n",
       "                          5,                    6,      'unholy_amount',\n",
       "              'holy_amount',           '0_amount',           '1_amount',\n",
       "                 '2_amount',           '3_amount',           '4_amount',\n",
       "                 '5_amount',           '6_amount',         'after_holy',\n",
       "                      'a_0',                'a_1',                'a_2',\n",
       "                      'a_3',                'a_4',                'a_5',\n",
       "                      'a_6',     'refund_per_all',   'installment_mean',\n",
       "         'trans_per_amount',     'day_per_amount',   'holy_amount_mean',\n",
       "       'unholy_amount_mean',      '0_amount_mean',      '1_amount_mean',\n",
       "            '2_amount_mean',      '3_amount_mean',      '4_amount_mean',\n",
       "            '5_amount_mean',      '6_amount_mean'],\n",
       "      dtype='object')"
      ]
     },
     "execution_count": 276,
     "metadata": {},
     "output_type": "execute_result"
    }
   ],
   "source": [
    "train_df.columns"
   ]
  },
  {
   "cell_type": "code",
   "execution_count": 277,
   "metadata": {
    "ExecuteTime": {
     "end_time": "2020-06-22T08:02:26.318131Z",
     "start_time": "2020-06-22T08:02:26.315130Z"
    }
   },
   "outputs": [],
   "source": [
    "to_log_ls = ['before_amount', 'trans_per_amount',     'day_per_amount',\n",
    "             'holy_amount_mean', 'unholy_amount_mean',      '0_amount_mean',\n",
    "             '1_amount_mean',      '2_amount_mean',      '3_amount_mean',\n",
    "             '4_amount_mean',      '5_amount_mean',      '6_amount_mean']"
   ]
  },
  {
   "cell_type": "code",
   "execution_count": 278,
   "metadata": {
    "ExecuteTime": {
     "end_time": "2020-06-22T08:02:26.966144Z",
     "start_time": "2020-06-22T08:02:26.955279Z"
    }
   },
   "outputs": [
    {
     "name": "stderr",
     "output_type": "stream",
     "text": [
      "C:\\Users\\User\\AppData\\Roaming\\Python\\Python36\\site-packages\\pandas\\core\\series.py:853: RuntimeWarning: invalid value encountered in log\n",
      "  result = getattr(ufunc, method)(*inputs, **kwargs)\n"
     ]
    }
   ],
   "source": [
    "#로그 변환\n",
    "for col in to_log_ls:\n",
    "    train_df[col] = np.log(1+train_df[col])\n",
    "    test_df[col] = np.log(1+test_df[col])"
   ]
  },
  {
   "cell_type": "code",
   "execution_count": 279,
   "metadata": {
    "ExecuteTime": {
     "end_time": "2020-06-22T08:02:27.735351Z",
     "start_time": "2020-06-22T08:02:27.731350Z"
    }
   },
   "outputs": [],
   "source": [
    "train_df.fillna(0, inplace=True)\n",
    "test_df.fillna(0, inplace=True)"
   ]
  },
  {
   "cell_type": "markdown",
   "metadata": {},
   "source": [
    "### train_test split"
   ]
  },
  {
   "cell_type": "code",
   "execution_count": 280,
   "metadata": {
    "ExecuteTime": {
     "end_time": "2020-06-22T08:02:28.775014Z",
     "start_time": "2020-06-22T08:02:28.771013Z"
    }
   },
   "outputs": [],
   "source": [
    "X_train, X_test, y_train, y_test = train_test_split(train_df,y,test_size =0.3, random_state = 42)"
   ]
  },
  {
   "cell_type": "markdown",
   "metadata": {},
   "source": [
    "### modeling "
   ]
  },
  {
   "cell_type": "markdown",
   "metadata": {},
   "source": [
    "#### rf"
   ]
  },
  {
   "cell_type": "code",
   "execution_count": 281,
   "metadata": {
    "ExecuteTime": {
     "end_time": "2020-06-22T08:02:40.608691Z",
     "start_time": "2020-06-22T08:02:29.884266Z"
    }
   },
   "outputs": [
    {
     "data": {
      "text/plain": [
       "14611.044528954015"
      ]
     },
     "execution_count": 281,
     "metadata": {},
     "output_type": "execute_result"
    }
   ],
   "source": [
    "rf = RandomForestRegressor(random_state=42, n_estimators= 1000)\n",
    "rf.fit(X_train,y_train)\n",
    "rf_y_pred = rf.predict(X_test)\n",
    "\n",
    "np.sqrt(mean_squared_error(y_test,rf_y_pred))"
   ]
  },
  {
   "cell_type": "code",
   "execution_count": 282,
   "metadata": {
    "ExecuteTime": {
     "end_time": "2020-06-22T08:02:47.812319Z",
     "start_time": "2020-06-22T08:02:47.749304Z"
    }
   },
   "outputs": [
    {
     "data": {
      "text/html": [
       "<div>\n",
       "<style scoped>\n",
       "    .dataframe tbody tr th:only-of-type {\n",
       "        vertical-align: middle;\n",
       "    }\n",
       "\n",
       "    .dataframe tbody tr th {\n",
       "        vertical-align: top;\n",
       "    }\n",
       "\n",
       "    .dataframe thead th {\n",
       "        text-align: right;\n",
       "    }\n",
       "</style>\n",
       "<table border=\"1\" class=\"dataframe\">\n",
       "  <thead>\n",
       "    <tr style=\"text-align: right;\">\n",
       "      <th></th>\n",
       "      <th>0</th>\n",
       "    </tr>\n",
       "  </thead>\n",
       "  <tbody>\n",
       "    <tr>\n",
       "      <td>holy_amount_mean</td>\n",
       "      <td>18.420461</td>\n",
       "    </tr>\n",
       "    <tr>\n",
       "      <td>day_per_amount</td>\n",
       "      <td>16.421179</td>\n",
       "    </tr>\n",
       "    <tr>\n",
       "      <td>unholy_amount_mean</td>\n",
       "      <td>7.846433</td>\n",
       "    </tr>\n",
       "    <tr>\n",
       "      <td>3_amount_mean</td>\n",
       "      <td>7.639428</td>\n",
       "    </tr>\n",
       "    <tr>\n",
       "      <td>4_amount_mean</td>\n",
       "      <td>7.418639</td>\n",
       "    </tr>\n",
       "    <tr>\n",
       "      <td>0_amount_mean</td>\n",
       "      <td>7.145091</td>\n",
       "    </tr>\n",
       "    <tr>\n",
       "      <td>2_amount_mean</td>\n",
       "      <td>6.995511</td>\n",
       "    </tr>\n",
       "    <tr>\n",
       "      <td>day_gap</td>\n",
       "      <td>3.989246</td>\n",
       "    </tr>\n",
       "    <tr>\n",
       "      <td>5_amount_mean</td>\n",
       "      <td>3.510745</td>\n",
       "    </tr>\n",
       "    <tr>\n",
       "      <td>6_amount_mean</td>\n",
       "      <td>2.812684</td>\n",
       "    </tr>\n",
       "    <tr>\n",
       "      <td>refund_sum</td>\n",
       "      <td>2.161909</td>\n",
       "    </tr>\n",
       "    <tr>\n",
       "      <td>unholy_amount</td>\n",
       "      <td>2.141933</td>\n",
       "    </tr>\n",
       "    <tr>\n",
       "      <td>1_amount</td>\n",
       "      <td>1.606184</td>\n",
       "    </tr>\n",
       "    <tr>\n",
       "      <td>1_amount_mean</td>\n",
       "      <td>1.317354</td>\n",
       "    </tr>\n",
       "    <tr>\n",
       "      <td>transfer_count</td>\n",
       "      <td>1.226432</td>\n",
       "    </tr>\n",
       "    <tr>\n",
       "      <td>4_amount</td>\n",
       "      <td>1.041725</td>\n",
       "    </tr>\n",
       "    <tr>\n",
       "      <td>3_amount</td>\n",
       "      <td>0.943302</td>\n",
       "    </tr>\n",
       "    <tr>\n",
       "      <td>2_amount</td>\n",
       "      <td>0.635161</td>\n",
       "    </tr>\n",
       "    <tr>\n",
       "      <td>5_amount</td>\n",
       "      <td>0.594930</td>\n",
       "    </tr>\n",
       "    <tr>\n",
       "      <td>before_amount</td>\n",
       "      <td>0.530127</td>\n",
       "    </tr>\n",
       "    <tr>\n",
       "      <td>2</td>\n",
       "      <td>0.482916</td>\n",
       "    </tr>\n",
       "    <tr>\n",
       "      <td>3</td>\n",
       "      <td>0.481867</td>\n",
       "    </tr>\n",
       "    <tr>\n",
       "      <td>1</td>\n",
       "      <td>0.459465</td>\n",
       "    </tr>\n",
       "    <tr>\n",
       "      <td>holy_amount</td>\n",
       "      <td>0.448926</td>\n",
       "    </tr>\n",
       "    <tr>\n",
       "      <td>4</td>\n",
       "      <td>0.439769</td>\n",
       "    </tr>\n",
       "    <tr>\n",
       "      <td>trans_per_amount</td>\n",
       "      <td>0.423588</td>\n",
       "    </tr>\n",
       "    <tr>\n",
       "      <td>0_amount</td>\n",
       "      <td>0.413893</td>\n",
       "    </tr>\n",
       "    <tr>\n",
       "      <td>5</td>\n",
       "      <td>0.287597</td>\n",
       "    </tr>\n",
       "    <tr>\n",
       "      <td>6_amount</td>\n",
       "      <td>0.263671</td>\n",
       "    </tr>\n",
       "    <tr>\n",
       "      <td>0</td>\n",
       "      <td>0.255244</td>\n",
       "    </tr>\n",
       "    <tr>\n",
       "      <td>refund_per_all</td>\n",
       "      <td>0.245601</td>\n",
       "    </tr>\n",
       "    <tr>\n",
       "      <td>6</td>\n",
       "      <td>0.226948</td>\n",
       "    </tr>\n",
       "    <tr>\n",
       "      <td>installment_mean</td>\n",
       "      <td>0.220535</td>\n",
       "    </tr>\n",
       "    <tr>\n",
       "      <td>installment_sum</td>\n",
       "      <td>0.197556</td>\n",
       "    </tr>\n",
       "    <tr>\n",
       "      <td>holyday</td>\n",
       "      <td>0.158157</td>\n",
       "    </tr>\n",
       "    <tr>\n",
       "      <td>a_0</td>\n",
       "      <td>0.139878</td>\n",
       "    </tr>\n",
       "    <tr>\n",
       "      <td>installment_count</td>\n",
       "      <td>0.128186</td>\n",
       "    </tr>\n",
       "    <tr>\n",
       "      <td>a_1</td>\n",
       "      <td>0.107571</td>\n",
       "    </tr>\n",
       "    <tr>\n",
       "      <td>a_3</td>\n",
       "      <td>0.076507</td>\n",
       "    </tr>\n",
       "    <tr>\n",
       "      <td>a_4</td>\n",
       "      <td>0.062837</td>\n",
       "    </tr>\n",
       "    <tr>\n",
       "      <td>a_2</td>\n",
       "      <td>0.039683</td>\n",
       "    </tr>\n",
       "    <tr>\n",
       "      <td>after_holy</td>\n",
       "      <td>0.022369</td>\n",
       "    </tr>\n",
       "    <tr>\n",
       "      <td>a_5</td>\n",
       "      <td>0.014167</td>\n",
       "    </tr>\n",
       "    <tr>\n",
       "      <td>a_6</td>\n",
       "      <td>0.004600</td>\n",
       "    </tr>\n",
       "  </tbody>\n",
       "</table>\n",
       "</div>"
      ],
      "text/plain": [
       "                            0\n",
       "holy_amount_mean    18.420461\n",
       "day_per_amount      16.421179\n",
       "unholy_amount_mean   7.846433\n",
       "3_amount_mean        7.639428\n",
       "4_amount_mean        7.418639\n",
       "0_amount_mean        7.145091\n",
       "2_amount_mean        6.995511\n",
       "day_gap              3.989246\n",
       "5_amount_mean        3.510745\n",
       "6_amount_mean        2.812684\n",
       "refund_sum           2.161909\n",
       "unholy_amount        2.141933\n",
       "1_amount             1.606184\n",
       "1_amount_mean        1.317354\n",
       "transfer_count       1.226432\n",
       "4_amount             1.041725\n",
       "3_amount             0.943302\n",
       "2_amount             0.635161\n",
       "5_amount             0.594930\n",
       "before_amount        0.530127\n",
       "2                    0.482916\n",
       "3                    0.481867\n",
       "1                    0.459465\n",
       "holy_amount          0.448926\n",
       "4                    0.439769\n",
       "trans_per_amount     0.423588\n",
       "0_amount             0.413893\n",
       "5                    0.287597\n",
       "6_amount             0.263671\n",
       "0                    0.255244\n",
       "refund_per_all       0.245601\n",
       "6                    0.226948\n",
       "installment_mean     0.220535\n",
       "installment_sum      0.197556\n",
       "holyday              0.158157\n",
       "a_0                  0.139878\n",
       "installment_count    0.128186\n",
       "a_1                  0.107571\n",
       "a_3                  0.076507\n",
       "a_4                  0.062837\n",
       "a_2                  0.039683\n",
       "after_holy           0.022369\n",
       "a_5                  0.014167\n",
       "a_6                  0.004600"
      ]
     },
     "execution_count": 282,
     "metadata": {},
     "output_type": "execute_result"
    }
   ],
   "source": [
    "fi_df = pd.DataFrame(rf.feature_importances_*100,index = train_df.columns).sort_values(0, ascending = False)\n",
    "fi_df"
   ]
  },
  {
   "cell_type": "markdown",
   "metadata": {},
   "source": [
    "#### lgbm"
   ]
  },
  {
   "cell_type": "code",
   "execution_count": 283,
   "metadata": {
    "ExecuteTime": {
     "end_time": "2020-06-22T08:02:50.367400Z",
     "start_time": "2020-06-22T08:02:49.019591Z"
    }
   },
   "outputs": [
    {
     "data": {
      "text/plain": [
       "29393.138022876672"
      ]
     },
     "execution_count": 283,
     "metadata": {},
     "output_type": "execute_result"
    }
   ],
   "source": [
    "lgbm_c = lightgbm.LGBMRegressor(random_state=42, learning_rate=0.005,n_estimators= 1000,)\n",
    "lgbm_c.fit(X_train,y_train)\n",
    "lgbm_y_pred = lgbm_c.predict(X_test)\n",
    "\n",
    "np.sqrt(mean_squared_error(y_test,lgbm_y_pred))"
   ]
  },
  {
   "cell_type": "code",
   "execution_count": 284,
   "metadata": {
    "ExecuteTime": {
     "end_time": "2020-06-22T08:02:50.377402Z",
     "start_time": "2020-06-22T08:02:50.368400Z"
    }
   },
   "outputs": [
    {
     "data": {
      "text/html": [
       "<div>\n",
       "<style scoped>\n",
       "    .dataframe tbody tr th:only-of-type {\n",
       "        vertical-align: middle;\n",
       "    }\n",
       "\n",
       "    .dataframe tbody tr th {\n",
       "        vertical-align: top;\n",
       "    }\n",
       "\n",
       "    .dataframe thead th {\n",
       "        text-align: right;\n",
       "    }\n",
       "</style>\n",
       "<table border=\"1\" class=\"dataframe\">\n",
       "  <thead>\n",
       "    <tr style=\"text-align: right;\">\n",
       "      <th></th>\n",
       "      <th>0</th>\n",
       "    </tr>\n",
       "  </thead>\n",
       "  <tbody>\n",
       "    <tr>\n",
       "      <td>unholy_amount_mean</td>\n",
       "      <td>3001</td>\n",
       "    </tr>\n",
       "    <tr>\n",
       "      <td>day_gap</td>\n",
       "      <td>2936</td>\n",
       "    </tr>\n",
       "    <tr>\n",
       "      <td>day_per_amount</td>\n",
       "      <td>1811</td>\n",
       "    </tr>\n",
       "    <tr>\n",
       "      <td>5_amount_mean</td>\n",
       "      <td>1748</td>\n",
       "    </tr>\n",
       "    <tr>\n",
       "      <td>unholy_amount</td>\n",
       "      <td>1497</td>\n",
       "    </tr>\n",
       "    <tr>\n",
       "      <td>2_amount_mean</td>\n",
       "      <td>1418</td>\n",
       "    </tr>\n",
       "    <tr>\n",
       "      <td>holy_amount_mean</td>\n",
       "      <td>1341</td>\n",
       "    </tr>\n",
       "    <tr>\n",
       "      <td>before_amount</td>\n",
       "      <td>1310</td>\n",
       "    </tr>\n",
       "    <tr>\n",
       "      <td>trans_per_amount</td>\n",
       "      <td>1309</td>\n",
       "    </tr>\n",
       "    <tr>\n",
       "      <td>1_amount_mean</td>\n",
       "      <td>1253</td>\n",
       "    </tr>\n",
       "    <tr>\n",
       "      <td>6_amount_mean</td>\n",
       "      <td>868</td>\n",
       "    </tr>\n",
       "    <tr>\n",
       "      <td>3_amount_mean</td>\n",
       "      <td>867</td>\n",
       "    </tr>\n",
       "    <tr>\n",
       "      <td>3_amount</td>\n",
       "      <td>834</td>\n",
       "    </tr>\n",
       "    <tr>\n",
       "      <td>holy_amount</td>\n",
       "      <td>819</td>\n",
       "    </tr>\n",
       "    <tr>\n",
       "      <td>4_amount_mean</td>\n",
       "      <td>799</td>\n",
       "    </tr>\n",
       "    <tr>\n",
       "      <td>0_amount</td>\n",
       "      <td>780</td>\n",
       "    </tr>\n",
       "    <tr>\n",
       "      <td>5_amount</td>\n",
       "      <td>760</td>\n",
       "    </tr>\n",
       "    <tr>\n",
       "      <td>transfer_count</td>\n",
       "      <td>742</td>\n",
       "    </tr>\n",
       "    <tr>\n",
       "      <td>4_amount</td>\n",
       "      <td>737</td>\n",
       "    </tr>\n",
       "    <tr>\n",
       "      <td>0_amount_mean</td>\n",
       "      <td>730</td>\n",
       "    </tr>\n",
       "    <tr>\n",
       "      <td>refund_per_all</td>\n",
       "      <td>620</td>\n",
       "    </tr>\n",
       "    <tr>\n",
       "      <td>6_amount</td>\n",
       "      <td>574</td>\n",
       "    </tr>\n",
       "    <tr>\n",
       "      <td>1_amount</td>\n",
       "      <td>508</td>\n",
       "    </tr>\n",
       "    <tr>\n",
       "      <td>2_amount</td>\n",
       "      <td>435</td>\n",
       "    </tr>\n",
       "    <tr>\n",
       "      <td>refund_sum</td>\n",
       "      <td>350</td>\n",
       "    </tr>\n",
       "    <tr>\n",
       "      <td>5</td>\n",
       "      <td>317</td>\n",
       "    </tr>\n",
       "    <tr>\n",
       "      <td>installment_mean</td>\n",
       "      <td>220</td>\n",
       "    </tr>\n",
       "    <tr>\n",
       "      <td>0</td>\n",
       "      <td>150</td>\n",
       "    </tr>\n",
       "    <tr>\n",
       "      <td>holyday</td>\n",
       "      <td>139</td>\n",
       "    </tr>\n",
       "    <tr>\n",
       "      <td>4</td>\n",
       "      <td>134</td>\n",
       "    </tr>\n",
       "    <tr>\n",
       "      <td>6</td>\n",
       "      <td>133</td>\n",
       "    </tr>\n",
       "    <tr>\n",
       "      <td>after_holy</td>\n",
       "      <td>126</td>\n",
       "    </tr>\n",
       "    <tr>\n",
       "      <td>1</td>\n",
       "      <td>121</td>\n",
       "    </tr>\n",
       "    <tr>\n",
       "      <td>a_0</td>\n",
       "      <td>106</td>\n",
       "    </tr>\n",
       "    <tr>\n",
       "      <td>3</td>\n",
       "      <td>98</td>\n",
       "    </tr>\n",
       "    <tr>\n",
       "      <td>a_2</td>\n",
       "      <td>86</td>\n",
       "    </tr>\n",
       "    <tr>\n",
       "      <td>2</td>\n",
       "      <td>83</td>\n",
       "    </tr>\n",
       "    <tr>\n",
       "      <td>installment_sum</td>\n",
       "      <td>82</td>\n",
       "    </tr>\n",
       "    <tr>\n",
       "      <td>a_3</td>\n",
       "      <td>27</td>\n",
       "    </tr>\n",
       "    <tr>\n",
       "      <td>installment_count</td>\n",
       "      <td>26</td>\n",
       "    </tr>\n",
       "    <tr>\n",
       "      <td>a_1</td>\n",
       "      <td>25</td>\n",
       "    </tr>\n",
       "    <tr>\n",
       "      <td>a_6</td>\n",
       "      <td>2</td>\n",
       "    </tr>\n",
       "    <tr>\n",
       "      <td>a_4</td>\n",
       "      <td>2</td>\n",
       "    </tr>\n",
       "    <tr>\n",
       "      <td>a_5</td>\n",
       "      <td>1</td>\n",
       "    </tr>\n",
       "  </tbody>\n",
       "</table>\n",
       "</div>"
      ],
      "text/plain": [
       "                       0\n",
       "unholy_amount_mean  3001\n",
       "day_gap             2936\n",
       "day_per_amount      1811\n",
       "5_amount_mean       1748\n",
       "unholy_amount       1497\n",
       "2_amount_mean       1418\n",
       "holy_amount_mean    1341\n",
       "before_amount       1310\n",
       "trans_per_amount    1309\n",
       "1_amount_mean       1253\n",
       "6_amount_mean        868\n",
       "3_amount_mean        867\n",
       "3_amount             834\n",
       "holy_amount          819\n",
       "4_amount_mean        799\n",
       "0_amount             780\n",
       "5_amount             760\n",
       "transfer_count       742\n",
       "4_amount             737\n",
       "0_amount_mean        730\n",
       "refund_per_all       620\n",
       "6_amount             574\n",
       "1_amount             508\n",
       "2_amount             435\n",
       "refund_sum           350\n",
       "5                    317\n",
       "installment_mean     220\n",
       "0                    150\n",
       "holyday              139\n",
       "4                    134\n",
       "6                    133\n",
       "after_holy           126\n",
       "1                    121\n",
       "a_0                  106\n",
       "3                     98\n",
       "a_2                   86\n",
       "2                     83\n",
       "installment_sum       82\n",
       "a_3                   27\n",
       "installment_count     26\n",
       "a_1                   25\n",
       "a_6                    2\n",
       "a_4                    2\n",
       "a_5                    1"
      ]
     },
     "execution_count": 284,
     "metadata": {},
     "output_type": "execute_result"
    }
   ],
   "source": [
    "fi_df = pd.DataFrame(lgbm_c.feature_importances_,index = train_df.columns).sort_values(0, ascending = False)\n",
    "fi_df"
   ]
  },
  {
   "cell_type": "markdown",
   "metadata": {},
   "source": [
    "### final"
   ]
  },
  {
   "cell_type": "code",
   "execution_count": 304,
   "metadata": {
    "ExecuteTime": {
     "end_time": "2020-06-22T08:10:35.126406Z",
     "start_time": "2020-06-22T08:10:19.492057Z"
    }
   },
   "outputs": [],
   "source": [
    "# #lgbm\n",
    "# lgbm_c.fit(train_df,y)\n",
    "# y_pred_fin = lgbm_c.predict(test_df)\n",
    "# score = np.sqrt(mean_squared_error(y_test,lgbm_y_pred))\n",
    "\n",
    "# rf\n",
    "rf.fit(train_df,y)\n",
    "y_pred_fin = rf.predict(test_df)\n",
    "score = np.sqrt(mean_squared_error(y_test,rf_y_pred))"
   ]
  },
  {
   "cell_type": "code",
   "execution_count": 305,
   "metadata": {
    "ExecuteTime": {
     "end_time": "2020-06-22T08:10:36.826791Z",
     "start_time": "2020-06-22T08:10:36.820790Z"
    }
   },
   "outputs": [],
   "source": [
    "submission['total_sales'] = y_pred_fin\n",
    "\n",
    "today = datetime.datetime.today().date()\n",
    "os.makedirs('./submission/',exist_ok=True)\n",
    "submission.to_csv(f'./submission/submission_{today}_rf_{score}.csv',index=False)"
   ]
  },
  {
   "cell_type": "code",
   "execution_count": 298,
   "metadata": {
    "ExecuteTime": {
     "end_time": "2020-06-22T08:07:29.318487Z",
     "start_time": "2020-06-22T08:07:29.316486Z"
    }
   },
   "outputs": [],
   "source": [
    "today = datetime.datetime.today()"
   ]
  },
  {
   "cell_type": "code",
   "execution_count": 301,
   "metadata": {
    "ExecuteTime": {
     "end_time": "2020-06-22T08:08:44.041593Z",
     "start_time": "2020-06-22T08:08:44.037592Z"
    }
   },
   "outputs": [
    {
     "data": {
      "text/plain": [
       "datetime.date(2020, 6, 22)"
      ]
     },
     "execution_count": 301,
     "metadata": {},
     "output_type": "execute_result"
    }
   ],
   "source": [
    "datetime.datetime.date(today)"
   ]
  },
  {
   "cell_type": "code",
   "execution_count": null,
   "metadata": {},
   "outputs": [],
   "source": []
  }
 ],
 "metadata": {
  "kernelspec": {
   "display_name": "Python 3",
   "language": "python",
   "name": "python3"
  },
  "language_info": {
   "codemirror_mode": {
    "name": "ipython",
    "version": 3
   },
   "file_extension": ".py",
   "mimetype": "text/x-python",
   "name": "python",
   "nbconvert_exporter": "python",
   "pygments_lexer": "ipython3",
   "version": "3.6.5"
  },
  "toc": {
   "base_numbering": 1,
   "nav_menu": {},
   "number_sections": true,
   "sideBar": true,
   "skip_h1_title": false,
   "title_cell": "Table of Contents",
   "title_sidebar": "Contents",
   "toc_cell": false,
   "toc_position": {},
   "toc_section_display": true,
   "toc_window_display": false
  },
  "varInspector": {
   "cols": {
    "lenName": 16,
    "lenType": 16,
    "lenVar": 40
   },
   "kernels_config": {
    "python": {
     "delete_cmd_postfix": "",
     "delete_cmd_prefix": "del ",
     "library": "var_list.py",
     "varRefreshCmd": "print(var_dic_list())"
    },
    "r": {
     "delete_cmd_postfix": ") ",
     "delete_cmd_prefix": "rm(",
     "library": "var_list.r",
     "varRefreshCmd": "cat(var_dic_list()) "
    }
   },
   "types_to_exclude": [
    "module",
    "function",
    "builtin_function_or_method",
    "instance",
    "_Feature"
   ],
   "window_display": false
  }
 },
 "nbformat": 4,
 "nbformat_minor": 2
}
