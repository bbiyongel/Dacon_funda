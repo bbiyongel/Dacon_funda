{
 "cells": [
  {
   "cell_type": "markdown",
   "metadata": {},
   "source": [
    "## import / load data"
   ]
  },
  {
   "cell_type": "code",
   "execution_count": 20,
   "metadata": {
    "ExecuteTime": {
     "end_time": "2020-06-21T18:21:18.573570Z",
     "start_time": "2020-06-21T18:21:16.888912Z"
    }
   },
   "outputs": [],
   "source": [
    "import pandas as pd\n",
    "import numpy as np\n",
    "import os\n",
    "import matplotlib.pyplot as plt\n",
    "import seaborn as sns\n",
    "import datetime\n",
    "from tqdm import tqdm_notebook\n",
    "\n",
    "from sklearn.ensemble import RandomForestRegressor\n",
    "from sklearn.model_selection import train_test_split\n",
    "from sklearn.metrics import mean_squared_error\n",
    "import lightgbm\n",
    "import xgboost"
   ]
  },
  {
   "cell_type": "code",
   "execution_count": 2,
   "metadata": {
    "ExecuteTime": {
     "end_time": "2020-06-21T18:18:21.817257Z",
     "start_time": "2020-06-21T18:18:19.516688Z"
    }
   },
   "outputs": [],
   "source": [
    "path = './data/'\n",
    "train = pd.read_csv(path + 'train.csv')\n",
    "test = pd.read_csv(path + 'test.csv')\n",
    "submission  = pd.read_csv(path + 'submission.csv')"
   ]
  },
  {
   "cell_type": "markdown",
   "metadata": {},
   "source": [
    "## Data setting"
   ]
  },
  {
   "cell_type": "code",
   "execution_count": 3,
   "metadata": {
    "ExecuteTime": {
     "end_time": "2020-06-21T18:18:22.119324Z",
     "start_time": "2020-06-21T18:18:21.818257Z"
    }
   },
   "outputs": [],
   "source": [
    "# train/test 결합\n",
    "train['test'] = 0\n",
    "test['test'] = 1\n",
    "merge_df = pd.concat([train,test])"
   ]
  },
  {
   "cell_type": "code",
   "execution_count": 4,
   "metadata": {
    "ExecuteTime": {
     "end_time": "2020-06-21T18:18:44.042981Z",
     "start_time": "2020-06-21T18:18:22.120324Z"
    }
   },
   "outputs": [],
   "source": [
    "# 날짜\n",
    "merge_df['date'] = pd.to_datetime(merge_df.date)\n",
    "merge_df['year'] = merge_df['date'].apply(lambda x : x.year)\n",
    "merge_df['month'] = merge_df['date'].apply(lambda x : x.month)"
   ]
  },
  {
   "cell_type": "code",
   "execution_count": 5,
   "metadata": {
    "ExecuteTime": {
     "end_time": "2020-06-21T18:18:44.743156Z",
     "start_time": "2020-06-21T18:18:44.043982Z"
    }
   },
   "outputs": [],
   "source": [
    "# 평균소비액\n",
    "daily_amount = merge_df[merge_df.amount>0].groupby('date')['amount'].mean()\n",
    "\n",
    "# 거래취소의 경우 \n",
    "merge_df.loc[merge_df.amount <0, 'refund'] = 1\n",
    "merge_df.loc[merge_df.amount >0, 'refund'] = 0\n",
    "# merge_df.loc[merge_df.amount <0, 'amount'] = 0"
   ]
  },
  {
   "cell_type": "code",
   "execution_count": 6,
   "metadata": {
    "ExecuteTime": {
     "end_time": "2020-06-21T18:18:44.756159Z",
     "start_time": "2020-06-21T18:18:44.744156Z"
    }
   },
   "outputs": [
    {
     "data": {
      "text/html": [
       "<div>\n",
       "<style scoped>\n",
       "    .dataframe tbody tr th:only-of-type {\n",
       "        vertical-align: middle;\n",
       "    }\n",
       "\n",
       "    .dataframe tbody tr th {\n",
       "        vertical-align: top;\n",
       "    }\n",
       "\n",
       "    .dataframe thead th {\n",
       "        text-align: right;\n",
       "    }\n",
       "</style>\n",
       "<table border=\"1\" class=\"dataframe\">\n",
       "  <thead>\n",
       "    <tr style=\"text-align: right;\">\n",
       "      <th></th>\n",
       "      <th>store_id</th>\n",
       "      <th>date</th>\n",
       "      <th>time</th>\n",
       "      <th>card_id</th>\n",
       "      <th>amount</th>\n",
       "      <th>installments</th>\n",
       "      <th>days_of_week</th>\n",
       "      <th>holyday</th>\n",
       "      <th>test</th>\n",
       "      <th>year</th>\n",
       "      <th>month</th>\n",
       "      <th>refund</th>\n",
       "    </tr>\n",
       "  </thead>\n",
       "  <tbody>\n",
       "    <tr>\n",
       "      <td>0</td>\n",
       "      <td>0</td>\n",
       "      <td>2016-12-14</td>\n",
       "      <td>18:05:31</td>\n",
       "      <td>d297bba73f</td>\n",
       "      <td>5</td>\n",
       "      <td>NaN</td>\n",
       "      <td>2</td>\n",
       "      <td>0</td>\n",
       "      <td>0</td>\n",
       "      <td>2016</td>\n",
       "      <td>12</td>\n",
       "      <td>0.0</td>\n",
       "    </tr>\n",
       "    <tr>\n",
       "      <td>1</td>\n",
       "      <td>0</td>\n",
       "      <td>2016-12-14</td>\n",
       "      <td>18:05:54</td>\n",
       "      <td>d297bba73f</td>\n",
       "      <td>-5</td>\n",
       "      <td>NaN</td>\n",
       "      <td>2</td>\n",
       "      <td>0</td>\n",
       "      <td>0</td>\n",
       "      <td>2016</td>\n",
       "      <td>12</td>\n",
       "      <td>1.0</td>\n",
       "    </tr>\n",
       "  </tbody>\n",
       "</table>\n",
       "</div>"
      ],
      "text/plain": [
       "   store_id       date      time     card_id  amount  installments  \\\n",
       "0         0 2016-12-14  18:05:31  d297bba73f       5           NaN   \n",
       "1         0 2016-12-14  18:05:54  d297bba73f      -5           NaN   \n",
       "\n",
       "   days_of_week  holyday  test  year  month  refund  \n",
       "0             2        0     0  2016     12     0.0  \n",
       "1             2        0     0  2016     12     1.0  "
      ]
     },
     "execution_count": 6,
     "metadata": {},
     "output_type": "execute_result"
    }
   ],
   "source": [
    "merge_df.head(2)"
   ]
  },
  {
   "cell_type": "markdown",
   "metadata": {},
   "source": [
    "### train_data setting\n",
    "* store_id가 연속적이진 않다 (11과 같은 숫자는 없음)"
   ]
  },
  {
   "cell_type": "code",
   "execution_count": 31,
   "metadata": {
    "ExecuteTime": {
     "end_time": "2020-06-21T18:23:51.566346Z",
     "start_time": "2020-06-21T18:23:51.490329Z"
    }
   },
   "outputs": [],
   "source": [
    "# 전체 날짜의 요일, 휴일\n",
    "all_dates = merge_df.drop_duplicates('date').sort_values('date')\n",
    "all_dates = all_dates[['date','days_of_week','holyday']]\n",
    "all_dates.reset_index(drop=True, inplace=True)"
   ]
  },
  {
   "cell_type": "code",
   "execution_count": 32,
   "metadata": {
    "ExecuteTime": {
     "end_time": "2020-06-21T18:23:53.274494Z",
     "start_time": "2020-06-21T18:23:51.567346Z"
    }
   },
   "outputs": [],
   "source": [
    "train_df = merge_df[merge_df.test == 0]\n",
    "\n",
    "# 날짜범위 확인\n",
    "train_fin = train_df.groupby('store_id')['date'].agg(['min','max'])\n",
    "train_fin.reset_index(inplace=True)\n",
    "train_fin['last_day'] = train_fin['max'] - datetime.timedelta(100)\n",
    "\n",
    "#최초거래일자부터 마지막 거래일자까지의 기간\n",
    "train_fin['day_gap'] = train_fin['last_day'] - train_fin['min']\n",
    "train_fin['day_gap'] = train_fin['day_gap'].apply(lambda x : x.days)\n",
    "\n",
    "# 마지막 날짜에서 100일전 이전의 거래내역이 없으면 학습대상이 아님\n",
    "train_fin.loc[train_fin['min'] > train_fin['last_day'],'outbound'] = 1\n",
    "train_fin.loc[~(train_fin['min'] > train_fin['last_day']),'outbound'] = 0\n",
    "\n",
    "del_list = train_fin[train_fin.outbound == 1].index\n",
    "\n",
    "train_fin.drop(del_list,inplace= True)\n",
    "del train_fin['outbound']\n",
    "train_fin.reset_index(drop = True,inplace=True)\n",
    "\n",
    "# 일자별 결제\n",
    "check_amount = train_df.groupby(['store_id','date'])['amount'].agg(['sum','count']).reset_index()\n",
    "refund_df = train_df.groupby(['store_id','date'])['refund'].sum().reset_index()\n",
    "installlment_df = train_df.groupby(['store_id','date'])['installments'].sum().reset_index()"
   ]
  },
  {
   "cell_type": "code",
   "execution_count": 33,
   "metadata": {
    "ExecuteTime": {
     "end_time": "2020-06-21T18:24:15.366215Z",
     "start_time": "2020-06-21T18:23:53.275495Z"
    },
    "scrolled": true
   },
   "outputs": [
    {
     "name": "stderr",
     "output_type": "stream",
     "text": [
      "C:\\Users\\try00\\Anaconda3\\lib\\site-packages\\ipykernel_launcher.py:10: TqdmDeprecationWarning: This function will be removed in tqdm==5.0.0\n",
      "Please use `tqdm.notebook.tqdm` instead of `tqdm.tqdm_notebook`\n",
      "  # Remove the CWD from sys.path while we load stuff.\n"
     ]
    },
    {
     "data": {
      "application/vnd.jupyter.widget-view+json": {
       "model_id": "833c4bd1a6cb4df0899d83dec28b0c78",
       "version_major": 2,
       "version_minor": 0
      },
      "text/plain": [
       "HBox(children=(FloatProgress(value=0.0, max=1641.0), HTML(value='')))"
      ]
     },
     "metadata": {},
     "output_type": "display_data"
    },
    {
     "name": "stdout",
     "output_type": "stream",
     "text": [
      "\n"
     ]
    }
   ],
   "source": [
    "before_amount_ls = []\n",
    "after_amount_ls = []\n",
    "transfer_count_ls = []\n",
    "\n",
    "before_holyday_ls = []\n",
    "before_week_dict_ls =[]\n",
    "refund_ls = []\n",
    "installment_ls = []\n",
    "\n",
    "for i in tqdm_notebook(train_fin.index):\n",
    "    last_day = train_fin.loc[train_fin.index == i,'last_day'].iloc[0]\n",
    "    store_id = train_fin.loc[train_fin.index == i,'store_id'].iloc[0]\n",
    "    one = check_amount.loc[(check_amount.store_id == store_id)].reset_index(drop=True)\n",
    "    two = refund_df.loc[(refund_df.store_id == store_id)].reset_index(drop=True)\n",
    "    three = installlment_df.loc[(installlment_df.store_id == store_id)].reset_index(drop=True)\n",
    "    \n",
    "    try :\n",
    "        last_index = one.loc[one.date < last_day].index[-1]\n",
    "        \n",
    "        before = one[0:last_index+1]\n",
    "        after = one[last_index+1:]\n",
    "        \n",
    "        transfer_count = before['count'].sum()\n",
    "        before_amount = before['sum'].sum()\n",
    "        after_amount = after['sum'].sum()\n",
    "        \n",
    "        \n",
    "        #요일, 휴일\n",
    "        before_holyday = pd.merge(before,all_dates)['holyday'].sum()\n",
    "        before_week = pd.merge(before,all_dates)['days_of_week'].value_counts().to_dict()\n",
    "\n",
    "        after_holyday = pd.merge(after,all_dates)['holyday'].sum()\n",
    "        after_week = pd.merge(after,all_dates)['days_of_week'].value_counts().to_dict()\n",
    "        \n",
    "        #환불횟수, 할부총기간\n",
    "        refund = two[0:last_index+1]['refund'].sum()\n",
    "        installment = three[0:last_index+1]['installments'].sum()\n",
    "        \n",
    "        #저장\n",
    "        transfer_count_ls.append(transfer_count)\n",
    "        before_amount_ls.append(before_amount)\n",
    "        after_amount_ls.append(after_amount)\n",
    "        \n",
    "        before_holyday_ls.append(before_holyday)\n",
    "        before_week_dict_ls.append(before_week)\n",
    "        \n",
    "        refund_ls.append(refund)\n",
    "        installment_ls.append(installment)\n",
    "        \n",
    "    except :\n",
    "        transfer_count_ls.append(np.nan)\n",
    "        before_amount_ls.append(np.nan)\n",
    "        after_amount_ls.append(np.nan)\n",
    "        \n",
    "        before_holyday_ls.append(np.nan)\n",
    "        before_week_dict_ls.append({})\n",
    "        refund_ls.append(np.nan)\n",
    "        installment_ls.append(np.nan)\n",
    "    \n",
    "        \n",
    "train_fin['transfer_count'] = transfer_count_ls\n",
    "train_fin['before_amount'] = before_amount_ls\n",
    "train_fin['after_amount'] = after_amount_ls\n",
    "train_fin['before_holyday'] = before_holyday_ls\n",
    "train_fin['refund_sum'] = refund_ls\n",
    "train_fin['installlment_sum'] = installment_ls\n",
    "\n",
    "# 요일 추가\n",
    "week_df = pd.DataFrame(before_week_dict_ls)\n",
    "week_df = week_df[[0,1,2,3,4,5,6]]\n",
    "\n",
    "train_fin = pd.concat([train_fin,week_df],axis= 1)"
   ]
  },
  {
   "cell_type": "code",
   "execution_count": 34,
   "metadata": {
    "ExecuteTime": {
     "end_time": "2020-06-21T18:24:15.378218Z",
     "start_time": "2020-06-21T18:24:15.367215Z"
    }
   },
   "outputs": [
    {
     "data": {
      "text/html": [
       "<div>\n",
       "<style scoped>\n",
       "    .dataframe tbody tr th:only-of-type {\n",
       "        vertical-align: middle;\n",
       "    }\n",
       "\n",
       "    .dataframe tbody tr th {\n",
       "        vertical-align: top;\n",
       "    }\n",
       "\n",
       "    .dataframe thead th {\n",
       "        text-align: right;\n",
       "    }\n",
       "</style>\n",
       "<table border=\"1\" class=\"dataframe\">\n",
       "  <thead>\n",
       "    <tr style=\"text-align: right;\">\n",
       "      <th></th>\n",
       "      <th>store_id</th>\n",
       "      <th>min</th>\n",
       "      <th>max</th>\n",
       "      <th>last_day</th>\n",
       "      <th>day_gap</th>\n",
       "      <th>transfer_count</th>\n",
       "      <th>before_amount</th>\n",
       "      <th>after_amount</th>\n",
       "      <th>before_holyday</th>\n",
       "      <th>refund_sum</th>\n",
       "      <th>installlment_sum</th>\n",
       "      <th>0</th>\n",
       "      <th>1</th>\n",
       "      <th>2</th>\n",
       "      <th>3</th>\n",
       "      <th>4</th>\n",
       "      <th>5</th>\n",
       "      <th>6</th>\n",
       "    </tr>\n",
       "  </thead>\n",
       "  <tbody>\n",
       "    <tr>\n",
       "      <td>0</td>\n",
       "      <td>0</td>\n",
       "      <td>2016-12-14</td>\n",
       "      <td>2018-07-31</td>\n",
       "      <td>2018-04-22</td>\n",
       "      <td>494</td>\n",
       "      <td>56725</td>\n",
       "      <td>4361581</td>\n",
       "      <td>873030</td>\n",
       "      <td>25</td>\n",
       "      <td>499.0</td>\n",
       "      <td>526.0</td>\n",
       "      <td>70.0</td>\n",
       "      <td>70.0</td>\n",
       "      <td>71.0</td>\n",
       "      <td>70.0</td>\n",
       "      <td>70.0</td>\n",
       "      <td>70.0</td>\n",
       "      <td>69.0</td>\n",
       "    </tr>\n",
       "    <tr>\n",
       "      <td>1</td>\n",
       "      <td>1</td>\n",
       "      <td>2016-12-21</td>\n",
       "      <td>2018-07-02</td>\n",
       "      <td>2018-03-24</td>\n",
       "      <td>458</td>\n",
       "      <td>35</td>\n",
       "      <td>120650</td>\n",
       "      <td>27300</td>\n",
       "      <td>0</td>\n",
       "      <td>0.0</td>\n",
       "      <td>64.0</td>\n",
       "      <td>10.0</td>\n",
       "      <td>9.0</td>\n",
       "      <td>7.0</td>\n",
       "      <td>3.0</td>\n",
       "      <td>2.0</td>\n",
       "      <td>NaN</td>\n",
       "      <td>NaN</td>\n",
       "    </tr>\n",
       "  </tbody>\n",
       "</table>\n",
       "</div>"
      ],
      "text/plain": [
       "   store_id        min        max   last_day  day_gap  transfer_count  \\\n",
       "0         0 2016-12-14 2018-07-31 2018-04-22      494           56725   \n",
       "1         1 2016-12-21 2018-07-02 2018-03-24      458              35   \n",
       "\n",
       "   before_amount  after_amount  before_holyday  refund_sum  installlment_sum  \\\n",
       "0        4361581        873030              25       499.0             526.0   \n",
       "1         120650         27300               0         0.0              64.0   \n",
       "\n",
       "      0     1     2     3     4     5     6  \n",
       "0  70.0  70.0  71.0  70.0  70.0  70.0  69.0  \n",
       "1  10.0   9.0   7.0   3.0   2.0   NaN   NaN  "
      ]
     },
     "execution_count": 34,
     "metadata": {},
     "output_type": "execute_result"
    }
   ],
   "source": [
    "train_fin.head(2)"
   ]
  },
  {
   "cell_type": "markdown",
   "metadata": {},
   "source": [
    "### test_data setting"
   ]
  },
  {
   "cell_type": "code",
   "execution_count": 35,
   "metadata": {
    "ExecuteTime": {
     "end_time": "2020-06-21T18:24:15.605269Z",
     "start_time": "2020-06-21T18:24:15.379218Z"
    }
   },
   "outputs": [],
   "source": [
    "test_df = merge_df[merge_df.test == 1]\n",
    "\n",
    "# 날짜범위 확인\n",
    "test_fin = test_df.groupby('store_id')['date'].agg(['min','max'])\n",
    "test_fin.reset_index(inplace=True)\n",
    "\n",
    "#최초거래일자부터 마지막 거래일자까지의 기간\n",
    "test_fin['day_gap'] = test_fin['max'] - test_fin['min']\n",
    "test_fin['day_gap'] = test_fin['day_gap'].apply(lambda x : x.days)\n",
    "\n",
    "# 일자별 결제\n",
    "check_amount = test_df.groupby(['store_id'])['amount'].agg(['sum','count']).reset_index()\n",
    "check_amount = check_amount.rename(columns={'sum':'before_amount','count':'transfer_count'})\n",
    "test_fin = pd.merge(test_fin,check_amount)\n",
    "\n",
    "refund_df = test_df.groupby(['store_id','date'])['refund'].sum().reset_index()\n",
    "installlment_df = test_df.groupby(['store_id','date'])['installments'].sum().reset_index()"
   ]
  },
  {
   "cell_type": "code",
   "execution_count": 36,
   "metadata": {
    "ExecuteTime": {
     "end_time": "2020-06-21T18:24:17.313159Z",
     "start_time": "2020-06-21T18:24:15.606270Z"
    }
   },
   "outputs": [],
   "source": [
    "check_amount = train_df.groupby(['store_id','date'])['amount'].sum().reset_index()\n",
    "\n",
    "before_holyday_ls = []\n",
    "before_week_dict_ls =[]\n",
    "\n",
    "refund_ls = []\n",
    "installment_ls = []\n",
    "\n",
    "for store_id in range(0, test_fin.store_id.nunique()):\n",
    "    one = check_amount.loc[(check_amount.store_id == store_id)].reset_index(drop=True)\n",
    "    two = refund_df.loc[(refund_df.store_id == store_id)].reset_index(drop=True)\n",
    "    three = installlment_df.loc[(installlment_df.store_id == store_id)].reset_index(drop=True)\n",
    "    \n",
    "    refund = two['refund'].sum()\n",
    "    installment = three['installments'].sum()\n",
    "    \n",
    "    holyday = pd.merge(one['date'],all_dates)['holyday'].sum()\n",
    "    before_week = pd.merge(one['date'],all_dates)['days_of_week'].value_counts().to_dict()\n",
    "    \n",
    "    before_holyday_ls.append(holyday)\n",
    "    before_week_dict_ls.append(before_week)\n",
    "    \n",
    "    refund_ls.append(refund)\n",
    "    installment_ls.append(installment)\n",
    "    \n",
    "test_fin['holyday'] =  before_holyday_ls\n",
    "test_fin['refund_sum'] =  refund_ls\n",
    "test_fin['installment_sum'] = installment_ls\n",
    "\n",
    "# 요일 추가\n",
    "week_df = pd.DataFrame(before_week_dict_ls)\n",
    "week_df = week_df[[0,1,2,3,4,5,6]]\n",
    "\n",
    "test_fin = pd.concat([test_fin,week_df],axis= 1)"
   ]
  },
  {
   "cell_type": "code",
   "execution_count": 37,
   "metadata": {
    "ExecuteTime": {
     "end_time": "2020-06-21T18:24:17.324161Z",
     "start_time": "2020-06-21T18:24:17.314159Z"
    }
   },
   "outputs": [
    {
     "data": {
      "text/html": [
       "<div>\n",
       "<style scoped>\n",
       "    .dataframe tbody tr th:only-of-type {\n",
       "        vertical-align: middle;\n",
       "    }\n",
       "\n",
       "    .dataframe tbody tr th {\n",
       "        vertical-align: top;\n",
       "    }\n",
       "\n",
       "    .dataframe thead th {\n",
       "        text-align: right;\n",
       "    }\n",
       "</style>\n",
       "<table border=\"1\" class=\"dataframe\">\n",
       "  <thead>\n",
       "    <tr style=\"text-align: right;\">\n",
       "      <th></th>\n",
       "      <th>store_id</th>\n",
       "      <th>min</th>\n",
       "      <th>max</th>\n",
       "      <th>day_gap</th>\n",
       "      <th>before_amount</th>\n",
       "      <th>transfer_count</th>\n",
       "      <th>holyday</th>\n",
       "      <th>refund_sum</th>\n",
       "      <th>installment_sum</th>\n",
       "      <th>0</th>\n",
       "      <th>1</th>\n",
       "      <th>2</th>\n",
       "      <th>3</th>\n",
       "      <th>4</th>\n",
       "      <th>5</th>\n",
       "      <th>6</th>\n",
       "    </tr>\n",
       "  </thead>\n",
       "  <tbody>\n",
       "    <tr>\n",
       "      <td>0</td>\n",
       "      <td>0</td>\n",
       "      <td>2016-08-01</td>\n",
       "      <td>2018-03-31</td>\n",
       "      <td>607</td>\n",
       "      <td>638257</td>\n",
       "      <td>4215</td>\n",
       "      <td>31</td>\n",
       "      <td>14.0</td>\n",
       "      <td>2.0</td>\n",
       "      <td>85.0</td>\n",
       "      <td>85.0</td>\n",
       "      <td>85.0</td>\n",
       "      <td>84.0</td>\n",
       "      <td>84.0</td>\n",
       "      <td>84.0</td>\n",
       "      <td>84.0</td>\n",
       "    </tr>\n",
       "    <tr>\n",
       "      <td>1</td>\n",
       "      <td>1</td>\n",
       "      <td>2016-08-02</td>\n",
       "      <td>2018-03-30</td>\n",
       "      <td>605</td>\n",
       "      <td>427806</td>\n",
       "      <td>435</td>\n",
       "      <td>0</td>\n",
       "      <td>14.0</td>\n",
       "      <td>192.0</td>\n",
       "      <td>13.0</td>\n",
       "      <td>10.0</td>\n",
       "      <td>7.0</td>\n",
       "      <td>3.0</td>\n",
       "      <td>2.0</td>\n",
       "      <td>1.0</td>\n",
       "      <td>NaN</td>\n",
       "    </tr>\n",
       "  </tbody>\n",
       "</table>\n",
       "</div>"
      ],
      "text/plain": [
       "   store_id        min        max  day_gap  before_amount  transfer_count  \\\n",
       "0         0 2016-08-01 2018-03-31      607         638257            4215   \n",
       "1         1 2016-08-02 2018-03-30      605         427806             435   \n",
       "\n",
       "   holyday  refund_sum  installment_sum     0     1     2     3     4     5  \\\n",
       "0       31        14.0              2.0  85.0  85.0  85.0  84.0  84.0  84.0   \n",
       "1        0        14.0            192.0  13.0  10.0   7.0   3.0   2.0   1.0   \n",
       "\n",
       "      6  \n",
       "0  84.0  \n",
       "1   NaN  "
      ]
     },
     "execution_count": 37,
     "metadata": {},
     "output_type": "execute_result"
    }
   ],
   "source": [
    "test_fin.head(2)"
   ]
  },
  {
   "cell_type": "markdown",
   "metadata": {},
   "source": [
    "### 최종전처리"
   ]
  },
  {
   "cell_type": "code",
   "execution_count": 38,
   "metadata": {
    "ExecuteTime": {
     "end_time": "2020-06-21T18:24:17.356169Z",
     "start_time": "2020-06-21T18:24:17.325162Z"
    }
   },
   "outputs": [],
   "source": [
    "y = train_fin['after_amount']\n",
    "\n",
    "train_fin.drop(['min','max','last_day','after_amount','store_id'],axis = 1,inplace=True)\n",
    "test_fin.drop(['min','max','store_id'],axis = 1,inplace=True)"
   ]
  },
  {
   "cell_type": "code",
   "execution_count": 39,
   "metadata": {
    "ExecuteTime": {
     "end_time": "2020-06-21T18:24:17.391177Z",
     "start_time": "2020-06-21T18:24:17.357169Z"
    }
   },
   "outputs": [
    {
     "data": {
      "text/plain": [
       "((1641, 13), (200, 13))"
      ]
     },
     "execution_count": 39,
     "metadata": {},
     "output_type": "execute_result"
    }
   ],
   "source": [
    "train_fin.shape, test_fin.shape"
   ]
  },
  {
   "cell_type": "code",
   "execution_count": 40,
   "metadata": {
    "ExecuteTime": {
     "end_time": "2020-06-21T18:24:17.425184Z",
     "start_time": "2020-06-21T18:24:17.392177Z"
    }
   },
   "outputs": [],
   "source": [
    "#로그 변환\n",
    "train_fin.before_amount = np.log(1+train_fin.before_amount)\n",
    "test_fin.before_amount = np.log(1+test_fin.before_amount)"
   ]
  },
  {
   "cell_type": "code",
   "execution_count": 41,
   "metadata": {
    "ExecuteTime": {
     "end_time": "2020-06-21T18:24:17.455191Z",
     "start_time": "2020-06-21T18:24:17.426185Z"
    }
   },
   "outputs": [],
   "source": [
    "train_fin.fillna(0, inplace=True)\n",
    "test_fin.fillna(0, inplace=True)"
   ]
  },
  {
   "cell_type": "code",
   "execution_count": 42,
   "metadata": {
    "ExecuteTime": {
     "end_time": "2020-06-21T18:24:17.490199Z",
     "start_time": "2020-06-21T18:24:17.456191Z"
    }
   },
   "outputs": [],
   "source": [
    "def info_df(data):\n",
    "    '''data의 type, null_count, null_rate를 알려주는 함수\n",
    "    \n",
    "    Parameter\n",
    "    ---------\n",
    "    data(DataFrame) : 파악하고자하는 Data\n",
    "       \n",
    "    '''\n",
    "    info_df = pd.DataFrame({\"type\":data.dtypes,\n",
    "                            'null_count':data.isnull().sum(),\n",
    "                           'null_rate':data.isnull().sum()/data.isnull().count() * 100})  \n",
    "    info_df['uni_count'] = data.apply(lambda x : x.nunique())\n",
    "    \n",
    "    return info_df"
   ]
  },
  {
   "cell_type": "markdown",
   "metadata": {},
   "source": [
    "### train_test split"
   ]
  },
  {
   "cell_type": "code",
   "execution_count": 43,
   "metadata": {
    "ExecuteTime": {
     "end_time": "2020-06-21T18:24:17.524207Z",
     "start_time": "2020-06-21T18:24:17.491199Z"
    }
   },
   "outputs": [],
   "source": [
    "X_train, X_test, y_train, y_test = train_test_split(train_fin,y,test_size =0.3, random_state = 42)"
   ]
  },
  {
   "cell_type": "markdown",
   "metadata": {},
   "source": [
    "### modeling "
   ]
  },
  {
   "cell_type": "markdown",
   "metadata": {},
   "source": [
    "#### rf"
   ]
  },
  {
   "cell_type": "code",
   "execution_count": 44,
   "metadata": {
    "ExecuteTime": {
     "end_time": "2020-06-21T18:24:26.097598Z",
     "start_time": "2020-06-21T18:24:20.536914Z"
    }
   },
   "outputs": [
    {
     "data": {
      "text/plain": [
       "28301.77525590252"
      ]
     },
     "execution_count": 44,
     "metadata": {},
     "output_type": "execute_result"
    }
   ],
   "source": [
    "rf = RandomForestRegressor(random_state=42, n_estimators= 1000)\n",
    "rf.fit(X_train,y_train)\n",
    "rf_y_pred = rf.predict(X_test)\n",
    "\n",
    "np.sqrt(mean_squared_error(y_test,rf_y_pred))"
   ]
  },
  {
   "cell_type": "code",
   "execution_count": 45,
   "metadata": {
    "ExecuteTime": {
     "end_time": "2020-06-21T18:24:26.936338Z",
     "start_time": "2020-06-21T18:24:26.874323Z"
    }
   },
   "outputs": [
    {
     "data": {
      "text/html": [
       "<div>\n",
       "<style scoped>\n",
       "    .dataframe tbody tr th:only-of-type {\n",
       "        vertical-align: middle;\n",
       "    }\n",
       "\n",
       "    .dataframe tbody tr th {\n",
       "        vertical-align: top;\n",
       "    }\n",
       "\n",
       "    .dataframe thead th {\n",
       "        text-align: right;\n",
       "    }\n",
       "</style>\n",
       "<table border=\"1\" class=\"dataframe\">\n",
       "  <thead>\n",
       "    <tr style=\"text-align: right;\">\n",
       "      <th></th>\n",
       "      <th>0</th>\n",
       "    </tr>\n",
       "  </thead>\n",
       "  <tbody>\n",
       "    <tr>\n",
       "      <td>day_gap</td>\n",
       "      <td>10.512951</td>\n",
       "    </tr>\n",
       "    <tr>\n",
       "      <td>transfer_count</td>\n",
       "      <td>1.320584</td>\n",
       "    </tr>\n",
       "    <tr>\n",
       "      <td>before_amount</td>\n",
       "      <td>39.410583</td>\n",
       "    </tr>\n",
       "    <tr>\n",
       "      <td>before_holyday</td>\n",
       "      <td>0.825858</td>\n",
       "    </tr>\n",
       "    <tr>\n",
       "      <td>refund_sum</td>\n",
       "      <td>34.840304</td>\n",
       "    </tr>\n",
       "    <tr>\n",
       "      <td>installlment_sum</td>\n",
       "      <td>0.579917</td>\n",
       "    </tr>\n",
       "    <tr>\n",
       "      <td>0</td>\n",
       "      <td>0.674267</td>\n",
       "    </tr>\n",
       "    <tr>\n",
       "      <td>1</td>\n",
       "      <td>3.201963</td>\n",
       "    </tr>\n",
       "    <tr>\n",
       "      <td>2</td>\n",
       "      <td>1.946996</td>\n",
       "    </tr>\n",
       "    <tr>\n",
       "      <td>3</td>\n",
       "      <td>2.712950</td>\n",
       "    </tr>\n",
       "    <tr>\n",
       "      <td>4</td>\n",
       "      <td>3.010289</td>\n",
       "    </tr>\n",
       "    <tr>\n",
       "      <td>5</td>\n",
       "      <td>0.348844</td>\n",
       "    </tr>\n",
       "    <tr>\n",
       "      <td>6</td>\n",
       "      <td>0.614493</td>\n",
       "    </tr>\n",
       "  </tbody>\n",
       "</table>\n",
       "</div>"
      ],
      "text/plain": [
       "                          0\n",
       "day_gap           10.512951\n",
       "transfer_count     1.320584\n",
       "before_amount     39.410583\n",
       "before_holyday     0.825858\n",
       "refund_sum        34.840304\n",
       "installlment_sum   0.579917\n",
       "0                  0.674267\n",
       "1                  3.201963\n",
       "2                  1.946996\n",
       "3                  2.712950\n",
       "4                  3.010289\n",
       "5                  0.348844\n",
       "6                  0.614493"
      ]
     },
     "execution_count": 45,
     "metadata": {},
     "output_type": "execute_result"
    }
   ],
   "source": [
    "fi_df = pd.DataFrame(rf.feature_importances_*100,index = train_fin.columns)\n",
    "fi_df"
   ]
  },
  {
   "cell_type": "markdown",
   "metadata": {},
   "source": [
    "#### lgbm"
   ]
  },
  {
   "cell_type": "code",
   "execution_count": 46,
   "metadata": {
    "ExecuteTime": {
     "end_time": "2020-06-21T18:24:30.037098Z",
     "start_time": "2020-06-21T18:24:29.313936Z"
    }
   },
   "outputs": [
    {
     "data": {
      "text/plain": [
       "29635.983986422652"
      ]
     },
     "execution_count": 46,
     "metadata": {},
     "output_type": "execute_result"
    }
   ],
   "source": [
    "lgbm_c = lightgbm.LGBMRegressor(random_state=42, learning_rate=0.001,n_estimators= 1000)\n",
    "lgbm_c.fit(X_train,y_train)\n",
    "lgbm_y_pred = lgbm_c.predict(X_test)\n",
    "\n",
    "np.sqrt(mean_squared_error(y_test,lgbm_y_pred))"
   ]
  },
  {
   "cell_type": "code",
   "execution_count": 48,
   "metadata": {
    "ExecuteTime": {
     "end_time": "2020-06-21T18:24:34.535382Z",
     "start_time": "2020-06-21T18:24:34.530381Z"
    }
   },
   "outputs": [
    {
     "data": {
      "text/html": [
       "<div>\n",
       "<style scoped>\n",
       "    .dataframe tbody tr th:only-of-type {\n",
       "        vertical-align: middle;\n",
       "    }\n",
       "\n",
       "    .dataframe tbody tr th {\n",
       "        vertical-align: top;\n",
       "    }\n",
       "\n",
       "    .dataframe thead th {\n",
       "        text-align: right;\n",
       "    }\n",
       "</style>\n",
       "<table border=\"1\" class=\"dataframe\">\n",
       "  <thead>\n",
       "    <tr style=\"text-align: right;\">\n",
       "      <th></th>\n",
       "      <th>0</th>\n",
       "    </tr>\n",
       "  </thead>\n",
       "  <tbody>\n",
       "    <tr>\n",
       "      <td>day_gap</td>\n",
       "      <td>9801</td>\n",
       "    </tr>\n",
       "    <tr>\n",
       "      <td>transfer_count</td>\n",
       "      <td>1154</td>\n",
       "    </tr>\n",
       "    <tr>\n",
       "      <td>before_amount</td>\n",
       "      <td>13040</td>\n",
       "    </tr>\n",
       "    <tr>\n",
       "      <td>before_holyday</td>\n",
       "      <td>620</td>\n",
       "    </tr>\n",
       "    <tr>\n",
       "      <td>refund_sum</td>\n",
       "      <td>988</td>\n",
       "    </tr>\n",
       "    <tr>\n",
       "      <td>installlment_sum</td>\n",
       "      <td>883</td>\n",
       "    </tr>\n",
       "    <tr>\n",
       "      <td>0</td>\n",
       "      <td>769</td>\n",
       "    </tr>\n",
       "    <tr>\n",
       "      <td>1</td>\n",
       "      <td>671</td>\n",
       "    </tr>\n",
       "    <tr>\n",
       "      <td>2</td>\n",
       "      <td>432</td>\n",
       "    </tr>\n",
       "    <tr>\n",
       "      <td>3</td>\n",
       "      <td>258</td>\n",
       "    </tr>\n",
       "    <tr>\n",
       "      <td>4</td>\n",
       "      <td>156</td>\n",
       "    </tr>\n",
       "    <tr>\n",
       "      <td>5</td>\n",
       "      <td>996</td>\n",
       "    </tr>\n",
       "    <tr>\n",
       "      <td>6</td>\n",
       "      <td>232</td>\n",
       "    </tr>\n",
       "  </tbody>\n",
       "</table>\n",
       "</div>"
      ],
      "text/plain": [
       "                      0\n",
       "day_gap            9801\n",
       "transfer_count     1154\n",
       "before_amount     13040\n",
       "before_holyday      620\n",
       "refund_sum          988\n",
       "installlment_sum    883\n",
       "0                   769\n",
       "1                   671\n",
       "2                   432\n",
       "3                   258\n",
       "4                   156\n",
       "5                   996\n",
       "6                   232"
      ]
     },
     "execution_count": 48,
     "metadata": {},
     "output_type": "execute_result"
    }
   ],
   "source": [
    "fi_df = pd.DataFrame(lgbm_c.feature_importances_,index = train_fin.columns)\n",
    "fi_df"
   ]
  },
  {
   "cell_type": "markdown",
   "metadata": {},
   "source": [
    "### final"
   ]
  },
  {
   "cell_type": "code",
   "execution_count": 54,
   "metadata": {
    "ExecuteTime": {
     "end_time": "2020-06-21T18:26:02.211760Z",
     "start_time": "2020-06-21T18:25:54.362803Z"
    }
   },
   "outputs": [],
   "source": [
    "# #lgbm\n",
    "# lgbm_c.fit(train_fin,y)\n",
    "# y_pred_fin = lgbm_c.predict(test_fin)\n",
    "\n",
    "# rf\n",
    "rf.fit(train_fin,y)\n",
    "y_pred_fin = rf.predict(test_fin)"
   ]
  },
  {
   "cell_type": "code",
   "execution_count": 55,
   "metadata": {
    "ExecuteTime": {
     "end_time": "2020-06-21T18:26:05.565242Z",
     "start_time": "2020-06-21T18:26:05.563241Z"
    }
   },
   "outputs": [],
   "source": [
    "submission['total_sales'] = y_pred_fin"
   ]
  },
  {
   "cell_type": "code",
   "execution_count": 56,
   "metadata": {
    "ExecuteTime": {
     "end_time": "2020-06-21T18:26:06.330340Z",
     "start_time": "2020-06-21T18:26:06.323338Z"
    }
   },
   "outputs": [],
   "source": [
    "submission.to_csv('submission_1st_rf.csv',index=False)"
   ]
  },
  {
   "cell_type": "code",
   "execution_count": null,
   "metadata": {},
   "outputs": [],
   "source": []
  }
 ],
 "metadata": {
  "kernelspec": {
   "display_name": "Python 3",
   "language": "python",
   "name": "python3"
  },
  "language_info": {
   "codemirror_mode": {
    "name": "ipython",
    "version": 3
   },
   "file_extension": ".py",
   "mimetype": "text/x-python",
   "name": "python",
   "nbconvert_exporter": "python",
   "pygments_lexer": "ipython3",
   "version": "3.6.5"
  },
  "toc": {
   "base_numbering": 1,
   "nav_menu": {},
   "number_sections": true,
   "sideBar": true,
   "skip_h1_title": false,
   "title_cell": "Table of Contents",
   "title_sidebar": "Contents",
   "toc_cell": false,
   "toc_position": {},
   "toc_section_display": true,
   "toc_window_display": false
  },
  "varInspector": {
   "cols": {
    "lenName": 16,
    "lenType": 16,
    "lenVar": 40
   },
   "kernels_config": {
    "python": {
     "delete_cmd_postfix": "",
     "delete_cmd_prefix": "del ",
     "library": "var_list.py",
     "varRefreshCmd": "print(var_dic_list())"
    },
    "r": {
     "delete_cmd_postfix": ") ",
     "delete_cmd_prefix": "rm(",
     "library": "var_list.r",
     "varRefreshCmd": "cat(var_dic_list()) "
    }
   },
   "types_to_exclude": [
    "module",
    "function",
    "builtin_function_or_method",
    "instance",
    "_Feature"
   ],
   "window_display": false
  }
 },
 "nbformat": 4,
 "nbformat_minor": 2
}
